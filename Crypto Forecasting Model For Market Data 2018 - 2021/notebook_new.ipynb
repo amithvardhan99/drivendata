{
 "cells": [
  {
   "cell_type": "markdown",
   "source": [
    "## Crypto Forecasting Model For Market Data 2018 - 2021\n",
    "\n",
    "In this Data Science project, we will be performing some data analysis as well as we will build a Light Gradient Boosting Machine ML model to forecast short term returns in 14 popular cryptocurrencies using millions of high-frequency market data 2018-2021.\n",
    "<br>\n",
    "#### Project Description\n",
    "\n",
    "In this Data Science project, we will be performing some data analysis as well as we will build a Light Gradient Boosting Machine ML model to forecast short term returns in 14 popular cryptocurrencies using millions of high-frequency market data 2018-2021. The dataset used here contains information on historic trades for several crypto assets, such as Bitcoin and Ethereum. Our challenge is to predict their future returns.\n",
    "<br>\n",
    "***train.csv:***\n",
    "\n",
    "   **timestamp:** All timestamps are returned as second Unix timestamps (the number of seconds elapsed since 1970-01-01 00:00:00.000 UTC). Timestamps in this dataset are multiple of 60, indicating minute-by-minute data.\n",
    "   \n",
    "   **Asset_ID:** The asset ID corresponding to one of the cryptocurrencies (e.g. Asset_ID = 1 for Bitcoin). The mapping from Asset_ID to crypto asset is contained in asset_details.csv.\n",
    "   \n",
    "   **Count:** Total number of trades in the time interval (last minute).\n",
    "   \n",
    "   **Open:** Opening price of the time interval (in USD).\n",
    "   \n",
    "   **High:** Highest price reached during time interval (in USD).\n",
    "   \n",
    "   **Low:** Lowest price reached during time interval (in USD).\n",
    "   \n",
    "   **Close:** Closing price of the time interval (in USD).\n",
    "   \n",
    "   **Volume:** Quantity of asset bought or sold, displayed in base currency USD.\n",
    "   \n",
    "   **VWAP:** The average price of the asset over the time interval, weighted by volume. VWAP is an aggregated form of trade data.\n",
    "   \n",
    "   **Target:** Residual log-returns for the asset over a 15 minute horizon.\n",
    "<br>\n",
    "***asset_details.csv:***\n",
    "\n",
    "It provides the real name of the crypto asset for each Asset_ID and the weight each crypto asset receives in the metric. Weights are determined by the logarithm of each product's market cap (in USD), of the cryptocurrencies at a fixed point in time. Weights were assigned to give more relevance to cryptocurrencies with higher market volumes to ensure smaller cryptocurrencies do not disproportionately impact the models. In this Data Science project, We will build a Light Gradient Boosting Machine ML model to forecast short term returns in 14 popular cryptocurrencies using millions of high-frequency market data 2018-2021.\n",
    "<br>\n",
    "#### Technologies used:\n",
    "\n",
    "**Language -** Python\n",
    "**Algorithms -** LightGBM"
   ],
   "metadata": {
    "collapsed": false
   },
   "id": "6178e13109a94d1c"
  },
  {
   "cell_type": "code",
   "execution_count": null,
   "outputs": [],
   "source": [],
   "metadata": {
    "collapsed": false,
    "ExecuteTime": {
     "end_time": "2023-12-10T17:42:57.766617Z",
     "start_time": "2023-12-10T17:42:57.758528Z"
    }
   },
   "id": "5baa3f78643cbff5"
  },
  {
   "cell_type": "markdown",
   "source": [
    "### Module 1: Project Setup and Installation\n",
    "\n",
    "This module consists of guidance videos for setup and installation of various tools and libraries that we will be needing for our project. By following these videos you can set up the environment for your project development. In our project we will be using various python packages such as NumPy ,Pandas ,sklearn,etc. We will be using Visual Studio Code Editor for development."
   ],
   "metadata": {
    "collapsed": false
   },
   "id": "a477fa84ee2b2c13"
  },
  {
   "cell_type": "code",
   "execution_count": null,
   "outputs": [],
   "source": [],
   "metadata": {
    "collapsed": false
   },
   "id": "7ca55402bb99138d"
  },
  {
   "cell_type": "markdown",
   "source": [
    "#### Task 1: Setup and Installation\n",
    "\n",
    "In this task you’ll understand how to get started with vscode, python, jupyter notebook etc. with the help of a guided video and how to create a simple jupyter notebook."
   ],
   "metadata": {
    "collapsed": false
   },
   "id": "525ea7a012caa42"
  },
  {
   "cell_type": "code",
   "execution_count": null,
   "outputs": [],
   "source": [],
   "metadata": {
    "collapsed": false
   },
   "id": "2ad50bbc80ac7cb3"
  },
  {
   "cell_type": "markdown",
   "source": [
    "#### Task 2: Installing Packages Using Pip\n",
    "\n",
    "**Packages:**\n",
    "\n",
    "**Data preprocessing:** NumPy and Pandas\n",
    "\n",
    "**Data visualization:** Seaborn and Matplotlib"
   ],
   "metadata": {
    "collapsed": false
   },
   "id": "6d8516cb45e9dd57"
  },
  {
   "cell_type": "code",
   "execution_count": null,
   "outputs": [],
   "source": [],
   "metadata": {
    "collapsed": false
   },
   "id": "ba30c2bea16b8759"
  },
  {
   "cell_type": "markdown",
   "source": [
    "### Module 2: Exploratory Data Analysis (EDA)\n",
    "\n",
    "Exploratory data analysis (EDA) is an approach of analyzing data sets to summarize their main characteristics, often using statistical graphics hypothesis testing. A statistical model can be used or not, but primarily EDA is for seeing what the data can tell us beyond the formal modeling and thereby contrasts traditional indexing. We will explore the data in detail and have a detailed look at the data and its statistics. We will also define a helper function that will turn a date format into a timestamp to use for  modeling."
   ],
   "metadata": {
    "collapsed": false
   },
   "id": "5b0d59f79ca7b658"
  },
  {
   "cell_type": "code",
   "execution_count": 19,
   "outputs": [],
   "source": [
    "import numpy as np\n",
    "import pandas as pd\n",
    "import matplotlib.pyplot as plt\n",
    "import seaborn as sns\n",
    "import os"
   ],
   "metadata": {
    "collapsed": false,
    "ExecuteTime": {
     "end_time": "2023-12-10T22:06:57.048177Z",
     "start_time": "2023-12-10T22:06:57.045092Z"
    }
   },
   "id": "13c9e432b2cae3f0"
  },
  {
   "cell_type": "markdown",
   "source": [
    "#### Task 1: Knowing The Dataset\n",
    "\n",
    "In this task, you’ll understand how to Explore the dataset and know what each field means."
   ],
   "metadata": {
    "collapsed": false
   },
   "id": "563d6c8e4e76bf7"
  },
  {
   "cell_type": "code",
   "execution_count": 20,
   "outputs": [
    {
     "name": "stdout",
     "output_type": "stream",
     "text": [
      "Number of files imported :  1\n",
      "Number of files imported :  2\n",
      "Number of files imported :  3\n",
      "Number of files imported :  4\n",
      "Number of files imported :  5\n",
      "Number of files imported :  6\n",
      "Number of files imported :  7\n",
      "Number of files imported :  8\n",
      "Number of files imported :  9\n",
      "Number of files imported :  10\n",
      "Number of files imported :  11\n",
      "Number of files imported :  12\n",
      "Number of files imported :  13\n",
      "Number of files imported :  14\n",
      "Number of files imported :  15\n",
      "Number of files imported :  16\n",
      "Number of files imported :  17\n",
      "Number of files imported :  18\n",
      "Number of files imported :  19\n",
      "Number of files imported :  20\n",
      "Number of files imported :  21\n",
      "Number of files imported :  22\n",
      "Number of files imported :  23\n",
      "Number of files imported :  24\n",
      "Number of files imported :  25\n",
      "Number of files imported :  26\n",
      "Number of files imported :  27\n",
      "Number of files imported :  28\n",
      "Number of files imported :  29\n",
      "Number of files imported :  30\n",
      "Number of files imported :  31\n"
     ]
    }
   ],
   "source": [
    "path = \"data/train/\"\n",
    "df = []\n",
    "list_of_files = os.listdir(path)\n",
    "train = pd.read_csv(path + list_of_files[0])\n",
    "print(\"Number of files imported : \",1)\n",
    "ctr = 2\n",
    "for i in list_of_files[1:]:\n",
    "    if \".csv\" not in i:\n",
    "        continue\n",
    "    df = pd.read_csv(path + i)\n",
    "    train = pd.concat([train, df],axis=0)\n",
    "    print(\"Number of files imported : \",ctr)\n",
    "    ctr += 1"
   ],
   "metadata": {
    "collapsed": false,
    "ExecuteTime": {
     "end_time": "2023-12-10T22:07:24.883913Z",
     "start_time": "2023-12-10T22:06:58.079550Z"
    }
   },
   "id": "4301f5efacd09511"
  },
  {
   "cell_type": "code",
   "execution_count": 21,
   "outputs": [
    {
     "name": "stdout",
     "output_type": "stream",
     "text": [
      "Number of files imported :  1\n",
      "Number of files imported :  2\n",
      "Number of files imported :  3\n",
      "Number of files imported :  4\n",
      "Number of files imported :  5\n"
     ]
    }
   ],
   "source": [
    "path = \"data/supplemental_train/\"\n",
    "df = []\n",
    "list_of_files = os.listdir(path)\n",
    "supplemental_train = pd.read_csv(path + list_of_files[0])\n",
    "print(\"Number of files imported : \",1)\n",
    "ctr = 2\n",
    "for i in list_of_files[1:]:\n",
    "    if \".csv\" not in i:\n",
    "        continue\n",
    "    df = pd.read_csv(path + i)\n",
    "    supplemental_train = pd.concat([supplemental_train, df],axis=0)\n",
    "    print(\"Number of files imported : \",ctr)\n",
    "    ctr += 1"
   ],
   "metadata": {
    "collapsed": false,
    "ExecuteTime": {
     "end_time": "2023-12-10T22:07:26.209050Z",
     "start_time": "2023-12-10T22:07:24.889962Z"
    }
   },
   "id": "a5d0a204af106135"
  },
  {
   "cell_type": "code",
   "execution_count": 22,
   "outputs": [
    {
     "data": {
      "text/plain": "         timestamp  Asset_ID  Count         Open         High         Low  \\\n0       1530202800        12   10.0     0.190815     0.191320     0.19015   \n1       1530202860         3   19.0     0.125492     0.125594     0.12539   \n2       1530202860         2   12.0   697.195000   698.140000   696.50000   \n3       1530202860         0    8.0    14.649900    14.649900    14.63000   \n4       1530202860         1  131.0  6106.436890  6114.840000  6100.00000   \n...            ...       ...    ...          ...          ...         ...   \n807888  1555088340         5  301.0     5.360767     5.405400     5.33690   \n807889  1555088340         7   24.0     6.447000     6.513000     6.40120   \n807890  1555088340         6  144.0   165.264286   166.470000   164.49000   \n807891  1555088340         8   11.0     0.316200     0.325100     0.30710   \n807892  1555088340         9   63.0    79.516667    79.870000    79.25000   \n\n              Close        Volume         VWAP    Target  \n0          0.190740  32450.372000     0.190800  0.001392  \n1          0.125431  57357.220500     0.125477  0.002543  \n2        697.220000      1.461400   697.222803 -0.001323  \n3         14.639500    515.100000    14.637003 -0.002171  \n4       6106.002890      8.465268  6106.365069 -0.000313  \n...             ...           ...          ...       ...  \n807888     5.362600   8870.868597     5.361911 -0.003728  \n807889     6.446325    538.200159     6.446251  0.000883  \n807890   165.304286    159.952181   165.289062 -0.001292  \n807891     0.316250   4157.185700     0.316195  0.024854  \n807892    79.443333   1464.076921    79.500888  0.000193  \n\n[24236806 rows x 10 columns]",
      "text/html": "<div>\n<style scoped>\n    .dataframe tbody tr th:only-of-type {\n        vertical-align: middle;\n    }\n\n    .dataframe tbody tr th {\n        vertical-align: top;\n    }\n\n    .dataframe thead th {\n        text-align: right;\n    }\n</style>\n<table border=\"1\" class=\"dataframe\">\n  <thead>\n    <tr style=\"text-align: right;\">\n      <th></th>\n      <th>timestamp</th>\n      <th>Asset_ID</th>\n      <th>Count</th>\n      <th>Open</th>\n      <th>High</th>\n      <th>Low</th>\n      <th>Close</th>\n      <th>Volume</th>\n      <th>VWAP</th>\n      <th>Target</th>\n    </tr>\n  </thead>\n  <tbody>\n    <tr>\n      <th>0</th>\n      <td>1530202800</td>\n      <td>12</td>\n      <td>10.0</td>\n      <td>0.190815</td>\n      <td>0.191320</td>\n      <td>0.19015</td>\n      <td>0.190740</td>\n      <td>32450.372000</td>\n      <td>0.190800</td>\n      <td>0.001392</td>\n    </tr>\n    <tr>\n      <th>1</th>\n      <td>1530202860</td>\n      <td>3</td>\n      <td>19.0</td>\n      <td>0.125492</td>\n      <td>0.125594</td>\n      <td>0.12539</td>\n      <td>0.125431</td>\n      <td>57357.220500</td>\n      <td>0.125477</td>\n      <td>0.002543</td>\n    </tr>\n    <tr>\n      <th>2</th>\n      <td>1530202860</td>\n      <td>2</td>\n      <td>12.0</td>\n      <td>697.195000</td>\n      <td>698.140000</td>\n      <td>696.50000</td>\n      <td>697.220000</td>\n      <td>1.461400</td>\n      <td>697.222803</td>\n      <td>-0.001323</td>\n    </tr>\n    <tr>\n      <th>3</th>\n      <td>1530202860</td>\n      <td>0</td>\n      <td>8.0</td>\n      <td>14.649900</td>\n      <td>14.649900</td>\n      <td>14.63000</td>\n      <td>14.639500</td>\n      <td>515.100000</td>\n      <td>14.637003</td>\n      <td>-0.002171</td>\n    </tr>\n    <tr>\n      <th>4</th>\n      <td>1530202860</td>\n      <td>1</td>\n      <td>131.0</td>\n      <td>6106.436890</td>\n      <td>6114.840000</td>\n      <td>6100.00000</td>\n      <td>6106.002890</td>\n      <td>8.465268</td>\n      <td>6106.365069</td>\n      <td>-0.000313</td>\n    </tr>\n    <tr>\n      <th>...</th>\n      <td>...</td>\n      <td>...</td>\n      <td>...</td>\n      <td>...</td>\n      <td>...</td>\n      <td>...</td>\n      <td>...</td>\n      <td>...</td>\n      <td>...</td>\n      <td>...</td>\n    </tr>\n    <tr>\n      <th>807888</th>\n      <td>1555088340</td>\n      <td>5</td>\n      <td>301.0</td>\n      <td>5.360767</td>\n      <td>5.405400</td>\n      <td>5.33690</td>\n      <td>5.362600</td>\n      <td>8870.868597</td>\n      <td>5.361911</td>\n      <td>-0.003728</td>\n    </tr>\n    <tr>\n      <th>807889</th>\n      <td>1555088340</td>\n      <td>7</td>\n      <td>24.0</td>\n      <td>6.447000</td>\n      <td>6.513000</td>\n      <td>6.40120</td>\n      <td>6.446325</td>\n      <td>538.200159</td>\n      <td>6.446251</td>\n      <td>0.000883</td>\n    </tr>\n    <tr>\n      <th>807890</th>\n      <td>1555088340</td>\n      <td>6</td>\n      <td>144.0</td>\n      <td>165.264286</td>\n      <td>166.470000</td>\n      <td>164.49000</td>\n      <td>165.304286</td>\n      <td>159.952181</td>\n      <td>165.289062</td>\n      <td>-0.001292</td>\n    </tr>\n    <tr>\n      <th>807891</th>\n      <td>1555088340</td>\n      <td>8</td>\n      <td>11.0</td>\n      <td>0.316200</td>\n      <td>0.325100</td>\n      <td>0.30710</td>\n      <td>0.316250</td>\n      <td>4157.185700</td>\n      <td>0.316195</td>\n      <td>0.024854</td>\n    </tr>\n    <tr>\n      <th>807892</th>\n      <td>1555088340</td>\n      <td>9</td>\n      <td>63.0</td>\n      <td>79.516667</td>\n      <td>79.870000</td>\n      <td>79.25000</td>\n      <td>79.443333</td>\n      <td>1464.076921</td>\n      <td>79.500888</td>\n      <td>0.000193</td>\n    </tr>\n  </tbody>\n</table>\n<p>24236806 rows × 10 columns</p>\n</div>"
     },
     "execution_count": 22,
     "metadata": {},
     "output_type": "execute_result"
    }
   ],
   "source": [
    "train"
   ],
   "metadata": {
    "collapsed": false,
    "ExecuteTime": {
     "end_time": "2023-12-10T22:07:26.223059Z",
     "start_time": "2023-12-10T22:07:26.218598Z"
    }
   },
   "id": "9b030ab8cbd9200c"
  },
  {
   "cell_type": "code",
   "execution_count": 23,
   "outputs": [
    {
     "data": {
      "text/plain": "         timestamp  Asset_ID  Count          Open        High         Low  \\\n0       1514764860         2   40.0   2376.580000   2399.5000   2357.1400   \n1       1514764860         0    5.0      8.530000      8.5300      8.5300   \n2       1514764860         1  229.0  13835.194000  14013.8000  13666.1100   \n3       1514764860         5   32.0      7.659600      7.6596      7.6567   \n4       1514764860         7    5.0     25.920000     25.9200     25.8740   \n...            ...       ...    ...           ...         ...         ...   \n629564  1530701220         0   62.0     13.900000     13.9370     13.8779   \n629565  1530701220         1  237.0   6517.981667   6527.0000   6510.0000   \n629566  1530701220         5   87.0      8.875133      8.9000      8.8227   \n629567  1530701220         7   18.0     16.424067     16.4376     16.4152   \n629568  1530701220         6  170.0    464.561667    465.4600    463.7200   \n\n               Close        Volume          VWAP    Target  \n0        2374.590000     19.233005   2373.116392 -0.004218  \n1           8.530000     78.380000      8.530000 -0.014399  \n2       13850.176000     31.550062  13827.062093 -0.014643  \n3           7.657600   6626.713370      7.657713 -0.013922  \n4          25.877000    121.087310     25.891363 -0.008264  \n...              ...           ...           ...       ...  \n629564     13.886600   4223.480000     13.905287 -0.000749  \n629565   6517.163333     11.009299   6517.384461 -0.000594  \n629566      8.873967  14090.011894      8.873656  0.001037  \n629567     16.430533    976.031300     16.427441 -0.001320  \n629568    464.283333    159.301327    464.384141 -0.000028  \n\n[2518278 rows x 10 columns]",
      "text/html": "<div>\n<style scoped>\n    .dataframe tbody tr th:only-of-type {\n        vertical-align: middle;\n    }\n\n    .dataframe tbody tr th {\n        vertical-align: top;\n    }\n\n    .dataframe thead th {\n        text-align: right;\n    }\n</style>\n<table border=\"1\" class=\"dataframe\">\n  <thead>\n    <tr style=\"text-align: right;\">\n      <th></th>\n      <th>timestamp</th>\n      <th>Asset_ID</th>\n      <th>Count</th>\n      <th>Open</th>\n      <th>High</th>\n      <th>Low</th>\n      <th>Close</th>\n      <th>Volume</th>\n      <th>VWAP</th>\n      <th>Target</th>\n    </tr>\n  </thead>\n  <tbody>\n    <tr>\n      <th>0</th>\n      <td>1514764860</td>\n      <td>2</td>\n      <td>40.0</td>\n      <td>2376.580000</td>\n      <td>2399.5000</td>\n      <td>2357.1400</td>\n      <td>2374.590000</td>\n      <td>19.233005</td>\n      <td>2373.116392</td>\n      <td>-0.004218</td>\n    </tr>\n    <tr>\n      <th>1</th>\n      <td>1514764860</td>\n      <td>0</td>\n      <td>5.0</td>\n      <td>8.530000</td>\n      <td>8.5300</td>\n      <td>8.5300</td>\n      <td>8.530000</td>\n      <td>78.380000</td>\n      <td>8.530000</td>\n      <td>-0.014399</td>\n    </tr>\n    <tr>\n      <th>2</th>\n      <td>1514764860</td>\n      <td>1</td>\n      <td>229.0</td>\n      <td>13835.194000</td>\n      <td>14013.8000</td>\n      <td>13666.1100</td>\n      <td>13850.176000</td>\n      <td>31.550062</td>\n      <td>13827.062093</td>\n      <td>-0.014643</td>\n    </tr>\n    <tr>\n      <th>3</th>\n      <td>1514764860</td>\n      <td>5</td>\n      <td>32.0</td>\n      <td>7.659600</td>\n      <td>7.6596</td>\n      <td>7.6567</td>\n      <td>7.657600</td>\n      <td>6626.713370</td>\n      <td>7.657713</td>\n      <td>-0.013922</td>\n    </tr>\n    <tr>\n      <th>4</th>\n      <td>1514764860</td>\n      <td>7</td>\n      <td>5.0</td>\n      <td>25.920000</td>\n      <td>25.9200</td>\n      <td>25.8740</td>\n      <td>25.877000</td>\n      <td>121.087310</td>\n      <td>25.891363</td>\n      <td>-0.008264</td>\n    </tr>\n    <tr>\n      <th>...</th>\n      <td>...</td>\n      <td>...</td>\n      <td>...</td>\n      <td>...</td>\n      <td>...</td>\n      <td>...</td>\n      <td>...</td>\n      <td>...</td>\n      <td>...</td>\n      <td>...</td>\n    </tr>\n    <tr>\n      <th>629564</th>\n      <td>1530701220</td>\n      <td>0</td>\n      <td>62.0</td>\n      <td>13.900000</td>\n      <td>13.9370</td>\n      <td>13.8779</td>\n      <td>13.886600</td>\n      <td>4223.480000</td>\n      <td>13.905287</td>\n      <td>-0.000749</td>\n    </tr>\n    <tr>\n      <th>629565</th>\n      <td>1530701220</td>\n      <td>1</td>\n      <td>237.0</td>\n      <td>6517.981667</td>\n      <td>6527.0000</td>\n      <td>6510.0000</td>\n      <td>6517.163333</td>\n      <td>11.009299</td>\n      <td>6517.384461</td>\n      <td>-0.000594</td>\n    </tr>\n    <tr>\n      <th>629566</th>\n      <td>1530701220</td>\n      <td>5</td>\n      <td>87.0</td>\n      <td>8.875133</td>\n      <td>8.9000</td>\n      <td>8.8227</td>\n      <td>8.873967</td>\n      <td>14090.011894</td>\n      <td>8.873656</td>\n      <td>0.001037</td>\n    </tr>\n    <tr>\n      <th>629567</th>\n      <td>1530701220</td>\n      <td>7</td>\n      <td>18.0</td>\n      <td>16.424067</td>\n      <td>16.4376</td>\n      <td>16.4152</td>\n      <td>16.430533</td>\n      <td>976.031300</td>\n      <td>16.427441</td>\n      <td>-0.001320</td>\n    </tr>\n    <tr>\n      <th>629568</th>\n      <td>1530701220</td>\n      <td>6</td>\n      <td>170.0</td>\n      <td>464.561667</td>\n      <td>465.4600</td>\n      <td>463.7200</td>\n      <td>464.283333</td>\n      <td>159.301327</td>\n      <td>464.384141</td>\n      <td>-0.000028</td>\n    </tr>\n  </tbody>\n</table>\n<p>2518278 rows × 10 columns</p>\n</div>"
     },
     "execution_count": 23,
     "metadata": {},
     "output_type": "execute_result"
    }
   ],
   "source": [
    "supplemental_train"
   ],
   "metadata": {
    "collapsed": false,
    "ExecuteTime": {
     "end_time": "2023-12-10T22:07:26.233785Z",
     "start_time": "2023-12-10T22:07:26.222902Z"
    }
   },
   "id": "d27c1d770a32730f"
  },
  {
   "cell_type": "markdown",
   "source": [
    "#### Task 2: EDA - Dataset\n",
    "\n",
    "In this you’ll understand how we will perform EDA and understand the data well."
   ],
   "metadata": {
    "collapsed": false
   },
   "id": "f13ef121e442ab8"
  },
  {
   "cell_type": "code",
   "execution_count": null,
   "outputs": [],
   "source": [],
   "metadata": {
    "collapsed": false
   },
   "id": "2bae620841a17437"
  },
  {
   "cell_type": "markdown",
   "source": [
    "#### Task 3: Timestamps\n",
    "\n",
    "In this you’ll understand how we convert date time to timestamps."
   ],
   "metadata": {
    "collapsed": false
   },
   "id": "91739759aafdca1e"
  },
  {
   "cell_type": "code",
   "execution_count": null,
   "outputs": [],
   "source": [],
   "metadata": {
    "collapsed": false
   },
   "id": "371a0240b5c614f7"
  },
  {
   "cell_type": "markdown",
   "source": [
    "### Module 3: Plotting - Data Visualization\n",
    "\n",
    "Data visualization is the representation of data through the use of common graphics, such as charts, plots, infographics, and even animations. In our project, we use heatmaps, correlation matrices, and other plots to have an interesting detailed view of coin prices.\n",
    "\n",
    "**Advantages:**\n",
    "\n",
    "* Easily sharing information\n",
    "* Interactively explore opportunities\n",
    "* Visualize patterns and relationships"
   ],
   "metadata": {
    "collapsed": false
   },
   "id": "4ae3066f4cc74746"
  },
  {
   "cell_type": "code",
   "execution_count": null,
   "outputs": [],
   "source": [],
   "metadata": {
    "collapsed": false
   },
   "id": "ce54eff0dc78cd39"
  },
  {
   "cell_type": "markdown",
   "source": [
    "#### Task 1: Plotting BTC and ETH\n",
    "\n",
    "In this you’ll understand how we create some interesting plots for BTC and ETH and compare their changes with respect to each other."
   ],
   "metadata": {
    "collapsed": false
   },
   "id": "3193f1bb374c0b22"
  },
  {
   "cell_type": "code",
   "execution_count": null,
   "outputs": [],
   "source": [],
   "metadata": {
    "collapsed": false
   },
   "id": "cb47422afb32378b"
  },
  {
   "cell_type": "markdown",
   "source": [
    "#### Task 2: Plotting Coin Correlation\n",
    "\n",
    "In this you’ll understand how we will plot coin correlation of all 14 coins for returns made."
   ],
   "metadata": {
    "collapsed": false
   },
   "id": "f90cc3ac04bdeb21"
  },
  {
   "cell_type": "code",
   "execution_count": null,
   "outputs": [],
   "source": [],
   "metadata": {
    "collapsed": false
   },
   "id": "4b5ee9fbff507f5e"
  },
  {
   "cell_type": "markdown",
   "source": [
    "### Module 4: Prediction\n",
    "\n",
    "LightGBM is a gradient boosting framework that uses tree based learning algorithms. It is designed to be distributed and efficient with the following advantages:\n",
    "\n",
    "* Faster training speed and higher efficiency (6 times faster than XGBoost)\n",
    "* Lower memory usage\n",
    "* Better accuracy\n",
    "* Support of parallel, distributed, and GPU learning\n",
    "* Capable of handling large-scale data\n",
    "\n",
    "Only situation where LGBM is not advised is with small datasets because of its sensitivity to overfitting. We will harness this powerful ML model to make predictions based on a large dataset containing 4 years worth of cryptocurrency data."
   ],
   "metadata": {
    "collapsed": false
   },
   "id": "fb2a0d56eb04b5d9"
  },
  {
   "cell_type": "code",
   "execution_count": null,
   "outputs": [],
   "source": [],
   "metadata": {
    "collapsed": false
   },
   "id": "bedd8918c6c4196"
  },
  {
   "cell_type": "markdown",
   "source": [
    "#### Task 1: Feature Engineering\n",
    "\n",
    "In this you’ll understand how we create some new features using fields from data."
   ],
   "metadata": {
    "collapsed": false
   },
   "id": "28759f6d8aa4090"
  },
  {
   "cell_type": "code",
   "execution_count": null,
   "outputs": [],
   "source": [],
   "metadata": {
    "collapsed": false
   },
   "id": "c2896885dbd0e8b1"
  },
  {
   "cell_type": "markdown",
   "source": [
    "#### Task 2: Building LGBM Model\n",
    "\n",
    "In this you’ll understand how we will build the model."
   ],
   "metadata": {
    "collapsed": false
   },
   "id": "45d692ad6f29cbfa"
  },
  {
   "cell_type": "code",
   "execution_count": null,
   "outputs": [],
   "source": [],
   "metadata": {
    "collapsed": false
   },
   "id": "63f7ccebf8aa9867"
  },
  {
   "cell_type": "markdown",
   "source": [
    "#### Task 3: Hyperparameter Tuning\n",
    "\n",
    "In this you’ll understand how we will tune the hyperparameters of the model."
   ],
   "metadata": {
    "collapsed": false
   },
   "id": "9c6115b5db4905f2"
  },
  {
   "cell_type": "code",
   "execution_count": null,
   "outputs": [],
   "source": [],
   "metadata": {
    "collapsed": false
   },
   "id": "4fbd92471c3fb110"
  },
  {
   "cell_type": "markdown",
   "source": [
    "#### Task 4: Evaluation And Prediction\n",
    "\n",
    "In this you’ll understand how we will use the model to predict on test data and evaluate the performance."
   ],
   "metadata": {
    "collapsed": false
   },
   "id": "d4ee4ba15ad5fd7f"
  },
  {
   "cell_type": "code",
   "execution_count": null,
   "outputs": [],
   "source": [],
   "metadata": {
    "collapsed": false
   },
   "id": "f01d35b6d75b0656"
  }
 ],
 "metadata": {
  "kernelspec": {
   "display_name": "Python 3",
   "language": "python",
   "name": "python3"
  },
  "language_info": {
   "codemirror_mode": {
    "name": "ipython",
    "version": 2
   },
   "file_extension": ".py",
   "mimetype": "text/x-python",
   "name": "python",
   "nbconvert_exporter": "python",
   "pygments_lexer": "ipython2",
   "version": "2.7.6"
  }
 },
 "nbformat": 4,
 "nbformat_minor": 5
}
