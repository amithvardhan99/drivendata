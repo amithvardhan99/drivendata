{
 "cells": [
  {
   "cell_type": "markdown",
   "source": [
    "## Crypto Forecasting Model For Market Data 2018 - 2021\n",
    "\n",
    "In this Data Science project, we will be performing some data analysis as well as we will build a Light Gradient Boosting Machine ML model to forecast short term returns in 14 popular cryptocurrencies using millions of high-frequency market data 2018-2021.\n",
    "<br>\n",
    "#### Project Description\n",
    "\n",
    "In this Data Science project, we will be performing some data analysis as well as we will build a Light Gradient Boosting Machine ML model to forecast short term returns in 14 popular cryptocurrencies using millions of high-frequency market data 2018-2021. The dataset used here contains information on historic trades for several crypto assets, such as Bitcoin and Ethereum. Our challenge is to predict their future returns.\n",
    "<br>\n",
    "***train.csv:***\n",
    "\n",
    "   **timestamp:** All timestamps are returned as second Unix timestamps (the number of seconds elapsed since 1970-01-01 00:00:00.000 UTC). Timestamps in this dataset are multiple of 60, indicating minute-by-minute data.\n",
    "   \n",
    "   **Asset_ID:** The asset ID corresponding to one of the cryptocurrencies (e.g. Asset_ID = 1 for Bitcoin). The mapping from Asset_ID to crypto asset is contained in asset_details.csv.\n",
    "   \n",
    "   **Count:** Total number of trades in the time interval (last minute).\n",
    "   \n",
    "   **Open:** Opening price of the time interval (in USD).\n",
    "   \n",
    "   **High:** Highest price reached during time interval (in USD).\n",
    "   \n",
    "   **Low:** Lowest price reached during time interval (in USD).\n",
    "   \n",
    "   **Close:** Closing price of the time interval (in USD).\n",
    "   \n",
    "   **Volume:** Quantity of asset bought or sold, displayed in base currency USD.\n",
    "   \n",
    "   **VWAP:** The average price of the asset over the time interval, weighted by volume. VWAP is an aggregated form of trade data.\n",
    "   \n",
    "   **Target:** Residual log-returns for the asset over a 15 minute horizon.\n",
    "<br>\n",
    "***asset_details.csv:***\n",
    "\n",
    "It provides the real name of the crypto asset for each Asset_ID and the weight each crypto asset receives in the metric. Weights are determined by the logarithm of each product's market cap (in USD), of the cryptocurrencies at a fixed point in time. Weights were assigned to give more relevance to cryptocurrencies with higher market volumes to ensure smaller cryptocurrencies do not disproportionately impact the models. In this Data Science project, We will build a Light Gradient Boosting Machine ML model to forecast short term returns in 14 popular cryptocurrencies using millions of high-frequency market data 2018-2021.\n",
    "<br>\n",
    "#### Technologies used:\n",
    "\n",
    "**Language -** Python\n",
    "**Algorithms -** LightGBM"
   ],
   "metadata": {
    "collapsed": false
   },
   "id": "6178e13109a94d1c"
  },
  {
   "cell_type": "code",
   "execution_count": null,
   "outputs": [],
   "source": [],
   "metadata": {
    "collapsed": false,
    "ExecuteTime": {
     "end_time": "2023-12-10T17:42:57.766617Z",
     "start_time": "2023-12-10T17:42:57.758528Z"
    }
   },
   "id": "5baa3f78643cbff5"
  },
  {
   "cell_type": "markdown",
   "source": [
    "### Module 1: Project Setup and Installation\n",
    "\n",
    "This module consists of guidance videos for setup and installation of various tools and libraries that we will be needing for our project. By following these videos you can set up the environment for your project development. In our project we will be using various python packages such as NumPy ,Pandas ,sklearn,etc. We will be using Visual Studio Code Editor for development.\n",
    "<br>\n",
    "#### Task 1: Setup and Installation\n",
    "\n",
    "In this task you’ll understand how to get started with vscode, python, jupyter notebook etc. with the help of a guided video and how to create a simple jupyter notebook.\n",
    "<br>\n",
    "#### Task 2: Installing Packages USing Pip\n",
    "\n",
    "**Packages:**\n",
    "\n",
    "**Data preprocessing:** NumPy and Pandas\n",
    "\n",
    "**Data visualization:** Seaborn and Matplotlib"
   ],
   "metadata": {
    "collapsed": false
   },
   "id": "a477fa84ee2b2c13"
  },
  {
   "cell_type": "code",
   "execution_count": 41,
   "outputs": [],
   "source": [
    "import pandas as pd\n",
    "\n",
    "# Read the large CSV file\n",
    "csv_file = \"/Users/amith/Downloads/g-research-crypto-forecasting/train.csv\"\n",
    "df = pd.read_csv(csv_file)"
   ],
   "metadata": {
    "collapsed": false,
    "ExecuteTime": {
     "end_time": "2023-12-10T18:43:36.665309Z",
     "start_time": "2023-12-10T18:43:23.303818Z"
    }
   },
   "id": "3701e78a1fe22f17"
  },
  {
   "cell_type": "code",
   "execution_count": 42,
   "outputs": [
    {
     "data": {
      "text/plain": "           timestamp  Asset_ID  Count          Open          High  \\\n0         1514764860         2   40.0   2376.580000   2399.500000   \n1         1514764860         0    5.0      8.530000      8.530000   \n2         1514764860         1  229.0  13835.194000  14013.800000   \n3         1514764860         5   32.0      7.659600      7.659600   \n4         1514764860         7    5.0     25.920000     25.920000   \n...              ...       ...    ...           ...           ...   \n24236801  1632182400         9  775.0    157.181571    157.250000   \n24236802  1632182400        10   34.0   2437.065067   2438.000000   \n24236803  1632182400        13  380.0      0.091390      0.091527   \n24236804  1632182400        12  177.0      0.282168      0.282438   \n24236805  1632182400        11   48.0    232.695000    232.800000   \n\n                   Low         Close        Volume          VWAP    Target  \n0          2357.140000   2374.590000  1.923301e+01   2373.116392 -0.004218  \n1             8.530000      8.530000  7.838000e+01      8.530000 -0.014399  \n2         13666.110000  13850.176000  3.155006e+01  13827.062093 -0.014643  \n3             7.656700      7.657600  6.626713e+03      7.657713 -0.013922  \n4            25.874000     25.877000  1.210873e+02     25.891363 -0.008264  \n...                ...           ...           ...           ...       ...  \n24236801    156.700000    156.943857  4.663725e+03    156.994319       NaN  \n24236802   2430.226900   2432.907467  3.975460e+00   2434.818747       NaN  \n24236803      0.091260      0.091349  2.193732e+06      0.091388       NaN  \n24236804      0.281842      0.282051  1.828508e+05      0.282134       NaN  \n24236805    232.240000    232.275000  1.035123e+02    232.569697       NaN  \n\n[24236806 rows x 10 columns]",
      "text/html": "<div>\n<style scoped>\n    .dataframe tbody tr th:only-of-type {\n        vertical-align: middle;\n    }\n\n    .dataframe tbody tr th {\n        vertical-align: top;\n    }\n\n    .dataframe thead th {\n        text-align: right;\n    }\n</style>\n<table border=\"1\" class=\"dataframe\">\n  <thead>\n    <tr style=\"text-align: right;\">\n      <th></th>\n      <th>timestamp</th>\n      <th>Asset_ID</th>\n      <th>Count</th>\n      <th>Open</th>\n      <th>High</th>\n      <th>Low</th>\n      <th>Close</th>\n      <th>Volume</th>\n      <th>VWAP</th>\n      <th>Target</th>\n    </tr>\n  </thead>\n  <tbody>\n    <tr>\n      <th>0</th>\n      <td>1514764860</td>\n      <td>2</td>\n      <td>40.0</td>\n      <td>2376.580000</td>\n      <td>2399.500000</td>\n      <td>2357.140000</td>\n      <td>2374.590000</td>\n      <td>1.923301e+01</td>\n      <td>2373.116392</td>\n      <td>-0.004218</td>\n    </tr>\n    <tr>\n      <th>1</th>\n      <td>1514764860</td>\n      <td>0</td>\n      <td>5.0</td>\n      <td>8.530000</td>\n      <td>8.530000</td>\n      <td>8.530000</td>\n      <td>8.530000</td>\n      <td>7.838000e+01</td>\n      <td>8.530000</td>\n      <td>-0.014399</td>\n    </tr>\n    <tr>\n      <th>2</th>\n      <td>1514764860</td>\n      <td>1</td>\n      <td>229.0</td>\n      <td>13835.194000</td>\n      <td>14013.800000</td>\n      <td>13666.110000</td>\n      <td>13850.176000</td>\n      <td>3.155006e+01</td>\n      <td>13827.062093</td>\n      <td>-0.014643</td>\n    </tr>\n    <tr>\n      <th>3</th>\n      <td>1514764860</td>\n      <td>5</td>\n      <td>32.0</td>\n      <td>7.659600</td>\n      <td>7.659600</td>\n      <td>7.656700</td>\n      <td>7.657600</td>\n      <td>6.626713e+03</td>\n      <td>7.657713</td>\n      <td>-0.013922</td>\n    </tr>\n    <tr>\n      <th>4</th>\n      <td>1514764860</td>\n      <td>7</td>\n      <td>5.0</td>\n      <td>25.920000</td>\n      <td>25.920000</td>\n      <td>25.874000</td>\n      <td>25.877000</td>\n      <td>1.210873e+02</td>\n      <td>25.891363</td>\n      <td>-0.008264</td>\n    </tr>\n    <tr>\n      <th>...</th>\n      <td>...</td>\n      <td>...</td>\n      <td>...</td>\n      <td>...</td>\n      <td>...</td>\n      <td>...</td>\n      <td>...</td>\n      <td>...</td>\n      <td>...</td>\n      <td>...</td>\n    </tr>\n    <tr>\n      <th>24236801</th>\n      <td>1632182400</td>\n      <td>9</td>\n      <td>775.0</td>\n      <td>157.181571</td>\n      <td>157.250000</td>\n      <td>156.700000</td>\n      <td>156.943857</td>\n      <td>4.663725e+03</td>\n      <td>156.994319</td>\n      <td>NaN</td>\n    </tr>\n    <tr>\n      <th>24236802</th>\n      <td>1632182400</td>\n      <td>10</td>\n      <td>34.0</td>\n      <td>2437.065067</td>\n      <td>2438.000000</td>\n      <td>2430.226900</td>\n      <td>2432.907467</td>\n      <td>3.975460e+00</td>\n      <td>2434.818747</td>\n      <td>NaN</td>\n    </tr>\n    <tr>\n      <th>24236803</th>\n      <td>1632182400</td>\n      <td>13</td>\n      <td>380.0</td>\n      <td>0.091390</td>\n      <td>0.091527</td>\n      <td>0.091260</td>\n      <td>0.091349</td>\n      <td>2.193732e+06</td>\n      <td>0.091388</td>\n      <td>NaN</td>\n    </tr>\n    <tr>\n      <th>24236804</th>\n      <td>1632182400</td>\n      <td>12</td>\n      <td>177.0</td>\n      <td>0.282168</td>\n      <td>0.282438</td>\n      <td>0.281842</td>\n      <td>0.282051</td>\n      <td>1.828508e+05</td>\n      <td>0.282134</td>\n      <td>NaN</td>\n    </tr>\n    <tr>\n      <th>24236805</th>\n      <td>1632182400</td>\n      <td>11</td>\n      <td>48.0</td>\n      <td>232.695000</td>\n      <td>232.800000</td>\n      <td>232.240000</td>\n      <td>232.275000</td>\n      <td>1.035123e+02</td>\n      <td>232.569697</td>\n      <td>NaN</td>\n    </tr>\n  </tbody>\n</table>\n<p>24236806 rows × 10 columns</p>\n</div>"
     },
     "execution_count": 42,
     "metadata": {},
     "output_type": "execute_result"
    }
   ],
   "source": [
    "df"
   ],
   "metadata": {
    "collapsed": false,
    "ExecuteTime": {
     "end_time": "2023-12-10T18:43:39.519359Z",
     "start_time": "2023-12-10T18:43:39.513802Z"
    }
   },
   "id": "84da6cfb24c4495e"
  },
  {
   "cell_type": "code",
   "execution_count": 43,
   "outputs": [],
   "source": [
    "fin = []\n",
    "li = []\n",
    "ctr = 0\n",
    "ctr2 = 0\n",
    "\n",
    "si = int(len(df)/30)\n",
    "\n",
    "for i in df.index.values:\n",
    "    if ctr == si:\n",
    "        ctr = 0\n",
    "        fin.append(li)\n",
    "        li = []\n",
    "    li.append(i)\n",
    "    ctr += 1\n",
    "fin.append(li)"
   ],
   "metadata": {
    "collapsed": false,
    "ExecuteTime": {
     "end_time": "2023-12-10T18:44:17.052832Z",
     "start_time": "2023-12-10T18:44:14.736004Z"
    }
   },
   "id": "48557dfbaefbafc7"
  },
  {
   "cell_type": "code",
   "execution_count": 45,
   "outputs": [
    {
     "name": "stdout",
     "output_type": "stream",
     "text": [
      "Number of files generated:  1\n",
      "Number of files generated:  2\n",
      "Number of files generated:  3\n",
      "Number of files generated:  4\n",
      "Number of files generated:  5\n",
      "Number of files generated:  6\n",
      "Number of files generated:  7\n",
      "Number of files generated:  8\n",
      "Number of files generated:  9\n",
      "Number of files generated:  10\n",
      "Number of files generated:  11\n",
      "Number of files generated:  12\n",
      "Number of files generated:  13\n",
      "Number of files generated:  14\n",
      "Number of files generated:  15\n",
      "Number of files generated:  16\n",
      "Number of files generated:  17\n",
      "Number of files generated:  18\n",
      "Number of files generated:  19\n",
      "Number of files generated:  20\n",
      "Number of files generated:  21\n",
      "Number of files generated:  22\n",
      "Number of files generated:  23\n",
      "Number of files generated:  24\n",
      "Number of files generated:  25\n",
      "Number of files generated:  26\n",
      "Number of files generated:  27\n",
      "Number of files generated:  28\n",
      "Number of files generated:  29\n",
      "Number of files generated:  30\n",
      "Number of files generated:  31\n"
     ]
    }
   ],
   "source": [
    "ctr = 1\n",
    "for i in fin:\n",
    "    csv_file = \"data/train_\"+str(ctr)+\".csv\"\n",
    "    df.loc[i,:].to_csv(csv_file,index=False)\n",
    "    print(\"Number of files generated: \",ctr)\n",
    "    ctr += 1"
   ],
   "metadata": {
    "collapsed": false,
    "ExecuteTime": {
     "end_time": "2023-12-10T18:49:22.476902Z",
     "start_time": "2023-12-10T18:47:51.637067Z"
    }
   },
   "id": "a4d543b80c043817"
  },
  {
   "cell_type": "code",
   "execution_count": 46,
   "outputs": [],
   "source": [
    "supplemental_train = pd.read_csv(\"/Users/amith/Downloads/g-research-crypto-forecasting/supplemental_train.csv\")"
   ],
   "metadata": {
    "collapsed": false,
    "ExecuteTime": {
     "end_time": "2023-12-10T18:59:54.743519Z",
     "start_time": "2023-12-10T18:59:52.863140Z"
    }
   },
   "id": "772ca4e2093f7f4"
  },
  {
   "cell_type": "code",
   "execution_count": 48,
   "outputs": [],
   "source": [
    "fin = []\n",
    "li = []\n",
    "ctr = 0\n",
    "ctr2 = 0\n",
    "\n",
    "si = int(len(supplemental_train)/4)\n",
    "\n",
    "for i in supplemental_train.index.values:\n",
    "    if ctr == si:\n",
    "        ctr = 0\n",
    "        fin.append(li)\n",
    "        li = []\n",
    "    li.append(i)\n",
    "    ctr += 1\n",
    "fin.append(li)"
   ],
   "metadata": {
    "collapsed": false,
    "ExecuteTime": {
     "end_time": "2023-12-10T19:00:25.308417Z",
     "start_time": "2023-12-10T19:00:25.033912Z"
    }
   },
   "id": "7025dd76ca9d5d11"
  },
  {
   "cell_type": "code",
   "execution_count": 49,
   "outputs": [
    {
     "name": "stdout",
     "output_type": "stream",
     "text": [
      "Number of files generated:  1\n",
      "Number of files generated:  2\n",
      "Number of files generated:  3\n",
      "Number of files generated:  4\n",
      "Number of files generated:  5\n"
     ]
    }
   ],
   "source": [
    "ctr = 1\n",
    "for i in fin:\n",
    "    csv_file = \"data/supplemental_train_\"+str(ctr)+\".csv\"\n",
    "    df.loc[i,:].to_csv(csv_file,index=False)\n",
    "    print(\"Number of files generated: \",ctr)\n",
    "    ctr += 1"
   ],
   "metadata": {
    "collapsed": false,
    "ExecuteTime": {
     "end_time": "2023-12-10T19:01:01.044562Z",
     "start_time": "2023-12-10T19:00:50.959002Z"
    }
   },
   "id": "203d5c6edc43a9f"
  },
  {
   "cell_type": "code",
   "execution_count": null,
   "outputs": [],
   "source": [],
   "metadata": {
    "collapsed": false
   },
   "id": "d67aa4be3653cd38"
  }
 ],
 "metadata": {
  "kernelspec": {
   "display_name": "Python 3",
   "language": "python",
   "name": "python3"
  },
  "language_info": {
   "codemirror_mode": {
    "name": "ipython",
    "version": 2
   },
   "file_extension": ".py",
   "mimetype": "text/x-python",
   "name": "python",
   "nbconvert_exporter": "python",
   "pygments_lexer": "ipython2",
   "version": "2.7.6"
  }
 },
 "nbformat": 4,
 "nbformat_minor": 5
}
