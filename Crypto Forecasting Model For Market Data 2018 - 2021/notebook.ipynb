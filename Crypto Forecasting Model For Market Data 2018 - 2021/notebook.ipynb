{
 "cells": [
  {
   "cell_type": "markdown",
   "source": [
    "## Crypto Forecasting Model For Market Data 2018 - 2021\n",
    "\n",
    "In this Data Science project, we will be performing some data analysis as well as we will build a Light Gradient Boosting Machine ML model to forecast short term returns in 14 popular cryptocurrencies using millions of high-frequency market data 2018-2021.\n",
    "<br>\n",
    "#### Project Description\n",
    "\n",
    "In this Data Science project, we will be performing some data analysis as well as we will build a Light Gradient Boosting Machine ML model to forecast short term returns in 14 popular cryptocurrencies using millions of high-frequency market data 2018-2021. The dataset used here contains information on historic trades for several crypto assets, such as Bitcoin and Ethereum. Our challenge is to predict their future returns.\n",
    "<br>\n",
    "***train.csv:***\n",
    "\n",
    "   **timestamp:** All timestamps are returned as second Unix timestamps (the number of seconds elapsed since 1970-01-01 00:00:00.000 UTC). Timestamps in this dataset are multiple of 60, indicating minute-by-minute data.\n",
    "   \n",
    "   **Asset_ID:** The asset ID corresponding to one of the cryptocurrencies (e.g. Asset_ID = 1 for Bitcoin). The mapping from Asset_ID to crypto asset is contained in asset_details.csv.\n",
    "   \n",
    "   **Count:** Total number of trades in the time interval (last minute).\n",
    "   \n",
    "   **Open:** Opening price of the time interval (in USD).\n",
    "   \n",
    "   **High:** Highest price reached during time interval (in USD).\n",
    "   \n",
    "   **Low:** Lowest price reached during time interval (in USD).\n",
    "   \n",
    "   **Close:** Closing price of the time interval (in USD).\n",
    "   \n",
    "   **Volume:** Quantity of asset bought or sold, displayed in base currency USD.\n",
    "   \n",
    "   **VWAP:** The average price of the asset over the time interval, weighted by volume. VWAP is an aggregated form of trade data.\n",
    "   \n",
    "   **Target:** Residual log-returns for the asset over a 15 minute horizon.\n",
    "<br>\n",
    "***asset_details.csv:***\n",
    "\n",
    "It provides the real name of the crypto asset for each Asset_ID and the weight each crypto asset receives in the metric. Weights are determined by the logarithm of each product's market cap (in USD), of the cryptocurrencies at a fixed point in time. Weights were assigned to give more relevance to cryptocurrencies with higher market volumes to ensure smaller cryptocurrencies do not disproportionately impact the models. In this Data Science project, We will build a Light Gradient Boosting Machine ML model to forecast short term returns in 14 popular cryptocurrencies using millions of high-frequency market data 2018-2021.\n",
    "<br>\n",
    "#### Technologies used:\n",
    "\n",
    "**Language -** Python\n",
    "**Algorithms -** LightGBM"
   ],
   "metadata": {
    "collapsed": false
   },
   "id": "6178e13109a94d1c"
  },
  {
   "cell_type": "code",
   "execution_count": null,
   "outputs": [],
   "source": [],
   "metadata": {
    "collapsed": false,
    "ExecuteTime": {
     "end_time": "2023-12-10T17:42:57.766617Z",
     "start_time": "2023-12-10T17:42:57.758528Z"
    }
   },
   "id": "5baa3f78643cbff5"
  },
  {
   "cell_type": "markdown",
   "source": [
    "### Module 1: Project Setup and Installation\n",
    "\n",
    "This module consists of guidance videos for setup and installation of various tools and libraries that we will be needing for our project. By following these videos you can set up the environment for your project development. In our project we will be using various python packages such as NumPy ,Pandas ,sklearn,etc. We will be using Visual Studio Code Editor for development.\n",
    "<br>\n",
    "#### Task 1: Setup and Installation\n",
    "\n",
    "In this task you’ll understand how to get started with vscode, python, jupyter notebook etc. with the help of a guided video and how to create a simple jupyter notebook.\n",
    "<br>\n",
    "#### Task 2: Installing Packages USing Pip\n",
    "\n",
    "**Packages:**\n",
    "\n",
    "**Data preprocessing:** NumPy and Pandas\n",
    "\n",
    "**Data visualization:** Seaborn and Matplotlib"
   ],
   "metadata": {
    "collapsed": false
   },
   "id": "a477fa84ee2b2c13"
  },
  {
   "cell_type": "code",
   "execution_count": null,
   "outputs": [],
   "source": [],
   "metadata": {
    "collapsed": false
   },
   "id": "c11fd2b938840e17"
  }
 ],
 "metadata": {
  "kernelspec": {
   "display_name": "Python 3",
   "language": "python",
   "name": "python3"
  },
  "language_info": {
   "codemirror_mode": {
    "name": "ipython",
    "version": 2
   },
   "file_extension": ".py",
   "mimetype": "text/x-python",
   "name": "python",
   "nbconvert_exporter": "python",
   "pygments_lexer": "ipython2",
   "version": "2.7.6"
  }
 },
 "nbformat": 4,
 "nbformat_minor": 5
}
