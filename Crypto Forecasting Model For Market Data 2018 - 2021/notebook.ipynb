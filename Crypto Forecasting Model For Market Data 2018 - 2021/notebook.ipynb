{
 "cells": [
  {
   "cell_type": "markdown",
   "source": [
    "## Crypto Forecasting Model For Market Data 2018 - 2021\n",
    "\n",
    "In this Data Science project, we will be performing some data analysis as well as we will build a Light Gradient Boosting Machine ML model to forecast short term returns in 14 popular cryptocurrencies using millions of high-frequency market data 2018-2021.\n",
    "<br>\n",
    "#### Project Description\n",
    "\n",
    "In this Data Science project, we will be performing some data analysis as well as we will build a Light Gradient Boosting Machine ML model to forecast short term returns in 14 popular cryptocurrencies using millions of high-frequency market data 2018-2021. The dataset used here contains information on historic trades for several crypto assets, such as Bitcoin and Ethereum. Our challenge is to predict their future returns.\n",
    "<br>\n",
    "***train.csv:***\n",
    "\n",
    "   **timestamp:** All timestamps are returned as second Unix timestamps (the number of seconds elapsed since 1970-01-01 00:00:00.000 UTC). Timestamps in this dataset are multiple of 60, indicating minute-by-minute data.\n",
    "   \n",
    "   **Asset_ID:** The asset ID corresponding to one of the cryptocurrencies (e.g. Asset_ID = 1 for Bitcoin). The mapping from Asset_ID to crypto asset is contained in asset_details.csv.\n",
    "   \n",
    "   **Count:** Total number of trades in the time interval (last minute).\n",
    "   \n",
    "   **Open:** Opening price of the time interval (in USD).\n",
    "   \n",
    "   **High:** Highest price reached during time interval (in USD).\n",
    "   \n",
    "   **Low:** Lowest price reached during time interval (in USD).\n",
    "   \n",
    "   **Close:** Closing price of the time interval (in USD).\n",
    "   \n",
    "   **Volume:** Quantity of asset bought or sold, displayed in base currency USD.\n",
    "   \n",
    "   **VWAP:** The average price of the asset over the time interval, weighted by volume. VWAP is an aggregated form of trade data.\n",
    "   \n",
    "   **Target:** Residual log-returns for the asset over a 15 minute horizon.\n",
    "<br>\n",
    "***asset_details.csv:***\n",
    "\n",
    "It provides the real name of the crypto asset for each Asset_ID and the weight each crypto asset receives in the metric. Weights are determined by the logarithm of each product's market cap (in USD), of the cryptocurrencies at a fixed point in time. Weights were assigned to give more relevance to cryptocurrencies with higher market volumes to ensure smaller cryptocurrencies do not disproportionately impact the models. In this Data Science project, We will build a Light Gradient Boosting Machine ML model to forecast short term returns in 14 popular cryptocurrencies using millions of high-frequency market data 2018-2021.\n",
    "<br>\n",
    "#### Technologies used:\n",
    "\n",
    "**Language -** Python\n",
    "**Algorithms -** LightGBM"
   ],
   "metadata": {
    "collapsed": false
   },
   "id": "6178e13109a94d1c"
  },
  {
   "cell_type": "code",
   "execution_count": null,
   "outputs": [],
   "source": [],
   "metadata": {
    "collapsed": false,
    "ExecuteTime": {
     "end_time": "2023-12-10T17:42:57.766617Z",
     "start_time": "2023-12-10T17:42:57.758528Z"
    }
   },
   "id": "5baa3f78643cbff5"
  },
  {
   "cell_type": "markdown",
   "source": [
    "### Module 1: Project Setup and Installation\n",
    "\n",
    "This module consists of guidance videos for setup and installation of various tools and libraries that we will be needing for our project. By following these videos you can set up the environment for your project development. In our project we will be using various python packages such as NumPy ,Pandas ,sklearn,etc. We will be using Visual Studio Code Editor for development."
   ],
   "metadata": {
    "collapsed": false
   },
   "id": "a477fa84ee2b2c13"
  },
  {
   "cell_type": "code",
   "execution_count": null,
   "outputs": [],
   "source": [],
   "metadata": {
    "collapsed": false
   },
   "id": "7ca55402bb99138d"
  },
  {
   "cell_type": "markdown",
   "source": [
    "#### Task 1: Setup and Installation\n",
    "\n",
    "In this task you’ll understand how to get started with vscode, python, jupyter notebook etc. with the help of a guided video and how to create a simple jupyter notebook."
   ],
   "metadata": {
    "collapsed": false
   },
   "id": "525ea7a012caa42"
  },
  {
   "cell_type": "code",
   "execution_count": null,
   "outputs": [],
   "source": [],
   "metadata": {
    "collapsed": false
   },
   "id": "2ad50bbc80ac7cb3"
  },
  {
   "cell_type": "markdown",
   "source": [
    "#### Task 2: Installing Packages Using Pip\n",
    "\n",
    "**Packages:**\n",
    "\n",
    "**Data preprocessing:** NumPy and Pandas\n",
    "\n",
    "**Data visualization:** Seaborn and Matplotlib"
   ],
   "metadata": {
    "collapsed": false
   },
   "id": "6d8516cb45e9dd57"
  },
  {
   "cell_type": "code",
   "execution_count": null,
   "outputs": [],
   "source": [],
   "metadata": {
    "collapsed": false
   },
   "id": "ba30c2bea16b8759"
  },
  {
   "cell_type": "markdown",
   "source": [
    "### Module 2: Exploratory Data Analysis (EDA)\n",
    "\n",
    "Exploratory data analysis (EDA) is an approach of analyzing data sets to summarize their main characteristics, often using statistical graphics hypothesis testing. A statistical model can be used or not, but primarily EDA is for seeing what the data can tell us beyond the formal modeling and thereby contrasts traditional indexing. We will explore the data in detail and have a detailed look at the data and its statistics. We will also define a helper function that will turn a date format into a timestamp to use for  modeling."
   ],
   "metadata": {
    "collapsed": false
   },
   "id": "5b0d59f79ca7b658"
  },
  {
   "cell_type": "code",
   "execution_count": null,
   "outputs": [],
   "source": [],
   "metadata": {
    "collapsed": false
   },
   "id": "e029263af2f961f8"
  },
  {
   "cell_type": "markdown",
   "source": [
    "#### Task 1: Knowing The Dataset\n",
    "\n",
    "In this task, you’ll understand how to Explore the dataset and know what each field means."
   ],
   "metadata": {
    "collapsed": false
   },
   "id": "563d6c8e4e76bf7"
  },
  {
   "cell_type": "code",
   "execution_count": null,
   "outputs": [],
   "source": [],
   "metadata": {
    "collapsed": false
   },
   "id": "5f285287a0c184fc"
  },
  {
   "cell_type": "markdown",
   "source": [
    "#### Task 2: EDA - Dataset\n",
    "\n",
    "In this you’ll understand how we will perform EDA and understand the data well."
   ],
   "metadata": {
    "collapsed": false
   },
   "id": "f13ef121e442ab8"
  },
  {
   "cell_type": "code",
   "execution_count": null,
   "outputs": [],
   "source": [],
   "metadata": {
    "collapsed": false
   },
   "id": "2bae620841a17437"
  },
  {
   "cell_type": "markdown",
   "source": [
    "#### Task 3: Timestamps\n",
    "\n",
    "In this you’ll understand how we convert date time to timestamps."
   ],
   "metadata": {
    "collapsed": false
   },
   "id": "91739759aafdca1e"
  },
  {
   "cell_type": "code",
   "execution_count": null,
   "outputs": [],
   "source": [],
   "metadata": {
    "collapsed": false
   },
   "id": "371a0240b5c614f7"
  },
  {
   "cell_type": "markdown",
   "source": [
    "### Module 3: Plotting - Data Visualization\n",
    "\n",
    "Data visualization is the representation of data through the use of common graphics, such as charts, plots, infographics, and even animations. In our project, we use heatmaps, correlation matrices, and other plots to have an interesting detailed view of coin prices.\n",
    "\n",
    "**Advantages:**\n",
    "\n",
    "* Easily sharing information\n",
    "* Interactively explore opportunities\n",
    "* Visualize patterns and relationships"
   ],
   "metadata": {
    "collapsed": false
   },
   "id": "4ae3066f4cc74746"
  },
  {
   "cell_type": "code",
   "execution_count": null,
   "outputs": [],
   "source": [],
   "metadata": {
    "collapsed": false
   },
   "id": "ce54eff0dc78cd39"
  },
  {
   "cell_type": "markdown",
   "source": [
    "#### Task 1: Plotting BTC and ETH\n",
    "\n",
    "In this you’ll understand how we create some interesting plots for BTC and ETH and compare their changes with respect to each other."
   ],
   "metadata": {
    "collapsed": false
   },
   "id": "3193f1bb374c0b22"
  },
  {
   "cell_type": "code",
   "execution_count": null,
   "outputs": [],
   "source": [],
   "metadata": {
    "collapsed": false
   },
   "id": "cb47422afb32378b"
  },
  {
   "cell_type": "markdown",
   "source": [
    "#### Task 2: Plotting Coin Correlation\n",
    "\n",
    "In this you’ll understand how we will plot coin correlation of all 14 coins for returns made."
   ],
   "metadata": {
    "collapsed": false
   },
   "id": "f90cc3ac04bdeb21"
  },
  {
   "cell_type": "code",
   "execution_count": null,
   "outputs": [],
   "source": [],
   "metadata": {
    "collapsed": false
   },
   "id": "4b5ee9fbff507f5e"
  },
  {
   "cell_type": "markdown",
   "source": [
    "### Module 4: Prediction\n",
    "\n",
    "LightGBM is a gradient boosting framework that uses tree based learning algorithms. It is designed to be distributed and efficient with the following advantages:\n",
    "\n",
    "* Faster training speed and higher efficiency (6 times faster than XGBoost)\n",
    "* Lower memory usage\n",
    "* Better accuracy\n",
    "* Support of parallel, distributed, and GPU learning\n",
    "* Capable of handling large-scale data\n",
    "\n",
    "Only situation where LGBM is not advised is with small datasets because of its sensitivity to overfitting. We will harness this powerful ML model to make predictions based on a large dataset containing 4 years worth of cryptocurrency data."
   ],
   "metadata": {
    "collapsed": false
   },
   "id": "fb2a0d56eb04b5d9"
  },
  {
   "cell_type": "code",
   "execution_count": null,
   "outputs": [],
   "source": [],
   "metadata": {
    "collapsed": false
   },
   "id": "bedd8918c6c4196"
  },
  {
   "cell_type": "markdown",
   "source": [
    "#### Task 1: Feature Engineering\n",
    "\n",
    "In this you’ll understand how we create some new features using fields from data."
   ],
   "metadata": {
    "collapsed": false
   },
   "id": "28759f6d8aa4090"
  },
  {
   "cell_type": "code",
   "execution_count": null,
   "outputs": [],
   "source": [],
   "metadata": {
    "collapsed": false
   },
   "id": "c2896885dbd0e8b1"
  },
  {
   "cell_type": "markdown",
   "source": [
    "#### Task 2: Building LGBM Model\n",
    "\n",
    "In this you’ll understand how we will build the model."
   ],
   "metadata": {
    "collapsed": false
   },
   "id": "45d692ad6f29cbfa"
  },
  {
   "cell_type": "code",
   "execution_count": null,
   "outputs": [],
   "source": [],
   "metadata": {
    "collapsed": false
   },
   "id": "63f7ccebf8aa9867"
  },
  {
   "cell_type": "markdown",
   "source": [
    "#### Task 3: Hyperparameter Tuning\n",
    "\n",
    "In this you’ll understand how we will tune the hyperparameters of the model."
   ],
   "metadata": {
    "collapsed": false
   },
   "id": "9c6115b5db4905f2"
  },
  {
   "cell_type": "code",
   "execution_count": null,
   "outputs": [],
   "source": [],
   "metadata": {
    "collapsed": false
   },
   "id": "4fbd92471c3fb110"
  },
  {
   "cell_type": "markdown",
   "source": [
    "#### Task 4: Evaluation And Prediction\n",
    "\n",
    "In this you’ll understand how we will use the model to predict on test data and evaluate the performance."
   ],
   "metadata": {
    "collapsed": false
   },
   "id": "d4ee4ba15ad5fd7f"
  },
  {
   "cell_type": "code",
   "execution_count": null,
   "outputs": [],
   "source": [],
   "metadata": {
    "collapsed": false
   },
   "id": "f01d35b6d75b0656"
  }
 ],
 "metadata": {
  "kernelspec": {
   "display_name": "Python 3",
   "language": "python",
   "name": "python3"
  },
  "language_info": {
   "codemirror_mode": {
    "name": "ipython",
    "version": 2
   },
   "file_extension": ".py",
   "mimetype": "text/x-python",
   "name": "python",
   "nbconvert_exporter": "python",
   "pygments_lexer": "ipython2",
   "version": "2.7.6"
  }
 },
 "nbformat": 4,
 "nbformat_minor": 5
}
