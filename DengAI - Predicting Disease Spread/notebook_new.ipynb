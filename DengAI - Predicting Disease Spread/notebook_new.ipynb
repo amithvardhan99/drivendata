{
 "cells": [
  {
   "cell_type": "code",
   "execution_count": 23,
   "id": "initial_id",
   "metadata": {
    "collapsed": true,
    "ExecuteTime": {
     "end_time": "2023-12-22T19:42:46.327640Z",
     "start_time": "2023-12-22T19:42:46.315257Z"
    }
   },
   "outputs": [],
   "source": [
    "import numpy as np\n",
    "import pandas as pd\n",
    "import matplotlib.pyplot as plt\n",
    "import seaborn as sns\n",
    "import warnings\n",
    "\n",
    "from sklearn.preprocessing import *\n",
    "from sklearn.naive_bayes import *\n",
    "\n",
    "warnings.filterwarnings(\"ignore\")"
   ]
  },
  {
   "cell_type": "code",
   "outputs": [],
   "source": [
    "train_input = pd.read_csv(\"dengue_features_train.csv\")\n",
    "train_target = pd.read_csv(\"dengue_labels_train.csv\")\n",
    "test_input = pd.read_csv(\"dengue_features_test.csv\")\n",
    "submission_format = pd.read_csv(\"submission_format.csv\")"
   ],
   "metadata": {
    "collapsed": false,
    "ExecuteTime": {
     "end_time": "2023-12-22T19:28:01.414757Z",
     "start_time": "2023-12-22T19:28:01.405495Z"
    }
   },
   "id": "dc6d7b8e8ad2f27c",
   "execution_count": 2
  },
  {
   "cell_type": "code",
   "outputs": [],
   "source": [
    "proper_order = [\"city\",\"year\",\"weekofyear\",\"week_start_date\",\"station_max_temp_c\",\"station_min_temp_c\",\"station_avg_temp_c\",\"station_precip_mm\",\"station_diur_temp_rng_c\",\"precipitation_amt_mm\",\"reanalysis_sat_precip_amt_mm\",\"reanalysis_dew_point_temp_k\",\"reanalysis_air_temp_k\",\"reanalysis_relative_humidity_percent\",\"reanalysis_specific_humidity_g_per_kg\",\"reanalysis_precip_amt_kg_per_m2\",\"reanalysis_max_air_temp_k\",\"reanalysis_min_air_temp_k\",\"reanalysis_avg_temp_k\",\"reanalysis_tdtr_k\",\"ndvi_se\",\"ndvi_sw\",\"ndvi_ne\",\"ndvi_nw\"]"
   ],
   "metadata": {
    "collapsed": false,
    "ExecuteTime": {
     "end_time": "2023-12-22T19:28:02.152675Z",
     "start_time": "2023-12-22T19:28:02.142207Z"
    }
   },
   "id": "76efb378b906a618",
   "execution_count": 3
  },
  {
   "cell_type": "code",
   "outputs": [],
   "source": [
    "train_input = train_input[proper_order]\n",
    "test_input = test_input[proper_order]"
   ],
   "metadata": {
    "collapsed": false,
    "ExecuteTime": {
     "end_time": "2023-12-22T19:28:02.618641Z",
     "start_time": "2023-12-22T19:28:02.615883Z"
    }
   },
   "id": "a19a5f0f8933a77f",
   "execution_count": 4
  },
  {
   "cell_type": "code",
   "outputs": [
    {
     "data": {
      "text/plain": "     city  year  weekofyear week_start_date  station_max_temp_c  \\\n0      sj  1990          18      1990-04-30                29.4   \n1      sj  1990          19      1990-05-07                31.7   \n2      sj  1990          20      1990-05-14                32.2   \n3      sj  1990          21      1990-05-21                33.3   \n4      sj  1990          22      1990-05-28                35.0   \n...   ...   ...         ...             ...                 ...   \n1451   iq  2010          21      2010-05-28                35.4   \n1452   iq  2010          22      2010-06-04                34.7   \n1453   iq  2010          23      2010-06-11                32.2   \n1454   iq  2010          24      2010-06-18                31.2   \n1455   iq  2010          25      2010-06-25                33.7   \n\n      station_min_temp_c  station_avg_temp_c  station_precip_mm  \\\n0                   20.0           25.442857               16.0   \n1                   22.2           26.714286                8.6   \n2                   22.8           26.714286               41.4   \n3                   23.3           27.471429                4.0   \n4                   23.9           28.942857                5.8   \n...                  ...                 ...                ...   \n1451                22.4           28.633333               27.0   \n1452                21.7           27.433333               36.6   \n1453                19.2           24.400000                7.4   \n1454                21.0           25.433333               16.0   \n1455                22.2           27.475000               20.4   \n\n      station_diur_temp_rng_c  precipitation_amt_mm  ...  \\\n0                    6.900000                 12.42  ...   \n1                    6.371429                 22.82  ...   \n2                    6.485714                 34.54  ...   \n3                    6.771429                 15.36  ...   \n4                    9.371429                  7.52  ...   \n...                       ...                   ...  ...   \n1451                11.933333                 55.30  ...   \n1452                10.500000                 86.47  ...   \n1453                 6.900000                 58.94  ...   \n1454                 8.733333                 59.67  ...   \n1455                 9.900000                 63.22  ...   \n\n      reanalysis_specific_humidity_g_per_kg  reanalysis_precip_amt_kg_per_m2  \\\n0                                 14.012857                            32.00   \n1                                 15.372857                            17.94   \n2                                 16.848571                            26.10   \n3                                 16.672857                            13.90   \n4                                 17.210000                            12.20   \n...                                     ...                              ...   \n1451                              18.485714                            45.00   \n1452                              18.070000                           207.10   \n1453                              17.008571                            50.60   \n1454                              16.815714                            62.33   \n1455                              17.355714                            36.90   \n\n      reanalysis_max_air_temp_k  reanalysis_min_air_temp_k  \\\n0                         299.8                      295.9   \n1                         300.9                      296.4   \n2                         300.5                      297.3   \n3                         301.4                      297.0   \n4                         301.9                      297.5   \n...                         ...                        ...   \n1451                      309.7                      294.5   \n1452                      308.5                      291.9   \n1453                      305.5                      292.4   \n1454                      306.1                      291.9   \n1455                      307.8                      292.3   \n\n      reanalysis_avg_temp_k  reanalysis_tdtr_k   ndvi_se   ndvi_sw   ndvi_ne  \\\n0                297.742857           2.628571  0.198483  0.177617  0.122600   \n1                298.442857           2.371429  0.162357  0.155486  0.169900   \n2                298.878571           2.300000  0.157200  0.170843  0.032250   \n3                299.228571           2.428571  0.227557  0.235886  0.128633   \n4                299.664286           3.014286  0.251200  0.247340  0.196200   \n...                     ...                ...       ...       ...       ...   \n1451             300.771429           9.800000  0.256343  0.292514  0.342750   \n1452             299.392857           7.471429  0.136043  0.225657  0.160157   \n1453             297.592857           7.500000  0.250357  0.233714  0.247057   \n1454             297.521429           7.871429  0.278886  0.325486  0.333914   \n1455             299.835714          11.014286  0.274214  0.315757  0.298186   \n\n       ndvi_nw  \n0     0.103725  \n1     0.142175  \n2     0.172967  \n3     0.245067  \n4     0.262200  \n...        ...  \n1451  0.318900  \n1452  0.160371  \n1453  0.146057  \n1454  0.245771  \n1455  0.232971  \n\n[1456 rows x 24 columns]",
      "text/html": "<div>\n<style scoped>\n    .dataframe tbody tr th:only-of-type {\n        vertical-align: middle;\n    }\n\n    .dataframe tbody tr th {\n        vertical-align: top;\n    }\n\n    .dataframe thead th {\n        text-align: right;\n    }\n</style>\n<table border=\"1\" class=\"dataframe\">\n  <thead>\n    <tr style=\"text-align: right;\">\n      <th></th>\n      <th>city</th>\n      <th>year</th>\n      <th>weekofyear</th>\n      <th>week_start_date</th>\n      <th>station_max_temp_c</th>\n      <th>station_min_temp_c</th>\n      <th>station_avg_temp_c</th>\n      <th>station_precip_mm</th>\n      <th>station_diur_temp_rng_c</th>\n      <th>precipitation_amt_mm</th>\n      <th>...</th>\n      <th>reanalysis_specific_humidity_g_per_kg</th>\n      <th>reanalysis_precip_amt_kg_per_m2</th>\n      <th>reanalysis_max_air_temp_k</th>\n      <th>reanalysis_min_air_temp_k</th>\n      <th>reanalysis_avg_temp_k</th>\n      <th>reanalysis_tdtr_k</th>\n      <th>ndvi_se</th>\n      <th>ndvi_sw</th>\n      <th>ndvi_ne</th>\n      <th>ndvi_nw</th>\n    </tr>\n  </thead>\n  <tbody>\n    <tr>\n      <th>0</th>\n      <td>sj</td>\n      <td>1990</td>\n      <td>18</td>\n      <td>1990-04-30</td>\n      <td>29.4</td>\n      <td>20.0</td>\n      <td>25.442857</td>\n      <td>16.0</td>\n      <td>6.900000</td>\n      <td>12.42</td>\n      <td>...</td>\n      <td>14.012857</td>\n      <td>32.00</td>\n      <td>299.8</td>\n      <td>295.9</td>\n      <td>297.742857</td>\n      <td>2.628571</td>\n      <td>0.198483</td>\n      <td>0.177617</td>\n      <td>0.122600</td>\n      <td>0.103725</td>\n    </tr>\n    <tr>\n      <th>1</th>\n      <td>sj</td>\n      <td>1990</td>\n      <td>19</td>\n      <td>1990-05-07</td>\n      <td>31.7</td>\n      <td>22.2</td>\n      <td>26.714286</td>\n      <td>8.6</td>\n      <td>6.371429</td>\n      <td>22.82</td>\n      <td>...</td>\n      <td>15.372857</td>\n      <td>17.94</td>\n      <td>300.9</td>\n      <td>296.4</td>\n      <td>298.442857</td>\n      <td>2.371429</td>\n      <td>0.162357</td>\n      <td>0.155486</td>\n      <td>0.169900</td>\n      <td>0.142175</td>\n    </tr>\n    <tr>\n      <th>2</th>\n      <td>sj</td>\n      <td>1990</td>\n      <td>20</td>\n      <td>1990-05-14</td>\n      <td>32.2</td>\n      <td>22.8</td>\n      <td>26.714286</td>\n      <td>41.4</td>\n      <td>6.485714</td>\n      <td>34.54</td>\n      <td>...</td>\n      <td>16.848571</td>\n      <td>26.10</td>\n      <td>300.5</td>\n      <td>297.3</td>\n      <td>298.878571</td>\n      <td>2.300000</td>\n      <td>0.157200</td>\n      <td>0.170843</td>\n      <td>0.032250</td>\n      <td>0.172967</td>\n    </tr>\n    <tr>\n      <th>3</th>\n      <td>sj</td>\n      <td>1990</td>\n      <td>21</td>\n      <td>1990-05-21</td>\n      <td>33.3</td>\n      <td>23.3</td>\n      <td>27.471429</td>\n      <td>4.0</td>\n      <td>6.771429</td>\n      <td>15.36</td>\n      <td>...</td>\n      <td>16.672857</td>\n      <td>13.90</td>\n      <td>301.4</td>\n      <td>297.0</td>\n      <td>299.228571</td>\n      <td>2.428571</td>\n      <td>0.227557</td>\n      <td>0.235886</td>\n      <td>0.128633</td>\n      <td>0.245067</td>\n    </tr>\n    <tr>\n      <th>4</th>\n      <td>sj</td>\n      <td>1990</td>\n      <td>22</td>\n      <td>1990-05-28</td>\n      <td>35.0</td>\n      <td>23.9</td>\n      <td>28.942857</td>\n      <td>5.8</td>\n      <td>9.371429</td>\n      <td>7.52</td>\n      <td>...</td>\n      <td>17.210000</td>\n      <td>12.20</td>\n      <td>301.9</td>\n      <td>297.5</td>\n      <td>299.664286</td>\n      <td>3.014286</td>\n      <td>0.251200</td>\n      <td>0.247340</td>\n      <td>0.196200</td>\n      <td>0.262200</td>\n    </tr>\n    <tr>\n      <th>...</th>\n      <td>...</td>\n      <td>...</td>\n      <td>...</td>\n      <td>...</td>\n      <td>...</td>\n      <td>...</td>\n      <td>...</td>\n      <td>...</td>\n      <td>...</td>\n      <td>...</td>\n      <td>...</td>\n      <td>...</td>\n      <td>...</td>\n      <td>...</td>\n      <td>...</td>\n      <td>...</td>\n      <td>...</td>\n      <td>...</td>\n      <td>...</td>\n      <td>...</td>\n      <td>...</td>\n    </tr>\n    <tr>\n      <th>1451</th>\n      <td>iq</td>\n      <td>2010</td>\n      <td>21</td>\n      <td>2010-05-28</td>\n      <td>35.4</td>\n      <td>22.4</td>\n      <td>28.633333</td>\n      <td>27.0</td>\n      <td>11.933333</td>\n      <td>55.30</td>\n      <td>...</td>\n      <td>18.485714</td>\n      <td>45.00</td>\n      <td>309.7</td>\n      <td>294.5</td>\n      <td>300.771429</td>\n      <td>9.800000</td>\n      <td>0.256343</td>\n      <td>0.292514</td>\n      <td>0.342750</td>\n      <td>0.318900</td>\n    </tr>\n    <tr>\n      <th>1452</th>\n      <td>iq</td>\n      <td>2010</td>\n      <td>22</td>\n      <td>2010-06-04</td>\n      <td>34.7</td>\n      <td>21.7</td>\n      <td>27.433333</td>\n      <td>36.6</td>\n      <td>10.500000</td>\n      <td>86.47</td>\n      <td>...</td>\n      <td>18.070000</td>\n      <td>207.10</td>\n      <td>308.5</td>\n      <td>291.9</td>\n      <td>299.392857</td>\n      <td>7.471429</td>\n      <td>0.136043</td>\n      <td>0.225657</td>\n      <td>0.160157</td>\n      <td>0.160371</td>\n    </tr>\n    <tr>\n      <th>1453</th>\n      <td>iq</td>\n      <td>2010</td>\n      <td>23</td>\n      <td>2010-06-11</td>\n      <td>32.2</td>\n      <td>19.2</td>\n      <td>24.400000</td>\n      <td>7.4</td>\n      <td>6.900000</td>\n      <td>58.94</td>\n      <td>...</td>\n      <td>17.008571</td>\n      <td>50.60</td>\n      <td>305.5</td>\n      <td>292.4</td>\n      <td>297.592857</td>\n      <td>7.500000</td>\n      <td>0.250357</td>\n      <td>0.233714</td>\n      <td>0.247057</td>\n      <td>0.146057</td>\n    </tr>\n    <tr>\n      <th>1454</th>\n      <td>iq</td>\n      <td>2010</td>\n      <td>24</td>\n      <td>2010-06-18</td>\n      <td>31.2</td>\n      <td>21.0</td>\n      <td>25.433333</td>\n      <td>16.0</td>\n      <td>8.733333</td>\n      <td>59.67</td>\n      <td>...</td>\n      <td>16.815714</td>\n      <td>62.33</td>\n      <td>306.1</td>\n      <td>291.9</td>\n      <td>297.521429</td>\n      <td>7.871429</td>\n      <td>0.278886</td>\n      <td>0.325486</td>\n      <td>0.333914</td>\n      <td>0.245771</td>\n    </tr>\n    <tr>\n      <th>1455</th>\n      <td>iq</td>\n      <td>2010</td>\n      <td>25</td>\n      <td>2010-06-25</td>\n      <td>33.7</td>\n      <td>22.2</td>\n      <td>27.475000</td>\n      <td>20.4</td>\n      <td>9.900000</td>\n      <td>63.22</td>\n      <td>...</td>\n      <td>17.355714</td>\n      <td>36.90</td>\n      <td>307.8</td>\n      <td>292.3</td>\n      <td>299.835714</td>\n      <td>11.014286</td>\n      <td>0.274214</td>\n      <td>0.315757</td>\n      <td>0.298186</td>\n      <td>0.232971</td>\n    </tr>\n  </tbody>\n</table>\n<p>1456 rows × 24 columns</p>\n</div>"
     },
     "execution_count": 5,
     "metadata": {},
     "output_type": "execute_result"
    }
   ],
   "source": [
    "train_input"
   ],
   "metadata": {
    "collapsed": false,
    "ExecuteTime": {
     "end_time": "2023-12-22T19:28:03.241506Z",
     "start_time": "2023-12-22T19:28:03.224571Z"
    }
   },
   "id": "162057229482104a",
   "execution_count": 5
  },
  {
   "cell_type": "code",
   "outputs": [],
   "source": [
    "train_input_1 = train_input.copy()\n",
    "train_input_1[\"month\"] = pd.to_datetime(train_input_1[\"week_start_date\"]).dt.month\n",
    "\n",
    "test_input_1 = test_input.copy()\n",
    "test_input_1[\"month\"] = pd.to_datetime(test_input_1[\"week_start_date\"]).dt.month"
   ],
   "metadata": {
    "collapsed": false,
    "ExecuteTime": {
     "end_time": "2023-12-22T19:28:03.999539Z",
     "start_time": "2023-12-22T19:28:03.991459Z"
    }
   },
   "id": "55f732bfb28bcf42",
   "execution_count": 6
  },
  {
   "cell_type": "code",
   "outputs": [],
   "source": [
    "def replace_weather_parameters_with_null_values(df,cols):\n",
    "    for col in cols:\n",
    "        null_months = df[[\"year\",\"month\"]][df[col].isna()].value_counts().reset_index()[[\"year\",\"month\"]].sort_values(by=[\"year\",\"month\"]).reset_index(drop=True)\n",
    "        for i in null_months.index.values:\n",
    "            year = null_months.loc[i,\"year\"]\n",
    "            month = null_months.loc[i,\"month\"]\n",
    "            cond1 = df[\"year\"] == year\n",
    "            cond2 = df[\"month\"] == month\n",
    "            mean_value = df[col][cond1 & cond2].mean()\n",
    "            df[col][cond1 & cond2] = df[col][cond1 & cond2].fillna(mean_value)\n",
    "    return df"
   ],
   "metadata": {
    "collapsed": false,
    "ExecuteTime": {
     "end_time": "2023-12-22T19:28:04.745762Z",
     "start_time": "2023-12-22T19:28:04.741092Z"
    }
   },
   "id": "fd5f08679b6dbac",
   "execution_count": 7
  },
  {
   "cell_type": "code",
   "outputs": [],
   "source": [
    "co = train_input.isna().sum().reset_index()\n",
    "weather_features = co[\"index\"][co[0]>0].reset_index(drop=True).values[:-4]\n",
    "ndvi_features = co[\"index\"][co[0]>0].reset_index(drop=True).values[-4:]"
   ],
   "metadata": {
    "collapsed": false,
    "ExecuteTime": {
     "end_time": "2023-12-22T19:28:10.740709Z",
     "start_time": "2023-12-22T19:28:10.734472Z"
    }
   },
   "id": "4a20b87feb6a6d44",
   "execution_count": 8
  },
  {
   "cell_type": "code",
   "outputs": [],
   "source": [
    "train_input_2 = replace_weather_parameters_with_null_values(train_input_1,weather_features)\n",
    "\n",
    "test_input_2 = replace_weather_parameters_with_null_values(test_input_1,weather_features)"
   ],
   "metadata": {
    "collapsed": false,
    "ExecuteTime": {
     "end_time": "2023-12-22T19:28:11.866776Z",
     "start_time": "2023-12-22T19:28:11.743379Z"
    }
   },
   "id": "4ee2c13f62e00cc7",
   "execution_count": 9
  },
  {
   "cell_type": "code",
   "outputs": [
    {
     "data": {
      "text/plain": "array(['ndvi_se', 'ndvi_sw', 'ndvi_ne', 'ndvi_nw'], dtype=object)"
     },
     "execution_count": 10,
     "metadata": {},
     "output_type": "execute_result"
    }
   ],
   "source": [
    "ndvi_features"
   ],
   "metadata": {
    "collapsed": false,
    "ExecuteTime": {
     "end_time": "2023-12-22T19:28:12.460840Z",
     "start_time": "2023-12-22T19:28:12.458365Z"
    }
   },
   "id": "3f74fd42a779c47b",
   "execution_count": 10
  },
  {
   "cell_type": "code",
   "outputs": [],
   "source": [
    "for i in ndvi_features:\n",
    "    train_input_2[i] = train_input_2[i].fillna(train_input_2[i].mean())\n",
    "    test_input_2[i] = test_input_2[i].fillna(test_input_2[i].mean())"
   ],
   "metadata": {
    "collapsed": false,
    "ExecuteTime": {
     "end_time": "2023-12-22T19:28:13.252932Z",
     "start_time": "2023-12-22T19:28:13.246736Z"
    }
   },
   "id": "f398732d8b050ff5",
   "execution_count": 11
  },
  {
   "cell_type": "code",
   "outputs": [],
   "source": [
    "X_train = train_input_2.drop(columns=[\"city\",\"year\",\"weekofyear\",\"week_start_date\",\"month\"])\n",
    "X_test = test_input_2.drop(columns=[\"city\",\"year\",\"weekofyear\",\"week_start_date\",\"month\"])\n",
    "y_train = train_target[\"total_cases\"].copy()\n",
    "\n",
    "mms = MinMaxScaler()\n",
    "X_train[weather_features] = mms.fit_transform(X_train[weather_features])\n",
    "X_test[weather_features] = mms.fit_transform(X_test[weather_features])\n",
    "\n",
    "ss = StandardScaler()\n",
    "X_train[ndvi_features] = ss.fit_transform(X_train[ndvi_features])\n",
    "X_test[ndvi_features] = ss.fit_transform(X_test[ndvi_features])"
   ],
   "metadata": {
    "collapsed": false,
    "ExecuteTime": {
     "end_time": "2023-12-22T19:37:14.912192Z",
     "start_time": "2023-12-22T19:37:14.888047Z"
    }
   },
   "id": "3efe1303582b267c",
   "execution_count": 19
  },
  {
   "cell_type": "code",
   "outputs": [
    {
     "data": {
      "text/plain": "0       4\n1       5\n2       4\n3       3\n4       6\n       ..\n1451    5\n1452    8\n1453    1\n1454    1\n1455    4\nName: total_cases, Length: 1456, dtype: int64"
     },
     "execution_count": 21,
     "metadata": {},
     "output_type": "execute_result"
    }
   ],
   "source": [
    "y_train"
   ],
   "metadata": {
    "collapsed": false,
    "ExecuteTime": {
     "end_time": "2023-12-22T19:37:48.443962Z",
     "start_time": "2023-12-22T19:37:48.411252Z"
    }
   },
   "id": "a366569d0c6cfec0",
   "execution_count": 21
  },
  {
   "cell_type": "code",
   "outputs": [
    {
     "data": {
      "text/plain": "GaussianNB()",
      "text/html": "<style>#sk-container-id-1 {color: black;}#sk-container-id-1 pre{padding: 0;}#sk-container-id-1 div.sk-toggleable {background-color: white;}#sk-container-id-1 label.sk-toggleable__label {cursor: pointer;display: block;width: 100%;margin-bottom: 0;padding: 0.3em;box-sizing: border-box;text-align: center;}#sk-container-id-1 label.sk-toggleable__label-arrow:before {content: \"▸\";float: left;margin-right: 0.25em;color: #696969;}#sk-container-id-1 label.sk-toggleable__label-arrow:hover:before {color: black;}#sk-container-id-1 div.sk-estimator:hover label.sk-toggleable__label-arrow:before {color: black;}#sk-container-id-1 div.sk-toggleable__content {max-height: 0;max-width: 0;overflow: hidden;text-align: left;background-color: #f0f8ff;}#sk-container-id-1 div.sk-toggleable__content pre {margin: 0.2em;color: black;border-radius: 0.25em;background-color: #f0f8ff;}#sk-container-id-1 input.sk-toggleable__control:checked~div.sk-toggleable__content {max-height: 200px;max-width: 100%;overflow: auto;}#sk-container-id-1 input.sk-toggleable__control:checked~label.sk-toggleable__label-arrow:before {content: \"▾\";}#sk-container-id-1 div.sk-estimator input.sk-toggleable__control:checked~label.sk-toggleable__label {background-color: #d4ebff;}#sk-container-id-1 div.sk-label input.sk-toggleable__control:checked~label.sk-toggleable__label {background-color: #d4ebff;}#sk-container-id-1 input.sk-hidden--visually {border: 0;clip: rect(1px 1px 1px 1px);clip: rect(1px, 1px, 1px, 1px);height: 1px;margin: -1px;overflow: hidden;padding: 0;position: absolute;width: 1px;}#sk-container-id-1 div.sk-estimator {font-family: monospace;background-color: #f0f8ff;border: 1px dotted black;border-radius: 0.25em;box-sizing: border-box;margin-bottom: 0.5em;}#sk-container-id-1 div.sk-estimator:hover {background-color: #d4ebff;}#sk-container-id-1 div.sk-parallel-item::after {content: \"\";width: 100%;border-bottom: 1px solid gray;flex-grow: 1;}#sk-container-id-1 div.sk-label:hover label.sk-toggleable__label {background-color: #d4ebff;}#sk-container-id-1 div.sk-serial::before {content: \"\";position: absolute;border-left: 1px solid gray;box-sizing: border-box;top: 0;bottom: 0;left: 50%;z-index: 0;}#sk-container-id-1 div.sk-serial {display: flex;flex-direction: column;align-items: center;background-color: white;padding-right: 0.2em;padding-left: 0.2em;position: relative;}#sk-container-id-1 div.sk-item {position: relative;z-index: 1;}#sk-container-id-1 div.sk-parallel {display: flex;align-items: stretch;justify-content: center;background-color: white;position: relative;}#sk-container-id-1 div.sk-item::before, #sk-container-id-1 div.sk-parallel-item::before {content: \"\";position: absolute;border-left: 1px solid gray;box-sizing: border-box;top: 0;bottom: 0;left: 50%;z-index: -1;}#sk-container-id-1 div.sk-parallel-item {display: flex;flex-direction: column;z-index: 1;position: relative;background-color: white;}#sk-container-id-1 div.sk-parallel-item:first-child::after {align-self: flex-end;width: 50%;}#sk-container-id-1 div.sk-parallel-item:last-child::after {align-self: flex-start;width: 50%;}#sk-container-id-1 div.sk-parallel-item:only-child::after {width: 0;}#sk-container-id-1 div.sk-dashed-wrapped {border: 1px dashed gray;margin: 0 0.4em 0.5em 0.4em;box-sizing: border-box;padding-bottom: 0.4em;background-color: white;}#sk-container-id-1 div.sk-label label {font-family: monospace;font-weight: bold;display: inline-block;line-height: 1.2em;}#sk-container-id-1 div.sk-label-container {text-align: center;}#sk-container-id-1 div.sk-container {/* jupyter's `normalize.less` sets `[hidden] { display: none; }` but bootstrap.min.css set `[hidden] { display: none !important; }` so we also need the `!important` here to be able to override the default hidden behavior on the sphinx rendered scikit-learn.org. See: https://github.com/scikit-learn/scikit-learn/issues/21755 */display: inline-block !important;position: relative;}#sk-container-id-1 div.sk-text-repr-fallback {display: none;}</style><div id=\"sk-container-id-1\" class=\"sk-top-container\"><div class=\"sk-text-repr-fallback\"><pre>GaussianNB()</pre><b>In a Jupyter environment, please rerun this cell to show the HTML representation or trust the notebook. <br />On GitHub, the HTML representation is unable to render, please try loading this page with nbviewer.org.</b></div><div class=\"sk-container\" hidden><div class=\"sk-item\"><div class=\"sk-estimator sk-toggleable\"><input class=\"sk-toggleable__control sk-hidden--visually\" id=\"sk-estimator-id-1\" type=\"checkbox\" checked><label for=\"sk-estimator-id-1\" class=\"sk-toggleable__label sk-toggleable__label-arrow\">GaussianNB</label><div class=\"sk-toggleable__content\"><pre>GaussianNB()</pre></div></div></div></div></div>"
     },
     "execution_count": 24,
     "metadata": {},
     "output_type": "execute_result"
    }
   ],
   "source": [
    "naive_bayes = GaussianNB()\n",
    "naive_bayes.fit(X_train, y_train)"
   ],
   "metadata": {
    "collapsed": false,
    "ExecuteTime": {
     "end_time": "2023-12-22T19:42:59.044571Z",
     "start_time": "2023-12-22T19:42:58.953949Z"
    }
   },
   "id": "b58630aa4ec29cd3",
   "execution_count": 24
  },
  {
   "cell_type": "code",
   "outputs": [],
   "source": [
    "y_pred = naive_bayes.predict(X_test)"
   ],
   "metadata": {
    "collapsed": false,
    "ExecuteTime": {
     "end_time": "2023-12-22T19:43:32.296796Z",
     "start_time": "2023-12-22T19:43:32.283695Z"
    }
   },
   "id": "82aadb8721aae860",
   "execution_count": 26
  },
  {
   "cell_type": "code",
   "outputs": [],
   "source": [
    "df_final = pd.DataFrame(columns=submission_format.columns)\n",
    "df_final[\"city\"] = test_input[\"city\"].copy()\n",
    "df_final[\"year\"] = test_input[\"year\"].copy()\n",
    "df_final[\"weekofyear\"] = test_input[\"weekofyear\"].copy()\n",
    "df_final[\"total_cases\"] = y_pred"
   ],
   "metadata": {
    "collapsed": false,
    "ExecuteTime": {
     "end_time": "2023-12-22T19:44:38.675401Z",
     "start_time": "2023-12-22T19:44:38.659489Z"
    }
   },
   "id": "d44deaa5ee97a6ca",
   "execution_count": 28
  },
  {
   "cell_type": "code",
   "outputs": [
    {
     "data": {
      "text/plain": "    city  year  weekofyear  total_cases\n0     sj  2008          18           24\n1     sj  2008          19           17\n2     sj  2008          20           17\n3     sj  2008          21           13\n4     sj  2008          22           10\n..   ...   ...         ...          ...\n411   iq  2013          22            0\n412   iq  2013          23            1\n413   iq  2013          24            1\n414   iq  2013          25            0\n415   iq  2013          26            0\n\n[416 rows x 4 columns]",
      "text/html": "<div>\n<style scoped>\n    .dataframe tbody tr th:only-of-type {\n        vertical-align: middle;\n    }\n\n    .dataframe tbody tr th {\n        vertical-align: top;\n    }\n\n    .dataframe thead th {\n        text-align: right;\n    }\n</style>\n<table border=\"1\" class=\"dataframe\">\n  <thead>\n    <tr style=\"text-align: right;\">\n      <th></th>\n      <th>city</th>\n      <th>year</th>\n      <th>weekofyear</th>\n      <th>total_cases</th>\n    </tr>\n  </thead>\n  <tbody>\n    <tr>\n      <th>0</th>\n      <td>sj</td>\n      <td>2008</td>\n      <td>18</td>\n      <td>24</td>\n    </tr>\n    <tr>\n      <th>1</th>\n      <td>sj</td>\n      <td>2008</td>\n      <td>19</td>\n      <td>17</td>\n    </tr>\n    <tr>\n      <th>2</th>\n      <td>sj</td>\n      <td>2008</td>\n      <td>20</td>\n      <td>17</td>\n    </tr>\n    <tr>\n      <th>3</th>\n      <td>sj</td>\n      <td>2008</td>\n      <td>21</td>\n      <td>13</td>\n    </tr>\n    <tr>\n      <th>4</th>\n      <td>sj</td>\n      <td>2008</td>\n      <td>22</td>\n      <td>10</td>\n    </tr>\n    <tr>\n      <th>...</th>\n      <td>...</td>\n      <td>...</td>\n      <td>...</td>\n      <td>...</td>\n    </tr>\n    <tr>\n      <th>411</th>\n      <td>iq</td>\n      <td>2013</td>\n      <td>22</td>\n      <td>0</td>\n    </tr>\n    <tr>\n      <th>412</th>\n      <td>iq</td>\n      <td>2013</td>\n      <td>23</td>\n      <td>1</td>\n    </tr>\n    <tr>\n      <th>413</th>\n      <td>iq</td>\n      <td>2013</td>\n      <td>24</td>\n      <td>1</td>\n    </tr>\n    <tr>\n      <th>414</th>\n      <td>iq</td>\n      <td>2013</td>\n      <td>25</td>\n      <td>0</td>\n    </tr>\n    <tr>\n      <th>415</th>\n      <td>iq</td>\n      <td>2013</td>\n      <td>26</td>\n      <td>0</td>\n    </tr>\n  </tbody>\n</table>\n<p>416 rows × 4 columns</p>\n</div>"
     },
     "execution_count": 29,
     "metadata": {},
     "output_type": "execute_result"
    }
   ],
   "source": [
    "df_final"
   ],
   "metadata": {
    "collapsed": false,
    "ExecuteTime": {
     "end_time": "2023-12-22T19:44:40.356732Z",
     "start_time": "2023-12-22T19:44:40.352821Z"
    }
   },
   "id": "fcfd2f2a527b75ca",
   "execution_count": 29
  },
  {
   "cell_type": "code",
   "outputs": [],
   "source": [
    "df_final.to_csv(\"amith_submission.csv\",index=False,header=True)"
   ],
   "metadata": {
    "collapsed": false,
    "ExecuteTime": {
     "end_time": "2023-12-22T19:45:50.018305Z",
     "start_time": "2023-12-22T19:45:49.994671Z"
    }
   },
   "id": "c1aff58e8b5f62f4",
   "execution_count": 30
  },
  {
   "cell_type": "code",
   "outputs": [],
   "source": [],
   "metadata": {
    "collapsed": false
   },
   "id": "8675753bee60e0a0"
  }
 ],
 "metadata": {
  "kernelspec": {
   "display_name": "Python 3",
   "language": "python",
   "name": "python3"
  },
  "language_info": {
   "codemirror_mode": {
    "name": "ipython",
    "version": 2
   },
   "file_extension": ".py",
   "mimetype": "text/x-python",
   "name": "python",
   "nbconvert_exporter": "python",
   "pygments_lexer": "ipython2",
   "version": "2.7.6"
  }
 },
 "nbformat": 4,
 "nbformat_minor": 5
}
