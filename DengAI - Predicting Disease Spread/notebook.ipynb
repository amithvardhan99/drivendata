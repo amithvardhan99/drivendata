{
 "cells": [
  {
   "cell_type": "code",
   "execution_count": 197,
   "id": "initial_id",
   "metadata": {
    "collapsed": true,
    "ExecuteTime": {
     "end_time": "2023-12-22T03:29:12.244594Z",
     "start_time": "2023-12-22T03:29:12.235470Z"
    }
   },
   "outputs": [],
   "source": [
    "import numpy as np\n",
    "import pandas as pd\n",
    "import matplotlib.pyplot as plt\n",
    "import seaborn as sns\n",
    "import warnings\n",
    "\n",
    "from sklearn.preprocessing import *\n",
    "from sklearn.svm import *\n",
    "from sklearn.metrics import *\n",
    "from sklearn.naive_bayes import *\n",
    "from sklearn.linear_model import *\n",
    "\n",
    "warnings.filterwarnings(\"ignore\")"
   ]
  },
  {
   "cell_type": "code",
   "outputs": [],
   "source": [
    "train_input = pd.read_csv(\"dengue_features_train.csv\")\n",
    "train_output = pd.read_csv(\"dengue_labels_train.csv\")\n",
    "test_input = pd.read_csv(\"dengue_features_test.csv\")"
   ],
   "metadata": {
    "collapsed": false,
    "ExecuteTime": {
     "end_time": "2023-12-22T03:29:12.754537Z",
     "start_time": "2023-12-22T03:29:12.744766Z"
    }
   },
   "id": "fb44fe320b029cdf",
   "execution_count": 198
  },
  {
   "cell_type": "code",
   "outputs": [],
   "source": [
    "df_train = pd.merge(left=train_input,right=train_output,how=\"inner\",on=[\"city\",\"year\",\"weekofyear\"])\n",
    "df_test = test_input.copy()"
   ],
   "metadata": {
    "collapsed": false,
    "ExecuteTime": {
     "end_time": "2023-12-22T03:29:13.351865Z",
     "start_time": "2023-12-22T03:29:13.344964Z"
    }
   },
   "id": "fdadde7185541195",
   "execution_count": 199
  },
  {
   "cell_type": "code",
   "outputs": [],
   "source": [
    "column_order = [\"city\",\"year\",\"weekofyear\",\"week_start_date\",\"station_max_temp_c\",\"station_min_temp_c\",\"station_avg_temp_c\",\"station_precip_mm\",\"station_diur_temp_rng_c\",\"precipitation_amt_mm\",\"reanalysis_sat_precip_amt_mm\",\"reanalysis_dew_point_temp_k\",\"reanalysis_air_temp_k\",\"reanalysis_relative_humidity_percent\",\"reanalysis_specific_humidity_g_per_kg\",\"reanalysis_precip_amt_kg_per_m2\",\"reanalysis_max_air_temp_k\",\"reanalysis_min_air_temp_k\",\"reanalysis_avg_temp_k\",\"reanalysis_tdtr_k\",\"ndvi_se\",\"ndvi_sw\",\"ndvi_ne\",\"ndvi_nw\",\"total_cases\"]"
   ],
   "metadata": {
    "collapsed": false,
    "ExecuteTime": {
     "end_time": "2023-12-22T03:29:13.902241Z",
     "start_time": "2023-12-22T03:29:13.900112Z"
    }
   },
   "id": "c8378f0d4891dc6f",
   "execution_count": 200
  },
  {
   "cell_type": "code",
   "outputs": [],
   "source": [
    "df_train_1 = df_train[column_order]\n",
    "df_train_1.drop(columns=[\"station_avg_temp_c\",\"reanalysis_avg_temp_k\",\"reanalysis_air_temp_k\",\"reanalysis_sat_precip_amt_mm\"],inplace=True)\n",
    "df_train_1[\"week_start_date\"] = pd.to_datetime(df_train[\"week_start_date\"]).dt.month\n",
    "df_train_1.rename(columns={\"week_start_date\":\"month\"},inplace=True)\n",
    "\n",
    "df_test_1 = df_test[column_order[:len(column_order)-1]]\n",
    "df_test_1.drop(columns=[\"station_avg_temp_c\",\"reanalysis_avg_temp_k\",\"reanalysis_air_temp_k\",\"reanalysis_sat_precip_amt_mm\"],inplace=True)\n",
    "df_test_1[\"week_start_date\"] = pd.to_datetime(df_test[\"week_start_date\"]).dt.month\n",
    "df_test_1.rename(columns={\"week_start_date\":\"month\"},inplace=True)"
   ],
   "metadata": {
    "collapsed": false,
    "ExecuteTime": {
     "end_time": "2023-12-22T03:29:14.238960Z",
     "start_time": "2023-12-22T03:29:14.229912Z"
    }
   },
   "id": "242d1ea8ba0a84b8",
   "execution_count": 201
  },
  {
   "cell_type": "code",
   "outputs": [],
   "source": [
    "def deal_with_null_values(df,cols):\n",
    "    for col in cols:\n",
    "        null_data = df[df[col].isna()][[\"year\",\"month\"]].value_counts().reset_index()[[\"year\",\"month\"]].sort_values(by=[\"year\",\"month\"]).reset_index(drop=True)\n",
    "        for i in null_data.index.values:\n",
    "            year = null_data.loc[i,\"year\"]\n",
    "            month = null_data.loc[i,\"month\"]\n",
    "            rep = df[col][df[\"year\"]==year][df[\"month\"]==month].mean()\n",
    "            df[col][(df[\"year\"]==year) & (df[\"month\"]==month)] = df[col][(df[\"year\"]==year) & (df[\"month\"]==month)].fillna(rep)\n",
    "    return df"
   ],
   "metadata": {
    "collapsed": false,
    "ExecuteTime": {
     "end_time": "2023-12-22T03:29:14.697208Z",
     "start_time": "2023-12-22T03:29:14.694516Z"
    }
   },
   "id": "ebdeace779d06dc5",
   "execution_count": 202
  },
  {
   "cell_type": "code",
   "outputs": [],
   "source": [
    "null_columns_df = df_train_1.isna().sum().reset_index()\n",
    "null_columns_all_train = null_columns_df[null_columns_df[0]>0][\"index\"].values\n",
    "null_columns_train = null_columns_all_train[[i[0:4]!=\"ndvi\" for i in null_columns_all_train]]\n",
    "\n",
    "null_columns_df = df_test_1.isna().sum().reset_index()\n",
    "null_columns_all_test = null_columns_df[null_columns_df[0]>0][\"index\"].values\n",
    "null_columns_test = null_columns_all_test[[i[0:4]!=\"ndvi\" for i in null_columns_all_train]]"
   ],
   "metadata": {
    "collapsed": false,
    "ExecuteTime": {
     "end_time": "2023-12-22T03:29:15.098329Z",
     "start_time": "2023-12-22T03:29:15.094190Z"
    }
   },
   "id": "dde39447661dd43b",
   "execution_count": 203
  },
  {
   "cell_type": "code",
   "outputs": [],
   "source": [
    "df_train_2 = deal_with_null_values(df_train_1,null_columns_train)\n",
    "df_test_2 = deal_with_null_values(df_test_1,null_columns_test)"
   ],
   "metadata": {
    "collapsed": false,
    "ExecuteTime": {
     "end_time": "2023-12-22T03:29:15.609887Z",
     "start_time": "2023-12-22T03:29:15.496366Z"
    }
   },
   "id": "2120c02211f9fc3",
   "execution_count": 204
  },
  {
   "cell_type": "code",
   "outputs": [],
   "source": [
    "rem_columns_train = null_columns_all_train[[i not in null_columns_train for i in null_columns_all_train]]\n",
    "rem_columns_test = null_columns_all_test[[i not in null_columns_test for i in null_columns_all_test]]"
   ],
   "metadata": {
    "collapsed": false,
    "ExecuteTime": {
     "end_time": "2023-12-22T03:29:15.878021Z",
     "start_time": "2023-12-22T03:29:15.873438Z"
    }
   },
   "id": "33ac64b303db229a",
   "execution_count": 205
  },
  {
   "cell_type": "code",
   "outputs": [],
   "source": [
    "df_train_3 = df_train_2.copy()\n",
    "for i in rem_columns:\n",
    "    df_train_3[i] = df_train_3[i].fillna(df_train_3[i].mean())\n",
    "\n",
    "df_test_3 = df_test_2.copy()\n",
    "for i in rem_columns:\n",
    "    df_test_3[i] = df_test_3[i].fillna(df_test_3[i].mean())"
   ],
   "metadata": {
    "collapsed": false,
    "ExecuteTime": {
     "end_time": "2023-12-22T03:29:16.296412Z",
     "start_time": "2023-12-22T03:29:16.291892Z"
    }
   },
   "id": "8ac46b5d5b007b7a",
   "execution_count": 206
  },
  {
   "cell_type": "code",
   "outputs": [
    {
     "data": {
      "text/plain": "     city  year  weekofyear  month  station_max_temp_c  station_min_temp_c  \\\n0      sj  1990          18      4                29.4                20.0   \n1      sj  1990          19      5                31.7                22.2   \n2      sj  1990          20      5                32.2                22.8   \n3      sj  1990          21      5                33.3                23.3   \n4      sj  1990          22      5                35.0                23.9   \n...   ...   ...         ...    ...                 ...                 ...   \n1451   iq  2010          21      5                35.4                22.4   \n1452   iq  2010          22      6                34.7                21.7   \n1453   iq  2010          23      6                32.2                19.2   \n1454   iq  2010          24      6                31.2                21.0   \n1455   iq  2010          25      6                33.7                22.2   \n\n      station_precip_mm  station_diur_temp_rng_c  precipitation_amt_mm  \\\n0                  16.0                 6.900000                 12.42   \n1                   8.6                 6.371429                 22.82   \n2                  41.4                 6.485714                 34.54   \n3                   4.0                 6.771429                 15.36   \n4                   5.8                 9.371429                  7.52   \n...                 ...                      ...                   ...   \n1451               27.0                11.933333                 55.30   \n1452               36.6                10.500000                 86.47   \n1453                7.4                 6.900000                 58.94   \n1454               16.0                 8.733333                 59.67   \n1455               20.4                 9.900000                 63.22   \n\n      reanalysis_dew_point_temp_k  ...  reanalysis_specific_humidity_g_per_kg  \\\n0                      292.414286  ...                              14.012857   \n1                      293.951429  ...                              15.372857   \n2                      295.434286  ...                              16.848571   \n3                      295.310000  ...                              16.672857   \n4                      295.821429  ...                              17.210000   \n...                           ...  ...                                    ...   \n1451                   296.825714  ...                              18.485714   \n1452                   296.452857  ...                              18.070000   \n1453                   295.501429  ...                              17.008571   \n1454                   295.324286  ...                              16.815714   \n1455                   295.807143  ...                              17.355714   \n\n      reanalysis_precip_amt_kg_per_m2  reanalysis_max_air_temp_k  \\\n0                               32.00                      299.8   \n1                               17.94                      300.9   \n2                               26.10                      300.5   \n3                               13.90                      301.4   \n4                               12.20                      301.9   \n...                               ...                        ...   \n1451                            45.00                      309.7   \n1452                           207.10                      308.5   \n1453                            50.60                      305.5   \n1454                            62.33                      306.1   \n1455                            36.90                      307.8   \n\n      reanalysis_min_air_temp_k  reanalysis_tdtr_k   ndvi_se   ndvi_sw  \\\n0                         295.9           2.628571  0.198483  0.177617   \n1                         296.4           2.371429  0.162357  0.155486   \n2                         297.3           2.300000  0.157200  0.170843   \n3                         297.0           2.428571  0.227557  0.235886   \n4                         297.5           3.014286  0.251200  0.247340   \n...                         ...                ...       ...       ...   \n1451                      294.5           9.800000  0.256343  0.292514   \n1452                      291.9           7.471429  0.136043  0.225657   \n1453                      292.4           7.500000  0.250357  0.233714   \n1454                      291.9           7.871429  0.278886  0.325486   \n1455                      292.3          11.014286  0.274214  0.315757   \n\n       ndvi_ne   ndvi_nw  total_cases  \n0     0.122600  0.103725            4  \n1     0.169900  0.142175            5  \n2     0.032250  0.172967            4  \n3     0.128633  0.245067            3  \n4     0.196200  0.262200            6  \n...        ...       ...          ...  \n1451  0.342750  0.318900            5  \n1452  0.160157  0.160371            8  \n1453  0.247057  0.146057            1  \n1454  0.333914  0.245771            1  \n1455  0.298186  0.232971            4  \n\n[1456 rows x 21 columns]",
      "text/html": "<div>\n<style scoped>\n    .dataframe tbody tr th:only-of-type {\n        vertical-align: middle;\n    }\n\n    .dataframe tbody tr th {\n        vertical-align: top;\n    }\n\n    .dataframe thead th {\n        text-align: right;\n    }\n</style>\n<table border=\"1\" class=\"dataframe\">\n  <thead>\n    <tr style=\"text-align: right;\">\n      <th></th>\n      <th>city</th>\n      <th>year</th>\n      <th>weekofyear</th>\n      <th>month</th>\n      <th>station_max_temp_c</th>\n      <th>station_min_temp_c</th>\n      <th>station_precip_mm</th>\n      <th>station_diur_temp_rng_c</th>\n      <th>precipitation_amt_mm</th>\n      <th>reanalysis_dew_point_temp_k</th>\n      <th>...</th>\n      <th>reanalysis_specific_humidity_g_per_kg</th>\n      <th>reanalysis_precip_amt_kg_per_m2</th>\n      <th>reanalysis_max_air_temp_k</th>\n      <th>reanalysis_min_air_temp_k</th>\n      <th>reanalysis_tdtr_k</th>\n      <th>ndvi_se</th>\n      <th>ndvi_sw</th>\n      <th>ndvi_ne</th>\n      <th>ndvi_nw</th>\n      <th>total_cases</th>\n    </tr>\n  </thead>\n  <tbody>\n    <tr>\n      <th>0</th>\n      <td>sj</td>\n      <td>1990</td>\n      <td>18</td>\n      <td>4</td>\n      <td>29.4</td>\n      <td>20.0</td>\n      <td>16.0</td>\n      <td>6.900000</td>\n      <td>12.42</td>\n      <td>292.414286</td>\n      <td>...</td>\n      <td>14.012857</td>\n      <td>32.00</td>\n      <td>299.8</td>\n      <td>295.9</td>\n      <td>2.628571</td>\n      <td>0.198483</td>\n      <td>0.177617</td>\n      <td>0.122600</td>\n      <td>0.103725</td>\n      <td>4</td>\n    </tr>\n    <tr>\n      <th>1</th>\n      <td>sj</td>\n      <td>1990</td>\n      <td>19</td>\n      <td>5</td>\n      <td>31.7</td>\n      <td>22.2</td>\n      <td>8.6</td>\n      <td>6.371429</td>\n      <td>22.82</td>\n      <td>293.951429</td>\n      <td>...</td>\n      <td>15.372857</td>\n      <td>17.94</td>\n      <td>300.9</td>\n      <td>296.4</td>\n      <td>2.371429</td>\n      <td>0.162357</td>\n      <td>0.155486</td>\n      <td>0.169900</td>\n      <td>0.142175</td>\n      <td>5</td>\n    </tr>\n    <tr>\n      <th>2</th>\n      <td>sj</td>\n      <td>1990</td>\n      <td>20</td>\n      <td>5</td>\n      <td>32.2</td>\n      <td>22.8</td>\n      <td>41.4</td>\n      <td>6.485714</td>\n      <td>34.54</td>\n      <td>295.434286</td>\n      <td>...</td>\n      <td>16.848571</td>\n      <td>26.10</td>\n      <td>300.5</td>\n      <td>297.3</td>\n      <td>2.300000</td>\n      <td>0.157200</td>\n      <td>0.170843</td>\n      <td>0.032250</td>\n      <td>0.172967</td>\n      <td>4</td>\n    </tr>\n    <tr>\n      <th>3</th>\n      <td>sj</td>\n      <td>1990</td>\n      <td>21</td>\n      <td>5</td>\n      <td>33.3</td>\n      <td>23.3</td>\n      <td>4.0</td>\n      <td>6.771429</td>\n      <td>15.36</td>\n      <td>295.310000</td>\n      <td>...</td>\n      <td>16.672857</td>\n      <td>13.90</td>\n      <td>301.4</td>\n      <td>297.0</td>\n      <td>2.428571</td>\n      <td>0.227557</td>\n      <td>0.235886</td>\n      <td>0.128633</td>\n      <td>0.245067</td>\n      <td>3</td>\n    </tr>\n    <tr>\n      <th>4</th>\n      <td>sj</td>\n      <td>1990</td>\n      <td>22</td>\n      <td>5</td>\n      <td>35.0</td>\n      <td>23.9</td>\n      <td>5.8</td>\n      <td>9.371429</td>\n      <td>7.52</td>\n      <td>295.821429</td>\n      <td>...</td>\n      <td>17.210000</td>\n      <td>12.20</td>\n      <td>301.9</td>\n      <td>297.5</td>\n      <td>3.014286</td>\n      <td>0.251200</td>\n      <td>0.247340</td>\n      <td>0.196200</td>\n      <td>0.262200</td>\n      <td>6</td>\n    </tr>\n    <tr>\n      <th>...</th>\n      <td>...</td>\n      <td>...</td>\n      <td>...</td>\n      <td>...</td>\n      <td>...</td>\n      <td>...</td>\n      <td>...</td>\n      <td>...</td>\n      <td>...</td>\n      <td>...</td>\n      <td>...</td>\n      <td>...</td>\n      <td>...</td>\n      <td>...</td>\n      <td>...</td>\n      <td>...</td>\n      <td>...</td>\n      <td>...</td>\n      <td>...</td>\n      <td>...</td>\n      <td>...</td>\n    </tr>\n    <tr>\n      <th>1451</th>\n      <td>iq</td>\n      <td>2010</td>\n      <td>21</td>\n      <td>5</td>\n      <td>35.4</td>\n      <td>22.4</td>\n      <td>27.0</td>\n      <td>11.933333</td>\n      <td>55.30</td>\n      <td>296.825714</td>\n      <td>...</td>\n      <td>18.485714</td>\n      <td>45.00</td>\n      <td>309.7</td>\n      <td>294.5</td>\n      <td>9.800000</td>\n      <td>0.256343</td>\n      <td>0.292514</td>\n      <td>0.342750</td>\n      <td>0.318900</td>\n      <td>5</td>\n    </tr>\n    <tr>\n      <th>1452</th>\n      <td>iq</td>\n      <td>2010</td>\n      <td>22</td>\n      <td>6</td>\n      <td>34.7</td>\n      <td>21.7</td>\n      <td>36.6</td>\n      <td>10.500000</td>\n      <td>86.47</td>\n      <td>296.452857</td>\n      <td>...</td>\n      <td>18.070000</td>\n      <td>207.10</td>\n      <td>308.5</td>\n      <td>291.9</td>\n      <td>7.471429</td>\n      <td>0.136043</td>\n      <td>0.225657</td>\n      <td>0.160157</td>\n      <td>0.160371</td>\n      <td>8</td>\n    </tr>\n    <tr>\n      <th>1453</th>\n      <td>iq</td>\n      <td>2010</td>\n      <td>23</td>\n      <td>6</td>\n      <td>32.2</td>\n      <td>19.2</td>\n      <td>7.4</td>\n      <td>6.900000</td>\n      <td>58.94</td>\n      <td>295.501429</td>\n      <td>...</td>\n      <td>17.008571</td>\n      <td>50.60</td>\n      <td>305.5</td>\n      <td>292.4</td>\n      <td>7.500000</td>\n      <td>0.250357</td>\n      <td>0.233714</td>\n      <td>0.247057</td>\n      <td>0.146057</td>\n      <td>1</td>\n    </tr>\n    <tr>\n      <th>1454</th>\n      <td>iq</td>\n      <td>2010</td>\n      <td>24</td>\n      <td>6</td>\n      <td>31.2</td>\n      <td>21.0</td>\n      <td>16.0</td>\n      <td>8.733333</td>\n      <td>59.67</td>\n      <td>295.324286</td>\n      <td>...</td>\n      <td>16.815714</td>\n      <td>62.33</td>\n      <td>306.1</td>\n      <td>291.9</td>\n      <td>7.871429</td>\n      <td>0.278886</td>\n      <td>0.325486</td>\n      <td>0.333914</td>\n      <td>0.245771</td>\n      <td>1</td>\n    </tr>\n    <tr>\n      <th>1455</th>\n      <td>iq</td>\n      <td>2010</td>\n      <td>25</td>\n      <td>6</td>\n      <td>33.7</td>\n      <td>22.2</td>\n      <td>20.4</td>\n      <td>9.900000</td>\n      <td>63.22</td>\n      <td>295.807143</td>\n      <td>...</td>\n      <td>17.355714</td>\n      <td>36.90</td>\n      <td>307.8</td>\n      <td>292.3</td>\n      <td>11.014286</td>\n      <td>0.274214</td>\n      <td>0.315757</td>\n      <td>0.298186</td>\n      <td>0.232971</td>\n      <td>4</td>\n    </tr>\n  </tbody>\n</table>\n<p>1456 rows × 21 columns</p>\n</div>"
     },
     "execution_count": 207,
     "metadata": {},
     "output_type": "execute_result"
    }
   ],
   "source": [
    "df_train_3"
   ],
   "metadata": {
    "collapsed": false,
    "ExecuteTime": {
     "end_time": "2023-12-22T03:29:16.822578Z",
     "start_time": "2023-12-22T03:29:16.793319Z"
    }
   },
   "id": "12f9df6408a9adfb",
   "execution_count": 207
  },
  {
   "cell_type": "code",
   "outputs": [
    {
     "data": {
      "text/plain": "    city  year  weekofyear  month  station_max_temp_c  station_min_temp_c  \\\n0     sj  2008          18      4                33.3                21.7   \n1     sj  2008          19      5                30.0                22.2   \n2     sj  2008          20      5                32.8                22.8   \n3     sj  2008          21      5                33.3                24.4   \n4     sj  2008          22      5                33.3                23.3   \n..   ...   ...         ...    ...                 ...                 ...   \n411   iq  2013          22      5                32.6                21.8   \n412   iq  2013          23      6                33.8                21.4   \n413   iq  2013          24      6                32.6                21.6   \n414   iq  2013          25      6                32.2                21.8   \n415   iq  2013          26      6                32.6                22.0   \n\n     station_precip_mm  station_diur_temp_rng_c  precipitation_amt_mm  \\\n0                 75.2                 7.057143                 78.60   \n1                 34.3                 5.557143                 12.56   \n2                  3.0                 7.785714                  3.66   \n3                  0.3                 6.271429                  0.00   \n4                 84.1                 7.085714                  0.76   \n..                 ...                      ...                   ...   \n411               33.0                 9.050000                 41.12   \n412               68.0                10.720000                 71.52   \n413               93.2                10.075000                 78.96   \n414               34.1                 8.480000                 39.54   \n415               14.9                 9.675000                 51.80   \n\n     reanalysis_dew_point_temp_k  reanalysis_relative_humidity_percent  \\\n0                     294.527143                             78.781429   \n1                     294.395714                             78.230000   \n2                     295.308571                             78.270000   \n3                     294.402857                             73.015714   \n4                     294.760000                             74.084286   \n..                           ...                                   ...   \n411                   295.638571                             89.990000   \n412                   295.845714                             93.891429   \n413                   294.894286                             94.967143   \n414                   293.648571                             89.057143   \n415                   294.615714                             87.030000   \n\n     reanalysis_specific_humidity_g_per_kg  reanalysis_precip_amt_kg_per_m2  \\\n0                                15.918571                            25.37   \n1                                15.791429                            21.83   \n2                                16.674286                             4.12   \n3                                15.775714                             2.20   \n4                                16.137143                             4.36   \n..                                     ...                              ...   \n411                              17.185714                            67.60   \n412                              17.448571                            45.70   \n413                              16.410000                            45.22   \n414                              15.137143                             4.70   \n415                              16.148571                            27.80   \n\n     reanalysis_max_air_temp_k  reanalysis_min_air_temp_k  reanalysis_tdtr_k  \\\n0                        301.1                      296.4           3.128571   \n1                        300.8                      296.7           2.571429   \n2                        302.2                      296.4           4.428571   \n3                        303.0                      296.9           4.342857   \n4                        302.3                      297.3           3.542857   \n..                         ...                        ...                ...   \n411                      305.5                      292.7          10.100000   \n412                      306.3                      291.6           9.657143   \n413                      304.6                      290.7           7.385714   \n414                      305.9                      292.5           8.228571   \n415                      307.3                      289.6          11.542857   \n\n      ndvi_se   ndvi_sw   ndvi_ne   ndvi_nw  \n0    0.102729  0.091200 -0.018900 -0.018900  \n1    0.082043  0.072314 -0.018000 -0.012400  \n2    0.151083  0.091529 -0.001500  0.126803  \n3    0.124329  0.125686  0.126050 -0.019867  \n4    0.062267  0.075914  0.056800  0.039833  \n..        ...       ...       ...       ...  \n411  0.280629  0.383186  0.301471  0.380029  \n412  0.285371  0.350357  0.247600  0.296343  \n413  0.252586  0.249771  0.238729  0.251029  \n414  0.406614  0.403943  0.310429  0.302700  \n415  0.356943  0.273600  0.339467  0.240071  \n\n[416 rows x 20 columns]",
      "text/html": "<div>\n<style scoped>\n    .dataframe tbody tr th:only-of-type {\n        vertical-align: middle;\n    }\n\n    .dataframe tbody tr th {\n        vertical-align: top;\n    }\n\n    .dataframe thead th {\n        text-align: right;\n    }\n</style>\n<table border=\"1\" class=\"dataframe\">\n  <thead>\n    <tr style=\"text-align: right;\">\n      <th></th>\n      <th>city</th>\n      <th>year</th>\n      <th>weekofyear</th>\n      <th>month</th>\n      <th>station_max_temp_c</th>\n      <th>station_min_temp_c</th>\n      <th>station_precip_mm</th>\n      <th>station_diur_temp_rng_c</th>\n      <th>precipitation_amt_mm</th>\n      <th>reanalysis_dew_point_temp_k</th>\n      <th>reanalysis_relative_humidity_percent</th>\n      <th>reanalysis_specific_humidity_g_per_kg</th>\n      <th>reanalysis_precip_amt_kg_per_m2</th>\n      <th>reanalysis_max_air_temp_k</th>\n      <th>reanalysis_min_air_temp_k</th>\n      <th>reanalysis_tdtr_k</th>\n      <th>ndvi_se</th>\n      <th>ndvi_sw</th>\n      <th>ndvi_ne</th>\n      <th>ndvi_nw</th>\n    </tr>\n  </thead>\n  <tbody>\n    <tr>\n      <th>0</th>\n      <td>sj</td>\n      <td>2008</td>\n      <td>18</td>\n      <td>4</td>\n      <td>33.3</td>\n      <td>21.7</td>\n      <td>75.2</td>\n      <td>7.057143</td>\n      <td>78.60</td>\n      <td>294.527143</td>\n      <td>78.781429</td>\n      <td>15.918571</td>\n      <td>25.37</td>\n      <td>301.1</td>\n      <td>296.4</td>\n      <td>3.128571</td>\n      <td>0.102729</td>\n      <td>0.091200</td>\n      <td>-0.018900</td>\n      <td>-0.018900</td>\n    </tr>\n    <tr>\n      <th>1</th>\n      <td>sj</td>\n      <td>2008</td>\n      <td>19</td>\n      <td>5</td>\n      <td>30.0</td>\n      <td>22.2</td>\n      <td>34.3</td>\n      <td>5.557143</td>\n      <td>12.56</td>\n      <td>294.395714</td>\n      <td>78.230000</td>\n      <td>15.791429</td>\n      <td>21.83</td>\n      <td>300.8</td>\n      <td>296.7</td>\n      <td>2.571429</td>\n      <td>0.082043</td>\n      <td>0.072314</td>\n      <td>-0.018000</td>\n      <td>-0.012400</td>\n    </tr>\n    <tr>\n      <th>2</th>\n      <td>sj</td>\n      <td>2008</td>\n      <td>20</td>\n      <td>5</td>\n      <td>32.8</td>\n      <td>22.8</td>\n      <td>3.0</td>\n      <td>7.785714</td>\n      <td>3.66</td>\n      <td>295.308571</td>\n      <td>78.270000</td>\n      <td>16.674286</td>\n      <td>4.12</td>\n      <td>302.2</td>\n      <td>296.4</td>\n      <td>4.428571</td>\n      <td>0.151083</td>\n      <td>0.091529</td>\n      <td>-0.001500</td>\n      <td>0.126803</td>\n    </tr>\n    <tr>\n      <th>3</th>\n      <td>sj</td>\n      <td>2008</td>\n      <td>21</td>\n      <td>5</td>\n      <td>33.3</td>\n      <td>24.4</td>\n      <td>0.3</td>\n      <td>6.271429</td>\n      <td>0.00</td>\n      <td>294.402857</td>\n      <td>73.015714</td>\n      <td>15.775714</td>\n      <td>2.20</td>\n      <td>303.0</td>\n      <td>296.9</td>\n      <td>4.342857</td>\n      <td>0.124329</td>\n      <td>0.125686</td>\n      <td>0.126050</td>\n      <td>-0.019867</td>\n    </tr>\n    <tr>\n      <th>4</th>\n      <td>sj</td>\n      <td>2008</td>\n      <td>22</td>\n      <td>5</td>\n      <td>33.3</td>\n      <td>23.3</td>\n      <td>84.1</td>\n      <td>7.085714</td>\n      <td>0.76</td>\n      <td>294.760000</td>\n      <td>74.084286</td>\n      <td>16.137143</td>\n      <td>4.36</td>\n      <td>302.3</td>\n      <td>297.3</td>\n      <td>3.542857</td>\n      <td>0.062267</td>\n      <td>0.075914</td>\n      <td>0.056800</td>\n      <td>0.039833</td>\n    </tr>\n    <tr>\n      <th>...</th>\n      <td>...</td>\n      <td>...</td>\n      <td>...</td>\n      <td>...</td>\n      <td>...</td>\n      <td>...</td>\n      <td>...</td>\n      <td>...</td>\n      <td>...</td>\n      <td>...</td>\n      <td>...</td>\n      <td>...</td>\n      <td>...</td>\n      <td>...</td>\n      <td>...</td>\n      <td>...</td>\n      <td>...</td>\n      <td>...</td>\n      <td>...</td>\n      <td>...</td>\n    </tr>\n    <tr>\n      <th>411</th>\n      <td>iq</td>\n      <td>2013</td>\n      <td>22</td>\n      <td>5</td>\n      <td>32.6</td>\n      <td>21.8</td>\n      <td>33.0</td>\n      <td>9.050000</td>\n      <td>41.12</td>\n      <td>295.638571</td>\n      <td>89.990000</td>\n      <td>17.185714</td>\n      <td>67.60</td>\n      <td>305.5</td>\n      <td>292.7</td>\n      <td>10.100000</td>\n      <td>0.280629</td>\n      <td>0.383186</td>\n      <td>0.301471</td>\n      <td>0.380029</td>\n    </tr>\n    <tr>\n      <th>412</th>\n      <td>iq</td>\n      <td>2013</td>\n      <td>23</td>\n      <td>6</td>\n      <td>33.8</td>\n      <td>21.4</td>\n      <td>68.0</td>\n      <td>10.720000</td>\n      <td>71.52</td>\n      <td>295.845714</td>\n      <td>93.891429</td>\n      <td>17.448571</td>\n      <td>45.70</td>\n      <td>306.3</td>\n      <td>291.6</td>\n      <td>9.657143</td>\n      <td>0.285371</td>\n      <td>0.350357</td>\n      <td>0.247600</td>\n      <td>0.296343</td>\n    </tr>\n    <tr>\n      <th>413</th>\n      <td>iq</td>\n      <td>2013</td>\n      <td>24</td>\n      <td>6</td>\n      <td>32.6</td>\n      <td>21.6</td>\n      <td>93.2</td>\n      <td>10.075000</td>\n      <td>78.96</td>\n      <td>294.894286</td>\n      <td>94.967143</td>\n      <td>16.410000</td>\n      <td>45.22</td>\n      <td>304.6</td>\n      <td>290.7</td>\n      <td>7.385714</td>\n      <td>0.252586</td>\n      <td>0.249771</td>\n      <td>0.238729</td>\n      <td>0.251029</td>\n    </tr>\n    <tr>\n      <th>414</th>\n      <td>iq</td>\n      <td>2013</td>\n      <td>25</td>\n      <td>6</td>\n      <td>32.2</td>\n      <td>21.8</td>\n      <td>34.1</td>\n      <td>8.480000</td>\n      <td>39.54</td>\n      <td>293.648571</td>\n      <td>89.057143</td>\n      <td>15.137143</td>\n      <td>4.70</td>\n      <td>305.9</td>\n      <td>292.5</td>\n      <td>8.228571</td>\n      <td>0.406614</td>\n      <td>0.403943</td>\n      <td>0.310429</td>\n      <td>0.302700</td>\n    </tr>\n    <tr>\n      <th>415</th>\n      <td>iq</td>\n      <td>2013</td>\n      <td>26</td>\n      <td>6</td>\n      <td>32.6</td>\n      <td>22.0</td>\n      <td>14.9</td>\n      <td>9.675000</td>\n      <td>51.80</td>\n      <td>294.615714</td>\n      <td>87.030000</td>\n      <td>16.148571</td>\n      <td>27.80</td>\n      <td>307.3</td>\n      <td>289.6</td>\n      <td>11.542857</td>\n      <td>0.356943</td>\n      <td>0.273600</td>\n      <td>0.339467</td>\n      <td>0.240071</td>\n    </tr>\n  </tbody>\n</table>\n<p>416 rows × 20 columns</p>\n</div>"
     },
     "execution_count": 208,
     "metadata": {},
     "output_type": "execute_result"
    }
   ],
   "source": [
    "df_test_3"
   ],
   "metadata": {
    "collapsed": false,
    "ExecuteTime": {
     "end_time": "2023-12-22T03:29:17.371673Z",
     "start_time": "2023-12-22T03:29:17.348163Z"
    }
   },
   "id": "185ba292357cc138",
   "execution_count": 208
  },
  {
   "cell_type": "code",
   "outputs": [],
   "source": [
    "X_train = df_train_3.drop(columns=[\"city\",\"year\",\"weekofyear\",\"month\",\"total_cases\"])\n",
    "y_train = df_train_3[\"total_cases\"]\n",
    "X_test = df_test_3.drop(columns=[\"city\",\"year\",\"weekofyear\",\"month\"])"
   ],
   "metadata": {
    "collapsed": false,
    "ExecuteTime": {
     "end_time": "2023-12-22T03:29:17.948450Z",
     "start_time": "2023-12-22T03:29:17.946007Z"
    }
   },
   "id": "527364002df133c3",
   "execution_count": 209
  },
  {
   "cell_type": "code",
   "outputs": [],
   "source": [
    "cols_train_2 = rem_columns_train.copy()\n",
    "cols_test_2 = rem_columns_test.copy()\n",
    "\n",
    "cols_train_1 = X_train.columns.values[[i not in cols_train_2 for i in X_train.columns.values]]\n",
    "cols_test_1 = X_test.columns.values[[i not in cols_test_2 for i in X_test.columns.values]]"
   ],
   "metadata": {
    "collapsed": false,
    "ExecuteTime": {
     "end_time": "2023-12-22T03:29:18.546521Z",
     "start_time": "2023-12-22T03:29:18.541248Z"
    }
   },
   "id": "eab314493babf5e6",
   "execution_count": 210
  },
  {
   "cell_type": "code",
   "outputs": [],
   "source": [
    "mms = MinMaxScaler()\n",
    "\n",
    "X_train[cols_train_1] = mms.fit_transform(X_train[cols_train_1])\n",
    "X_test[cols_test_1] = mms.fit_transform(X_test[cols_test_1])"
   ],
   "metadata": {
    "collapsed": false,
    "ExecuteTime": {
     "end_time": "2023-12-22T03:29:18.872745Z",
     "start_time": "2023-12-22T03:29:18.862955Z"
    }
   },
   "id": "261a9279c88aa80e",
   "execution_count": 211
  },
  {
   "cell_type": "code",
   "outputs": [],
   "source": [
    "ss = StandardScaler()\n",
    "\n",
    "X_train[cols_train_2] = ss.fit_transform(X_train[cols_train_2])\n",
    "X_test[cols_test_2] = ss.fit_transform(X_test[cols_test_2])"
   ],
   "metadata": {
    "collapsed": false,
    "ExecuteTime": {
     "end_time": "2023-12-22T03:29:19.284775Z",
     "start_time": "2023-12-22T03:29:19.274017Z"
    }
   },
   "id": "bc9263e63fdb97cc",
   "execution_count": 212
  },
  {
   "cell_type": "code",
   "outputs": [],
   "source": [
    "naive_bayes = GaussianNB()\n",
    "naive_bayes.fit(X_train,y_train)\n",
    "y_pred = naive_bayes.predict(X_test)"
   ],
   "metadata": {
    "collapsed": false,
    "ExecuteTime": {
     "end_time": "2023-12-22T03:29:25.332698Z",
     "start_time": "2023-12-22T03:29:25.319089Z"
    }
   },
   "id": "e34ea2c095358cf3",
   "execution_count": 217
  },
  {
   "cell_type": "code",
   "outputs": [],
   "source": [
    "df_final = pd.DataFrame(columns=[\"city\",\"year\",\"weekofyear\",\"total_cases\"])\n",
    "df_final[\"city\"] = test_input[\"city\"].copy()\n",
    "df_final[\"year\"] = test_input[\"year\"].copy()\n",
    "df_final[\"weekofyear\"] = test_input[\"weekofyear\"].copy()\n",
    "df_final[\"total_cases\"] = y_pred"
   ],
   "metadata": {
    "collapsed": false,
    "ExecuteTime": {
     "end_time": "2023-12-22T03:29:27.217425Z",
     "start_time": "2023-12-22T03:29:27.209462Z"
    }
   },
   "id": "757a042dd9c7dfb5",
   "execution_count": 218
  },
  {
   "cell_type": "code",
   "outputs": [
    {
     "data": {
      "text/plain": "    city  year  weekofyear  total_cases\n0     sj  2008          18           24\n1     sj  2008          19           75\n2     sj  2008          20           17\n3     sj  2008          21           13\n4     sj  2008          22           10\n..   ...   ...         ...          ...\n411   iq  2013          22            0\n412   iq  2013          23            1\n413   iq  2013          24            1\n414   iq  2013          25            0\n415   iq  2013          26            0\n\n[416 rows x 4 columns]",
      "text/html": "<div>\n<style scoped>\n    .dataframe tbody tr th:only-of-type {\n        vertical-align: middle;\n    }\n\n    .dataframe tbody tr th {\n        vertical-align: top;\n    }\n\n    .dataframe thead th {\n        text-align: right;\n    }\n</style>\n<table border=\"1\" class=\"dataframe\">\n  <thead>\n    <tr style=\"text-align: right;\">\n      <th></th>\n      <th>city</th>\n      <th>year</th>\n      <th>weekofyear</th>\n      <th>total_cases</th>\n    </tr>\n  </thead>\n  <tbody>\n    <tr>\n      <th>0</th>\n      <td>sj</td>\n      <td>2008</td>\n      <td>18</td>\n      <td>24</td>\n    </tr>\n    <tr>\n      <th>1</th>\n      <td>sj</td>\n      <td>2008</td>\n      <td>19</td>\n      <td>75</td>\n    </tr>\n    <tr>\n      <th>2</th>\n      <td>sj</td>\n      <td>2008</td>\n      <td>20</td>\n      <td>17</td>\n    </tr>\n    <tr>\n      <th>3</th>\n      <td>sj</td>\n      <td>2008</td>\n      <td>21</td>\n      <td>13</td>\n    </tr>\n    <tr>\n      <th>4</th>\n      <td>sj</td>\n      <td>2008</td>\n      <td>22</td>\n      <td>10</td>\n    </tr>\n    <tr>\n      <th>...</th>\n      <td>...</td>\n      <td>...</td>\n      <td>...</td>\n      <td>...</td>\n    </tr>\n    <tr>\n      <th>411</th>\n      <td>iq</td>\n      <td>2013</td>\n      <td>22</td>\n      <td>0</td>\n    </tr>\n    <tr>\n      <th>412</th>\n      <td>iq</td>\n      <td>2013</td>\n      <td>23</td>\n      <td>1</td>\n    </tr>\n    <tr>\n      <th>413</th>\n      <td>iq</td>\n      <td>2013</td>\n      <td>24</td>\n      <td>1</td>\n    </tr>\n    <tr>\n      <th>414</th>\n      <td>iq</td>\n      <td>2013</td>\n      <td>25</td>\n      <td>0</td>\n    </tr>\n    <tr>\n      <th>415</th>\n      <td>iq</td>\n      <td>2013</td>\n      <td>26</td>\n      <td>0</td>\n    </tr>\n  </tbody>\n</table>\n<p>416 rows × 4 columns</p>\n</div>"
     },
     "execution_count": 219,
     "metadata": {},
     "output_type": "execute_result"
    }
   ],
   "source": [
    "df_final"
   ],
   "metadata": {
    "collapsed": false,
    "ExecuteTime": {
     "end_time": "2023-12-22T03:29:27.788723Z",
     "start_time": "2023-12-22T03:29:27.785652Z"
    }
   },
   "id": "7bfd2e881c13e040",
   "execution_count": 219
  },
  {
   "cell_type": "code",
   "outputs": [],
   "source": [
    "df_final.to_csv(\"amith_submission.csv\",index=False,header=True)"
   ],
   "metadata": {
    "collapsed": false,
    "ExecuteTime": {
     "end_time": "2023-12-22T03:29:28.535994Z",
     "start_time": "2023-12-22T03:29:28.528282Z"
    }
   },
   "id": "34f4b678da0a0581",
   "execution_count": 220
  },
  {
   "cell_type": "code",
   "outputs": [],
   "source": [],
   "metadata": {
    "collapsed": false
   },
   "id": "a383b11041e3081e"
  }
 ],
 "metadata": {
  "kernelspec": {
   "display_name": "Python 3",
   "language": "python",
   "name": "python3"
  },
  "language_info": {
   "codemirror_mode": {
    "name": "ipython",
    "version": 2
   },
   "file_extension": ".py",
   "mimetype": "text/x-python",
   "name": "python",
   "nbconvert_exporter": "python",
   "pygments_lexer": "ipython2",
   "version": "2.7.6"
  }
 },
 "nbformat": 4,
 "nbformat_minor": 5
}
