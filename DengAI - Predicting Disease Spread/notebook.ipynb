{
 "cells": [
  {
   "cell_type": "code",
   "execution_count": 79,
   "id": "initial_id",
   "metadata": {
    "collapsed": true,
    "ExecuteTime": {
     "end_time": "2023-12-22T02:47:40.807422Z",
     "start_time": "2023-12-22T02:47:40.802539Z"
    }
   },
   "outputs": [],
   "source": [
    "import numpy as np\n",
    "import pandas as pd\n",
    "import matplotlib.pyplot as plt\n",
    "import seaborn as sns\n",
    "import warnings\n",
    "warnings.filterwarnings(\"ignore\")"
   ]
  },
  {
   "cell_type": "code",
   "outputs": [],
   "source": [
    "train_input = pd.read_csv(\"dengue_features_train.csv\")\n",
    "train_output = pd.read_csv(\"dengue_labels_train.csv\")\n",
    "test_input = pd.read_csv(\"dengue_features_test.csv\")"
   ],
   "metadata": {
    "collapsed": false,
    "ExecuteTime": {
     "end_time": "2023-12-22T02:47:41.233218Z",
     "start_time": "2023-12-22T02:47:41.215135Z"
    }
   },
   "id": "fb44fe320b029cdf",
   "execution_count": 80
  },
  {
   "cell_type": "code",
   "outputs": [],
   "source": [
    "df_train = pd.merge(left=train_input,right=train_output,how=\"inner\",on=[\"city\",\"year\",\"weekofyear\"])"
   ],
   "metadata": {
    "collapsed": false,
    "ExecuteTime": {
     "end_time": "2023-12-22T02:47:41.656955Z",
     "start_time": "2023-12-22T02:47:41.652518Z"
    }
   },
   "id": "fdadde7185541195",
   "execution_count": 81
  },
  {
   "cell_type": "code",
   "outputs": [],
   "source": [
    "column_order = [\"city\",\n",
    "                \"year\", \"weekofyear\",\n",
    "\"week_start_date\",\n",
    "\n",
    "\"station_max_temp_c\",\n",
    "\"station_min_temp_c\",\n",
    "\"station_avg_temp_c\",\n",
    "\"station_precip_mm\",\n",
    "\"station_diur_temp_rng_c\",\n",
    "\n",
    "\"precipitation_amt_mm\",\n",
    "\"reanalysis_sat_precip_amt_mm\",\n",
    "\"reanalysis_dew_point_temp_k\",\n",
    "\"reanalysis_air_temp_k\",\n",
    "\"reanalysis_relative_humidity_percent\",\n",
    "\"reanalysis_specific_humidity_g_per_kg\",\n",
    "\"reanalysis_precip_amt_kg_per_m2\",\n",
    "\"reanalysis_max_air_temp_k\",\n",
    "\"reanalysis_min_air_temp_k\",\n",
    "\"reanalysis_avg_temp_k\",\n",
    "\"reanalysis_tdtr_k\",\n",
    "\n",
    "\"ndvi_se\",\n",
    "\"ndvi_sw\",\n",
    "\"ndvi_ne\",\"ndvi_nw\"]"
   ],
   "metadata": {
    "collapsed": false,
    "ExecuteTime": {
     "end_time": "2023-12-22T02:47:42.014918Z",
     "start_time": "2023-12-22T02:47:42.011459Z"
    }
   },
   "id": "c8378f0d4891dc6f",
   "execution_count": 82
  },
  {
   "cell_type": "code",
   "outputs": [],
   "source": [
    "df_train = df_train[column_order]\n",
    "df_train.drop(columns=[\"station_avg_temp_c\",\"reanalysis_avg_temp_k\",\"reanalysis_air_temp_k\",\"reanalysis_sat_precip_amt_mm\"],inplace=True)\n",
    "df_train[\"week_start_date\"] = pd.to_datetime(df_train[\"week_start_date\"]).dt.month\n",
    "df_train.rename(columns={\"week_start_date\":\"month\"},inplace=True)"
   ],
   "metadata": {
    "collapsed": false,
    "ExecuteTime": {
     "end_time": "2023-12-22T02:47:42.458802Z",
     "start_time": "2023-12-22T02:47:42.456078Z"
    }
   },
   "id": "242d1ea8ba0a84b8",
   "execution_count": 83
  },
  {
   "cell_type": "code",
   "outputs": [],
   "source": [
    "def deal_with_null_values(df_train,cols):\n",
    "    for col in cols:\n",
    "        null_data = df_train[df_train[col].isna()][[\"year\",\"month\"]].value_counts().reset_index()[[\"year\",\"month\"]].sort_values(by=[\"year\",\"month\"]).reset_index(drop=True)\n",
    "        for i in null_data.index.values:\n",
    "            year = null_data.loc[i,\"year\"]\n",
    "            month = null_data.loc[i,\"month\"]\n",
    "            rep = df_train[col][df_train[\"year\"]==year][df_train[\"month\"]==month].mean().round(1)\n",
    "            df_train[col][(df_train[\"year\"]==year) & (df_train[\"month\"]==month)] = df_train[col][(df_train[\"year\"]==year) & (df_train[\"month\"]==month)].fillna(rep)\n",
    "    return df_train"
   ],
   "metadata": {
    "collapsed": false,
    "ExecuteTime": {
     "end_time": "2023-12-22T02:47:42.833240Z",
     "start_time": "2023-12-22T02:47:42.829623Z"
    }
   },
   "id": "ebdeace779d06dc5",
   "execution_count": 84
  },
  {
   "cell_type": "code",
   "outputs": [],
   "source": [
    "null_columns_df = df_train.isna().sum().reset_index()\n",
    "null_columns_all = null_columns_df[null_columns_df[0]>0][\"index\"].values\n",
    "null_columns = null_columns_all[[i[0:4]!=\"ndvi\" for i in null_columns_all]]"
   ],
   "metadata": {
    "collapsed": false,
    "ExecuteTime": {
     "end_time": "2023-12-22T02:47:43.430415Z",
     "start_time": "2023-12-22T02:47:43.421566Z"
    }
   },
   "id": "dde39447661dd43b",
   "execution_count": 85
  },
  {
   "cell_type": "code",
   "outputs": [
    {
     "data": {
      "text/plain": "array(['station_max_temp_c', 'station_min_temp_c', 'station_precip_mm',\n       'station_diur_temp_rng_c', 'precipitation_amt_mm',\n       'reanalysis_dew_point_temp_k',\n       'reanalysis_relative_humidity_percent',\n       'reanalysis_specific_humidity_g_per_kg',\n       'reanalysis_precip_amt_kg_per_m2', 'reanalysis_max_air_temp_k',\n       'reanalysis_min_air_temp_k', 'reanalysis_tdtr_k'], dtype=object)"
     },
     "execution_count": 89,
     "metadata": {},
     "output_type": "execute_result"
    }
   ],
   "source": [
    "null_columns"
   ],
   "metadata": {
    "collapsed": false,
    "ExecuteTime": {
     "end_time": "2023-12-22T02:47:59.931683Z",
     "start_time": "2023-12-22T02:47:59.922884Z"
    }
   },
   "id": "f8210286e4a963d2",
   "execution_count": 89
  },
  {
   "cell_type": "code",
   "outputs": [],
   "source": [
    "df_train = deal_with_null_values(df_train,null_columns)"
   ],
   "metadata": {
    "collapsed": false,
    "ExecuteTime": {
     "end_time": "2023-12-22T02:47:43.919158Z",
     "start_time": "2023-12-22T02:47:43.824952Z"
    }
   },
   "id": "2120c02211f9fc3",
   "execution_count": 86
  },
  {
   "cell_type": "code",
   "outputs": [
    {
     "data": {
      "text/plain": "     city  year  weekofyear  month  station_max_temp_c  station_min_temp_c  \\\n0      sj  1990          18      4                29.4                20.0   \n1      sj  1990          19      5                31.7                22.2   \n2      sj  1990          20      5                32.2                22.8   \n3      sj  1990          21      5                33.3                23.3   \n4      sj  1990          22      5                35.0                23.9   \n...   ...   ...         ...    ...                 ...                 ...   \n1451   iq  2010          21      5                35.4                22.4   \n1452   iq  2010          22      6                34.7                21.7   \n1453   iq  2010          23      6                32.2                19.2   \n1454   iq  2010          24      6                31.2                21.0   \n1455   iq  2010          25      6                33.7                22.2   \n\n      station_precip_mm  station_diur_temp_rng_c  precipitation_amt_mm  \\\n0                  16.0                 6.900000                 12.42   \n1                   8.6                 6.371429                 22.82   \n2                  41.4                 6.485714                 34.54   \n3                   4.0                 6.771429                 15.36   \n4                   5.8                 9.371429                  7.52   \n...                 ...                      ...                   ...   \n1451               27.0                11.933333                 55.30   \n1452               36.6                10.500000                 86.47   \n1453                7.4                 6.900000                 58.94   \n1454               16.0                 8.733333                 59.67   \n1455               20.4                 9.900000                 63.22   \n\n      reanalysis_dew_point_temp_k  reanalysis_relative_humidity_percent  \\\n0                      292.414286                             73.365714   \n1                      293.951429                             77.368571   \n2                      295.434286                             82.052857   \n3                      295.310000                             80.337143   \n4                      295.821429                             80.460000   \n...                           ...                                   ...   \n1451                   296.825714                             88.765714   \n1452                   296.452857                             91.600000   \n1453                   295.501429                             94.280000   \n1454                   295.324286                             94.660000   \n1455                   295.807143                             89.082857   \n\n      reanalysis_specific_humidity_g_per_kg  reanalysis_precip_amt_kg_per_m2  \\\n0                                 14.012857                            32.00   \n1                                 15.372857                            17.94   \n2                                 16.848571                            26.10   \n3                                 16.672857                            13.90   \n4                                 17.210000                            12.20   \n...                                     ...                              ...   \n1451                              18.485714                            45.00   \n1452                              18.070000                           207.10   \n1453                              17.008571                            50.60   \n1454                              16.815714                            62.33   \n1455                              17.355714                            36.90   \n\n      reanalysis_max_air_temp_k  reanalysis_min_air_temp_k  reanalysis_tdtr_k  \\\n0                         299.8                      295.9           2.628571   \n1                         300.9                      296.4           2.371429   \n2                         300.5                      297.3           2.300000   \n3                         301.4                      297.0           2.428571   \n4                         301.9                      297.5           3.014286   \n...                         ...                        ...                ...   \n1451                      309.7                      294.5           9.800000   \n1452                      308.5                      291.9           7.471429   \n1453                      305.5                      292.4           7.500000   \n1454                      306.1                      291.9           7.871429   \n1455                      307.8                      292.3          11.014286   \n\n       ndvi_se   ndvi_sw   ndvi_ne   ndvi_nw  \n0     0.198483  0.177617  0.122600  0.103725  \n1     0.162357  0.155486  0.169900  0.142175  \n2     0.157200  0.170843  0.032250  0.172967  \n3     0.227557  0.235886  0.128633  0.245067  \n4     0.251200  0.247340  0.196200  0.262200  \n...        ...       ...       ...       ...  \n1451  0.256343  0.292514  0.342750  0.318900  \n1452  0.136043  0.225657  0.160157  0.160371  \n1453  0.250357  0.233714  0.247057  0.146057  \n1454  0.278886  0.325486  0.333914  0.245771  \n1455  0.274214  0.315757  0.298186  0.232971  \n\n[1456 rows x 20 columns]",
      "text/html": "<div>\n<style scoped>\n    .dataframe tbody tr th:only-of-type {\n        vertical-align: middle;\n    }\n\n    .dataframe tbody tr th {\n        vertical-align: top;\n    }\n\n    .dataframe thead th {\n        text-align: right;\n    }\n</style>\n<table border=\"1\" class=\"dataframe\">\n  <thead>\n    <tr style=\"text-align: right;\">\n      <th></th>\n      <th>city</th>\n      <th>year</th>\n      <th>weekofyear</th>\n      <th>month</th>\n      <th>station_max_temp_c</th>\n      <th>station_min_temp_c</th>\n      <th>station_precip_mm</th>\n      <th>station_diur_temp_rng_c</th>\n      <th>precipitation_amt_mm</th>\n      <th>reanalysis_dew_point_temp_k</th>\n      <th>reanalysis_relative_humidity_percent</th>\n      <th>reanalysis_specific_humidity_g_per_kg</th>\n      <th>reanalysis_precip_amt_kg_per_m2</th>\n      <th>reanalysis_max_air_temp_k</th>\n      <th>reanalysis_min_air_temp_k</th>\n      <th>reanalysis_tdtr_k</th>\n      <th>ndvi_se</th>\n      <th>ndvi_sw</th>\n      <th>ndvi_ne</th>\n      <th>ndvi_nw</th>\n    </tr>\n  </thead>\n  <tbody>\n    <tr>\n      <th>0</th>\n      <td>sj</td>\n      <td>1990</td>\n      <td>18</td>\n      <td>4</td>\n      <td>29.4</td>\n      <td>20.0</td>\n      <td>16.0</td>\n      <td>6.900000</td>\n      <td>12.42</td>\n      <td>292.414286</td>\n      <td>73.365714</td>\n      <td>14.012857</td>\n      <td>32.00</td>\n      <td>299.8</td>\n      <td>295.9</td>\n      <td>2.628571</td>\n      <td>0.198483</td>\n      <td>0.177617</td>\n      <td>0.122600</td>\n      <td>0.103725</td>\n    </tr>\n    <tr>\n      <th>1</th>\n      <td>sj</td>\n      <td>1990</td>\n      <td>19</td>\n      <td>5</td>\n      <td>31.7</td>\n      <td>22.2</td>\n      <td>8.6</td>\n      <td>6.371429</td>\n      <td>22.82</td>\n      <td>293.951429</td>\n      <td>77.368571</td>\n      <td>15.372857</td>\n      <td>17.94</td>\n      <td>300.9</td>\n      <td>296.4</td>\n      <td>2.371429</td>\n      <td>0.162357</td>\n      <td>0.155486</td>\n      <td>0.169900</td>\n      <td>0.142175</td>\n    </tr>\n    <tr>\n      <th>2</th>\n      <td>sj</td>\n      <td>1990</td>\n      <td>20</td>\n      <td>5</td>\n      <td>32.2</td>\n      <td>22.8</td>\n      <td>41.4</td>\n      <td>6.485714</td>\n      <td>34.54</td>\n      <td>295.434286</td>\n      <td>82.052857</td>\n      <td>16.848571</td>\n      <td>26.10</td>\n      <td>300.5</td>\n      <td>297.3</td>\n      <td>2.300000</td>\n      <td>0.157200</td>\n      <td>0.170843</td>\n      <td>0.032250</td>\n      <td>0.172967</td>\n    </tr>\n    <tr>\n      <th>3</th>\n      <td>sj</td>\n      <td>1990</td>\n      <td>21</td>\n      <td>5</td>\n      <td>33.3</td>\n      <td>23.3</td>\n      <td>4.0</td>\n      <td>6.771429</td>\n      <td>15.36</td>\n      <td>295.310000</td>\n      <td>80.337143</td>\n      <td>16.672857</td>\n      <td>13.90</td>\n      <td>301.4</td>\n      <td>297.0</td>\n      <td>2.428571</td>\n      <td>0.227557</td>\n      <td>0.235886</td>\n      <td>0.128633</td>\n      <td>0.245067</td>\n    </tr>\n    <tr>\n      <th>4</th>\n      <td>sj</td>\n      <td>1990</td>\n      <td>22</td>\n      <td>5</td>\n      <td>35.0</td>\n      <td>23.9</td>\n      <td>5.8</td>\n      <td>9.371429</td>\n      <td>7.52</td>\n      <td>295.821429</td>\n      <td>80.460000</td>\n      <td>17.210000</td>\n      <td>12.20</td>\n      <td>301.9</td>\n      <td>297.5</td>\n      <td>3.014286</td>\n      <td>0.251200</td>\n      <td>0.247340</td>\n      <td>0.196200</td>\n      <td>0.262200</td>\n    </tr>\n    <tr>\n      <th>...</th>\n      <td>...</td>\n      <td>...</td>\n      <td>...</td>\n      <td>...</td>\n      <td>...</td>\n      <td>...</td>\n      <td>...</td>\n      <td>...</td>\n      <td>...</td>\n      <td>...</td>\n      <td>...</td>\n      <td>...</td>\n      <td>...</td>\n      <td>...</td>\n      <td>...</td>\n      <td>...</td>\n      <td>...</td>\n      <td>...</td>\n      <td>...</td>\n      <td>...</td>\n    </tr>\n    <tr>\n      <th>1451</th>\n      <td>iq</td>\n      <td>2010</td>\n      <td>21</td>\n      <td>5</td>\n      <td>35.4</td>\n      <td>22.4</td>\n      <td>27.0</td>\n      <td>11.933333</td>\n      <td>55.30</td>\n      <td>296.825714</td>\n      <td>88.765714</td>\n      <td>18.485714</td>\n      <td>45.00</td>\n      <td>309.7</td>\n      <td>294.5</td>\n      <td>9.800000</td>\n      <td>0.256343</td>\n      <td>0.292514</td>\n      <td>0.342750</td>\n      <td>0.318900</td>\n    </tr>\n    <tr>\n      <th>1452</th>\n      <td>iq</td>\n      <td>2010</td>\n      <td>22</td>\n      <td>6</td>\n      <td>34.7</td>\n      <td>21.7</td>\n      <td>36.6</td>\n      <td>10.500000</td>\n      <td>86.47</td>\n      <td>296.452857</td>\n      <td>91.600000</td>\n      <td>18.070000</td>\n      <td>207.10</td>\n      <td>308.5</td>\n      <td>291.9</td>\n      <td>7.471429</td>\n      <td>0.136043</td>\n      <td>0.225657</td>\n      <td>0.160157</td>\n      <td>0.160371</td>\n    </tr>\n    <tr>\n      <th>1453</th>\n      <td>iq</td>\n      <td>2010</td>\n      <td>23</td>\n      <td>6</td>\n      <td>32.2</td>\n      <td>19.2</td>\n      <td>7.4</td>\n      <td>6.900000</td>\n      <td>58.94</td>\n      <td>295.501429</td>\n      <td>94.280000</td>\n      <td>17.008571</td>\n      <td>50.60</td>\n      <td>305.5</td>\n      <td>292.4</td>\n      <td>7.500000</td>\n      <td>0.250357</td>\n      <td>0.233714</td>\n      <td>0.247057</td>\n      <td>0.146057</td>\n    </tr>\n    <tr>\n      <th>1454</th>\n      <td>iq</td>\n      <td>2010</td>\n      <td>24</td>\n      <td>6</td>\n      <td>31.2</td>\n      <td>21.0</td>\n      <td>16.0</td>\n      <td>8.733333</td>\n      <td>59.67</td>\n      <td>295.324286</td>\n      <td>94.660000</td>\n      <td>16.815714</td>\n      <td>62.33</td>\n      <td>306.1</td>\n      <td>291.9</td>\n      <td>7.871429</td>\n      <td>0.278886</td>\n      <td>0.325486</td>\n      <td>0.333914</td>\n      <td>0.245771</td>\n    </tr>\n    <tr>\n      <th>1455</th>\n      <td>iq</td>\n      <td>2010</td>\n      <td>25</td>\n      <td>6</td>\n      <td>33.7</td>\n      <td>22.2</td>\n      <td>20.4</td>\n      <td>9.900000</td>\n      <td>63.22</td>\n      <td>295.807143</td>\n      <td>89.082857</td>\n      <td>17.355714</td>\n      <td>36.90</td>\n      <td>307.8</td>\n      <td>292.3</td>\n      <td>11.014286</td>\n      <td>0.274214</td>\n      <td>0.315757</td>\n      <td>0.298186</td>\n      <td>0.232971</td>\n    </tr>\n  </tbody>\n</table>\n<p>1456 rows × 20 columns</p>\n</div>"
     },
     "execution_count": 88,
     "metadata": {},
     "output_type": "execute_result"
    }
   ],
   "source": [
    "df_train"
   ],
   "metadata": {
    "collapsed": false,
    "ExecuteTime": {
     "end_time": "2023-12-22T02:47:50.460771Z",
     "start_time": "2023-12-22T02:47:50.448709Z"
    }
   },
   "id": "365e6539ab5fec94",
   "execution_count": 88
  },
  {
   "cell_type": "code",
   "outputs": [],
   "source": [],
   "metadata": {
    "collapsed": false
   },
   "id": "65a99ae768474369"
  }
 ],
 "metadata": {
  "kernelspec": {
   "display_name": "Python 3",
   "language": "python",
   "name": "python3"
  },
  "language_info": {
   "codemirror_mode": {
    "name": "ipython",
    "version": 2
   },
   "file_extension": ".py",
   "mimetype": "text/x-python",
   "name": "python",
   "nbconvert_exporter": "python",
   "pygments_lexer": "ipython2",
   "version": "2.7.6"
  }
 },
 "nbformat": 4,
 "nbformat_minor": 5
}
