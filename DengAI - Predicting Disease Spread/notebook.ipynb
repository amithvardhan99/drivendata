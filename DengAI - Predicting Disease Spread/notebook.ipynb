{
 "cells": [
  {
   "cell_type": "code",
   "execution_count": 2,
   "id": "initial_id",
   "metadata": {
    "collapsed": true,
    "ExecuteTime": {
     "end_time": "2023-12-22T00:56:29.753873Z",
     "start_time": "2023-12-22T00:56:29.750684Z"
    }
   },
   "outputs": [],
   "source": [
    "import numpy as np\n",
    "import pandas as pd\n",
    "import matplotlib.pyplot as plt\n",
    "import seaborn as sns"
   ]
  },
  {
   "cell_type": "code",
   "outputs": [],
   "source": [
    "train_input = pd.read_csv(\"dengue_features_train.csv\")\n",
    "train_output = pd.read_csv(\"dengue_labels_train.csv\")\n",
    "test_input = pd.read_csv(\"dengue_features_test.csv\")"
   ],
   "metadata": {
    "collapsed": false,
    "ExecuteTime": {
     "end_time": "2023-12-22T00:57:19.443338Z",
     "start_time": "2023-12-22T00:57:19.427189Z"
    }
   },
   "id": "fb44fe320b029cdf",
   "execution_count": 3
  },
  {
   "cell_type": "code",
   "outputs": [
    {
     "data": {
      "text/plain": "     city  year  weekofyear week_start_date   ndvi_ne   ndvi_nw   ndvi_se  \\\n0      sj  1990          18      1990-04-30  0.122600  0.103725  0.198483   \n1      sj  1990          19      1990-05-07  0.169900  0.142175  0.162357   \n2      sj  1990          20      1990-05-14  0.032250  0.172967  0.157200   \n3      sj  1990          21      1990-05-21  0.128633  0.245067  0.227557   \n4      sj  1990          22      1990-05-28  0.196200  0.262200  0.251200   \n...   ...   ...         ...             ...       ...       ...       ...   \n1451   iq  2010          21      2010-05-28  0.342750  0.318900  0.256343   \n1452   iq  2010          22      2010-06-04  0.160157  0.160371  0.136043   \n1453   iq  2010          23      2010-06-11  0.247057  0.146057  0.250357   \n1454   iq  2010          24      2010-06-18  0.333914  0.245771  0.278886   \n1455   iq  2010          25      2010-06-25  0.298186  0.232971  0.274214   \n\n       ndvi_sw  precipitation_amt_mm  reanalysis_air_temp_k  ...  \\\n0     0.177617                 12.42             297.572857  ...   \n1     0.155486                 22.82             298.211429  ...   \n2     0.170843                 34.54             298.781429  ...   \n3     0.235886                 15.36             298.987143  ...   \n4     0.247340                  7.52             299.518571  ...   \n...        ...                   ...                    ...  ...   \n1451  0.292514                 55.30             299.334286  ...   \n1452  0.225657                 86.47             298.330000  ...   \n1453  0.233714                 58.94             296.598571  ...   \n1454  0.325486                 59.67             296.345714  ...   \n1455  0.315757                 63.22             298.097143  ...   \n\n      reanalysis_precip_amt_kg_per_m2  reanalysis_relative_humidity_percent  \\\n0                               32.00                             73.365714   \n1                               17.94                             77.368571   \n2                               26.10                             82.052857   \n3                               13.90                             80.337143   \n4                               12.20                             80.460000   \n...                               ...                                   ...   \n1451                            45.00                             88.765714   \n1452                           207.10                             91.600000   \n1453                            50.60                             94.280000   \n1454                            62.33                             94.660000   \n1455                            36.90                             89.082857   \n\n      reanalysis_sat_precip_amt_mm  reanalysis_specific_humidity_g_per_kg  \\\n0                            12.42                              14.012857   \n1                            22.82                              15.372857   \n2                            34.54                              16.848571   \n3                            15.36                              16.672857   \n4                             7.52                              17.210000   \n...                            ...                                    ...   \n1451                         55.30                              18.485714   \n1452                         86.47                              18.070000   \n1453                         58.94                              17.008571   \n1454                         59.67                              16.815714   \n1455                         63.22                              17.355714   \n\n      reanalysis_tdtr_k  station_avg_temp_c  station_diur_temp_rng_c  \\\n0              2.628571           25.442857                 6.900000   \n1              2.371429           26.714286                 6.371429   \n2              2.300000           26.714286                 6.485714   \n3              2.428571           27.471429                 6.771429   \n4              3.014286           28.942857                 9.371429   \n...                 ...                 ...                      ...   \n1451           9.800000           28.633333                11.933333   \n1452           7.471429           27.433333                10.500000   \n1453           7.500000           24.400000                 6.900000   \n1454           7.871429           25.433333                 8.733333   \n1455          11.014286           27.475000                 9.900000   \n\n      station_max_temp_c  station_min_temp_c  station_precip_mm  \n0                   29.4                20.0               16.0  \n1                   31.7                22.2                8.6  \n2                   32.2                22.8               41.4  \n3                   33.3                23.3                4.0  \n4                   35.0                23.9                5.8  \n...                  ...                 ...                ...  \n1451                35.4                22.4               27.0  \n1452                34.7                21.7               36.6  \n1453                32.2                19.2                7.4  \n1454                31.2                21.0               16.0  \n1455                33.7                22.2               20.4  \n\n[1456 rows x 24 columns]",
      "text/html": "<div>\n<style scoped>\n    .dataframe tbody tr th:only-of-type {\n        vertical-align: middle;\n    }\n\n    .dataframe tbody tr th {\n        vertical-align: top;\n    }\n\n    .dataframe thead th {\n        text-align: right;\n    }\n</style>\n<table border=\"1\" class=\"dataframe\">\n  <thead>\n    <tr style=\"text-align: right;\">\n      <th></th>\n      <th>city</th>\n      <th>year</th>\n      <th>weekofyear</th>\n      <th>week_start_date</th>\n      <th>ndvi_ne</th>\n      <th>ndvi_nw</th>\n      <th>ndvi_se</th>\n      <th>ndvi_sw</th>\n      <th>precipitation_amt_mm</th>\n      <th>reanalysis_air_temp_k</th>\n      <th>...</th>\n      <th>reanalysis_precip_amt_kg_per_m2</th>\n      <th>reanalysis_relative_humidity_percent</th>\n      <th>reanalysis_sat_precip_amt_mm</th>\n      <th>reanalysis_specific_humidity_g_per_kg</th>\n      <th>reanalysis_tdtr_k</th>\n      <th>station_avg_temp_c</th>\n      <th>station_diur_temp_rng_c</th>\n      <th>station_max_temp_c</th>\n      <th>station_min_temp_c</th>\n      <th>station_precip_mm</th>\n    </tr>\n  </thead>\n  <tbody>\n    <tr>\n      <th>0</th>\n      <td>sj</td>\n      <td>1990</td>\n      <td>18</td>\n      <td>1990-04-30</td>\n      <td>0.122600</td>\n      <td>0.103725</td>\n      <td>0.198483</td>\n      <td>0.177617</td>\n      <td>12.42</td>\n      <td>297.572857</td>\n      <td>...</td>\n      <td>32.00</td>\n      <td>73.365714</td>\n      <td>12.42</td>\n      <td>14.012857</td>\n      <td>2.628571</td>\n      <td>25.442857</td>\n      <td>6.900000</td>\n      <td>29.4</td>\n      <td>20.0</td>\n      <td>16.0</td>\n    </tr>\n    <tr>\n      <th>1</th>\n      <td>sj</td>\n      <td>1990</td>\n      <td>19</td>\n      <td>1990-05-07</td>\n      <td>0.169900</td>\n      <td>0.142175</td>\n      <td>0.162357</td>\n      <td>0.155486</td>\n      <td>22.82</td>\n      <td>298.211429</td>\n      <td>...</td>\n      <td>17.94</td>\n      <td>77.368571</td>\n      <td>22.82</td>\n      <td>15.372857</td>\n      <td>2.371429</td>\n      <td>26.714286</td>\n      <td>6.371429</td>\n      <td>31.7</td>\n      <td>22.2</td>\n      <td>8.6</td>\n    </tr>\n    <tr>\n      <th>2</th>\n      <td>sj</td>\n      <td>1990</td>\n      <td>20</td>\n      <td>1990-05-14</td>\n      <td>0.032250</td>\n      <td>0.172967</td>\n      <td>0.157200</td>\n      <td>0.170843</td>\n      <td>34.54</td>\n      <td>298.781429</td>\n      <td>...</td>\n      <td>26.10</td>\n      <td>82.052857</td>\n      <td>34.54</td>\n      <td>16.848571</td>\n      <td>2.300000</td>\n      <td>26.714286</td>\n      <td>6.485714</td>\n      <td>32.2</td>\n      <td>22.8</td>\n      <td>41.4</td>\n    </tr>\n    <tr>\n      <th>3</th>\n      <td>sj</td>\n      <td>1990</td>\n      <td>21</td>\n      <td>1990-05-21</td>\n      <td>0.128633</td>\n      <td>0.245067</td>\n      <td>0.227557</td>\n      <td>0.235886</td>\n      <td>15.36</td>\n      <td>298.987143</td>\n      <td>...</td>\n      <td>13.90</td>\n      <td>80.337143</td>\n      <td>15.36</td>\n      <td>16.672857</td>\n      <td>2.428571</td>\n      <td>27.471429</td>\n      <td>6.771429</td>\n      <td>33.3</td>\n      <td>23.3</td>\n      <td>4.0</td>\n    </tr>\n    <tr>\n      <th>4</th>\n      <td>sj</td>\n      <td>1990</td>\n      <td>22</td>\n      <td>1990-05-28</td>\n      <td>0.196200</td>\n      <td>0.262200</td>\n      <td>0.251200</td>\n      <td>0.247340</td>\n      <td>7.52</td>\n      <td>299.518571</td>\n      <td>...</td>\n      <td>12.20</td>\n      <td>80.460000</td>\n      <td>7.52</td>\n      <td>17.210000</td>\n      <td>3.014286</td>\n      <td>28.942857</td>\n      <td>9.371429</td>\n      <td>35.0</td>\n      <td>23.9</td>\n      <td>5.8</td>\n    </tr>\n    <tr>\n      <th>...</th>\n      <td>...</td>\n      <td>...</td>\n      <td>...</td>\n      <td>...</td>\n      <td>...</td>\n      <td>...</td>\n      <td>...</td>\n      <td>...</td>\n      <td>...</td>\n      <td>...</td>\n      <td>...</td>\n      <td>...</td>\n      <td>...</td>\n      <td>...</td>\n      <td>...</td>\n      <td>...</td>\n      <td>...</td>\n      <td>...</td>\n      <td>...</td>\n      <td>...</td>\n      <td>...</td>\n    </tr>\n    <tr>\n      <th>1451</th>\n      <td>iq</td>\n      <td>2010</td>\n      <td>21</td>\n      <td>2010-05-28</td>\n      <td>0.342750</td>\n      <td>0.318900</td>\n      <td>0.256343</td>\n      <td>0.292514</td>\n      <td>55.30</td>\n      <td>299.334286</td>\n      <td>...</td>\n      <td>45.00</td>\n      <td>88.765714</td>\n      <td>55.30</td>\n      <td>18.485714</td>\n      <td>9.800000</td>\n      <td>28.633333</td>\n      <td>11.933333</td>\n      <td>35.4</td>\n      <td>22.4</td>\n      <td>27.0</td>\n    </tr>\n    <tr>\n      <th>1452</th>\n      <td>iq</td>\n      <td>2010</td>\n      <td>22</td>\n      <td>2010-06-04</td>\n      <td>0.160157</td>\n      <td>0.160371</td>\n      <td>0.136043</td>\n      <td>0.225657</td>\n      <td>86.47</td>\n      <td>298.330000</td>\n      <td>...</td>\n      <td>207.10</td>\n      <td>91.600000</td>\n      <td>86.47</td>\n      <td>18.070000</td>\n      <td>7.471429</td>\n      <td>27.433333</td>\n      <td>10.500000</td>\n      <td>34.7</td>\n      <td>21.7</td>\n      <td>36.6</td>\n    </tr>\n    <tr>\n      <th>1453</th>\n      <td>iq</td>\n      <td>2010</td>\n      <td>23</td>\n      <td>2010-06-11</td>\n      <td>0.247057</td>\n      <td>0.146057</td>\n      <td>0.250357</td>\n      <td>0.233714</td>\n      <td>58.94</td>\n      <td>296.598571</td>\n      <td>...</td>\n      <td>50.60</td>\n      <td>94.280000</td>\n      <td>58.94</td>\n      <td>17.008571</td>\n      <td>7.500000</td>\n      <td>24.400000</td>\n      <td>6.900000</td>\n      <td>32.2</td>\n      <td>19.2</td>\n      <td>7.4</td>\n    </tr>\n    <tr>\n      <th>1454</th>\n      <td>iq</td>\n      <td>2010</td>\n      <td>24</td>\n      <td>2010-06-18</td>\n      <td>0.333914</td>\n      <td>0.245771</td>\n      <td>0.278886</td>\n      <td>0.325486</td>\n      <td>59.67</td>\n      <td>296.345714</td>\n      <td>...</td>\n      <td>62.33</td>\n      <td>94.660000</td>\n      <td>59.67</td>\n      <td>16.815714</td>\n      <td>7.871429</td>\n      <td>25.433333</td>\n      <td>8.733333</td>\n      <td>31.2</td>\n      <td>21.0</td>\n      <td>16.0</td>\n    </tr>\n    <tr>\n      <th>1455</th>\n      <td>iq</td>\n      <td>2010</td>\n      <td>25</td>\n      <td>2010-06-25</td>\n      <td>0.298186</td>\n      <td>0.232971</td>\n      <td>0.274214</td>\n      <td>0.315757</td>\n      <td>63.22</td>\n      <td>298.097143</td>\n      <td>...</td>\n      <td>36.90</td>\n      <td>89.082857</td>\n      <td>63.22</td>\n      <td>17.355714</td>\n      <td>11.014286</td>\n      <td>27.475000</td>\n      <td>9.900000</td>\n      <td>33.7</td>\n      <td>22.2</td>\n      <td>20.4</td>\n    </tr>\n  </tbody>\n</table>\n<p>1456 rows × 24 columns</p>\n</div>"
     },
     "execution_count": 4,
     "metadata": {},
     "output_type": "execute_result"
    }
   ],
   "source": [
    "train_input"
   ],
   "metadata": {
    "collapsed": false,
    "ExecuteTime": {
     "end_time": "2023-12-22T00:57:21.235123Z",
     "start_time": "2023-12-22T00:57:21.218512Z"
    }
   },
   "id": "334e5798600297a1",
   "execution_count": 4
  },
  {
   "cell_type": "code",
   "outputs": [],
   "source": [],
   "metadata": {
    "collapsed": false
   },
   "id": "fdadde7185541195"
  }
 ],
 "metadata": {
  "kernelspec": {
   "display_name": "Python 3",
   "language": "python",
   "name": "python3"
  },
  "language_info": {
   "codemirror_mode": {
    "name": "ipython",
    "version": 2
   },
   "file_extension": ".py",
   "mimetype": "text/x-python",
   "name": "python",
   "nbconvert_exporter": "python",
   "pygments_lexer": "ipython2",
   "version": "2.7.6"
  }
 },
 "nbformat": 4,
 "nbformat_minor": 5
}
