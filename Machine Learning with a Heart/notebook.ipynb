{
 "cells": [
  {
   "cell_type": "code",
   "execution_count": 80,
   "id": "initial_id",
   "metadata": {
    "collapsed": true,
    "ExecuteTime": {
     "end_time": "2023-12-25T20:53:51.111553Z",
     "start_time": "2023-12-25T20:53:51.099363Z"
    }
   },
   "outputs": [],
   "source": [
    "import numpy as np\n",
    "import pandas as pd\n",
    "import matplotlib.pyplot as plt\n",
    "import seaborn as sns\n",
    "from sklearn.linear_model import *\n",
    "from sklearn.metrics import *\n",
    "import warnings\n",
    "warnings.filterwarnings(\"ignore\")"
   ]
  },
  {
   "cell_type": "code",
   "outputs": [
    {
     "data": {
      "text/plain": "      age  sex  chest_pain_type  resting_blood_pressure  \\\n0    70.0  1.0              4.0                   130.0   \n1    67.0  0.0              3.0                   115.0   \n2    57.0  1.0              2.0                   124.0   \n3    64.0  1.0              4.0                   128.0   \n4    74.0  0.0              2.0                   120.0   \n..    ...  ...              ...                     ...   \n265  52.0  1.0              3.0                   172.0   \n266  44.0  1.0              2.0                   120.0   \n267  56.0  0.0              2.0                   140.0   \n268  57.0  1.0              4.0                   140.0   \n269  67.0  1.0              4.0                   160.0   \n\n     serum_cholesterol_mg_per_dl  fasting_blood_sugar_gt_120_mg_per_dl  \\\n0                          322.0                                   0.0   \n1                          564.0                                   0.0   \n2                          261.0                                   0.0   \n3                          263.0                                   0.0   \n4                          269.0                                   0.0   \n..                           ...                                   ...   \n265                        199.0                                   1.0   \n266                        263.0                                   0.0   \n267                        294.0                                   0.0   \n268                        192.0                                   0.0   \n269                        286.0                                   0.0   \n\n     resting_ekg_results  max_heart_rate_achieved  exercise_induced_angina  \\\n0                    2.0                    109.0                      0.0   \n1                    2.0                    160.0                      0.0   \n2                    0.0                    141.0                      0.0   \n3                    0.0                    105.0                      1.0   \n4                    2.0                    121.0                      1.0   \n..                   ...                      ...                      ...   \n265                  0.0                    162.0                      0.0   \n266                  0.0                    173.0                      0.0   \n267                  2.0                    153.0                      0.0   \n268                  0.0                    148.0                      0.0   \n269                  2.0                    108.0                      1.0   \n\n     oldpeak_eq_st_depression  slope_of_peak_exercise_st_segment  \\\n0                         2.4                                2.0   \n1                         1.6                                2.0   \n2                         0.3                                1.0   \n3                         0.2                                2.0   \n4                         0.2                                1.0   \n..                        ...                                ...   \n265                       0.5                                1.0   \n266                       0.0                                1.0   \n267                       1.3                                2.0   \n268                       0.4                                2.0   \n269                       1.5                                2.0   \n\n     num_major_vessels  thal  heart_disease_present  \n0                  3.0   3.0                      1  \n1                  0.0   7.0                      0  \n2                  0.0   7.0                      1  \n3                  1.0   7.0                      0  \n4                  1.0   3.0                      0  \n..                 ...   ...                    ...  \n265                0.0   7.0                      0  \n266                0.0   7.0                      0  \n267                0.0   3.0                      0  \n268                0.0   6.0                      0  \n269                3.0   3.0                      1  \n\n[270 rows x 14 columns]",
      "text/html": "<div>\n<style scoped>\n    .dataframe tbody tr th:only-of-type {\n        vertical-align: middle;\n    }\n\n    .dataframe tbody tr th {\n        vertical-align: top;\n    }\n\n    .dataframe thead th {\n        text-align: right;\n    }\n</style>\n<table border=\"1\" class=\"dataframe\">\n  <thead>\n    <tr style=\"text-align: right;\">\n      <th></th>\n      <th>age</th>\n      <th>sex</th>\n      <th>chest_pain_type</th>\n      <th>resting_blood_pressure</th>\n      <th>serum_cholesterol_mg_per_dl</th>\n      <th>fasting_blood_sugar_gt_120_mg_per_dl</th>\n      <th>resting_ekg_results</th>\n      <th>max_heart_rate_achieved</th>\n      <th>exercise_induced_angina</th>\n      <th>oldpeak_eq_st_depression</th>\n      <th>slope_of_peak_exercise_st_segment</th>\n      <th>num_major_vessels</th>\n      <th>thal</th>\n      <th>heart_disease_present</th>\n    </tr>\n  </thead>\n  <tbody>\n    <tr>\n      <th>0</th>\n      <td>70.0</td>\n      <td>1.0</td>\n      <td>4.0</td>\n      <td>130.0</td>\n      <td>322.0</td>\n      <td>0.0</td>\n      <td>2.0</td>\n      <td>109.0</td>\n      <td>0.0</td>\n      <td>2.4</td>\n      <td>2.0</td>\n      <td>3.0</td>\n      <td>3.0</td>\n      <td>1</td>\n    </tr>\n    <tr>\n      <th>1</th>\n      <td>67.0</td>\n      <td>0.0</td>\n      <td>3.0</td>\n      <td>115.0</td>\n      <td>564.0</td>\n      <td>0.0</td>\n      <td>2.0</td>\n      <td>160.0</td>\n      <td>0.0</td>\n      <td>1.6</td>\n      <td>2.0</td>\n      <td>0.0</td>\n      <td>7.0</td>\n      <td>0</td>\n    </tr>\n    <tr>\n      <th>2</th>\n      <td>57.0</td>\n      <td>1.0</td>\n      <td>2.0</td>\n      <td>124.0</td>\n      <td>261.0</td>\n      <td>0.0</td>\n      <td>0.0</td>\n      <td>141.0</td>\n      <td>0.0</td>\n      <td>0.3</td>\n      <td>1.0</td>\n      <td>0.0</td>\n      <td>7.0</td>\n      <td>1</td>\n    </tr>\n    <tr>\n      <th>3</th>\n      <td>64.0</td>\n      <td>1.0</td>\n      <td>4.0</td>\n      <td>128.0</td>\n      <td>263.0</td>\n      <td>0.0</td>\n      <td>0.0</td>\n      <td>105.0</td>\n      <td>1.0</td>\n      <td>0.2</td>\n      <td>2.0</td>\n      <td>1.0</td>\n      <td>7.0</td>\n      <td>0</td>\n    </tr>\n    <tr>\n      <th>4</th>\n      <td>74.0</td>\n      <td>0.0</td>\n      <td>2.0</td>\n      <td>120.0</td>\n      <td>269.0</td>\n      <td>0.0</td>\n      <td>2.0</td>\n      <td>121.0</td>\n      <td>1.0</td>\n      <td>0.2</td>\n      <td>1.0</td>\n      <td>1.0</td>\n      <td>3.0</td>\n      <td>0</td>\n    </tr>\n    <tr>\n      <th>...</th>\n      <td>...</td>\n      <td>...</td>\n      <td>...</td>\n      <td>...</td>\n      <td>...</td>\n      <td>...</td>\n      <td>...</td>\n      <td>...</td>\n      <td>...</td>\n      <td>...</td>\n      <td>...</td>\n      <td>...</td>\n      <td>...</td>\n      <td>...</td>\n    </tr>\n    <tr>\n      <th>265</th>\n      <td>52.0</td>\n      <td>1.0</td>\n      <td>3.0</td>\n      <td>172.0</td>\n      <td>199.0</td>\n      <td>1.0</td>\n      <td>0.0</td>\n      <td>162.0</td>\n      <td>0.0</td>\n      <td>0.5</td>\n      <td>1.0</td>\n      <td>0.0</td>\n      <td>7.0</td>\n      <td>0</td>\n    </tr>\n    <tr>\n      <th>266</th>\n      <td>44.0</td>\n      <td>1.0</td>\n      <td>2.0</td>\n      <td>120.0</td>\n      <td>263.0</td>\n      <td>0.0</td>\n      <td>0.0</td>\n      <td>173.0</td>\n      <td>0.0</td>\n      <td>0.0</td>\n      <td>1.0</td>\n      <td>0.0</td>\n      <td>7.0</td>\n      <td>0</td>\n    </tr>\n    <tr>\n      <th>267</th>\n      <td>56.0</td>\n      <td>0.0</td>\n      <td>2.0</td>\n      <td>140.0</td>\n      <td>294.0</td>\n      <td>0.0</td>\n      <td>2.0</td>\n      <td>153.0</td>\n      <td>0.0</td>\n      <td>1.3</td>\n      <td>2.0</td>\n      <td>0.0</td>\n      <td>3.0</td>\n      <td>0</td>\n    </tr>\n    <tr>\n      <th>268</th>\n      <td>57.0</td>\n      <td>1.0</td>\n      <td>4.0</td>\n      <td>140.0</td>\n      <td>192.0</td>\n      <td>0.0</td>\n      <td>0.0</td>\n      <td>148.0</td>\n      <td>0.0</td>\n      <td>0.4</td>\n      <td>2.0</td>\n      <td>0.0</td>\n      <td>6.0</td>\n      <td>0</td>\n    </tr>\n    <tr>\n      <th>269</th>\n      <td>67.0</td>\n      <td>1.0</td>\n      <td>4.0</td>\n      <td>160.0</td>\n      <td>286.0</td>\n      <td>0.0</td>\n      <td>2.0</td>\n      <td>108.0</td>\n      <td>1.0</td>\n      <td>1.5</td>\n      <td>2.0</td>\n      <td>3.0</td>\n      <td>3.0</td>\n      <td>1</td>\n    </tr>\n  </tbody>\n</table>\n<p>270 rows × 14 columns</p>\n</div>"
     },
     "execution_count": 81,
     "metadata": {},
     "output_type": "execute_result"
    }
   ],
   "source": [
    "df = pd.read_table(\"data/heart.dat\",sep=\" \",header=None)\n",
    "df.columns = [\"age\",\"sex\",\"chest_pain_type\",\"resting_blood_pressure\",\"serum_cholesterol_mg_per_dl\",\"fasting_blood_sugar_gt_120_mg_per_dl\",\"resting_ekg_results\",\"max_heart_rate_achieved\",\"exercise_induced_angina\",\"oldpeak_eq_st_depression\",\"slope_of_peak_exercise_st_segment\",\"num_major_vessels\",\"thal\",\"heart_disease_present\"]\n",
    "df[\"heart_disease_present\"] = df[\"heart_disease_present\"] - 1\n",
    "df"
   ],
   "metadata": {
    "collapsed": false,
    "ExecuteTime": {
     "end_time": "2023-12-25T20:53:51.847121Z",
     "start_time": "2023-12-25T20:53:51.789267Z"
    }
   },
   "id": "9f5652d78a3c7198",
   "execution_count": 81
  },
  {
   "cell_type": "code",
   "outputs": [
    {
     "data": {
      "text/plain": "   train  test\n0    112    38\n1     90    30",
      "text/html": "<div>\n<style scoped>\n    .dataframe tbody tr th:only-of-type {\n        vertical-align: middle;\n    }\n\n    .dataframe tbody tr th {\n        vertical-align: top;\n    }\n\n    .dataframe thead th {\n        text-align: right;\n    }\n</style>\n<table border=\"1\" class=\"dataframe\">\n  <thead>\n    <tr style=\"text-align: right;\">\n      <th></th>\n      <th>train</th>\n      <th>test</th>\n    </tr>\n  </thead>\n  <tbody>\n    <tr>\n      <th>0</th>\n      <td>112</td>\n      <td>38</td>\n    </tr>\n    <tr>\n      <th>1</th>\n      <td>90</td>\n      <td>30</td>\n    </tr>\n  </tbody>\n</table>\n</div>"
     },
     "execution_count": 82,
     "metadata": {},
     "output_type": "execute_result"
    }
   ],
   "source": [
    "pp = df[\"heart_disease_present\"].value_counts().reset_index()\n",
    "pp[\"percent\"] = pp[\"count\"] * 100 / pp[\"count\"].sum()\n",
    "rr = pd.DataFrame(columns=[\"train\",\"test\"])\n",
    "\n",
    "rr[\"train\"] = ((pp[\"percent\"] / 100) * (270 * (75/100)))\n",
    "rr[\"train\"] = rr[\"train\"].round(0)\n",
    "\n",
    "rr[\"test\"] = ((pp[\"percent\"] / 100) * (270 * (25/100)))\n",
    "rr[\"test\"] = rr[\"test\"].round(0)\n",
    "\n",
    "rr = rr.astype(\"int64\")\n",
    "\n",
    "rr"
   ],
   "metadata": {
    "collapsed": false,
    "ExecuteTime": {
     "end_time": "2023-12-25T20:53:52.183009Z",
     "start_time": "2023-12-25T20:53:52.178286Z"
    }
   },
   "id": "aa208ab8156e21ba",
   "execution_count": 82
  },
  {
   "cell_type": "code",
   "outputs": [],
   "source": [
    "df_shuffled = df.sample(frac=1,random_state=np.random.randint(0,1000))\n",
    "\n",
    "no_heart_disease_indices = df_shuffled[df_shuffled[\"heart_disease_present\"]==0].index.values\n",
    "\n",
    "yes_heart_disease_indices = df_shuffled[df_shuffled[\"heart_disease_present\"]==1].index.values"
   ],
   "metadata": {
    "collapsed": false,
    "ExecuteTime": {
     "end_time": "2023-12-25T20:53:52.686622Z",
     "start_time": "2023-12-25T20:53:52.679468Z"
    }
   },
   "id": "141e91b2abe9e598",
   "execution_count": 83
  },
  {
   "cell_type": "code",
   "outputs": [],
   "source": [
    "training_indices = np.append(no_heart_disease_indices[0:int(round((len(no_heart_disease_indices) * 75 / 100),0))],\n",
    "yes_heart_disease_indices[0:int(round((len(yes_heart_disease_indices) * 75 / 100),0))])\n",
    "\n",
    "testing_indices = np.append(no_heart_disease_indices[int(round((len(no_heart_disease_indices) * 75 / 100),0)):],\n",
    "          yes_heart_disease_indices[int(round((len(yes_heart_disease_indices) * 75 / 100),0)):])"
   ],
   "metadata": {
    "collapsed": false,
    "ExecuteTime": {
     "end_time": "2023-12-25T20:53:53.129025Z",
     "start_time": "2023-12-25T20:53:53.125441Z"
    }
   },
   "id": "6154a51d2f44caf5",
   "execution_count": 84
  },
  {
   "cell_type": "code",
   "outputs": [],
   "source": [
    "df_train = df_shuffled.loc[training_indices,:].reset_index(drop=True)\n",
    "df_test = df_shuffled.loc[testing_indices,:].reset_index(drop=True)"
   ],
   "metadata": {
    "collapsed": false,
    "ExecuteTime": {
     "end_time": "2023-12-25T20:53:53.420738Z",
     "start_time": "2023-12-25T20:53:53.414326Z"
    }
   },
   "id": "791ace7a5b6f6fc1",
   "execution_count": 85
  },
  {
   "cell_type": "code",
   "outputs": [],
   "source": [
    "X_train = df_train.drop(columns=[\"heart_disease_present\"])\n",
    "X_test = df_test.drop(columns=[\"heart_disease_present\"])\n",
    "y_train = df_train[\"heart_disease_present\"]\n",
    "y_test = df_test[\"heart_disease_present\"]"
   ],
   "metadata": {
    "collapsed": false,
    "ExecuteTime": {
     "end_time": "2023-12-25T20:53:53.792945Z",
     "start_time": "2023-12-25T20:53:53.786620Z"
    }
   },
   "id": "8defc6bdd669617",
   "execution_count": 86
  },
  {
   "cell_type": "code",
   "outputs": [
    {
     "data": {
      "text/plain": "LogisticRegression()",
      "text/html": "<style>#sk-container-id-2 {color: black;}#sk-container-id-2 pre{padding: 0;}#sk-container-id-2 div.sk-toggleable {background-color: white;}#sk-container-id-2 label.sk-toggleable__label {cursor: pointer;display: block;width: 100%;margin-bottom: 0;padding: 0.3em;box-sizing: border-box;text-align: center;}#sk-container-id-2 label.sk-toggleable__label-arrow:before {content: \"▸\";float: left;margin-right: 0.25em;color: #696969;}#sk-container-id-2 label.sk-toggleable__label-arrow:hover:before {color: black;}#sk-container-id-2 div.sk-estimator:hover label.sk-toggleable__label-arrow:before {color: black;}#sk-container-id-2 div.sk-toggleable__content {max-height: 0;max-width: 0;overflow: hidden;text-align: left;background-color: #f0f8ff;}#sk-container-id-2 div.sk-toggleable__content pre {margin: 0.2em;color: black;border-radius: 0.25em;background-color: #f0f8ff;}#sk-container-id-2 input.sk-toggleable__control:checked~div.sk-toggleable__content {max-height: 200px;max-width: 100%;overflow: auto;}#sk-container-id-2 input.sk-toggleable__control:checked~label.sk-toggleable__label-arrow:before {content: \"▾\";}#sk-container-id-2 div.sk-estimator input.sk-toggleable__control:checked~label.sk-toggleable__label {background-color: #d4ebff;}#sk-container-id-2 div.sk-label input.sk-toggleable__control:checked~label.sk-toggleable__label {background-color: #d4ebff;}#sk-container-id-2 input.sk-hidden--visually {border: 0;clip: rect(1px 1px 1px 1px);clip: rect(1px, 1px, 1px, 1px);height: 1px;margin: -1px;overflow: hidden;padding: 0;position: absolute;width: 1px;}#sk-container-id-2 div.sk-estimator {font-family: monospace;background-color: #f0f8ff;border: 1px dotted black;border-radius: 0.25em;box-sizing: border-box;margin-bottom: 0.5em;}#sk-container-id-2 div.sk-estimator:hover {background-color: #d4ebff;}#sk-container-id-2 div.sk-parallel-item::after {content: \"\";width: 100%;border-bottom: 1px solid gray;flex-grow: 1;}#sk-container-id-2 div.sk-label:hover label.sk-toggleable__label {background-color: #d4ebff;}#sk-container-id-2 div.sk-serial::before {content: \"\";position: absolute;border-left: 1px solid gray;box-sizing: border-box;top: 0;bottom: 0;left: 50%;z-index: 0;}#sk-container-id-2 div.sk-serial {display: flex;flex-direction: column;align-items: center;background-color: white;padding-right: 0.2em;padding-left: 0.2em;position: relative;}#sk-container-id-2 div.sk-item {position: relative;z-index: 1;}#sk-container-id-2 div.sk-parallel {display: flex;align-items: stretch;justify-content: center;background-color: white;position: relative;}#sk-container-id-2 div.sk-item::before, #sk-container-id-2 div.sk-parallel-item::before {content: \"\";position: absolute;border-left: 1px solid gray;box-sizing: border-box;top: 0;bottom: 0;left: 50%;z-index: -1;}#sk-container-id-2 div.sk-parallel-item {display: flex;flex-direction: column;z-index: 1;position: relative;background-color: white;}#sk-container-id-2 div.sk-parallel-item:first-child::after {align-self: flex-end;width: 50%;}#sk-container-id-2 div.sk-parallel-item:last-child::after {align-self: flex-start;width: 50%;}#sk-container-id-2 div.sk-parallel-item:only-child::after {width: 0;}#sk-container-id-2 div.sk-dashed-wrapped {border: 1px dashed gray;margin: 0 0.4em 0.5em 0.4em;box-sizing: border-box;padding-bottom: 0.4em;background-color: white;}#sk-container-id-2 div.sk-label label {font-family: monospace;font-weight: bold;display: inline-block;line-height: 1.2em;}#sk-container-id-2 div.sk-label-container {text-align: center;}#sk-container-id-2 div.sk-container {/* jupyter's `normalize.less` sets `[hidden] { display: none; }` but bootstrap.min.css set `[hidden] { display: none !important; }` so we also need the `!important` here to be able to override the default hidden behavior on the sphinx rendered scikit-learn.org. See: https://github.com/scikit-learn/scikit-learn/issues/21755 */display: inline-block !important;position: relative;}#sk-container-id-2 div.sk-text-repr-fallback {display: none;}</style><div id=\"sk-container-id-2\" class=\"sk-top-container\"><div class=\"sk-text-repr-fallback\"><pre>LogisticRegression()</pre><b>In a Jupyter environment, please rerun this cell to show the HTML representation or trust the notebook. <br />On GitHub, the HTML representation is unable to render, please try loading this page with nbviewer.org.</b></div><div class=\"sk-container\" hidden><div class=\"sk-item\"><div class=\"sk-estimator sk-toggleable\"><input class=\"sk-toggleable__control sk-hidden--visually\" id=\"sk-estimator-id-2\" type=\"checkbox\" checked><label for=\"sk-estimator-id-2\" class=\"sk-toggleable__label sk-toggleable__label-arrow\">LogisticRegression</label><div class=\"sk-toggleable__content\"><pre>LogisticRegression()</pre></div></div></div></div></div>"
     },
     "execution_count": 87,
     "metadata": {},
     "output_type": "execute_result"
    }
   ],
   "source": [
    "log_regr = LogisticRegression()\n",
    "log_regr.fit(X_train, y_train)"
   ],
   "metadata": {
    "collapsed": false,
    "ExecuteTime": {
     "end_time": "2023-12-25T20:53:54.142583Z",
     "start_time": "2023-12-25T20:53:54.120764Z"
    }
   },
   "id": "5163d0c1e6dfc1f3",
   "execution_count": 87
  },
  {
   "cell_type": "code",
   "outputs": [],
   "source": [
    "y_pred = log_regr.predict(X_test)\n",
    "y_pred_proba = log_regr.predict_proba(X_test)[:,1]"
   ],
   "metadata": {
    "collapsed": false,
    "ExecuteTime": {
     "end_time": "2023-12-25T20:54:44.095278Z",
     "start_time": "2023-12-25T20:54:44.089671Z"
    }
   },
   "id": "6efcc0419ea058dc",
   "execution_count": 90
  },
  {
   "cell_type": "code",
   "outputs": [
    {
     "data": {
      "text/plain": "array([0.12809539, 0.02868805, 0.15681275, 0.26874456, 0.11417449,\n       0.13571652, 0.05419833, 0.25700063, 0.03453623, 0.01089602,\n       0.904547  , 0.54796757, 0.48820464, 0.94798217, 0.05649191,\n       0.51045485, 0.26787822, 0.0909929 , 0.03734958, 0.02741615,\n       0.01699642, 0.11748339, 0.09355117, 0.04271514, 0.0976964 ,\n       0.16586733, 0.18707678, 0.2169146 , 0.04291946, 0.20072557,\n       0.22677665, 0.18570354, 0.27671802, 0.71585453, 0.04435748,\n       0.02700062, 0.16607379, 0.0921907 , 0.98540251, 0.78699198,\n       0.06142669, 0.70790436, 0.96686367, 0.77796407, 0.93748139,\n       0.76100101, 0.78737857, 0.97345219, 0.96410232, 0.99548864,\n       0.97859387, 0.98961307, 0.86999839, 0.1402332 , 0.89502147,\n       0.6856609 , 0.30081971, 0.91658962, 0.61435124, 0.97467698,\n       0.91596489, 0.99531733, 0.12901057, 0.19650317, 0.96889435,\n       0.89496471, 0.42322577, 0.78702851])"
     },
     "execution_count": 91,
     "metadata": {},
     "output_type": "execute_result"
    }
   ],
   "source": [
    "y_pred_proba"
   ],
   "metadata": {
    "collapsed": false,
    "ExecuteTime": {
     "end_time": "2023-12-25T20:54:44.414056Z",
     "start_time": "2023-12-25T20:54:44.400744Z"
    }
   },
   "id": "6e06b7023258e42c",
   "execution_count": 91
  },
  {
   "cell_type": "code",
   "outputs": [
    {
     "data": {
      "text/plain": "0.3936415344936038"
     },
     "execution_count": 99,
     "metadata": {},
     "output_type": "execute_result"
    }
   ],
   "source": [
    "logloss = log_loss(y_test, y_pred_proba)\n",
    "logloss"
   ],
   "metadata": {
    "collapsed": false,
    "ExecuteTime": {
     "end_time": "2023-12-25T20:58:08.457358Z",
     "start_time": "2023-12-25T20:58:08.448680Z"
    }
   },
   "id": "f643c7607e05ef72",
   "execution_count": 99
  },
  {
   "cell_type": "code",
   "outputs": [],
   "source": [],
   "metadata": {
    "collapsed": false
   },
   "id": "2b8e01d3493e213"
  }
 ],
 "metadata": {
  "kernelspec": {
   "display_name": "Python 3",
   "language": "python",
   "name": "python3"
  },
  "language_info": {
   "codemirror_mode": {
    "name": "ipython",
    "version": 2
   },
   "file_extension": ".py",
   "mimetype": "text/x-python",
   "name": "python",
   "nbconvert_exporter": "python",
   "pygments_lexer": "ipython2",
   "version": "2.7.6"
  }
 },
 "nbformat": 4,
 "nbformat_minor": 5
}
