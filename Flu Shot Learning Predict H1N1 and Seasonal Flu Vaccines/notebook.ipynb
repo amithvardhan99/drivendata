{
 "cells": [
  {
   "cell_type": "code",
   "execution_count": 1,
   "id": "initial_id",
   "metadata": {
    "collapsed": true,
    "ExecuteTime": {
     "end_time": "2023-12-14T16:30:51.456727Z",
     "start_time": "2023-12-14T16:30:51.453931Z"
    }
   },
   "outputs": [],
   "source": [
    "import numpy as np\n",
    "import pandas as pd\n",
    "import matplotlib.pyplot as plt\n",
    "import seaborn as sns\n",
    "import warnings\n",
    "warnings.filterwarnings(\"ignore\")"
   ]
  },
  {
   "cell_type": "code",
   "execution_count": 2,
   "outputs": [],
   "source": [
    "train_input = pd.read_csv(\"training_set_features.csv\")\n",
    "train_output = pd.read_csv(\"training_set_labels.csv\")\n",
    "test_input = pd.read_csv(\"test_set_features.csv\")"
   ],
   "metadata": {
    "collapsed": false,
    "ExecuteTime": {
     "end_time": "2023-12-14T16:30:52.085581Z",
     "start_time": "2023-12-14T16:30:51.983075Z"
    }
   },
   "id": "aea48115b9a89da4"
  },
  {
   "cell_type": "code",
   "execution_count": 3,
   "outputs": [
    {
     "name": "stdout",
     "output_type": "stream",
     "text": [
      "Percentage of Null Values\n",
      "\n",
      "respondent_id : 0.0\n",
      "h1n1_concern : 0.34\n",
      "h1n1_knowledge : 0.43\n",
      "behavioral_antiviral_meds : 0.27\n",
      "behavioral_avoidance : 0.78\n",
      "behavioral_face_mask : 0.07\n",
      "behavioral_wash_hands : 0.16\n",
      "behavioral_large_gatherings : 0.33\n",
      "behavioral_outside_home : 0.31\n",
      "behavioral_touch_face : 0.48\n",
      "doctor_recc_h1n1 : 8.09\n",
      "doctor_recc_seasonal : 8.09\n",
      "chronic_med_condition : 3.64\n",
      "child_under_6_months : 3.07\n",
      "health_worker : 3.01\n",
      "health_insurance : 45.96\n",
      "opinion_h1n1_vacc_effective : 1.46\n",
      "opinion_h1n1_risk : 1.45\n",
      "opinion_h1n1_sick_from_vacc : 1.48\n",
      "opinion_seas_vacc_effective : 1.73\n",
      "opinion_seas_risk : 1.92\n",
      "opinion_seas_sick_from_vacc : 2.01\n",
      "age_group : 0.0\n",
      "education : 5.27\n",
      "race : 0.0\n",
      "sex : 0.0\n",
      "income_poverty : 16.56\n",
      "marital_status : 5.27\n",
      "rent_or_own : 7.65\n",
      "employment_status : 5.48\n",
      "hhs_geo_region : 0.0\n",
      "census_msa : 0.0\n",
      "household_adults : 0.93\n",
      "household_children : 0.93\n",
      "employment_industry : 49.91\n",
      "employment_occupation : 50.44\n"
     ]
    }
   ],
   "source": [
    "print(\"Percentage of Null Values\\n\")\n",
    "for i in train_input:\n",
    "    p = train_input[i].isna().sum()*100/len(train_input[i])\n",
    "    print(i,\":\",round(p,2))"
   ],
   "metadata": {
    "collapsed": false,
    "ExecuteTime": {
     "end_time": "2023-12-14T16:30:52.504775Z",
     "start_time": "2023-12-14T16:30:52.490938Z"
    }
   },
   "id": "132b40b7adebc22c"
  },
  {
   "cell_type": "code",
   "execution_count": 4,
   "outputs": [
    {
     "data": {
      "text/plain": "       respondent_id  h1n1_concern  h1n1_knowledge  behavioral_antiviral_meds  \\\n0                  0           1.0             0.0                        0.0   \n1                  1           3.0             2.0                        0.0   \n2                  2           1.0             1.0                        0.0   \n3                  3           1.0             1.0                        0.0   \n4                  4           2.0             1.0                        0.0   \n...              ...           ...             ...                        ...   \n26702          26702           2.0             0.0                        0.0   \n26703          26703           1.0             2.0                        0.0   \n26704          26704           2.0             2.0                        0.0   \n26705          26705           1.0             1.0                        0.0   \n26706          26706           0.0             0.0                        0.0   \n\n       behavioral_avoidance  behavioral_face_mask  behavioral_wash_hands  \\\n0                       0.0                   0.0                    0.0   \n1                       1.0                   0.0                    1.0   \n2                       1.0                   0.0                    0.0   \n3                       1.0                   0.0                    1.0   \n4                       1.0                   0.0                    1.0   \n...                     ...                   ...                    ...   \n26702                   1.0                   0.0                    0.0   \n26703                   1.0                   0.0                    1.0   \n26704                   1.0                   1.0                    1.0   \n26705                   0.0                   0.0                    0.0   \n26706                   1.0                   0.0                    0.0   \n\n       behavioral_large_gatherings  behavioral_outside_home  \\\n0                              0.0                      1.0   \n1                              0.0                      1.0   \n2                              0.0                      0.0   \n3                              1.0                      0.0   \n4                              1.0                      0.0   \n...                            ...                      ...   \n26702                          0.0                      1.0   \n26703                          0.0                      0.0   \n26704                          1.0                      0.0   \n26705                          0.0                      0.0   \n26706                          0.0                      0.0   \n\n       behavioral_touch_face  ...             income_poverty  marital_status  \\\n0                        1.0  ...              Below Poverty     Not Married   \n1                        1.0  ...              Below Poverty     Not Married   \n2                        0.0  ...  <= $75,000, Above Poverty     Not Married   \n3                        0.0  ...              Below Poverty     Not Married   \n4                        1.0  ...  <= $75,000, Above Poverty         Married   \n...                      ...  ...                        ...             ...   \n26702                    0.0  ...  <= $75,000, Above Poverty     Not Married   \n26703                    0.0  ...  <= $75,000, Above Poverty     Not Married   \n26704                    1.0  ...                        NaN     Not Married   \n26705                    NaN  ...  <= $75,000, Above Poverty         Married   \n26706                    0.0  ...  <= $75,000, Above Poverty         Married   \n\n       rent_or_own   employment_status  hhs_geo_region  \\\n0              Own  Not in Labor Force        oxchjgsf   \n1             Rent            Employed        bhuqouqj   \n2              Own            Employed        qufhixun   \n3             Rent  Not in Labor Force        lrircsnp   \n4              Own            Employed        qufhixun   \n...            ...                 ...             ...   \n26702          Own  Not in Labor Force        qufhixun   \n26703         Rent            Employed        lzgpxyit   \n26704          Own                 NaN        lzgpxyit   \n26705         Rent            Employed        lrircsnp   \n26706          Own  Not in Labor Force        mlyzmhmf   \n\n                     census_msa  household_adults  household_children  \\\n0                       Non-MSA               0.0                 0.0   \n1      MSA, Not Principle  City               0.0                 0.0   \n2      MSA, Not Principle  City               2.0                 0.0   \n3           MSA, Principle City               0.0                 0.0   \n4      MSA, Not Principle  City               1.0                 0.0   \n...                         ...               ...                 ...   \n26702                   Non-MSA               0.0                 0.0   \n26703       MSA, Principle City               1.0                 0.0   \n26704  MSA, Not Principle  City               0.0                 0.0   \n26705                   Non-MSA               1.0                 0.0   \n26706       MSA, Principle City               1.0                 0.0   \n\n       employment_industry  employment_occupation  \n0                      NaN                    NaN  \n1                 pxcmvdjn               xgwztkwe  \n2                 rucpziij               xtkaffoo  \n3                      NaN                    NaN  \n4                 wxleyezf               emcorrxb  \n...                    ...                    ...  \n26702                  NaN                    NaN  \n26703             fcxhlnwr               cmhcxjea  \n26704                  NaN                    NaN  \n26705             fcxhlnwr               haliazsg  \n26706                  NaN                    NaN  \n\n[26707 rows x 36 columns]",
      "text/html": "<div>\n<style scoped>\n    .dataframe tbody tr th:only-of-type {\n        vertical-align: middle;\n    }\n\n    .dataframe tbody tr th {\n        vertical-align: top;\n    }\n\n    .dataframe thead th {\n        text-align: right;\n    }\n</style>\n<table border=\"1\" class=\"dataframe\">\n  <thead>\n    <tr style=\"text-align: right;\">\n      <th></th>\n      <th>respondent_id</th>\n      <th>h1n1_concern</th>\n      <th>h1n1_knowledge</th>\n      <th>behavioral_antiviral_meds</th>\n      <th>behavioral_avoidance</th>\n      <th>behavioral_face_mask</th>\n      <th>behavioral_wash_hands</th>\n      <th>behavioral_large_gatherings</th>\n      <th>behavioral_outside_home</th>\n      <th>behavioral_touch_face</th>\n      <th>...</th>\n      <th>income_poverty</th>\n      <th>marital_status</th>\n      <th>rent_or_own</th>\n      <th>employment_status</th>\n      <th>hhs_geo_region</th>\n      <th>census_msa</th>\n      <th>household_adults</th>\n      <th>household_children</th>\n      <th>employment_industry</th>\n      <th>employment_occupation</th>\n    </tr>\n  </thead>\n  <tbody>\n    <tr>\n      <th>0</th>\n      <td>0</td>\n      <td>1.0</td>\n      <td>0.0</td>\n      <td>0.0</td>\n      <td>0.0</td>\n      <td>0.0</td>\n      <td>0.0</td>\n      <td>0.0</td>\n      <td>1.0</td>\n      <td>1.0</td>\n      <td>...</td>\n      <td>Below Poverty</td>\n      <td>Not Married</td>\n      <td>Own</td>\n      <td>Not in Labor Force</td>\n      <td>oxchjgsf</td>\n      <td>Non-MSA</td>\n      <td>0.0</td>\n      <td>0.0</td>\n      <td>NaN</td>\n      <td>NaN</td>\n    </tr>\n    <tr>\n      <th>1</th>\n      <td>1</td>\n      <td>3.0</td>\n      <td>2.0</td>\n      <td>0.0</td>\n      <td>1.0</td>\n      <td>0.0</td>\n      <td>1.0</td>\n      <td>0.0</td>\n      <td>1.0</td>\n      <td>1.0</td>\n      <td>...</td>\n      <td>Below Poverty</td>\n      <td>Not Married</td>\n      <td>Rent</td>\n      <td>Employed</td>\n      <td>bhuqouqj</td>\n      <td>MSA, Not Principle  City</td>\n      <td>0.0</td>\n      <td>0.0</td>\n      <td>pxcmvdjn</td>\n      <td>xgwztkwe</td>\n    </tr>\n    <tr>\n      <th>2</th>\n      <td>2</td>\n      <td>1.0</td>\n      <td>1.0</td>\n      <td>0.0</td>\n      <td>1.0</td>\n      <td>0.0</td>\n      <td>0.0</td>\n      <td>0.0</td>\n      <td>0.0</td>\n      <td>0.0</td>\n      <td>...</td>\n      <td>&lt;= $75,000, Above Poverty</td>\n      <td>Not Married</td>\n      <td>Own</td>\n      <td>Employed</td>\n      <td>qufhixun</td>\n      <td>MSA, Not Principle  City</td>\n      <td>2.0</td>\n      <td>0.0</td>\n      <td>rucpziij</td>\n      <td>xtkaffoo</td>\n    </tr>\n    <tr>\n      <th>3</th>\n      <td>3</td>\n      <td>1.0</td>\n      <td>1.0</td>\n      <td>0.0</td>\n      <td>1.0</td>\n      <td>0.0</td>\n      <td>1.0</td>\n      <td>1.0</td>\n      <td>0.0</td>\n      <td>0.0</td>\n      <td>...</td>\n      <td>Below Poverty</td>\n      <td>Not Married</td>\n      <td>Rent</td>\n      <td>Not in Labor Force</td>\n      <td>lrircsnp</td>\n      <td>MSA, Principle City</td>\n      <td>0.0</td>\n      <td>0.0</td>\n      <td>NaN</td>\n      <td>NaN</td>\n    </tr>\n    <tr>\n      <th>4</th>\n      <td>4</td>\n      <td>2.0</td>\n      <td>1.0</td>\n      <td>0.0</td>\n      <td>1.0</td>\n      <td>0.0</td>\n      <td>1.0</td>\n      <td>1.0</td>\n      <td>0.0</td>\n      <td>1.0</td>\n      <td>...</td>\n      <td>&lt;= $75,000, Above Poverty</td>\n      <td>Married</td>\n      <td>Own</td>\n      <td>Employed</td>\n      <td>qufhixun</td>\n      <td>MSA, Not Principle  City</td>\n      <td>1.0</td>\n      <td>0.0</td>\n      <td>wxleyezf</td>\n      <td>emcorrxb</td>\n    </tr>\n    <tr>\n      <th>...</th>\n      <td>...</td>\n      <td>...</td>\n      <td>...</td>\n      <td>...</td>\n      <td>...</td>\n      <td>...</td>\n      <td>...</td>\n      <td>...</td>\n      <td>...</td>\n      <td>...</td>\n      <td>...</td>\n      <td>...</td>\n      <td>...</td>\n      <td>...</td>\n      <td>...</td>\n      <td>...</td>\n      <td>...</td>\n      <td>...</td>\n      <td>...</td>\n      <td>...</td>\n      <td>...</td>\n    </tr>\n    <tr>\n      <th>26702</th>\n      <td>26702</td>\n      <td>2.0</td>\n      <td>0.0</td>\n      <td>0.0</td>\n      <td>1.0</td>\n      <td>0.0</td>\n      <td>0.0</td>\n      <td>0.0</td>\n      <td>1.0</td>\n      <td>0.0</td>\n      <td>...</td>\n      <td>&lt;= $75,000, Above Poverty</td>\n      <td>Not Married</td>\n      <td>Own</td>\n      <td>Not in Labor Force</td>\n      <td>qufhixun</td>\n      <td>Non-MSA</td>\n      <td>0.0</td>\n      <td>0.0</td>\n      <td>NaN</td>\n      <td>NaN</td>\n    </tr>\n    <tr>\n      <th>26703</th>\n      <td>26703</td>\n      <td>1.0</td>\n      <td>2.0</td>\n      <td>0.0</td>\n      <td>1.0</td>\n      <td>0.0</td>\n      <td>1.0</td>\n      <td>0.0</td>\n      <td>0.0</td>\n      <td>0.0</td>\n      <td>...</td>\n      <td>&lt;= $75,000, Above Poverty</td>\n      <td>Not Married</td>\n      <td>Rent</td>\n      <td>Employed</td>\n      <td>lzgpxyit</td>\n      <td>MSA, Principle City</td>\n      <td>1.0</td>\n      <td>0.0</td>\n      <td>fcxhlnwr</td>\n      <td>cmhcxjea</td>\n    </tr>\n    <tr>\n      <th>26704</th>\n      <td>26704</td>\n      <td>2.0</td>\n      <td>2.0</td>\n      <td>0.0</td>\n      <td>1.0</td>\n      <td>1.0</td>\n      <td>1.0</td>\n      <td>1.0</td>\n      <td>0.0</td>\n      <td>1.0</td>\n      <td>...</td>\n      <td>NaN</td>\n      <td>Not Married</td>\n      <td>Own</td>\n      <td>NaN</td>\n      <td>lzgpxyit</td>\n      <td>MSA, Not Principle  City</td>\n      <td>0.0</td>\n      <td>0.0</td>\n      <td>NaN</td>\n      <td>NaN</td>\n    </tr>\n    <tr>\n      <th>26705</th>\n      <td>26705</td>\n      <td>1.0</td>\n      <td>1.0</td>\n      <td>0.0</td>\n      <td>0.0</td>\n      <td>0.0</td>\n      <td>0.0</td>\n      <td>0.0</td>\n      <td>0.0</td>\n      <td>NaN</td>\n      <td>...</td>\n      <td>&lt;= $75,000, Above Poverty</td>\n      <td>Married</td>\n      <td>Rent</td>\n      <td>Employed</td>\n      <td>lrircsnp</td>\n      <td>Non-MSA</td>\n      <td>1.0</td>\n      <td>0.0</td>\n      <td>fcxhlnwr</td>\n      <td>haliazsg</td>\n    </tr>\n    <tr>\n      <th>26706</th>\n      <td>26706</td>\n      <td>0.0</td>\n      <td>0.0</td>\n      <td>0.0</td>\n      <td>1.0</td>\n      <td>0.0</td>\n      <td>0.0</td>\n      <td>0.0</td>\n      <td>0.0</td>\n      <td>0.0</td>\n      <td>...</td>\n      <td>&lt;= $75,000, Above Poverty</td>\n      <td>Married</td>\n      <td>Own</td>\n      <td>Not in Labor Force</td>\n      <td>mlyzmhmf</td>\n      <td>MSA, Principle City</td>\n      <td>1.0</td>\n      <td>0.0</td>\n      <td>NaN</td>\n      <td>NaN</td>\n    </tr>\n  </tbody>\n</table>\n<p>26707 rows × 36 columns</p>\n</div>"
     },
     "execution_count": 4,
     "metadata": {},
     "output_type": "execute_result"
    }
   ],
   "source": [
    "train_input"
   ],
   "metadata": {
    "collapsed": false,
    "ExecuteTime": {
     "end_time": "2023-12-14T16:30:53.461005Z",
     "start_time": "2023-12-14T16:30:53.431941Z"
    }
   },
   "id": "96d8b2bed1ee6783"
  },
  {
   "cell_type": "code",
   "execution_count": 65,
   "outputs": [],
   "source": [
    "replace_with_one_value_one_condition = np.array([\"behavioral_avoidance\",\"behavioral_face_mask\",\"behavioral_large_gatherings\",\"behavioral_outside_home\",\"behavioral_touch_face\",\"child_under_6_months\"]) #\"h1n1_concern\":3\n",
    "\n",
    "replace_with_one_value_two_conditions = np.array([\"behavioral_antiviral_meds\", \"opinion_h1n1_risk\", \"opinion_seas_risk\"]) #{\"h1n1_concern\":3,\"h1n1_knowledge\":2},\n",
    "\n",
    "replace_with_one_value_three_conditions = [\"behavioral_wash_hands\"] #{\"h1n1_concern\":3,\"h1n1_knowledge\":(2,1)},\n",
    "#------------------------------------------------------------------------------------------------------------\n",
    "replace_with_value_0 = [\"doctor_recc_h1n1\",\"doctor_recc_seasonal\",\"health_worker\",\"health_insurance\",\"household_children\",\"marital_status\",\"rent_or_own\",\"employment_status\"]\n",
    "\n",
    "replace_with_value_1 = [\"h1n1_knowledge\",\"household_adults\",\"income_poverty\",\"census_msa\"]\n",
    "\n",
    "replace_with_value_2 = [\"h1n1_concern\"]\n",
    "\n",
    "replace_with_value_3 = [\"opinion_h1n1_vacc_effective\",\"opinion_h1n1_sick_from_vacc\",\"opinion_seas_vacc_effective\",\"opinion_seas_sick_from_vacc\"]\n",
    "\n",
    "replace_with_median = [\"chronic_med_condition\",\"education\"]\n",
    "#------------------------------------------------------------------------------------------------------------\n",
    "sort_and_numerical_encoding = [\"age_group\",\"race\",\"sex\",\"employment_industry\",\"employment_occupation\",\"hhs_geo_region\"]\n",
    "#------------------------------------------------------------------------------------------------------------\n",
    "values_replace_dict = {\n",
    "    \"education\" : {\"< 12 Years\":0,\"12 Years\":1,\"College Graduate\":2,\"Some College\":3},\n",
    "    \"income_poverty\" : {\"Below Poverty\":0,\"<= $75,000, Above Poverty\":1,\"> $75,000\":2},\n",
    "    \"marital_status\" : {\"Not Married\":0,\"Married\":1},\n",
    "    \"rent_or_own\" : {\"Rent\":0,\"Own\":1},\n",
    "    \"employment_status\" : {\"Unemployed\":0,\"Not in Labor Force\":1,\"Employed\":2},\n",
    "    \"census_msa\" : {\"Non-MSA\":0,\"MSA, Not Principle City\":1,\"MSA, Principle City\":2}\n",
    "}"
   ],
   "metadata": {
    "collapsed": false,
    "ExecuteTime": {
     "end_time": "2023-12-14T16:46:22.455779Z",
     "start_time": "2023-12-14T16:46:22.451931Z"
    }
   },
   "id": "354ca66bd05d6193"
  },
  {
   "cell_type": "code",
   "execution_count": 140,
   "outputs": [],
   "source": [
    "def sort_using_numerical_encoding(df,sort_and_numerical_encoding):\n",
    "    for i in sort_and_numerical_encoding:\n",
    "        req_val = {}\n",
    "        ctr = 0\n",
    "        vals = list(df[i].unique())\n",
    "        while np.nan in vals:\n",
    "            vals.remove(np.nan)\n",
    "        vals = np.sort(np.array(vals))\n",
    "        for j in vals:\n",
    "            req_val[j] = ctr\n",
    "            ctr += 1\n",
    "        df[i] = df[i].map(req_val)\n",
    "    return df\n",
    "\n",
    "def replace_na_with_values(df,replace_with_value_0,replace_with_value_1,replace_with_value_2,replace_with_value_3):\n",
    "    for i in replace_with_value_0:\n",
    "        df[i] = df[i].fillna(0.0)\n",
    "    for i in replace_with_value_1:\n",
    "        df[i] = df[i].fillna(1.0)\n",
    "    for i in replace_with_value_2:\n",
    "        df[i] = df[i].fillna(2.0)\n",
    "    for i in replace_with_value_3:\n",
    "        df[i] = df[i].fillna(3.0)\n",
    "    return df\n",
    "\n",
    "def replace_na_with_conditional_values(df,replace_with_one_value_one_condition, replace_with_one_value_two_conditions, replace_with_one_value_three_conditions):\n",
    "    \n",
    "    for i in replace_with_one_value_one_condition:\n",
    "        df[i][df[\"h1n1_concern\"]==3.0] = df[i][df[\"h1n1_concern\"]==3.0].fillna(1.0)\n",
    "        df[i] = df[i].fillna(0.0)\n",
    "        \n",
    "    for i in replace_with_one_value_two_conditions:\n",
    "        df[i][(df[\"h1n1_concern\"]==3) & (df[\"h1n1_knowledge\"]==2)] = df[i][(df[\"h1n1_concern\"]==3) & (df[\"h1n1_knowledge\"]==2)].fillna(1.0)\n",
    "        df[i] = df[i].fillna(0.0)\n",
    "        \n",
    "    for i in replace_with_one_value_three_conditions:\n",
    "        df[i][(df[\"h1n1_concern\"]==3) & (df[\"h1n1_knowledge\"]==2)] = df[i][(df[\"h1n1_concern\"]==3) & (df[\"h1n1_knowledge\"]==2)].fillna(1.0)\n",
    "        df[i][(df[\"h1n1_concern\"]==3) & (df[\"h1n1_knowledge\"]==1)] = df[i][(df[\"h1n1_concern\"]==3) & (df[\"h1n1_knowledge\"]==1)].fillna(1.0)\n",
    "        df[i] = df[i].fillna(0.0)\n",
    "    \n",
    "    return df\n",
    "\n",
    "def replace_with_dict_values(df,values_replace_dict):\n",
    "    ctr = 0\n",
    "    for i in values_replace_dict:\n",
    "        df[i] = df[i].map(values_replace_dict[i])\n",
    "        ctr += 1\n",
    "    return df\n",
    "\n"
   ],
   "metadata": {
    "collapsed": false,
    "ExecuteTime": {
     "end_time": "2023-12-14T17:00:59.104031Z",
     "start_time": "2023-12-14T17:00:59.102099Z"
    }
   },
   "id": "9a5ab752c09998ed"
  },
  {
   "cell_type": "code",
   "execution_count": 141,
   "outputs": [],
   "source": [
    "df_train_input = train_input.copy()\n",
    "\n",
    "df_train_input = replace_na_with_values(df_train_input,replace_with_value_0,replace_with_value_1,replace_with_value_2,replace_with_value_3)\n",
    "\n",
    "df_train_input = replace_na_with_conditional_values(df_train_input,replace_with_one_value_one_condition, replace_with_one_value_two_conditions, replace_with_one_value_three_conditions)\n",
    "\n",
    "df_train_input = replace_with_dict_values(df_train_input,values_replace_dict)\n",
    "\n",
    "df_train_input = sort_using_numerical_encoding(df_train_input,sort_and_numerical_encoding)"
   ],
   "metadata": {
    "collapsed": false,
    "ExecuteTime": {
     "end_time": "2023-12-14T17:00:59.691366Z",
     "start_time": "2023-12-14T17:00:59.637713Z"
    }
   },
   "id": "5e4954bff7e3f30a"
  },
  {
   "cell_type": "code",
   "execution_count": 142,
   "outputs": [
    {
     "data": {
      "text/plain": "       respondent_id  h1n1_concern  h1n1_knowledge  behavioral_antiviral_meds  \\\n0                  0           1.0             0.0                        0.0   \n1                  1           3.0             2.0                        0.0   \n2                  2           1.0             1.0                        0.0   \n3                  3           1.0             1.0                        0.0   \n4                  4           2.0             1.0                        0.0   \n...              ...           ...             ...                        ...   \n26702          26702           2.0             0.0                        0.0   \n26703          26703           1.0             2.0                        0.0   \n26704          26704           2.0             2.0                        0.0   \n26705          26705           1.0             1.0                        0.0   \n26706          26706           0.0             0.0                        0.0   \n\n       behavioral_avoidance  behavioral_face_mask  behavioral_wash_hands  \\\n0                       0.0                   0.0                    0.0   \n1                       1.0                   0.0                    1.0   \n2                       1.0                   0.0                    0.0   \n3                       1.0                   0.0                    1.0   \n4                       1.0                   0.0                    1.0   \n...                     ...                   ...                    ...   \n26702                   1.0                   0.0                    0.0   \n26703                   1.0                   0.0                    1.0   \n26704                   1.0                   1.0                    1.0   \n26705                   0.0                   0.0                    0.0   \n26706                   1.0                   0.0                    0.0   \n\n       behavioral_large_gatherings  behavioral_outside_home  \\\n0                              0.0                      1.0   \n1                              0.0                      1.0   \n2                              0.0                      0.0   \n3                              1.0                      0.0   \n4                              1.0                      0.0   \n...                            ...                      ...   \n26702                          0.0                      1.0   \n26703                          0.0                      0.0   \n26704                          1.0                      0.0   \n26705                          0.0                      0.0   \n26706                          0.0                      0.0   \n\n       behavioral_touch_face  ...  income_poverty  marital_status  \\\n0                        1.0  ...             0.0             0.0   \n1                        1.0  ...             0.0             0.0   \n2                        0.0  ...             1.0             0.0   \n3                        0.0  ...             0.0             0.0   \n4                        1.0  ...             1.0             1.0   \n...                      ...  ...             ...             ...   \n26702                    0.0  ...             1.0             0.0   \n26703                    0.0  ...             1.0             0.0   \n26704                    1.0  ...             NaN             0.0   \n26705                    0.0  ...             1.0             1.0   \n26706                    0.0  ...             1.0             1.0   \n\n       rent_or_own  employment_status  hhs_geo_region  census_msa  \\\n0              1.0                1.0               8         0.0   \n1              0.0                2.0               1         NaN   \n2              1.0                2.0               9         NaN   \n3              0.0                1.0               5         2.0   \n4              1.0                2.0               9         NaN   \n...            ...                ...             ...         ...   \n26702          1.0                1.0               9         0.0   \n26703          0.0                2.0               6         2.0   \n26704          1.0                NaN               6         NaN   \n26705          0.0                2.0               5         0.0   \n26706          1.0                1.0               7         2.0   \n\n       household_adults  household_children  employment_industry  \\\n0                   0.0                 0.0                  NaN   \n1                   0.0                 0.0                 12.0   \n2                   2.0                 0.0                 14.0   \n3                   0.0                 0.0                  NaN   \n4                   1.0                 0.0                 18.0   \n...                 ...                 ...                  ...   \n26702               0.0                 0.0                  NaN   \n26703               1.0                 0.0                  4.0   \n26704               0.0                 0.0                  NaN   \n26705               1.0                 0.0                  4.0   \n26706               1.0                 0.0                  NaN   \n\n       employment_occupation  \n0                        NaN  \n1                       19.0  \n2                       21.0  \n3                        NaN  \n4                        5.0  \n...                      ...  \n26702                    NaN  \n26703                    2.0  \n26704                    NaN  \n26705                    6.0  \n26706                    NaN  \n\n[26707 rows x 36 columns]",
      "text/html": "<div>\n<style scoped>\n    .dataframe tbody tr th:only-of-type {\n        vertical-align: middle;\n    }\n\n    .dataframe tbody tr th {\n        vertical-align: top;\n    }\n\n    .dataframe thead th {\n        text-align: right;\n    }\n</style>\n<table border=\"1\" class=\"dataframe\">\n  <thead>\n    <tr style=\"text-align: right;\">\n      <th></th>\n      <th>respondent_id</th>\n      <th>h1n1_concern</th>\n      <th>h1n1_knowledge</th>\n      <th>behavioral_antiviral_meds</th>\n      <th>behavioral_avoidance</th>\n      <th>behavioral_face_mask</th>\n      <th>behavioral_wash_hands</th>\n      <th>behavioral_large_gatherings</th>\n      <th>behavioral_outside_home</th>\n      <th>behavioral_touch_face</th>\n      <th>...</th>\n      <th>income_poverty</th>\n      <th>marital_status</th>\n      <th>rent_or_own</th>\n      <th>employment_status</th>\n      <th>hhs_geo_region</th>\n      <th>census_msa</th>\n      <th>household_adults</th>\n      <th>household_children</th>\n      <th>employment_industry</th>\n      <th>employment_occupation</th>\n    </tr>\n  </thead>\n  <tbody>\n    <tr>\n      <th>0</th>\n      <td>0</td>\n      <td>1.0</td>\n      <td>0.0</td>\n      <td>0.0</td>\n      <td>0.0</td>\n      <td>0.0</td>\n      <td>0.0</td>\n      <td>0.0</td>\n      <td>1.0</td>\n      <td>1.0</td>\n      <td>...</td>\n      <td>0.0</td>\n      <td>0.0</td>\n      <td>1.0</td>\n      <td>1.0</td>\n      <td>8</td>\n      <td>0.0</td>\n      <td>0.0</td>\n      <td>0.0</td>\n      <td>NaN</td>\n      <td>NaN</td>\n    </tr>\n    <tr>\n      <th>1</th>\n      <td>1</td>\n      <td>3.0</td>\n      <td>2.0</td>\n      <td>0.0</td>\n      <td>1.0</td>\n      <td>0.0</td>\n      <td>1.0</td>\n      <td>0.0</td>\n      <td>1.0</td>\n      <td>1.0</td>\n      <td>...</td>\n      <td>0.0</td>\n      <td>0.0</td>\n      <td>0.0</td>\n      <td>2.0</td>\n      <td>1</td>\n      <td>NaN</td>\n      <td>0.0</td>\n      <td>0.0</td>\n      <td>12.0</td>\n      <td>19.0</td>\n    </tr>\n    <tr>\n      <th>2</th>\n      <td>2</td>\n      <td>1.0</td>\n      <td>1.0</td>\n      <td>0.0</td>\n      <td>1.0</td>\n      <td>0.0</td>\n      <td>0.0</td>\n      <td>0.0</td>\n      <td>0.0</td>\n      <td>0.0</td>\n      <td>...</td>\n      <td>1.0</td>\n      <td>0.0</td>\n      <td>1.0</td>\n      <td>2.0</td>\n      <td>9</td>\n      <td>NaN</td>\n      <td>2.0</td>\n      <td>0.0</td>\n      <td>14.0</td>\n      <td>21.0</td>\n    </tr>\n    <tr>\n      <th>3</th>\n      <td>3</td>\n      <td>1.0</td>\n      <td>1.0</td>\n      <td>0.0</td>\n      <td>1.0</td>\n      <td>0.0</td>\n      <td>1.0</td>\n      <td>1.0</td>\n      <td>0.0</td>\n      <td>0.0</td>\n      <td>...</td>\n      <td>0.0</td>\n      <td>0.0</td>\n      <td>0.0</td>\n      <td>1.0</td>\n      <td>5</td>\n      <td>2.0</td>\n      <td>0.0</td>\n      <td>0.0</td>\n      <td>NaN</td>\n      <td>NaN</td>\n    </tr>\n    <tr>\n      <th>4</th>\n      <td>4</td>\n      <td>2.0</td>\n      <td>1.0</td>\n      <td>0.0</td>\n      <td>1.0</td>\n      <td>0.0</td>\n      <td>1.0</td>\n      <td>1.0</td>\n      <td>0.0</td>\n      <td>1.0</td>\n      <td>...</td>\n      <td>1.0</td>\n      <td>1.0</td>\n      <td>1.0</td>\n      <td>2.0</td>\n      <td>9</td>\n      <td>NaN</td>\n      <td>1.0</td>\n      <td>0.0</td>\n      <td>18.0</td>\n      <td>5.0</td>\n    </tr>\n    <tr>\n      <th>...</th>\n      <td>...</td>\n      <td>...</td>\n      <td>...</td>\n      <td>...</td>\n      <td>...</td>\n      <td>...</td>\n      <td>...</td>\n      <td>...</td>\n      <td>...</td>\n      <td>...</td>\n      <td>...</td>\n      <td>...</td>\n      <td>...</td>\n      <td>...</td>\n      <td>...</td>\n      <td>...</td>\n      <td>...</td>\n      <td>...</td>\n      <td>...</td>\n      <td>...</td>\n      <td>...</td>\n    </tr>\n    <tr>\n      <th>26702</th>\n      <td>26702</td>\n      <td>2.0</td>\n      <td>0.0</td>\n      <td>0.0</td>\n      <td>1.0</td>\n      <td>0.0</td>\n      <td>0.0</td>\n      <td>0.0</td>\n      <td>1.0</td>\n      <td>0.0</td>\n      <td>...</td>\n      <td>1.0</td>\n      <td>0.0</td>\n      <td>1.0</td>\n      <td>1.0</td>\n      <td>9</td>\n      <td>0.0</td>\n      <td>0.0</td>\n      <td>0.0</td>\n      <td>NaN</td>\n      <td>NaN</td>\n    </tr>\n    <tr>\n      <th>26703</th>\n      <td>26703</td>\n      <td>1.0</td>\n      <td>2.0</td>\n      <td>0.0</td>\n      <td>1.0</td>\n      <td>0.0</td>\n      <td>1.0</td>\n      <td>0.0</td>\n      <td>0.0</td>\n      <td>0.0</td>\n      <td>...</td>\n      <td>1.0</td>\n      <td>0.0</td>\n      <td>0.0</td>\n      <td>2.0</td>\n      <td>6</td>\n      <td>2.0</td>\n      <td>1.0</td>\n      <td>0.0</td>\n      <td>4.0</td>\n      <td>2.0</td>\n    </tr>\n    <tr>\n      <th>26704</th>\n      <td>26704</td>\n      <td>2.0</td>\n      <td>2.0</td>\n      <td>0.0</td>\n      <td>1.0</td>\n      <td>1.0</td>\n      <td>1.0</td>\n      <td>1.0</td>\n      <td>0.0</td>\n      <td>1.0</td>\n      <td>...</td>\n      <td>NaN</td>\n      <td>0.0</td>\n      <td>1.0</td>\n      <td>NaN</td>\n      <td>6</td>\n      <td>NaN</td>\n      <td>0.0</td>\n      <td>0.0</td>\n      <td>NaN</td>\n      <td>NaN</td>\n    </tr>\n    <tr>\n      <th>26705</th>\n      <td>26705</td>\n      <td>1.0</td>\n      <td>1.0</td>\n      <td>0.0</td>\n      <td>0.0</td>\n      <td>0.0</td>\n      <td>0.0</td>\n      <td>0.0</td>\n      <td>0.0</td>\n      <td>0.0</td>\n      <td>...</td>\n      <td>1.0</td>\n      <td>1.0</td>\n      <td>0.0</td>\n      <td>2.0</td>\n      <td>5</td>\n      <td>0.0</td>\n      <td>1.0</td>\n      <td>0.0</td>\n      <td>4.0</td>\n      <td>6.0</td>\n    </tr>\n    <tr>\n      <th>26706</th>\n      <td>26706</td>\n      <td>0.0</td>\n      <td>0.0</td>\n      <td>0.0</td>\n      <td>1.0</td>\n      <td>0.0</td>\n      <td>0.0</td>\n      <td>0.0</td>\n      <td>0.0</td>\n      <td>0.0</td>\n      <td>...</td>\n      <td>1.0</td>\n      <td>1.0</td>\n      <td>1.0</td>\n      <td>1.0</td>\n      <td>7</td>\n      <td>2.0</td>\n      <td>1.0</td>\n      <td>0.0</td>\n      <td>NaN</td>\n      <td>NaN</td>\n    </tr>\n  </tbody>\n</table>\n<p>26707 rows × 36 columns</p>\n</div>"
     },
     "execution_count": 142,
     "metadata": {},
     "output_type": "execute_result"
    }
   ],
   "source": [
    "df_train_input"
   ],
   "metadata": {
    "collapsed": false,
    "ExecuteTime": {
     "end_time": "2023-12-14T17:01:00.177951Z",
     "start_time": "2023-12-14T17:01:00.144589Z"
    }
   },
   "id": "cf609ec5b40b6ee"
  },
  {
   "cell_type": "code",
   "execution_count": null,
   "outputs": [],
   "source": [
    "marital_status = 0.0\n",
    "rent_or_own = "
   ],
   "metadata": {
    "collapsed": false
   },
   "id": "4f4658eb572968bb"
  }
 ],
 "metadata": {
  "kernelspec": {
   "display_name": "Python 3",
   "language": "python",
   "name": "python3"
  },
  "language_info": {
   "codemirror_mode": {
    "name": "ipython",
    "version": 2
   },
   "file_extension": ".py",
   "mimetype": "text/x-python",
   "name": "python",
   "nbconvert_exporter": "python",
   "pygments_lexer": "ipython2",
   "version": "2.7.6"
  }
 },
 "nbformat": 4,
 "nbformat_minor": 5
}
