{
 "cells": [
  {
   "cell_type": "code",
   "execution_count": 95,
   "id": "initial_id",
   "metadata": {
    "collapsed": true,
    "ExecuteTime": {
     "end_time": "2023-12-19T02:49:43.251716Z",
     "start_time": "2023-12-19T02:49:43.247684Z"
    }
   },
   "outputs": [],
   "source": [
    "import numpy as np\n",
    "import pandas as pd\n",
    "import matplotlib.pyplot as plt\n",
    "import seaborn as sns\n",
    "import warnings\n",
    "warnings.filterwarnings(\"ignore\")\n",
    "from sklearn.multioutput import *\n",
    "from sklearn.preprocessing import *\n",
    "from sklearn.linear_model import *\n",
    "from sklearn.metrics import *\n",
    "from sklearn.model_selection import *"
   ]
  },
  {
   "cell_type": "markdown",
   "source": [
    "You are provided a dataset with 36 columns. The first column respondent_id is a unique and random identifier. The remaining 35 features are described below.\n",
    "\n",
    "For all binary variables: 0 = No; 1 = Yes.\n",
    "\n",
    "h1n1_concern - Level of concern about the H1N1 flu.\n",
    "0 = Not at all concerned; 1 = Not very concerned; 2 = Somewhat concerned; 3 = Very concerned.\n",
    "\n",
    "h1n1_knowledge - Level of knowledge about H1N1 flu.\n",
    "0 = No knowledge; 1 = A little knowledge; 2 = A lot of knowledge.\n",
    "\n",
    "behavioral_antiviral_meds - Has taken antiviral medications. (binary)\n",
    "\n",
    "behavioral_avoidance - Has avoided close contact with others with flu-like symptoms. (binary)\n",
    "\n",
    "behavioral_face_mask - Has bought a face mask. (binary)\n",
    "\n",
    "behavioral_wash_hands - Has frequently washed hands or used hand sanitizer. (binary)\n",
    "\n",
    "behavioral_large_gatherings - Has reduced time at large gatherings. (binary)\n",
    "\n",
    "behavioral_outside_home - Has reduced contact with people outside of own household. (binary)\n",
    "\n",
    "behavioral_touch_face - Has avoided touching eyes, nose, or mouth. (binary)\n",
    "\n",
    "doctor_recc_h1n1 - H1N1 flu vaccine was recommended by doctor. (binary)\n",
    "\n",
    "doctor_recc_seasonal - Seasonal flu vaccine was recommended by doctor. (binary)\n",
    "\n",
    "chronic_med_condition - Has any of the following chronic medical conditions: asthma or an other lung condition, diabetes, a heart condition, a kidney condition, sickle cell anemia or other anemia, a neurological or neuromuscular condition, a liver condition, or a weakened immune system caused by a chronic illness or by medicines taken for a chronic illness. (binary)\n",
    "\n",
    "child_under_6_months - Has regular close contact with a child under the age of six months. (binary)\n",
    "\n",
    "health_worker - Is a healthcare worker. (binary)\n",
    "\n",
    "health_insurance - Has health insurance. (binary)\n",
    "\n",
    "opinion_h1n1_vacc_effective - Respondent's opinion about H1N1 vaccine effectiveness.\n",
    "1 = Not at all effective; 2 = Not very effective; 3 = Don't know; 4 = Somewhat effective; 5 = Very effective.\n",
    "\n",
    "opinion_h1n1_risk - Respondent's opinion about risk of getting sick with H1N1 flu without vaccine.\n",
    "1 = Very Low; 2 = Somewhat low; 3 = Don't know; 4 = Somewhat high; 5 = Very high.\n",
    "\n",
    "opinion_h1n1_sick_from_vacc - Respondent's worry of getting sick from taking H1N1 vaccine.\n",
    "1 = Not at all worried; 2 = Not very worried; 3 = Don't know; 4 = Somewhat worried; 5 = Very worried.\n",
    "\n",
    "opinion_seas_vacc_effective - Respondent's opinion about seasonal flu vaccine effectiveness.\n",
    "1 = Not at all effective; 2 = Not very effective; 3 = Don't know; 4 = Somewhat effective; 5 = Very effective.\n",
    "\n",
    "opinion_seas_risk - Respondent's opinion about risk of getting sick with seasonal flu without vaccine.\n",
    "1 = Very Low; 2 = Somewhat low; 3 = Don't know; 4 = Somewhat high; 5 = Very high.\n",
    "\n",
    "opinion_seas_sick_from_vacc - Respondent's worry of getting sick from taking seasonal flu vaccine.\n",
    "1 = Not at all worried; 2 = Not very worried; 3 = Don't know; 4 = Somewhat worried; 5 = Very worried.\n",
    "\n",
    "age_group - Age group of respondent.\n",
    "\n",
    "education - Self-reported education level.\n",
    "\n",
    "race - Race of respondent.\n",
    "\n",
    "sex - Sex of respondent.\n",
    "\n",
    "income_poverty - Household annual income of respondent with respect to 2008 Census poverty thresholds.\n",
    "\n",
    "marital_status - Marital status of respondent.\n",
    "\n",
    "rent_or_own - Housing situation of respondent.\n",
    "\n",
    "employment_status - Employment status of respondent.\n",
    "\n",
    "hhs_geo_region - Respondent's residence using a 10-region geographic classification defined by the U.S. Dept. of Health and Human Services. Values are represented as short random character strings.\n",
    "\n",
    "census_msa - Respondent's residence within metropolitan statistical areas (MSA) as defined by the U.S. Census.\n",
    "\n",
    "household_adults - Number of other adults in household, top-coded to 3.\n",
    "\n",
    "household_children - Number of children in household, top-coded to 3.\n",
    "\n",
    "employment_industry - Type of industry respondent is employed in. Values are represented as short random character strings.\n",
    "\n",
    "employment_occupation - Type of occupation of respondent. Values are represented as short random character strings."
   ],
   "metadata": {
    "collapsed": false
   },
   "id": "c168bbd11ffb90ad"
  },
  {
   "cell_type": "code",
   "execution_count": 198,
   "outputs": [],
   "source": [
    "def subtract_opinions_by_1(df):\n",
    "    opinions = [\"opinion_h1n1_vacc_effective\",\"opinion_h1n1_risk\",\"opinion_h1n1_sick_from_vacc\",\"opinion_seas_vacc_effective\",\"opinion_seas_risk\",\"opinion_seas_sick_from_vacc\"]\n",
    "    for i in opinions:\n",
    "        df[i] = df[i] - 1.0\n",
    "    return df"
   ],
   "metadata": {
    "collapsed": false,
    "ExecuteTime": {
     "end_time": "2023-12-19T03:34:00.059554Z",
     "start_time": "2023-12-19T03:34:00.054293Z"
    }
   },
   "id": "cdb356d6205d57ed"
  },
  {
   "cell_type": "code",
   "execution_count": 199,
   "outputs": [],
   "source": [
    "train_input = pd.read_csv(\"training_set_features.csv\")\n",
    "train_output = pd.read_csv(\"training_set_labels.csv\")\n",
    "test_input = pd.read_csv(\"test_set_features.csv\")\n",
    "\n",
    "train_input = subtract_opinions_by_1(train_input)\n",
    "test_input = subtract_opinions_by_1(test_input)"
   ],
   "metadata": {
    "collapsed": false,
    "ExecuteTime": {
     "end_time": "2023-12-19T03:34:00.557864Z",
     "start_time": "2023-12-19T03:34:00.431337Z"
    }
   },
   "id": "41d79d6eec6d995"
  },
  {
   "cell_type": "code",
   "execution_count": 200,
   "outputs": [
    {
     "data": {
      "text/plain": "       respondent_id  h1n1_concern  h1n1_knowledge  behavioral_antiviral_meds  \\\n0                  0           1.0             0.0                        0.0   \n1                  1           3.0             2.0                        0.0   \n2                  2           1.0             1.0                        0.0   \n3                  3           1.0             1.0                        0.0   \n4                  4           2.0             1.0                        0.0   \n...              ...           ...             ...                        ...   \n26702          26702           2.0             0.0                        0.0   \n26703          26703           1.0             2.0                        0.0   \n26704          26704           2.0             2.0                        0.0   \n26705          26705           1.0             1.0                        0.0   \n26706          26706           0.0             0.0                        0.0   \n\n       behavioral_avoidance  behavioral_face_mask  behavioral_wash_hands  \\\n0                       0.0                   0.0                    0.0   \n1                       1.0                   0.0                    1.0   \n2                       1.0                   0.0                    0.0   \n3                       1.0                   0.0                    1.0   \n4                       1.0                   0.0                    1.0   \n...                     ...                   ...                    ...   \n26702                   1.0                   0.0                    0.0   \n26703                   1.0                   0.0                    1.0   \n26704                   1.0                   1.0                    1.0   \n26705                   0.0                   0.0                    0.0   \n26706                   1.0                   0.0                    0.0   \n\n       behavioral_large_gatherings  behavioral_outside_home  \\\n0                              0.0                      1.0   \n1                              0.0                      1.0   \n2                              0.0                      0.0   \n3                              1.0                      0.0   \n4                              1.0                      0.0   \n...                            ...                      ...   \n26702                          0.0                      1.0   \n26703                          0.0                      0.0   \n26704                          1.0                      0.0   \n26705                          0.0                      0.0   \n26706                          0.0                      0.0   \n\n       behavioral_touch_face  ...             income_poverty  marital_status  \\\n0                        1.0  ...              Below Poverty     Not Married   \n1                        1.0  ...              Below Poverty     Not Married   \n2                        0.0  ...  <= $75,000, Above Poverty     Not Married   \n3                        0.0  ...              Below Poverty     Not Married   \n4                        1.0  ...  <= $75,000, Above Poverty         Married   \n...                      ...  ...                        ...             ...   \n26702                    0.0  ...  <= $75,000, Above Poverty     Not Married   \n26703                    0.0  ...  <= $75,000, Above Poverty     Not Married   \n26704                    1.0  ...                        NaN     Not Married   \n26705                    NaN  ...  <= $75,000, Above Poverty         Married   \n26706                    0.0  ...  <= $75,000, Above Poverty         Married   \n\n       rent_or_own   employment_status  hhs_geo_region  \\\n0              Own  Not in Labor Force        oxchjgsf   \n1             Rent            Employed        bhuqouqj   \n2              Own            Employed        qufhixun   \n3             Rent  Not in Labor Force        lrircsnp   \n4              Own            Employed        qufhixun   \n...            ...                 ...             ...   \n26702          Own  Not in Labor Force        qufhixun   \n26703         Rent            Employed        lzgpxyit   \n26704          Own                 NaN        lzgpxyit   \n26705         Rent            Employed        lrircsnp   \n26706          Own  Not in Labor Force        mlyzmhmf   \n\n                     census_msa  household_adults  household_children  \\\n0                       Non-MSA               0.0                 0.0   \n1      MSA, Not Principle  City               0.0                 0.0   \n2      MSA, Not Principle  City               2.0                 0.0   \n3           MSA, Principle City               0.0                 0.0   \n4      MSA, Not Principle  City               1.0                 0.0   \n...                         ...               ...                 ...   \n26702                   Non-MSA               0.0                 0.0   \n26703       MSA, Principle City               1.0                 0.0   \n26704  MSA, Not Principle  City               0.0                 0.0   \n26705                   Non-MSA               1.0                 0.0   \n26706       MSA, Principle City               1.0                 0.0   \n\n       employment_industry  employment_occupation  \n0                      NaN                    NaN  \n1                 pxcmvdjn               xgwztkwe  \n2                 rucpziij               xtkaffoo  \n3                      NaN                    NaN  \n4                 wxleyezf               emcorrxb  \n...                    ...                    ...  \n26702                  NaN                    NaN  \n26703             fcxhlnwr               cmhcxjea  \n26704                  NaN                    NaN  \n26705             fcxhlnwr               haliazsg  \n26706                  NaN                    NaN  \n\n[26707 rows x 36 columns]",
      "text/html": "<div>\n<style scoped>\n    .dataframe tbody tr th:only-of-type {\n        vertical-align: middle;\n    }\n\n    .dataframe tbody tr th {\n        vertical-align: top;\n    }\n\n    .dataframe thead th {\n        text-align: right;\n    }\n</style>\n<table border=\"1\" class=\"dataframe\">\n  <thead>\n    <tr style=\"text-align: right;\">\n      <th></th>\n      <th>respondent_id</th>\n      <th>h1n1_concern</th>\n      <th>h1n1_knowledge</th>\n      <th>behavioral_antiviral_meds</th>\n      <th>behavioral_avoidance</th>\n      <th>behavioral_face_mask</th>\n      <th>behavioral_wash_hands</th>\n      <th>behavioral_large_gatherings</th>\n      <th>behavioral_outside_home</th>\n      <th>behavioral_touch_face</th>\n      <th>...</th>\n      <th>income_poverty</th>\n      <th>marital_status</th>\n      <th>rent_or_own</th>\n      <th>employment_status</th>\n      <th>hhs_geo_region</th>\n      <th>census_msa</th>\n      <th>household_adults</th>\n      <th>household_children</th>\n      <th>employment_industry</th>\n      <th>employment_occupation</th>\n    </tr>\n  </thead>\n  <tbody>\n    <tr>\n      <th>0</th>\n      <td>0</td>\n      <td>1.0</td>\n      <td>0.0</td>\n      <td>0.0</td>\n      <td>0.0</td>\n      <td>0.0</td>\n      <td>0.0</td>\n      <td>0.0</td>\n      <td>1.0</td>\n      <td>1.0</td>\n      <td>...</td>\n      <td>Below Poverty</td>\n      <td>Not Married</td>\n      <td>Own</td>\n      <td>Not in Labor Force</td>\n      <td>oxchjgsf</td>\n      <td>Non-MSA</td>\n      <td>0.0</td>\n      <td>0.0</td>\n      <td>NaN</td>\n      <td>NaN</td>\n    </tr>\n    <tr>\n      <th>1</th>\n      <td>1</td>\n      <td>3.0</td>\n      <td>2.0</td>\n      <td>0.0</td>\n      <td>1.0</td>\n      <td>0.0</td>\n      <td>1.0</td>\n      <td>0.0</td>\n      <td>1.0</td>\n      <td>1.0</td>\n      <td>...</td>\n      <td>Below Poverty</td>\n      <td>Not Married</td>\n      <td>Rent</td>\n      <td>Employed</td>\n      <td>bhuqouqj</td>\n      <td>MSA, Not Principle  City</td>\n      <td>0.0</td>\n      <td>0.0</td>\n      <td>pxcmvdjn</td>\n      <td>xgwztkwe</td>\n    </tr>\n    <tr>\n      <th>2</th>\n      <td>2</td>\n      <td>1.0</td>\n      <td>1.0</td>\n      <td>0.0</td>\n      <td>1.0</td>\n      <td>0.0</td>\n      <td>0.0</td>\n      <td>0.0</td>\n      <td>0.0</td>\n      <td>0.0</td>\n      <td>...</td>\n      <td>&lt;= $75,000, Above Poverty</td>\n      <td>Not Married</td>\n      <td>Own</td>\n      <td>Employed</td>\n      <td>qufhixun</td>\n      <td>MSA, Not Principle  City</td>\n      <td>2.0</td>\n      <td>0.0</td>\n      <td>rucpziij</td>\n      <td>xtkaffoo</td>\n    </tr>\n    <tr>\n      <th>3</th>\n      <td>3</td>\n      <td>1.0</td>\n      <td>1.0</td>\n      <td>0.0</td>\n      <td>1.0</td>\n      <td>0.0</td>\n      <td>1.0</td>\n      <td>1.0</td>\n      <td>0.0</td>\n      <td>0.0</td>\n      <td>...</td>\n      <td>Below Poverty</td>\n      <td>Not Married</td>\n      <td>Rent</td>\n      <td>Not in Labor Force</td>\n      <td>lrircsnp</td>\n      <td>MSA, Principle City</td>\n      <td>0.0</td>\n      <td>0.0</td>\n      <td>NaN</td>\n      <td>NaN</td>\n    </tr>\n    <tr>\n      <th>4</th>\n      <td>4</td>\n      <td>2.0</td>\n      <td>1.0</td>\n      <td>0.0</td>\n      <td>1.0</td>\n      <td>0.0</td>\n      <td>1.0</td>\n      <td>1.0</td>\n      <td>0.0</td>\n      <td>1.0</td>\n      <td>...</td>\n      <td>&lt;= $75,000, Above Poverty</td>\n      <td>Married</td>\n      <td>Own</td>\n      <td>Employed</td>\n      <td>qufhixun</td>\n      <td>MSA, Not Principle  City</td>\n      <td>1.0</td>\n      <td>0.0</td>\n      <td>wxleyezf</td>\n      <td>emcorrxb</td>\n    </tr>\n    <tr>\n      <th>...</th>\n      <td>...</td>\n      <td>...</td>\n      <td>...</td>\n      <td>...</td>\n      <td>...</td>\n      <td>...</td>\n      <td>...</td>\n      <td>...</td>\n      <td>...</td>\n      <td>...</td>\n      <td>...</td>\n      <td>...</td>\n      <td>...</td>\n      <td>...</td>\n      <td>...</td>\n      <td>...</td>\n      <td>...</td>\n      <td>...</td>\n      <td>...</td>\n      <td>...</td>\n      <td>...</td>\n    </tr>\n    <tr>\n      <th>26702</th>\n      <td>26702</td>\n      <td>2.0</td>\n      <td>0.0</td>\n      <td>0.0</td>\n      <td>1.0</td>\n      <td>0.0</td>\n      <td>0.0</td>\n      <td>0.0</td>\n      <td>1.0</td>\n      <td>0.0</td>\n      <td>...</td>\n      <td>&lt;= $75,000, Above Poverty</td>\n      <td>Not Married</td>\n      <td>Own</td>\n      <td>Not in Labor Force</td>\n      <td>qufhixun</td>\n      <td>Non-MSA</td>\n      <td>0.0</td>\n      <td>0.0</td>\n      <td>NaN</td>\n      <td>NaN</td>\n    </tr>\n    <tr>\n      <th>26703</th>\n      <td>26703</td>\n      <td>1.0</td>\n      <td>2.0</td>\n      <td>0.0</td>\n      <td>1.0</td>\n      <td>0.0</td>\n      <td>1.0</td>\n      <td>0.0</td>\n      <td>0.0</td>\n      <td>0.0</td>\n      <td>...</td>\n      <td>&lt;= $75,000, Above Poverty</td>\n      <td>Not Married</td>\n      <td>Rent</td>\n      <td>Employed</td>\n      <td>lzgpxyit</td>\n      <td>MSA, Principle City</td>\n      <td>1.0</td>\n      <td>0.0</td>\n      <td>fcxhlnwr</td>\n      <td>cmhcxjea</td>\n    </tr>\n    <tr>\n      <th>26704</th>\n      <td>26704</td>\n      <td>2.0</td>\n      <td>2.0</td>\n      <td>0.0</td>\n      <td>1.0</td>\n      <td>1.0</td>\n      <td>1.0</td>\n      <td>1.0</td>\n      <td>0.0</td>\n      <td>1.0</td>\n      <td>...</td>\n      <td>NaN</td>\n      <td>Not Married</td>\n      <td>Own</td>\n      <td>NaN</td>\n      <td>lzgpxyit</td>\n      <td>MSA, Not Principle  City</td>\n      <td>0.0</td>\n      <td>0.0</td>\n      <td>NaN</td>\n      <td>NaN</td>\n    </tr>\n    <tr>\n      <th>26705</th>\n      <td>26705</td>\n      <td>1.0</td>\n      <td>1.0</td>\n      <td>0.0</td>\n      <td>0.0</td>\n      <td>0.0</td>\n      <td>0.0</td>\n      <td>0.0</td>\n      <td>0.0</td>\n      <td>NaN</td>\n      <td>...</td>\n      <td>&lt;= $75,000, Above Poverty</td>\n      <td>Married</td>\n      <td>Rent</td>\n      <td>Employed</td>\n      <td>lrircsnp</td>\n      <td>Non-MSA</td>\n      <td>1.0</td>\n      <td>0.0</td>\n      <td>fcxhlnwr</td>\n      <td>haliazsg</td>\n    </tr>\n    <tr>\n      <th>26706</th>\n      <td>26706</td>\n      <td>0.0</td>\n      <td>0.0</td>\n      <td>0.0</td>\n      <td>1.0</td>\n      <td>0.0</td>\n      <td>0.0</td>\n      <td>0.0</td>\n      <td>0.0</td>\n      <td>0.0</td>\n      <td>...</td>\n      <td>&lt;= $75,000, Above Poverty</td>\n      <td>Married</td>\n      <td>Own</td>\n      <td>Not in Labor Force</td>\n      <td>mlyzmhmf</td>\n      <td>MSA, Principle City</td>\n      <td>1.0</td>\n      <td>0.0</td>\n      <td>NaN</td>\n      <td>NaN</td>\n    </tr>\n  </tbody>\n</table>\n<p>26707 rows × 36 columns</p>\n</div>"
     },
     "execution_count": 200,
     "metadata": {},
     "output_type": "execute_result"
    }
   ],
   "source": [
    "train_input"
   ],
   "metadata": {
    "collapsed": false,
    "ExecuteTime": {
     "end_time": "2023-12-19T03:34:00.835674Z",
     "start_time": "2023-12-19T03:34:00.772213Z"
    }
   },
   "id": "d560f61778135765"
  },
  {
   "cell_type": "code",
   "execution_count": 207,
   "outputs": [],
   "source": [
    "replace_null_with_values = {\n",
    "\n",
    "    \"0.0\" : [\"doctor_recc_h1n1\",\"doctor_recc_seasonal\",\"chronic_med_condition\",\"health_worker\",\"income_poverty\",\"marital_status\",\"rent_or_own\",\"employment_status\",\"household_children\"],\n",
    "\n",
    "    \"1.0\" : [\"h1n1_knowledge\",\"health_insurance\",\"census_msa\",\"household_adults\"],\n",
    "\n",
    "    \"2.0\" : [\"h1n1_concern\",\"opinion_h1n1_vacc_effective\",\"opinion_h1n1_risk\",\"opinion_h1n1_sick_from_vacc\",\"opinion_seas_vacc_effective\",\"opinion_seas_risk\",\"opinion_seas_sick_from_vacc\",\"age_group\",\"education\"],\n",
    "\n",
    "    \"one_condition\" : [\"behavioral_avoidance\",\"behavioral_face_mask\",\"behavioral_large_gatherings\",\"behavioral_outside_home\",\"behavioral_touch_face\"],# If the person is highly concerned about h1n1 virus (3.0), then 1.0 else 0.0\n",
    "\n",
    "    \"one_inverse_condition\" : [\"child_under_6_months\"],# If the person is highly concerned about h1n1 virus (3.0), then 0.0 else 1.0\n",
    "\n",
    "    \"two_conditions\" : [\"behavioral_antiviral_meds\"], # If the person is highly concerned about h1n1 virus (3.0) and has a lot of knowledge about the virus (2.0)\n",
    "\n",
    "    \"three_conditions\" : [\"behavioral_wash_hands\"], # If the person is highly concerned about h1n1 virus (3.0) and has some knowledge about the virus (1.0 or 2.0)\n",
    "\n",
    "    \"median\" : [\"hhs_geo_region\",\"employment_industry\",\"employment_occupation\",\"employment_industry\",\"employment_occupation\"]\n",
    "}"
   ],
   "metadata": {
    "collapsed": false,
    "ExecuteTime": {
     "end_time": "2023-12-19T03:34:37.850363Z",
     "start_time": "2023-12-19T03:34:37.842468Z"
    }
   },
   "id": "af2347a3158e86fd"
  },
  {
   "cell_type": "code",
   "execution_count": 208,
   "outputs": [],
   "source": [
    "value_replace_features = [\"age_group\",\"income_poverty\",\"race\",\"sex\",\"hhs_geo_region\",\"employment_industry\",\"employment_occupation\",\"census_msa\"]\n",
    "\n",
    "values_replace_dict_2 = {\n",
    "    \"education\" : {\"< 12 Years\":0,\"12 Years\":1,\"Some College\":2,\"College Graduate\":3},\n",
    "    \"marital_status\" : {\"Not Married\":0,\"Married\":1},\n",
    "    \"rent_or_own\" : {\"Rent\":0,\"Own\":1},\n",
    "    \"employment_status\" : {\"Unemployed\":0,\"Not in Labor Force\":1,\"Employed\":2}\n",
    "}"
   ],
   "metadata": {
    "collapsed": false,
    "ExecuteTime": {
     "end_time": "2023-12-19T03:34:38.245329Z",
     "start_time": "2023-12-19T03:34:38.242827Z"
    }
   },
   "id": "91f1e6f96d9026b2"
  },
  {
   "cell_type": "code",
   "execution_count": 209,
   "outputs": [],
   "source": [
    "def replace_elements_with_numbers(df,value_replace_features,values_replace_dict_2):\n",
    "    values_replace_dict = {}\n",
    "    new_df = df.copy()\n",
    "    for value in value_replace_features:\n",
    "        u = train_input[value].unique().tolist()\n",
    "        for i in u:\n",
    "            k = str(i)\n",
    "            if k == \"nan\":\n",
    "                u.remove(i)\n",
    "        u = np.array(u)\n",
    "        dic = {}\n",
    "        ctr = 0\n",
    "        for i in np.sort(u):\n",
    "            k = str(i)\n",
    "            if k == \"nan\":\n",
    "                continue\n",
    "            dic[i] = ctr\n",
    "            ctr += 1\n",
    "        values_replace_dict[value] = dic\n",
    "    for i in values_replace_dict:\n",
    "        new_df[i] = new_df[i].map(values_replace_dict[i])\n",
    "    for i in values_replace_dict_2:\n",
    "        new_df[i] = new_df[i].map(values_replace_dict_2[i])\n",
    "    return new_df"
   ],
   "metadata": {
    "collapsed": false,
    "ExecuteTime": {
     "end_time": "2023-12-19T03:34:38.511570Z",
     "start_time": "2023-12-19T03:34:38.509701Z"
    }
   },
   "id": "ebf7d98cf81b7005"
  },
  {
   "cell_type": "code",
   "execution_count": 212,
   "outputs": [],
   "source": [
    "def deal_with_null_values(df,replace_null_with_values):\n",
    "    \n",
    "    new_df = df.copy()\n",
    "    \n",
    "    for i in replace_null_with_values[\"0.0\"]:\n",
    "        new_df[i] = new_df[i].fillna(0.0).astype(\"int64\")\n",
    "    for i in replace_null_with_values[\"1.0\"]:\n",
    "        new_df[i] = new_df[i].fillna(1.0).astype(\"int64\")\n",
    "    for i in replace_null_with_values[\"2.0\"]:\n",
    "        new_df[i] = new_df[i].fillna(2.0).astype(\"int64\")\n",
    "\n",
    "    for i in replace_null_with_values[\"one_condition\"]:\n",
    "        new_df[i][new_df[\"h1n1_concern\"]==3.0] = new_df[i][new_df[\"h1n1_concern\"]==3.0].fillna(1.0).astype(\"int64\")\n",
    "        new_df[i] = new_df[i].fillna(0.0).astype(\"int64\")\n",
    "    \n",
    "    for i in replace_null_with_values[\"one_inverse_condition\"]:\n",
    "        new_df[i][new_df[\"h1n1_concern\"]==3.0] = new_df[i][new_df[\"h1n1_concern\"]==3.0].fillna(0.0).astype(\"int64\")\n",
    "        new_df[i] = new_df[i].fillna(1.0).astype(\"int64\")\n",
    "    \n",
    "    for i in replace_null_with_values[\"two_conditions\"]:\n",
    "        cond = (new_df[\"h1n1_concern\"] == 3.0) & (new_df[\"h1n1_knowledge\"] == 2.0)\n",
    "        new_df[i][cond] = new_df[i][cond].fillna(1.0).astype(\"int64\")\n",
    "        new_df[i] = new_df[i].fillna(0.0).astype(\"int64\")\n",
    "    \n",
    "    for i in replace_null_with_values[\"three_conditions\"]:\n",
    "        cond = (new_df[\"h1n1_concern\"] == 3.0) & ((new_df[\"h1n1_knowledge\"] == 2.0) | (new_df[\"h1n1_knowledge\"] == 1.0))\n",
    "        new_df[i][cond] = new_df[i][cond].fillna(1.0).astype(\"int64\")\n",
    "        new_df[i] = new_df[i].fillna(0.0).astype(\"int64\")\n",
    "\n",
    "    for i in replace_null_with_values[\"median\"]:\n",
    "        new_df[i] = new_df[i].fillna(new_df[i].median()).astype(\"int64\")\n",
    "    \n",
    "    return new_df"
   ],
   "metadata": {
    "collapsed": false,
    "ExecuteTime": {
     "end_time": "2023-12-19T03:34:51.397091Z",
     "start_time": "2023-12-19T03:34:51.396503Z"
    }
   },
   "id": "c460ae36dc48a5c"
  },
  {
   "cell_type": "code",
   "execution_count": 213,
   "outputs": [],
   "source": [
    "df_train_input = replace_elements_with_numbers(train_input,value_replace_features,values_replace_dict_2)\n",
    "df_train_input = deal_with_null_values(df_train_input,replace_null_with_values)"
   ],
   "metadata": {
    "collapsed": false,
    "ExecuteTime": {
     "end_time": "2023-12-19T03:34:51.853769Z",
     "start_time": "2023-12-19T03:34:51.801080Z"
    }
   },
   "id": "3ed20acedaa64adf"
  },
  {
   "cell_type": "code",
   "execution_count": 215,
   "outputs": [],
   "source": [
    "df_test_input = replace_elements_with_numbers(test_input,value_replace_features,values_replace_dict_2)\n",
    "df_test_input = deal_with_null_values(df_test_input,replace_null_with_values)"
   ],
   "metadata": {
    "collapsed": false,
    "ExecuteTime": {
     "end_time": "2023-12-19T03:35:43.038207Z",
     "start_time": "2023-12-19T03:35:42.971395Z"
    }
   },
   "id": "e98ef9919af12a03"
  },
  {
   "cell_type": "code",
   "execution_count": 216,
   "outputs": [
    {
     "data": {
      "text/plain": "       respondent_id  h1n1_concern  h1n1_knowledge  behavioral_antiviral_meds  \\\n0                  0             1               0                          0   \n1                  1             3               2                          0   \n2                  2             1               1                          0   \n3                  3             1               1                          0   \n4                  4             2               1                          0   \n...              ...           ...             ...                        ...   \n26702          26702             2               0                          0   \n26703          26703             1               2                          0   \n26704          26704             2               2                          0   \n26705          26705             1               1                          0   \n26706          26706             0               0                          0   \n\n       behavioral_avoidance  behavioral_face_mask  behavioral_wash_hands  \\\n0                         0                     0                      0   \n1                         1                     0                      1   \n2                         1                     0                      0   \n3                         1                     0                      1   \n4                         1                     0                      1   \n...                     ...                   ...                    ...   \n26702                     1                     0                      0   \n26703                     1                     0                      1   \n26704                     1                     1                      1   \n26705                     0                     0                      0   \n26706                     1                     0                      0   \n\n       behavioral_large_gatherings  behavioral_outside_home  \\\n0                                0                        1   \n1                                0                        1   \n2                                0                        0   \n3                                1                        0   \n4                                1                        0   \n...                            ...                      ...   \n26702                            0                        1   \n26703                            0                        0   \n26704                            1                        0   \n26705                            0                        0   \n26706                            0                        0   \n\n       behavioral_touch_face  ...  income_poverty  marital_status  \\\n0                          1  ...               2               0   \n1                          1  ...               2               0   \n2                          0  ...               0               0   \n3                          0  ...               2               0   \n4                          1  ...               0               1   \n...                      ...  ...             ...             ...   \n26702                      0  ...               0               0   \n26703                      0  ...               0               0   \n26704                      1  ...               0               0   \n26705                      0  ...               0               1   \n26706                      0  ...               0               1   \n\n       rent_or_own  employment_status  hhs_geo_region  census_msa  \\\n0                1                  1               8           2   \n1                0                  2               1           0   \n2                1                  2               9           0   \n3                0                  1               5           1   \n4                1                  2               9           0   \n...            ...                ...             ...         ...   \n26702            1                  1               9           2   \n26703            0                  2               6           1   \n26704            1                  0               6           0   \n26705            0                  2               5           2   \n26706            1                  1               7           1   \n\n       household_adults  household_children  employment_industry  \\\n0                     0                   0                    8   \n1                     0                   0                   12   \n2                     2                   0                   14   \n3                     0                   0                    8   \n4                     1                   0                   18   \n...                 ...                 ...                  ...   \n26702                 0                   0                    8   \n26703                 1                   0                    4   \n26704                 0                   0                    8   \n26705                 1                   0                    4   \n26706                 1                   0                    8   \n\n       employment_occupation  \n0                         10  \n1                         19  \n2                         21  \n3                         10  \n4                          5  \n...                      ...  \n26702                     10  \n26703                      2  \n26704                     10  \n26705                      6  \n26706                     10  \n\n[26707 rows x 36 columns]",
      "text/html": "<div>\n<style scoped>\n    .dataframe tbody tr th:only-of-type {\n        vertical-align: middle;\n    }\n\n    .dataframe tbody tr th {\n        vertical-align: top;\n    }\n\n    .dataframe thead th {\n        text-align: right;\n    }\n</style>\n<table border=\"1\" class=\"dataframe\">\n  <thead>\n    <tr style=\"text-align: right;\">\n      <th></th>\n      <th>respondent_id</th>\n      <th>h1n1_concern</th>\n      <th>h1n1_knowledge</th>\n      <th>behavioral_antiviral_meds</th>\n      <th>behavioral_avoidance</th>\n      <th>behavioral_face_mask</th>\n      <th>behavioral_wash_hands</th>\n      <th>behavioral_large_gatherings</th>\n      <th>behavioral_outside_home</th>\n      <th>behavioral_touch_face</th>\n      <th>...</th>\n      <th>income_poverty</th>\n      <th>marital_status</th>\n      <th>rent_or_own</th>\n      <th>employment_status</th>\n      <th>hhs_geo_region</th>\n      <th>census_msa</th>\n      <th>household_adults</th>\n      <th>household_children</th>\n      <th>employment_industry</th>\n      <th>employment_occupation</th>\n    </tr>\n  </thead>\n  <tbody>\n    <tr>\n      <th>0</th>\n      <td>0</td>\n      <td>1</td>\n      <td>0</td>\n      <td>0</td>\n      <td>0</td>\n      <td>0</td>\n      <td>0</td>\n      <td>0</td>\n      <td>1</td>\n      <td>1</td>\n      <td>...</td>\n      <td>2</td>\n      <td>0</td>\n      <td>1</td>\n      <td>1</td>\n      <td>8</td>\n      <td>2</td>\n      <td>0</td>\n      <td>0</td>\n      <td>8</td>\n      <td>10</td>\n    </tr>\n    <tr>\n      <th>1</th>\n      <td>1</td>\n      <td>3</td>\n      <td>2</td>\n      <td>0</td>\n      <td>1</td>\n      <td>0</td>\n      <td>1</td>\n      <td>0</td>\n      <td>1</td>\n      <td>1</td>\n      <td>...</td>\n      <td>2</td>\n      <td>0</td>\n      <td>0</td>\n      <td>2</td>\n      <td>1</td>\n      <td>0</td>\n      <td>0</td>\n      <td>0</td>\n      <td>12</td>\n      <td>19</td>\n    </tr>\n    <tr>\n      <th>2</th>\n      <td>2</td>\n      <td>1</td>\n      <td>1</td>\n      <td>0</td>\n      <td>1</td>\n      <td>0</td>\n      <td>0</td>\n      <td>0</td>\n      <td>0</td>\n      <td>0</td>\n      <td>...</td>\n      <td>0</td>\n      <td>0</td>\n      <td>1</td>\n      <td>2</td>\n      <td>9</td>\n      <td>0</td>\n      <td>2</td>\n      <td>0</td>\n      <td>14</td>\n      <td>21</td>\n    </tr>\n    <tr>\n      <th>3</th>\n      <td>3</td>\n      <td>1</td>\n      <td>1</td>\n      <td>0</td>\n      <td>1</td>\n      <td>0</td>\n      <td>1</td>\n      <td>1</td>\n      <td>0</td>\n      <td>0</td>\n      <td>...</td>\n      <td>2</td>\n      <td>0</td>\n      <td>0</td>\n      <td>1</td>\n      <td>5</td>\n      <td>1</td>\n      <td>0</td>\n      <td>0</td>\n      <td>8</td>\n      <td>10</td>\n    </tr>\n    <tr>\n      <th>4</th>\n      <td>4</td>\n      <td>2</td>\n      <td>1</td>\n      <td>0</td>\n      <td>1</td>\n      <td>0</td>\n      <td>1</td>\n      <td>1</td>\n      <td>0</td>\n      <td>1</td>\n      <td>...</td>\n      <td>0</td>\n      <td>1</td>\n      <td>1</td>\n      <td>2</td>\n      <td>9</td>\n      <td>0</td>\n      <td>1</td>\n      <td>0</td>\n      <td>18</td>\n      <td>5</td>\n    </tr>\n    <tr>\n      <th>...</th>\n      <td>...</td>\n      <td>...</td>\n      <td>...</td>\n      <td>...</td>\n      <td>...</td>\n      <td>...</td>\n      <td>...</td>\n      <td>...</td>\n      <td>...</td>\n      <td>...</td>\n      <td>...</td>\n      <td>...</td>\n      <td>...</td>\n      <td>...</td>\n      <td>...</td>\n      <td>...</td>\n      <td>...</td>\n      <td>...</td>\n      <td>...</td>\n      <td>...</td>\n      <td>...</td>\n    </tr>\n    <tr>\n      <th>26702</th>\n      <td>26702</td>\n      <td>2</td>\n      <td>0</td>\n      <td>0</td>\n      <td>1</td>\n      <td>0</td>\n      <td>0</td>\n      <td>0</td>\n      <td>1</td>\n      <td>0</td>\n      <td>...</td>\n      <td>0</td>\n      <td>0</td>\n      <td>1</td>\n      <td>1</td>\n      <td>9</td>\n      <td>2</td>\n      <td>0</td>\n      <td>0</td>\n      <td>8</td>\n      <td>10</td>\n    </tr>\n    <tr>\n      <th>26703</th>\n      <td>26703</td>\n      <td>1</td>\n      <td>2</td>\n      <td>0</td>\n      <td>1</td>\n      <td>0</td>\n      <td>1</td>\n      <td>0</td>\n      <td>0</td>\n      <td>0</td>\n      <td>...</td>\n      <td>0</td>\n      <td>0</td>\n      <td>0</td>\n      <td>2</td>\n      <td>6</td>\n      <td>1</td>\n      <td>1</td>\n      <td>0</td>\n      <td>4</td>\n      <td>2</td>\n    </tr>\n    <tr>\n      <th>26704</th>\n      <td>26704</td>\n      <td>2</td>\n      <td>2</td>\n      <td>0</td>\n      <td>1</td>\n      <td>1</td>\n      <td>1</td>\n      <td>1</td>\n      <td>0</td>\n      <td>1</td>\n      <td>...</td>\n      <td>0</td>\n      <td>0</td>\n      <td>1</td>\n      <td>0</td>\n      <td>6</td>\n      <td>0</td>\n      <td>0</td>\n      <td>0</td>\n      <td>8</td>\n      <td>10</td>\n    </tr>\n    <tr>\n      <th>26705</th>\n      <td>26705</td>\n      <td>1</td>\n      <td>1</td>\n      <td>0</td>\n      <td>0</td>\n      <td>0</td>\n      <td>0</td>\n      <td>0</td>\n      <td>0</td>\n      <td>0</td>\n      <td>...</td>\n      <td>0</td>\n      <td>1</td>\n      <td>0</td>\n      <td>2</td>\n      <td>5</td>\n      <td>2</td>\n      <td>1</td>\n      <td>0</td>\n      <td>4</td>\n      <td>6</td>\n    </tr>\n    <tr>\n      <th>26706</th>\n      <td>26706</td>\n      <td>0</td>\n      <td>0</td>\n      <td>0</td>\n      <td>1</td>\n      <td>0</td>\n      <td>0</td>\n      <td>0</td>\n      <td>0</td>\n      <td>0</td>\n      <td>...</td>\n      <td>0</td>\n      <td>1</td>\n      <td>1</td>\n      <td>1</td>\n      <td>7</td>\n      <td>1</td>\n      <td>1</td>\n      <td>0</td>\n      <td>8</td>\n      <td>10</td>\n    </tr>\n  </tbody>\n</table>\n<p>26707 rows × 36 columns</p>\n</div>"
     },
     "execution_count": 216,
     "metadata": {},
     "output_type": "execute_result"
    }
   ],
   "source": [
    "df_train_input"
   ],
   "metadata": {
    "collapsed": false,
    "ExecuteTime": {
     "end_time": "2023-12-19T03:35:43.950699Z",
     "start_time": "2023-12-19T03:35:43.881724Z"
    }
   },
   "id": "b478edf200979b85"
  },
  {
   "cell_type": "code",
   "execution_count": 231,
   "outputs": [],
   "source": [
    "col = train_input.columns.values[1:]\n",
    "X_train = df_train_input.drop(columns=[\"respondent_id\"])\n",
    "X_test = df_test_input.drop(columns=[\"respondent_id\"])\n",
    "y_train = train_output.drop(columns=[\"respondent_id\"])\n",
    "mms = MinMaxScaler()\n",
    "X_train = pd.DataFrame(mms.fit_transform(X_train),columns=col).round(2)\n",
    "X_test = pd.DataFrame(mms.fit_transform(X_test),columns=col).round(2)"
   ],
   "metadata": {
    "collapsed": false,
    "ExecuteTime": {
     "end_time": "2023-12-19T03:41:47.913118Z",
     "start_time": "2023-12-19T03:41:47.830558Z"
    }
   },
   "id": "bda1114842b071c7"
  },
  {
   "cell_type": "code",
   "execution_count": 232,
   "outputs": [
    {
     "data": {
      "text/plain": "       h1n1_concern  h1n1_knowledge  behavioral_antiviral_meds  \\\n0              0.33             0.0                        0.0   \n1              1.00             1.0                        0.0   \n2              0.33             0.5                        0.0   \n3              0.33             0.5                        0.0   \n4              0.67             0.5                        0.0   \n...             ...             ...                        ...   \n26702          0.67             0.0                        0.0   \n26703          0.33             1.0                        0.0   \n26704          0.67             1.0                        0.0   \n26705          0.33             0.5                        0.0   \n26706          0.00             0.0                        0.0   \n\n       behavioral_avoidance  behavioral_face_mask  behavioral_wash_hands  \\\n0                       0.0                   0.0                    0.0   \n1                       1.0                   0.0                    1.0   \n2                       1.0                   0.0                    0.0   \n3                       1.0                   0.0                    1.0   \n4                       1.0                   0.0                    1.0   \n...                     ...                   ...                    ...   \n26702                   1.0                   0.0                    0.0   \n26703                   1.0                   0.0                    1.0   \n26704                   1.0                   1.0                    1.0   \n26705                   0.0                   0.0                    0.0   \n26706                   1.0                   0.0                    0.0   \n\n       behavioral_large_gatherings  behavioral_outside_home  \\\n0                              0.0                      1.0   \n1                              0.0                      1.0   \n2                              0.0                      0.0   \n3                              1.0                      0.0   \n4                              1.0                      0.0   \n...                            ...                      ...   \n26702                          0.0                      1.0   \n26703                          0.0                      0.0   \n26704                          1.0                      0.0   \n26705                          0.0                      0.0   \n26706                          0.0                      0.0   \n\n       behavioral_touch_face  doctor_recc_h1n1  ...  income_poverty  \\\n0                        1.0               0.0  ...             1.0   \n1                        1.0               0.0  ...             1.0   \n2                        0.0               0.0  ...             0.0   \n3                        0.0               0.0  ...             1.0   \n4                        1.0               0.0  ...             0.0   \n...                      ...               ...  ...             ...   \n26702                    0.0               0.0  ...             0.0   \n26703                    0.0               1.0  ...             0.0   \n26704                    1.0               0.0  ...             0.0   \n26705                    0.0               0.0  ...             0.0   \n26706                    0.0               0.0  ...             0.0   \n\n       marital_status  rent_or_own  employment_status  hhs_geo_region  \\\n0                 0.0          1.0                0.5            0.89   \n1                 0.0          0.0                1.0            0.11   \n2                 0.0          1.0                1.0            1.00   \n3                 0.0          0.0                0.5            0.56   \n4                 1.0          1.0                1.0            1.00   \n...               ...          ...                ...             ...   \n26702             0.0          1.0                0.5            1.00   \n26703             0.0          0.0                1.0            0.67   \n26704             0.0          1.0                0.0            0.67   \n26705             1.0          0.0                1.0            0.56   \n26706             1.0          1.0                0.5            0.78   \n\n       census_msa  household_adults  household_children  employment_industry  \\\n0             1.0              0.00                 0.0                  0.4   \n1             0.0              0.00                 0.0                  0.6   \n2             0.0              0.67                 0.0                  0.7   \n3             0.5              0.00                 0.0                  0.4   \n4             0.0              0.33                 0.0                  0.9   \n...           ...               ...                 ...                  ...   \n26702         1.0              0.00                 0.0                  0.4   \n26703         0.5              0.33                 0.0                  0.2   \n26704         0.0              0.00                 0.0                  0.4   \n26705         1.0              0.33                 0.0                  0.2   \n26706         0.5              0.33                 0.0                  0.4   \n\n       employment_occupation  \n0                       0.45  \n1                       0.86  \n2                       0.95  \n3                       0.45  \n4                       0.23  \n...                      ...  \n26702                   0.45  \n26703                   0.09  \n26704                   0.45  \n26705                   0.27  \n26706                   0.45  \n\n[26707 rows x 35 columns]",
      "text/html": "<div>\n<style scoped>\n    .dataframe tbody tr th:only-of-type {\n        vertical-align: middle;\n    }\n\n    .dataframe tbody tr th {\n        vertical-align: top;\n    }\n\n    .dataframe thead th {\n        text-align: right;\n    }\n</style>\n<table border=\"1\" class=\"dataframe\">\n  <thead>\n    <tr style=\"text-align: right;\">\n      <th></th>\n      <th>h1n1_concern</th>\n      <th>h1n1_knowledge</th>\n      <th>behavioral_antiviral_meds</th>\n      <th>behavioral_avoidance</th>\n      <th>behavioral_face_mask</th>\n      <th>behavioral_wash_hands</th>\n      <th>behavioral_large_gatherings</th>\n      <th>behavioral_outside_home</th>\n      <th>behavioral_touch_face</th>\n      <th>doctor_recc_h1n1</th>\n      <th>...</th>\n      <th>income_poverty</th>\n      <th>marital_status</th>\n      <th>rent_or_own</th>\n      <th>employment_status</th>\n      <th>hhs_geo_region</th>\n      <th>census_msa</th>\n      <th>household_adults</th>\n      <th>household_children</th>\n      <th>employment_industry</th>\n      <th>employment_occupation</th>\n    </tr>\n  </thead>\n  <tbody>\n    <tr>\n      <th>0</th>\n      <td>0.33</td>\n      <td>0.0</td>\n      <td>0.0</td>\n      <td>0.0</td>\n      <td>0.0</td>\n      <td>0.0</td>\n      <td>0.0</td>\n      <td>1.0</td>\n      <td>1.0</td>\n      <td>0.0</td>\n      <td>...</td>\n      <td>1.0</td>\n      <td>0.0</td>\n      <td>1.0</td>\n      <td>0.5</td>\n      <td>0.89</td>\n      <td>1.0</td>\n      <td>0.00</td>\n      <td>0.0</td>\n      <td>0.4</td>\n      <td>0.45</td>\n    </tr>\n    <tr>\n      <th>1</th>\n      <td>1.00</td>\n      <td>1.0</td>\n      <td>0.0</td>\n      <td>1.0</td>\n      <td>0.0</td>\n      <td>1.0</td>\n      <td>0.0</td>\n      <td>1.0</td>\n      <td>1.0</td>\n      <td>0.0</td>\n      <td>...</td>\n      <td>1.0</td>\n      <td>0.0</td>\n      <td>0.0</td>\n      <td>1.0</td>\n      <td>0.11</td>\n      <td>0.0</td>\n      <td>0.00</td>\n      <td>0.0</td>\n      <td>0.6</td>\n      <td>0.86</td>\n    </tr>\n    <tr>\n      <th>2</th>\n      <td>0.33</td>\n      <td>0.5</td>\n      <td>0.0</td>\n      <td>1.0</td>\n      <td>0.0</td>\n      <td>0.0</td>\n      <td>0.0</td>\n      <td>0.0</td>\n      <td>0.0</td>\n      <td>0.0</td>\n      <td>...</td>\n      <td>0.0</td>\n      <td>0.0</td>\n      <td>1.0</td>\n      <td>1.0</td>\n      <td>1.00</td>\n      <td>0.0</td>\n      <td>0.67</td>\n      <td>0.0</td>\n      <td>0.7</td>\n      <td>0.95</td>\n    </tr>\n    <tr>\n      <th>3</th>\n      <td>0.33</td>\n      <td>0.5</td>\n      <td>0.0</td>\n      <td>1.0</td>\n      <td>0.0</td>\n      <td>1.0</td>\n      <td>1.0</td>\n      <td>0.0</td>\n      <td>0.0</td>\n      <td>0.0</td>\n      <td>...</td>\n      <td>1.0</td>\n      <td>0.0</td>\n      <td>0.0</td>\n      <td>0.5</td>\n      <td>0.56</td>\n      <td>0.5</td>\n      <td>0.00</td>\n      <td>0.0</td>\n      <td>0.4</td>\n      <td>0.45</td>\n    </tr>\n    <tr>\n      <th>4</th>\n      <td>0.67</td>\n      <td>0.5</td>\n      <td>0.0</td>\n      <td>1.0</td>\n      <td>0.0</td>\n      <td>1.0</td>\n      <td>1.0</td>\n      <td>0.0</td>\n      <td>1.0</td>\n      <td>0.0</td>\n      <td>...</td>\n      <td>0.0</td>\n      <td>1.0</td>\n      <td>1.0</td>\n      <td>1.0</td>\n      <td>1.00</td>\n      <td>0.0</td>\n      <td>0.33</td>\n      <td>0.0</td>\n      <td>0.9</td>\n      <td>0.23</td>\n    </tr>\n    <tr>\n      <th>...</th>\n      <td>...</td>\n      <td>...</td>\n      <td>...</td>\n      <td>...</td>\n      <td>...</td>\n      <td>...</td>\n      <td>...</td>\n      <td>...</td>\n      <td>...</td>\n      <td>...</td>\n      <td>...</td>\n      <td>...</td>\n      <td>...</td>\n      <td>...</td>\n      <td>...</td>\n      <td>...</td>\n      <td>...</td>\n      <td>...</td>\n      <td>...</td>\n      <td>...</td>\n      <td>...</td>\n    </tr>\n    <tr>\n      <th>26702</th>\n      <td>0.67</td>\n      <td>0.0</td>\n      <td>0.0</td>\n      <td>1.0</td>\n      <td>0.0</td>\n      <td>0.0</td>\n      <td>0.0</td>\n      <td>1.0</td>\n      <td>0.0</td>\n      <td>0.0</td>\n      <td>...</td>\n      <td>0.0</td>\n      <td>0.0</td>\n      <td>1.0</td>\n      <td>0.5</td>\n      <td>1.00</td>\n      <td>1.0</td>\n      <td>0.00</td>\n      <td>0.0</td>\n      <td>0.4</td>\n      <td>0.45</td>\n    </tr>\n    <tr>\n      <th>26703</th>\n      <td>0.33</td>\n      <td>1.0</td>\n      <td>0.0</td>\n      <td>1.0</td>\n      <td>0.0</td>\n      <td>1.0</td>\n      <td>0.0</td>\n      <td>0.0</td>\n      <td>0.0</td>\n      <td>1.0</td>\n      <td>...</td>\n      <td>0.0</td>\n      <td>0.0</td>\n      <td>0.0</td>\n      <td>1.0</td>\n      <td>0.67</td>\n      <td>0.5</td>\n      <td>0.33</td>\n      <td>0.0</td>\n      <td>0.2</td>\n      <td>0.09</td>\n    </tr>\n    <tr>\n      <th>26704</th>\n      <td>0.67</td>\n      <td>1.0</td>\n      <td>0.0</td>\n      <td>1.0</td>\n      <td>1.0</td>\n      <td>1.0</td>\n      <td>1.0</td>\n      <td>0.0</td>\n      <td>1.0</td>\n      <td>0.0</td>\n      <td>...</td>\n      <td>0.0</td>\n      <td>0.0</td>\n      <td>1.0</td>\n      <td>0.0</td>\n      <td>0.67</td>\n      <td>0.0</td>\n      <td>0.00</td>\n      <td>0.0</td>\n      <td>0.4</td>\n      <td>0.45</td>\n    </tr>\n    <tr>\n      <th>26705</th>\n      <td>0.33</td>\n      <td>0.5</td>\n      <td>0.0</td>\n      <td>0.0</td>\n      <td>0.0</td>\n      <td>0.0</td>\n      <td>0.0</td>\n      <td>0.0</td>\n      <td>0.0</td>\n      <td>0.0</td>\n      <td>...</td>\n      <td>0.0</td>\n      <td>1.0</td>\n      <td>0.0</td>\n      <td>1.0</td>\n      <td>0.56</td>\n      <td>1.0</td>\n      <td>0.33</td>\n      <td>0.0</td>\n      <td>0.2</td>\n      <td>0.27</td>\n    </tr>\n    <tr>\n      <th>26706</th>\n      <td>0.00</td>\n      <td>0.0</td>\n      <td>0.0</td>\n      <td>1.0</td>\n      <td>0.0</td>\n      <td>0.0</td>\n      <td>0.0</td>\n      <td>0.0</td>\n      <td>0.0</td>\n      <td>0.0</td>\n      <td>...</td>\n      <td>0.0</td>\n      <td>1.0</td>\n      <td>1.0</td>\n      <td>0.5</td>\n      <td>0.78</td>\n      <td>0.5</td>\n      <td>0.33</td>\n      <td>0.0</td>\n      <td>0.4</td>\n      <td>0.45</td>\n    </tr>\n  </tbody>\n</table>\n<p>26707 rows × 35 columns</p>\n</div>"
     },
     "execution_count": 232,
     "metadata": {},
     "output_type": "execute_result"
    }
   ],
   "source": [
    "X_train"
   ],
   "metadata": {
    "collapsed": false,
    "ExecuteTime": {
     "end_time": "2023-12-19T03:41:48.188737Z",
     "start_time": "2023-12-19T03:41:48.135630Z"
    }
   },
   "id": "ddedeceb88fde8f9"
  },
  {
   "cell_type": "code",
   "execution_count": 234,
   "outputs": [
    {
     "data": {
      "text/plain": "       h1n1_concern  h1n1_knowledge  behavioral_antiviral_meds  \\\n0              0.67             1.0                        0.0   \n1              0.33             0.5                        0.0   \n2              0.67             1.0                        0.0   \n3              0.33             0.5                        0.0   \n4              1.00             0.5                        1.0   \n...             ...             ...                        ...   \n26703          0.33             0.5                        0.0   \n26704          1.00             0.5                        0.0   \n26705          0.00             0.5                        0.0   \n26706          1.00             0.5                        0.0   \n26707          0.67             0.5                        0.0   \n\n       behavioral_avoidance  behavioral_face_mask  behavioral_wash_hands  \\\n0                       1.0                   0.0                    1.0   \n1                       0.0                   0.0                    0.0   \n2                       0.0                   1.0                    1.0   \n3                       0.0                   0.0                    0.0   \n4                       1.0                   0.0                    1.0   \n...                     ...                   ...                    ...   \n26703                   1.0                   0.0                    1.0   \n26704                   1.0                   0.0                    1.0   \n26705                   0.0                   0.0                    0.0   \n26706                   1.0                   0.0                    1.0   \n26707                   0.0                   0.0                    1.0   \n\n       behavioral_large_gatherings  behavioral_outside_home  \\\n0                              1.0                      0.0   \n1                              0.0                      0.0   \n2                              1.0                      1.0   \n3                              0.0                      0.0   \n4                              1.0                      1.0   \n...                            ...                      ...   \n26703                          0.0                      0.0   \n26704                          1.0                      1.0   \n26705                          0.0                      0.0   \n26706                          0.0                      1.0   \n26707                          0.0                      0.0   \n\n       behavioral_touch_face  doctor_recc_h1n1  ...  income_poverty  \\\n0                        1.0               0.0  ...             0.5   \n1                        0.0               0.0  ...             1.0   \n2                        1.0               0.0  ...             0.5   \n3                        0.0               1.0  ...             0.0   \n4                        1.0               0.0  ...             0.0   \n...                      ...               ...  ...             ...   \n26703                    1.0               1.0  ...             0.0   \n26704                    1.0               0.0  ...             1.0   \n26705                    0.0               0.0  ...             1.0   \n26706                    0.0               0.0  ...             0.0   \n26707                    1.0               1.0  ...             0.0   \n\n       marital_status  rent_or_own  employment_status  hhs_geo_region  \\\n0                 0.0          0.0                1.0            0.78   \n1                 0.0          0.0                1.0            0.11   \n2                 1.0          1.0                1.0            0.56   \n3                 1.0          1.0                0.5            0.56   \n4                 0.0          1.0                1.0            0.67   \n...               ...          ...                ...             ...   \n26703             0.0          0.0                0.0            0.22   \n26704             1.0          0.0                1.0            1.00   \n26705             0.0          0.0                0.5            1.00   \n26706             1.0          1.0                0.5            0.11   \n26707             0.0          0.0                1.0            0.56   \n\n       census_msa  household_adults  household_children  employment_industry  \\\n0             0.0              0.33                0.00                 0.05   \n1             1.0              1.00                0.00                 0.05   \n2             1.0              0.33                0.00                 0.50   \n3             0.0              0.33                0.00                 0.40   \n4             1.0              0.00                0.33                 0.20   \n...           ...               ...                 ...                  ...   \n26703         0.5              0.33                0.33                 0.40   \n26704         1.0              0.33                1.00                 0.20   \n26705         0.0              0.33                0.00                 0.40   \n26706         0.0              0.33                0.00                 0.40   \n26707         0.5              0.00                0.00                 0.40   \n\n       employment_occupation  \n0                       0.32  \n1                       0.91  \n2                       0.55  \n3                       0.45  \n4                       0.45  \n...                      ...  \n26703                   0.45  \n26704                   0.82  \n26705                   0.45  \n26706                   0.45  \n26707                   0.95  \n\n[26708 rows x 35 columns]",
      "text/html": "<div>\n<style scoped>\n    .dataframe tbody tr th:only-of-type {\n        vertical-align: middle;\n    }\n\n    .dataframe tbody tr th {\n        vertical-align: top;\n    }\n\n    .dataframe thead th {\n        text-align: right;\n    }\n</style>\n<table border=\"1\" class=\"dataframe\">\n  <thead>\n    <tr style=\"text-align: right;\">\n      <th></th>\n      <th>h1n1_concern</th>\n      <th>h1n1_knowledge</th>\n      <th>behavioral_antiviral_meds</th>\n      <th>behavioral_avoidance</th>\n      <th>behavioral_face_mask</th>\n      <th>behavioral_wash_hands</th>\n      <th>behavioral_large_gatherings</th>\n      <th>behavioral_outside_home</th>\n      <th>behavioral_touch_face</th>\n      <th>doctor_recc_h1n1</th>\n      <th>...</th>\n      <th>income_poverty</th>\n      <th>marital_status</th>\n      <th>rent_or_own</th>\n      <th>employment_status</th>\n      <th>hhs_geo_region</th>\n      <th>census_msa</th>\n      <th>household_adults</th>\n      <th>household_children</th>\n      <th>employment_industry</th>\n      <th>employment_occupation</th>\n    </tr>\n  </thead>\n  <tbody>\n    <tr>\n      <th>0</th>\n      <td>0.67</td>\n      <td>1.0</td>\n      <td>0.0</td>\n      <td>1.0</td>\n      <td>0.0</td>\n      <td>1.0</td>\n      <td>1.0</td>\n      <td>0.0</td>\n      <td>1.0</td>\n      <td>0.0</td>\n      <td>...</td>\n      <td>0.5</td>\n      <td>0.0</td>\n      <td>0.0</td>\n      <td>1.0</td>\n      <td>0.78</td>\n      <td>0.0</td>\n      <td>0.33</td>\n      <td>0.00</td>\n      <td>0.05</td>\n      <td>0.32</td>\n    </tr>\n    <tr>\n      <th>1</th>\n      <td>0.33</td>\n      <td>0.5</td>\n      <td>0.0</td>\n      <td>0.0</td>\n      <td>0.0</td>\n      <td>0.0</td>\n      <td>0.0</td>\n      <td>0.0</td>\n      <td>0.0</td>\n      <td>0.0</td>\n      <td>...</td>\n      <td>1.0</td>\n      <td>0.0</td>\n      <td>0.0</td>\n      <td>1.0</td>\n      <td>0.11</td>\n      <td>1.0</td>\n      <td>1.00</td>\n      <td>0.00</td>\n      <td>0.05</td>\n      <td>0.91</td>\n    </tr>\n    <tr>\n      <th>2</th>\n      <td>0.67</td>\n      <td>1.0</td>\n      <td>0.0</td>\n      <td>0.0</td>\n      <td>1.0</td>\n      <td>1.0</td>\n      <td>1.0</td>\n      <td>1.0</td>\n      <td>1.0</td>\n      <td>0.0</td>\n      <td>...</td>\n      <td>0.5</td>\n      <td>1.0</td>\n      <td>1.0</td>\n      <td>1.0</td>\n      <td>0.56</td>\n      <td>1.0</td>\n      <td>0.33</td>\n      <td>0.00</td>\n      <td>0.50</td>\n      <td>0.55</td>\n    </tr>\n    <tr>\n      <th>3</th>\n      <td>0.33</td>\n      <td>0.5</td>\n      <td>0.0</td>\n      <td>0.0</td>\n      <td>0.0</td>\n      <td>0.0</td>\n      <td>0.0</td>\n      <td>0.0</td>\n      <td>0.0</td>\n      <td>1.0</td>\n      <td>...</td>\n      <td>0.0</td>\n      <td>1.0</td>\n      <td>1.0</td>\n      <td>0.5</td>\n      <td>0.56</td>\n      <td>0.0</td>\n      <td>0.33</td>\n      <td>0.00</td>\n      <td>0.40</td>\n      <td>0.45</td>\n    </tr>\n    <tr>\n      <th>4</th>\n      <td>1.00</td>\n      <td>0.5</td>\n      <td>1.0</td>\n      <td>1.0</td>\n      <td>0.0</td>\n      <td>1.0</td>\n      <td>1.0</td>\n      <td>1.0</td>\n      <td>1.0</td>\n      <td>0.0</td>\n      <td>...</td>\n      <td>0.0</td>\n      <td>0.0</td>\n      <td>1.0</td>\n      <td>1.0</td>\n      <td>0.67</td>\n      <td>1.0</td>\n      <td>0.00</td>\n      <td>0.33</td>\n      <td>0.20</td>\n      <td>0.45</td>\n    </tr>\n    <tr>\n      <th>...</th>\n      <td>...</td>\n      <td>...</td>\n      <td>...</td>\n      <td>...</td>\n      <td>...</td>\n      <td>...</td>\n      <td>...</td>\n      <td>...</td>\n      <td>...</td>\n      <td>...</td>\n      <td>...</td>\n      <td>...</td>\n      <td>...</td>\n      <td>...</td>\n      <td>...</td>\n      <td>...</td>\n      <td>...</td>\n      <td>...</td>\n      <td>...</td>\n      <td>...</td>\n      <td>...</td>\n    </tr>\n    <tr>\n      <th>26703</th>\n      <td>0.33</td>\n      <td>0.5</td>\n      <td>0.0</td>\n      <td>1.0</td>\n      <td>0.0</td>\n      <td>1.0</td>\n      <td>0.0</td>\n      <td>0.0</td>\n      <td>1.0</td>\n      <td>1.0</td>\n      <td>...</td>\n      <td>0.0</td>\n      <td>0.0</td>\n      <td>0.0</td>\n      <td>0.0</td>\n      <td>0.22</td>\n      <td>0.5</td>\n      <td>0.33</td>\n      <td>0.33</td>\n      <td>0.40</td>\n      <td>0.45</td>\n    </tr>\n    <tr>\n      <th>26704</th>\n      <td>1.00</td>\n      <td>0.5</td>\n      <td>0.0</td>\n      <td>1.0</td>\n      <td>0.0</td>\n      <td>1.0</td>\n      <td>1.0</td>\n      <td>1.0</td>\n      <td>1.0</td>\n      <td>0.0</td>\n      <td>...</td>\n      <td>1.0</td>\n      <td>1.0</td>\n      <td>0.0</td>\n      <td>1.0</td>\n      <td>1.00</td>\n      <td>1.0</td>\n      <td>0.33</td>\n      <td>1.00</td>\n      <td>0.20</td>\n      <td>0.82</td>\n    </tr>\n    <tr>\n      <th>26705</th>\n      <td>0.00</td>\n      <td>0.5</td>\n      <td>0.0</td>\n      <td>0.0</td>\n      <td>0.0</td>\n      <td>0.0</td>\n      <td>0.0</td>\n      <td>0.0</td>\n      <td>0.0</td>\n      <td>0.0</td>\n      <td>...</td>\n      <td>1.0</td>\n      <td>0.0</td>\n      <td>0.0</td>\n      <td>0.5</td>\n      <td>1.00</td>\n      <td>0.0</td>\n      <td>0.33</td>\n      <td>0.00</td>\n      <td>0.40</td>\n      <td>0.45</td>\n    </tr>\n    <tr>\n      <th>26706</th>\n      <td>1.00</td>\n      <td>0.5</td>\n      <td>0.0</td>\n      <td>1.0</td>\n      <td>0.0</td>\n      <td>1.0</td>\n      <td>0.0</td>\n      <td>1.0</td>\n      <td>0.0</td>\n      <td>0.0</td>\n      <td>...</td>\n      <td>0.0</td>\n      <td>1.0</td>\n      <td>1.0</td>\n      <td>0.5</td>\n      <td>0.11</td>\n      <td>0.0</td>\n      <td>0.33</td>\n      <td>0.00</td>\n      <td>0.40</td>\n      <td>0.45</td>\n    </tr>\n    <tr>\n      <th>26707</th>\n      <td>0.67</td>\n      <td>0.5</td>\n      <td>0.0</td>\n      <td>0.0</td>\n      <td>0.0</td>\n      <td>1.0</td>\n      <td>0.0</td>\n      <td>0.0</td>\n      <td>1.0</td>\n      <td>1.0</td>\n      <td>...</td>\n      <td>0.0</td>\n      <td>0.0</td>\n      <td>0.0</td>\n      <td>1.0</td>\n      <td>0.56</td>\n      <td>0.5</td>\n      <td>0.00</td>\n      <td>0.00</td>\n      <td>0.40</td>\n      <td>0.95</td>\n    </tr>\n  </tbody>\n</table>\n<p>26708 rows × 35 columns</p>\n</div>"
     },
     "execution_count": 234,
     "metadata": {},
     "output_type": "execute_result"
    }
   ],
   "source": [
    "X_test"
   ],
   "metadata": {
    "collapsed": false,
    "ExecuteTime": {
     "end_time": "2023-12-19T03:42:10.476285Z",
     "start_time": "2023-12-19T03:42:10.455141Z"
    }
   },
   "id": "90dac84b3b6a43f2"
  },
  {
   "cell_type": "code",
   "execution_count": null,
   "outputs": [],
   "source": [],
   "metadata": {
    "collapsed": false
   },
   "id": "2c60c35d5a282978"
  }
 ],
 "metadata": {
  "kernelspec": {
   "display_name": "Python 3",
   "language": "python",
   "name": "python3"
  },
  "language_info": {
   "codemirror_mode": {
    "name": "ipython",
    "version": 2
   },
   "file_extension": ".py",
   "mimetype": "text/x-python",
   "name": "python",
   "nbconvert_exporter": "python",
   "pygments_lexer": "ipython2",
   "version": "2.7.6"
  }
 },
 "nbformat": 4,
 "nbformat_minor": 5
}
