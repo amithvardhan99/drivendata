{
 "cells": [
  {
   "cell_type": "code",
   "execution_count": 1,
   "id": "initial_id",
   "metadata": {
    "collapsed": true,
    "ExecuteTime": {
     "end_time": "2023-12-18T18:54:37.510919Z",
     "start_time": "2023-12-18T18:54:37.360090Z"
    }
   },
   "outputs": [],
   "source": [
    "import numpy as np\n",
    "import pandas as pd\n",
    "import matplotlib.pyplot as plt\n",
    "import seaborn as sns\n",
    "import warnings\n",
    "warnings.filterwarnings(\"ignore\")\n",
    "from sklearn.multioutput import *\n",
    "from sklearn.preprocessing import *\n",
    "from sklearn.linear_model import *\n",
    "from sklearn.metrics import *\n",
    "from sklearn.model_selection import *"
   ]
  },
  {
   "cell_type": "markdown",
   "source": [
    "You are provided a dataset with 36 columns. The first column respondent_id is a unique and random identifier. The remaining 35 features are described below.\n",
    "\n",
    "For all binary variables: 0 = No; 1 = Yes.\n",
    "\n",
    "h1n1_concern - Level of concern about the H1N1 flu.\n",
    "0 = Not at all concerned; 1 = Not very concerned; 2 = Somewhat concerned; 3 = Very concerned.\n",
    "\n",
    "h1n1_knowledge - Level of knowledge about H1N1 flu.\n",
    "0 = No knowledge; 1 = A little knowledge; 2 = A lot of knowledge.\n",
    "\n",
    "behavioral_antiviral_meds - Has taken antiviral medications. (binary)\n",
    "\n",
    "behavioral_avoidance - Has avoided close contact with others with flu-like symptoms. (binary)\n",
    "\n",
    "behavioral_face_mask - Has bought a face mask. (binary)\n",
    "\n",
    "behavioral_wash_hands - Has frequently washed hands or used hand sanitizer. (binary)\n",
    "\n",
    "behavioral_large_gatherings - Has reduced time at large gatherings. (binary)\n",
    "\n",
    "behavioral_outside_home - Has reduced contact with people outside of own household. (binary)\n",
    "\n",
    "behavioral_touch_face - Has avoided touching eyes, nose, or mouth. (binary)\n",
    "\n",
    "doctor_recc_h1n1 - H1N1 flu vaccine was recommended by doctor. (binary)\n",
    "\n",
    "doctor_recc_seasonal - Seasonal flu vaccine was recommended by doctor. (binary)\n",
    "\n",
    "chronic_med_condition - Has any of the following chronic medical conditions: asthma or an other lung condition, diabetes, a heart condition, a kidney condition, sickle cell anemia or other anemia, a neurological or neuromuscular condition, a liver condition, or a weakened immune system caused by a chronic illness or by medicines taken for a chronic illness. (binary)\n",
    "\n",
    "child_under_6_months - Has regular close contact with a child under the age of six months. (binary)\n",
    "\n",
    "health_worker - Is a healthcare worker. (binary)\n",
    "\n",
    "health_insurance - Has health insurance. (binary)\n",
    "\n",
    "opinion_h1n1_vacc_effective - Respondent's opinion about H1N1 vaccine effectiveness.\n",
    "1 = Not at all effective; 2 = Not very effective; 3 = Don't know; 4 = Somewhat effective; 5 = Very effective.\n",
    "\n",
    "opinion_h1n1_risk - Respondent's opinion about risk of getting sick with H1N1 flu without vaccine.\n",
    "1 = Very Low; 2 = Somewhat low; 3 = Don't know; 4 = Somewhat high; 5 = Very high.\n",
    "\n",
    "opinion_h1n1_sick_from_vacc - Respondent's worry of getting sick from taking H1N1 vaccine.\n",
    "1 = Not at all worried; 2 = Not very worried; 3 = Don't know; 4 = Somewhat worried; 5 = Very worried.\n",
    "\n",
    "opinion_seas_vacc_effective - Respondent's opinion about seasonal flu vaccine effectiveness.\n",
    "1 = Not at all effective; 2 = Not very effective; 3 = Don't know; 4 = Somewhat effective; 5 = Very effective.\n",
    "\n",
    "opinion_seas_risk - Respondent's opinion about risk of getting sick with seasonal flu without vaccine.\n",
    "1 = Very Low; 2 = Somewhat low; 3 = Don't know; 4 = Somewhat high; 5 = Very high.\n",
    "\n",
    "opinion_seas_sick_from_vacc - Respondent's worry of getting sick from taking seasonal flu vaccine.\n",
    "1 = Not at all worried; 2 = Not very worried; 3 = Don't know; 4 = Somewhat worried; 5 = Very worried.\n",
    "\n",
    "age_group - Age group of respondent.\n",
    "\n",
    "education - Self-reported education level.\n",
    "\n",
    "race - Race of respondent.\n",
    "\n",
    "sex - Sex of respondent.\n",
    "\n",
    "income_poverty - Household annual income of respondent with respect to 2008 Census poverty thresholds.\n",
    "\n",
    "marital_status - Marital status of respondent.\n",
    "\n",
    "rent_or_own - Housing situation of respondent.\n",
    "\n",
    "employment_status - Employment status of respondent.\n",
    "\n",
    "hhs_geo_region - Respondent's residence using a 10-region geographic classification defined by the U.S. Dept. of Health and Human Services. Values are represented as short random character strings.\n",
    "\n",
    "census_msa - Respondent's residence within metropolitan statistical areas (MSA) as defined by the U.S. Census.\n",
    "\n",
    "household_adults - Number of other adults in household, top-coded to 3.\n",
    "\n",
    "household_children - Number of children in household, top-coded to 3.\n",
    "\n",
    "employment_industry - Type of industry respondent is employed in. Values are represented as short random character strings.\n",
    "\n",
    "employment_occupation - Type of occupation of respondent. Values are represented as short random character strings."
   ],
   "metadata": {
    "collapsed": false
   },
   "id": "c168bbd11ffb90ad"
  },
  {
   "cell_type": "code",
   "execution_count": 4,
   "outputs": [],
   "source": [
    "train_input = pd.read_csv(\"training_set_features.csv\")\n",
    "train_output = pd.read_csv(\"training_set_labels.csv\")\n",
    "test_input = pd.read_csv(\"test_set_features.csv\")"
   ],
   "metadata": {
    "collapsed": false,
    "ExecuteTime": {
     "end_time": "2023-12-18T19:09:10.565356Z",
     "start_time": "2023-12-18T19:09:10.332052Z"
    }
   },
   "id": "41d79d6eec6d995"
  },
  {
   "cell_type": "code",
   "execution_count": 6,
   "outputs": [
    {
     "data": {
      "text/plain": "       respondent_id  h1n1_concern  h1n1_knowledge  behavioral_antiviral_meds  \\\n0                  0           1.0             0.0                        0.0   \n1                  1           3.0             2.0                        0.0   \n2                  2           1.0             1.0                        0.0   \n3                  3           1.0             1.0                        0.0   \n4                  4           2.0             1.0                        0.0   \n...              ...           ...             ...                        ...   \n26702          26702           2.0             0.0                        0.0   \n26703          26703           1.0             2.0                        0.0   \n26704          26704           2.0             2.0                        0.0   \n26705          26705           1.0             1.0                        0.0   \n26706          26706           0.0             0.0                        0.0   \n\n       behavioral_avoidance  behavioral_face_mask  behavioral_wash_hands  \\\n0                       0.0                   0.0                    0.0   \n1                       1.0                   0.0                    1.0   \n2                       1.0                   0.0                    0.0   \n3                       1.0                   0.0                    1.0   \n4                       1.0                   0.0                    1.0   \n...                     ...                   ...                    ...   \n26702                   1.0                   0.0                    0.0   \n26703                   1.0                   0.0                    1.0   \n26704                   1.0                   1.0                    1.0   \n26705                   0.0                   0.0                    0.0   \n26706                   1.0                   0.0                    0.0   \n\n       behavioral_large_gatherings  behavioral_outside_home  \\\n0                              0.0                      1.0   \n1                              0.0                      1.0   \n2                              0.0                      0.0   \n3                              1.0                      0.0   \n4                              1.0                      0.0   \n...                            ...                      ...   \n26702                          0.0                      1.0   \n26703                          0.0                      0.0   \n26704                          1.0                      0.0   \n26705                          0.0                      0.0   \n26706                          0.0                      0.0   \n\n       behavioral_touch_face  ...             income_poverty  marital_status  \\\n0                        1.0  ...              Below Poverty     Not Married   \n1                        1.0  ...              Below Poverty     Not Married   \n2                        0.0  ...  <= $75,000, Above Poverty     Not Married   \n3                        0.0  ...              Below Poverty     Not Married   \n4                        1.0  ...  <= $75,000, Above Poverty         Married   \n...                      ...  ...                        ...             ...   \n26702                    0.0  ...  <= $75,000, Above Poverty     Not Married   \n26703                    0.0  ...  <= $75,000, Above Poverty     Not Married   \n26704                    1.0  ...                        NaN     Not Married   \n26705                    NaN  ...  <= $75,000, Above Poverty         Married   \n26706                    0.0  ...  <= $75,000, Above Poverty         Married   \n\n       rent_or_own   employment_status  hhs_geo_region  \\\n0              Own  Not in Labor Force        oxchjgsf   \n1             Rent            Employed        bhuqouqj   \n2              Own            Employed        qufhixun   \n3             Rent  Not in Labor Force        lrircsnp   \n4              Own            Employed        qufhixun   \n...            ...                 ...             ...   \n26702          Own  Not in Labor Force        qufhixun   \n26703         Rent            Employed        lzgpxyit   \n26704          Own                 NaN        lzgpxyit   \n26705         Rent            Employed        lrircsnp   \n26706          Own  Not in Labor Force        mlyzmhmf   \n\n                     census_msa  household_adults  household_children  \\\n0                       Non-MSA               0.0                 0.0   \n1      MSA, Not Principle  City               0.0                 0.0   \n2      MSA, Not Principle  City               2.0                 0.0   \n3           MSA, Principle City               0.0                 0.0   \n4      MSA, Not Principle  City               1.0                 0.0   \n...                         ...               ...                 ...   \n26702                   Non-MSA               0.0                 0.0   \n26703       MSA, Principle City               1.0                 0.0   \n26704  MSA, Not Principle  City               0.0                 0.0   \n26705                   Non-MSA               1.0                 0.0   \n26706       MSA, Principle City               1.0                 0.0   \n\n       employment_industry  employment_occupation  \n0                      NaN                    NaN  \n1                 pxcmvdjn               xgwztkwe  \n2                 rucpziij               xtkaffoo  \n3                      NaN                    NaN  \n4                 wxleyezf               emcorrxb  \n...                    ...                    ...  \n26702                  NaN                    NaN  \n26703             fcxhlnwr               cmhcxjea  \n26704                  NaN                    NaN  \n26705             fcxhlnwr               haliazsg  \n26706                  NaN                    NaN  \n\n[26707 rows x 36 columns]",
      "text/html": "<div>\n<style scoped>\n    .dataframe tbody tr th:only-of-type {\n        vertical-align: middle;\n    }\n\n    .dataframe tbody tr th {\n        vertical-align: top;\n    }\n\n    .dataframe thead th {\n        text-align: right;\n    }\n</style>\n<table border=\"1\" class=\"dataframe\">\n  <thead>\n    <tr style=\"text-align: right;\">\n      <th></th>\n      <th>respondent_id</th>\n      <th>h1n1_concern</th>\n      <th>h1n1_knowledge</th>\n      <th>behavioral_antiviral_meds</th>\n      <th>behavioral_avoidance</th>\n      <th>behavioral_face_mask</th>\n      <th>behavioral_wash_hands</th>\n      <th>behavioral_large_gatherings</th>\n      <th>behavioral_outside_home</th>\n      <th>behavioral_touch_face</th>\n      <th>...</th>\n      <th>income_poverty</th>\n      <th>marital_status</th>\n      <th>rent_or_own</th>\n      <th>employment_status</th>\n      <th>hhs_geo_region</th>\n      <th>census_msa</th>\n      <th>household_adults</th>\n      <th>household_children</th>\n      <th>employment_industry</th>\n      <th>employment_occupation</th>\n    </tr>\n  </thead>\n  <tbody>\n    <tr>\n      <th>0</th>\n      <td>0</td>\n      <td>1.0</td>\n      <td>0.0</td>\n      <td>0.0</td>\n      <td>0.0</td>\n      <td>0.0</td>\n      <td>0.0</td>\n      <td>0.0</td>\n      <td>1.0</td>\n      <td>1.0</td>\n      <td>...</td>\n      <td>Below Poverty</td>\n      <td>Not Married</td>\n      <td>Own</td>\n      <td>Not in Labor Force</td>\n      <td>oxchjgsf</td>\n      <td>Non-MSA</td>\n      <td>0.0</td>\n      <td>0.0</td>\n      <td>NaN</td>\n      <td>NaN</td>\n    </tr>\n    <tr>\n      <th>1</th>\n      <td>1</td>\n      <td>3.0</td>\n      <td>2.0</td>\n      <td>0.0</td>\n      <td>1.0</td>\n      <td>0.0</td>\n      <td>1.0</td>\n      <td>0.0</td>\n      <td>1.0</td>\n      <td>1.0</td>\n      <td>...</td>\n      <td>Below Poverty</td>\n      <td>Not Married</td>\n      <td>Rent</td>\n      <td>Employed</td>\n      <td>bhuqouqj</td>\n      <td>MSA, Not Principle  City</td>\n      <td>0.0</td>\n      <td>0.0</td>\n      <td>pxcmvdjn</td>\n      <td>xgwztkwe</td>\n    </tr>\n    <tr>\n      <th>2</th>\n      <td>2</td>\n      <td>1.0</td>\n      <td>1.0</td>\n      <td>0.0</td>\n      <td>1.0</td>\n      <td>0.0</td>\n      <td>0.0</td>\n      <td>0.0</td>\n      <td>0.0</td>\n      <td>0.0</td>\n      <td>...</td>\n      <td>&lt;= $75,000, Above Poverty</td>\n      <td>Not Married</td>\n      <td>Own</td>\n      <td>Employed</td>\n      <td>qufhixun</td>\n      <td>MSA, Not Principle  City</td>\n      <td>2.0</td>\n      <td>0.0</td>\n      <td>rucpziij</td>\n      <td>xtkaffoo</td>\n    </tr>\n    <tr>\n      <th>3</th>\n      <td>3</td>\n      <td>1.0</td>\n      <td>1.0</td>\n      <td>0.0</td>\n      <td>1.0</td>\n      <td>0.0</td>\n      <td>1.0</td>\n      <td>1.0</td>\n      <td>0.0</td>\n      <td>0.0</td>\n      <td>...</td>\n      <td>Below Poverty</td>\n      <td>Not Married</td>\n      <td>Rent</td>\n      <td>Not in Labor Force</td>\n      <td>lrircsnp</td>\n      <td>MSA, Principle City</td>\n      <td>0.0</td>\n      <td>0.0</td>\n      <td>NaN</td>\n      <td>NaN</td>\n    </tr>\n    <tr>\n      <th>4</th>\n      <td>4</td>\n      <td>2.0</td>\n      <td>1.0</td>\n      <td>0.0</td>\n      <td>1.0</td>\n      <td>0.0</td>\n      <td>1.0</td>\n      <td>1.0</td>\n      <td>0.0</td>\n      <td>1.0</td>\n      <td>...</td>\n      <td>&lt;= $75,000, Above Poverty</td>\n      <td>Married</td>\n      <td>Own</td>\n      <td>Employed</td>\n      <td>qufhixun</td>\n      <td>MSA, Not Principle  City</td>\n      <td>1.0</td>\n      <td>0.0</td>\n      <td>wxleyezf</td>\n      <td>emcorrxb</td>\n    </tr>\n    <tr>\n      <th>...</th>\n      <td>...</td>\n      <td>...</td>\n      <td>...</td>\n      <td>...</td>\n      <td>...</td>\n      <td>...</td>\n      <td>...</td>\n      <td>...</td>\n      <td>...</td>\n      <td>...</td>\n      <td>...</td>\n      <td>...</td>\n      <td>...</td>\n      <td>...</td>\n      <td>...</td>\n      <td>...</td>\n      <td>...</td>\n      <td>...</td>\n      <td>...</td>\n      <td>...</td>\n      <td>...</td>\n    </tr>\n    <tr>\n      <th>26702</th>\n      <td>26702</td>\n      <td>2.0</td>\n      <td>0.0</td>\n      <td>0.0</td>\n      <td>1.0</td>\n      <td>0.0</td>\n      <td>0.0</td>\n      <td>0.0</td>\n      <td>1.0</td>\n      <td>0.0</td>\n      <td>...</td>\n      <td>&lt;= $75,000, Above Poverty</td>\n      <td>Not Married</td>\n      <td>Own</td>\n      <td>Not in Labor Force</td>\n      <td>qufhixun</td>\n      <td>Non-MSA</td>\n      <td>0.0</td>\n      <td>0.0</td>\n      <td>NaN</td>\n      <td>NaN</td>\n    </tr>\n    <tr>\n      <th>26703</th>\n      <td>26703</td>\n      <td>1.0</td>\n      <td>2.0</td>\n      <td>0.0</td>\n      <td>1.0</td>\n      <td>0.0</td>\n      <td>1.0</td>\n      <td>0.0</td>\n      <td>0.0</td>\n      <td>0.0</td>\n      <td>...</td>\n      <td>&lt;= $75,000, Above Poverty</td>\n      <td>Not Married</td>\n      <td>Rent</td>\n      <td>Employed</td>\n      <td>lzgpxyit</td>\n      <td>MSA, Principle City</td>\n      <td>1.0</td>\n      <td>0.0</td>\n      <td>fcxhlnwr</td>\n      <td>cmhcxjea</td>\n    </tr>\n    <tr>\n      <th>26704</th>\n      <td>26704</td>\n      <td>2.0</td>\n      <td>2.0</td>\n      <td>0.0</td>\n      <td>1.0</td>\n      <td>1.0</td>\n      <td>1.0</td>\n      <td>1.0</td>\n      <td>0.0</td>\n      <td>1.0</td>\n      <td>...</td>\n      <td>NaN</td>\n      <td>Not Married</td>\n      <td>Own</td>\n      <td>NaN</td>\n      <td>lzgpxyit</td>\n      <td>MSA, Not Principle  City</td>\n      <td>0.0</td>\n      <td>0.0</td>\n      <td>NaN</td>\n      <td>NaN</td>\n    </tr>\n    <tr>\n      <th>26705</th>\n      <td>26705</td>\n      <td>1.0</td>\n      <td>1.0</td>\n      <td>0.0</td>\n      <td>0.0</td>\n      <td>0.0</td>\n      <td>0.0</td>\n      <td>0.0</td>\n      <td>0.0</td>\n      <td>NaN</td>\n      <td>...</td>\n      <td>&lt;= $75,000, Above Poverty</td>\n      <td>Married</td>\n      <td>Rent</td>\n      <td>Employed</td>\n      <td>lrircsnp</td>\n      <td>Non-MSA</td>\n      <td>1.0</td>\n      <td>0.0</td>\n      <td>fcxhlnwr</td>\n      <td>haliazsg</td>\n    </tr>\n    <tr>\n      <th>26706</th>\n      <td>26706</td>\n      <td>0.0</td>\n      <td>0.0</td>\n      <td>0.0</td>\n      <td>1.0</td>\n      <td>0.0</td>\n      <td>0.0</td>\n      <td>0.0</td>\n      <td>0.0</td>\n      <td>0.0</td>\n      <td>...</td>\n      <td>&lt;= $75,000, Above Poverty</td>\n      <td>Married</td>\n      <td>Own</td>\n      <td>Not in Labor Force</td>\n      <td>mlyzmhmf</td>\n      <td>MSA, Principle City</td>\n      <td>1.0</td>\n      <td>0.0</td>\n      <td>NaN</td>\n      <td>NaN</td>\n    </tr>\n  </tbody>\n</table>\n<p>26707 rows × 36 columns</p>\n</div>"
     },
     "execution_count": 6,
     "metadata": {},
     "output_type": "execute_result"
    }
   ],
   "source": [
    "train_input"
   ],
   "metadata": {
    "collapsed": false,
    "ExecuteTime": {
     "end_time": "2023-12-18T19:09:38.371504Z",
     "start_time": "2023-12-18T19:09:38.341460Z"
    }
   },
   "id": "d560f61778135765"
  },
  {
   "cell_type": "code",
   "execution_count": 10,
   "outputs": [],
   "source": [
    "replace_null_with_value_1 = [\"h1n1_knowledge\"]\n",
    "\n",
    "replace_null_with_value_2 = [\"h1n1_concern\"]\n",
    "\n",
    "replace_null_with_value_one_condition = [\"behavioral_avoidance\"]\n",
    "\n",
    "replace_null_with_value_two_conditions = [\"behavioral_antiviral_meds\"] # If the person is highly concerned about h1n1 virus (3.0) and has a lot of knowledge about the virus (2.0)"
   ],
   "metadata": {
    "collapsed": false,
    "ExecuteTime": {
     "end_time": "2023-12-18T19:16:17.328938Z",
     "start_time": "2023-12-18T19:16:17.324259Z"
    }
   },
   "id": "b478edf200979b85"
  },
  {
   "cell_type": "code",
   "execution_count": 13,
   "outputs": [
    {
     "data": {
      "text/plain": "0.26584790504362155"
     },
     "execution_count": 13,
     "metadata": {},
     "output_type": "execute_result"
    }
   ],
   "source": [
    "train_input[\"behavioral_antiviral_meds\"].isna().sum() * 100/ len(train_input)"
   ],
   "metadata": {
    "collapsed": false,
    "ExecuteTime": {
     "end_time": "2023-12-18T19:23:00.295379Z",
     "start_time": "2023-12-18T19:23:00.290623Z"
    }
   },
   "id": "d13e8c0c6cf3a9e7"
  },
  {
   "cell_type": "code",
   "execution_count": null,
   "outputs": [],
   "source": [],
   "metadata": {
    "collapsed": false
   },
   "id": "51aa411a53f2b69"
  }
 ],
 "metadata": {
  "kernelspec": {
   "display_name": "Python 3",
   "language": "python",
   "name": "python3"
  },
  "language_info": {
   "codemirror_mode": {
    "name": "ipython",
    "version": 2
   },
   "file_extension": ".py",
   "mimetype": "text/x-python",
   "name": "python",
   "nbconvert_exporter": "python",
   "pygments_lexer": "ipython2",
   "version": "2.7.6"
  }
 },
 "nbformat": 4,
 "nbformat_minor": 5
}
