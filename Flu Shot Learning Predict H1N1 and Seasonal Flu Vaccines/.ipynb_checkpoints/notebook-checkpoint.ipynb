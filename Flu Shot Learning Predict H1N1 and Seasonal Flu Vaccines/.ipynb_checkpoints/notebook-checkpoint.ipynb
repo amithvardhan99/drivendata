{
 "cells": [
  {
   "cell_type": "code",
   "execution_count": 1,
   "id": "initial_id",
   "metadata": {
    "collapsed": true,
    "ExecuteTime": {
     "end_time": "2023-12-18T18:08:43.493733Z",
     "start_time": "2023-12-18T18:08:42.916690Z"
    }
   },
   "outputs": [],
   "source": [
    "import numpy as np\n",
    "import pandas as pd\n",
    "import matplotlib.pyplot as plt\n",
    "import seaborn as sns\n",
    "import warnings\n",
    "warnings.filterwarnings(\"ignore\")\n",
    "from sklearn.model_selection import *\n",
    "from sklearn.multioutput import *\n",
    "from sklearn.linear_model import *\n",
    "from sklearn.metrics import *\n",
    "from sklearn.preprocessing import *"
   ]
  },
  {
   "cell_type": "code",
   "execution_count": 2,
   "outputs": [],
   "source": [
    "train_input = pd.read_csv(\"training_set_features.csv\")\n",
    "train_output = pd.read_csv(\"training_set_labels.csv\")\n",
    "test_input = pd.read_csv(\"test_set_features.csv\")\n",
    "test_output = pd.read_csv(\"submission_format.csv\")"
   ],
   "metadata": {
    "collapsed": false,
    "ExecuteTime": {
     "end_time": "2023-12-18T18:08:47.129188Z",
     "start_time": "2023-12-18T18:08:47.026464Z"
    }
   },
   "id": "aea48115b9a89da4"
  },
  {
   "cell_type": "code",
   "execution_count": 3,
   "outputs": [
    {
     "name": "stdout",
     "output_type": "stream",
     "text": [
      "Percentage of Null Values\n",
      "\n",
      "respondent_id : 0.0\n",
      "h1n1_concern : 0.34\n",
      "h1n1_knowledge : 0.43\n",
      "behavioral_antiviral_meds : 0.27\n",
      "behavioral_avoidance : 0.78\n",
      "behavioral_face_mask : 0.07\n",
      "behavioral_wash_hands : 0.16\n",
      "behavioral_large_gatherings : 0.33\n",
      "behavioral_outside_home : 0.31\n",
      "behavioral_touch_face : 0.48\n",
      "doctor_recc_h1n1 : 8.09\n",
      "doctor_recc_seasonal : 8.09\n",
      "chronic_med_condition : 3.64\n",
      "child_under_6_months : 3.07\n",
      "health_worker : 3.01\n",
      "health_insurance : 45.96\n",
      "opinion_h1n1_vacc_effective : 1.46\n",
      "opinion_h1n1_risk : 1.45\n",
      "opinion_h1n1_sick_from_vacc : 1.48\n",
      "opinion_seas_vacc_effective : 1.73\n",
      "opinion_seas_risk : 1.92\n",
      "opinion_seas_sick_from_vacc : 2.01\n",
      "age_group : 0.0\n",
      "education : 5.27\n",
      "race : 0.0\n",
      "sex : 0.0\n",
      "income_poverty : 16.56\n",
      "marital_status : 5.27\n",
      "rent_or_own : 7.65\n",
      "employment_status : 5.48\n",
      "hhs_geo_region : 0.0\n",
      "census_msa : 0.0\n",
      "household_adults : 0.93\n",
      "household_children : 0.93\n",
      "employment_industry : 49.91\n",
      "employment_occupation : 50.44\n"
     ]
    }
   ],
   "source": [
    "print(\"Percentage of Null Values\\n\")\n",
    "for i in train_input:\n",
    "    p = train_input[i].isna().sum()*100/len(train_input[i])\n",
    "    print(i,\":\",round(p,2))"
   ],
   "metadata": {
    "collapsed": false,
    "ExecuteTime": {
     "end_time": "2023-12-18T18:08:47.665507Z",
     "start_time": "2023-12-18T18:08:47.651413Z"
    }
   },
   "id": "132b40b7adebc22c"
  },
  {
   "cell_type": "code",
   "execution_count": 4,
   "outputs": [],
   "source": [
    "replace_with_one_value_one_condition = np.array([\"behavioral_avoidance\",\"behavioral_face_mask\",\"behavioral_large_gatherings\",\"behavioral_outside_home\",\"behavioral_touch_face\",\"child_under_6_months\"]) #\"h1n1_concern\":3\n",
    "\n",
    "replace_with_one_value_two_conditions = np.array([\"behavioral_antiviral_meds\", \"opinion_h1n1_risk\", \"opinion_seas_risk\"]) #{\"h1n1_concern\":3,\"h1n1_knowledge\":2},\n",
    "\n",
    "replace_with_one_value_three_conditions = [\"behavioral_wash_hands\"] #{\"h1n1_concern\":3,\"h1n1_knowledge\":(2,1)},\n",
    "#------------------------------------------------------------------------------------------------------------\n",
    "replace_with_value_0 = [\"doctor_recc_h1n1\",\"doctor_recc_seasonal\",\"health_worker\",\"health_insurance\",\"household_children\",\"marital_status\",\"rent_or_own\",\"employment_status\"]\n",
    "\n",
    "replace_with_value_1 = [\"h1n1_knowledge\",\"household_adults\",\"income_poverty\",\"census_msa\"]\n",
    "\n",
    "replace_with_value_2 = [\"h1n1_concern\"]\n",
    "\n",
    "replace_with_value_3 = [\"opinion_h1n1_vacc_effective\",\"opinion_h1n1_sick_from_vacc\",\"opinion_seas_vacc_effective\",\"opinion_seas_sick_from_vacc\"]\n",
    "\n",
    "replace_with_median = [\"chronic_med_condition\",\"education\"]\n",
    "#------------------------------------------------------------------------------------------------------------\n",
    "sort_and_numerical_encoding = [\"age_group\",\"race\",\"sex\",\"employment_industry\",\"employment_occupation\",\"hhs_geo_region\"]\n",
    "#------------------------------------------------------------------------------------------------------------\n",
    "values_replace_dict = {\n",
    "    \"education\" : {\"< 12 Years\":0,\"12 Years\":1,\"College Graduate\":2,\"Some College\":3},\n",
    "    \"income_poverty\" : {\"Below Poverty\":0,\"<= $75,000, Above Poverty\":1,\"> $75,000\":2},\n",
    "    \"marital_status\" : {\"Not Married\":0,\"Married\":1},\n",
    "    \"rent_or_own\" : {\"Rent\":0,\"Own\":1},\n",
    "    \"employment_status\" : {\"Unemployed\":0,\"Not in Labor Force\":1,\"Employed\":2},\n",
    "    \"census_msa\" : {\"Non-MSA\":0,\"MSA, Not Principle City\":1,\"MSA, Principle City\":2}\n",
    "}"
   ],
   "metadata": {
    "collapsed": false,
    "ExecuteTime": {
     "end_time": "2023-12-18T18:08:48.363284Z",
     "start_time": "2023-12-18T18:08:48.300724Z"
    }
   },
   "id": "354ca66bd05d6193"
  },
  {
   "cell_type": "code",
   "execution_count": 5,
   "outputs": [],
   "source": [
    "def sort_using_numerical_encoding(df,sort_and_numerical_encoding):\n",
    "    for i in sort_and_numerical_encoding:\n",
    "        req_val = {}\n",
    "        ctr = 0\n",
    "        vals = list(df[i].unique())\n",
    "        while np.nan in vals:\n",
    "            vals.remove(np.nan)\n",
    "        vals = np.sort(np.array(vals))\n",
    "        for j in vals:\n",
    "            req_val[j] = ctr\n",
    "            ctr += 1\n",
    "        df[i] = df[i].map(req_val)\n",
    "    return df\n",
    "\n",
    "def replace_na_with_values(df,replace_with_value_0,replace_with_value_1,replace_with_value_2,replace_with_value_3):\n",
    "    for i in replace_with_value_0:\n",
    "        df[i] = df[i].fillna(0.0)\n",
    "    for i in replace_with_value_1:\n",
    "        df[i] = df[i].fillna(1.0)\n",
    "    for i in replace_with_value_2:\n",
    "        df[i] = df[i].fillna(2.0)\n",
    "    for i in replace_with_value_3:\n",
    "        df[i] = df[i].fillna(3.0)\n",
    "    return df\n",
    "\n",
    "def replace_na_with_conditional_values(df,replace_with_one_value_one_condition, replace_with_one_value_two_conditions, replace_with_one_value_three_conditions):\n",
    "    \n",
    "    for i in replace_with_one_value_one_condition:\n",
    "        df[i][df[\"h1n1_concern\"]==3.0] = df[i][df[\"h1n1_concern\"]==3.0].fillna(1.0)\n",
    "        df[i] = df[i].fillna(0.0)\n",
    "        \n",
    "    for i in replace_with_one_value_two_conditions:\n",
    "        df[i][(df[\"h1n1_concern\"]==3) & (df[\"h1n1_knowledge\"]==2)] = df[i][(df[\"h1n1_concern\"]==3) & (df[\"h1n1_knowledge\"]==2)].fillna(1.0)\n",
    "        df[i] = df[i].fillna(0.0)\n",
    "        \n",
    "    for i in replace_with_one_value_three_conditions:\n",
    "        df[i][(df[\"h1n1_concern\"]==3) & (df[\"h1n1_knowledge\"]==2)] = df[i][(df[\"h1n1_concern\"]==3) & (df[\"h1n1_knowledge\"]==2)].fillna(1.0)\n",
    "        df[i][(df[\"h1n1_concern\"]==3) & (df[\"h1n1_knowledge\"]==1)] = df[i][(df[\"h1n1_concern\"]==3) & (df[\"h1n1_knowledge\"]==1)].fillna(1.0)\n",
    "        df[i] = df[i].fillna(0.0)\n",
    "    \n",
    "    return df\n",
    "\n",
    "def replace_with_dict_values(df,values_replace_dict):\n",
    "    ctr = 0\n",
    "    for i in values_replace_dict:\n",
    "        df[i] = df[i].map(values_replace_dict[i])\n",
    "        ctr += 1\n",
    "    return df\n",
    "\n",
    "def replace_null_with_relevant_values(df):\n",
    "    df[\"chronic_med_condition\"] = df[\"chronic_med_condition\"].fillna(df[\"chronic_med_condition\"].median())\n",
    "    df[\"education\"] = df[\"education\"].fillna(df[\"education\"].median())\n",
    "    df[\"income_poverty\"] = df[\"income_poverty\"].fillna(df[\"income_poverty\"].median())\n",
    "    df[\"marital_status\"] = df[\"marital_status\"].fillna(0.0)\n",
    "    df[\"rent_or_own\"] = df[\"rent_or_own\"].fillna(0.0)\n",
    "    df[\"employment_status\"] = df[\"employment_status\"].fillna(df[\"employment_status\"].median())\n",
    "    df[\"census_msa\"] = df[\"census_msa\"].fillna(1.0)\n",
    "    df[\"employment_industry\"] = df[\"employment_industry\"].fillna(df_train_input[\"employment_industry\"].max() + 1)\n",
    "    df[\"employment_occupation\"] = df[\"employment_occupation\"].fillna(df_train_input[\"employment_occupation\"].max() + 1)\n",
    "    return df\n"
   ],
   "metadata": {
    "collapsed": false,
    "ExecuteTime": {
     "end_time": "2023-12-18T18:08:48.844436Z",
     "start_time": "2023-12-18T18:08:48.837799Z"
    }
   },
   "id": "9a5ab752c09998ed"
  },
  {
   "cell_type": "code",
   "execution_count": 6,
   "outputs": [],
   "source": [
    "df_train_input = train_input.copy()\n",
    "\n",
    "df_train_input = replace_na_with_values(df_train_input,replace_with_value_0,replace_with_value_1,replace_with_value_2,replace_with_value_3)\n",
    "\n",
    "df_train_input = replace_na_with_conditional_values(df_train_input,replace_with_one_value_one_condition, replace_with_one_value_two_conditions, replace_with_one_value_three_conditions)\n",
    "\n",
    "df_train_input = replace_with_dict_values(df_train_input,values_replace_dict)\n",
    "\n",
    "df_train_input = sort_using_numerical_encoding(df_train_input,sort_and_numerical_encoding)\n",
    "\n",
    "df_train_input = replace_null_with_relevant_values(df_train_input)\n",
    "\n",
    "df_train_input = df_train_input.astype(\"int64\")"
   ],
   "metadata": {
    "collapsed": false,
    "ExecuteTime": {
     "end_time": "2023-12-18T18:08:49.535474Z",
     "start_time": "2023-12-18T18:08:49.493731Z"
    }
   },
   "id": "5e4954bff7e3f30a"
  },
  {
   "cell_type": "code",
   "execution_count": 7,
   "outputs": [],
   "source": [
    "df_test_input = test_input.copy()\n",
    "\n",
    "df_test_input = replace_na_with_values(df_test_input,replace_with_value_0,replace_with_value_1,replace_with_value_2,replace_with_value_3)\n",
    "\n",
    "df_test_input = replace_na_with_conditional_values(df_test_input,replace_with_one_value_one_condition, replace_with_one_value_two_conditions, replace_with_one_value_three_conditions)\n",
    "\n",
    "df_test_input = replace_with_dict_values(df_test_input,values_replace_dict)\n",
    "\n",
    "df_test_input = sort_using_numerical_encoding(df_test_input,sort_and_numerical_encoding)\n",
    "\n",
    "df_test_input = replace_null_with_relevant_values(df_test_input)\n",
    "\n",
    "df_test_input = df_test_input.astype(\"int64\")"
   ],
   "metadata": {
    "collapsed": false,
    "ExecuteTime": {
     "end_time": "2023-12-18T18:08:50.104649Z",
     "start_time": "2023-12-18T18:08:50.064728Z"
    }
   },
   "id": "6431c65e17a75419"
  },
  {
   "cell_type": "code",
   "execution_count": 8,
   "outputs": [],
   "source": [
    "ss = MinMaxScaler()\n",
    "X_train = pd.DataFrame((ss.fit_transform(X=df_train_input.drop(columns=\"respondent_id\")).round(2)),columns=df_train_input.columns.values[1:])\n",
    "X_test = pd.DataFrame((ss.fit_transform(X=df_test_input.drop(columns=\"respondent_id\")).round(2)),columns=df_test_input.columns.values[1:])\n",
    "y_train = train_output.drop(columns=\"respondent_id\")"
   ],
   "metadata": {
    "collapsed": false,
    "ExecuteTime": {
     "end_time": "2023-12-18T18:08:50.708366Z",
     "start_time": "2023-12-18T18:08:50.685886Z"
    }
   },
   "id": "cf609ec5b40b6ee"
  },
  {
   "cell_type": "code",
   "execution_count": 9,
   "outputs": [],
   "source": [
    "lgmodel = LogisticRegression(solver='lbfgs')\n",
    "mlc = MultiOutputClassifier(estimator=lgmodel)\n",
    "mlc.fit(X_train,y_train)\n",
    "\n",
    "y_prob = mlc.predict_proba(X_test)\n",
    "y_test_prob = pd.DataFrame(columns=[\"h1n1_vaccine\",\"seasonal_vaccine\"])\n",
    "y_test_prob[\"h1n1_vaccine\"] = y_prob[0][:,1]\n",
    "y_test_prob[\"seasonal_vaccine\"] = y_prob[1][:,1]\n",
    "\n",
    "y = mlc.predict(X_test)\n",
    "y_test = pd.DataFrame(columns=[\"h1n1_vaccine\",\"seasonal_vaccine\"])\n",
    "y_test[\"h1n1_vaccine\"] = y[:,0]\n",
    "y_test[\"seasonal_vaccine\"] = y[:,1]"
   ],
   "metadata": {
    "collapsed": false,
    "ExecuteTime": {
     "end_time": "2023-12-18T18:08:52.116603Z",
     "start_time": "2023-12-18T18:08:51.096276Z"
    }
   },
   "id": "27493d35763362d7"
  },
  {
   "cell_type": "code",
   "execution_count": 10,
   "outputs": [
    {
     "data": {
      "text/plain": "1.0"
     },
     "execution_count": 10,
     "metadata": {},
     "output_type": "execute_result"
    }
   ],
   "source": [
    "roc_auc_score(y_test,y_test_prob)"
   ],
   "metadata": {
    "collapsed": false,
    "ExecuteTime": {
     "end_time": "2023-12-18T18:08:52.607992Z",
     "start_time": "2023-12-18T18:08:52.586166Z"
    }
   },
   "id": "26022f4f6e03b606"
  },
  {
   "cell_type": "code",
   "execution_count": 11,
   "outputs": [],
   "source": [
    "fin_sol = pd.DataFrame(columns=[\"respondent_id\",\"h1n1_vaccine\",\"seasonal_vaccine\"])\n",
    "fin_sol[\"respondent_id\"] = df_test_input[\"respondent_id\"].copy()\n",
    "fin_sol[\"h1n1_vaccine\"] = y_test_prob[\"h1n1_vaccine\"].copy()\n",
    "fin_sol[\"seasonal_vaccine\"] = y_test_prob[\"seasonal_vaccine\"].copy()"
   ],
   "metadata": {
    "collapsed": false,
    "ExecuteTime": {
     "end_time": "2023-12-18T18:08:53.171353Z",
     "start_time": "2023-12-18T18:08:53.167373Z"
    }
   },
   "id": "6dd950621a54bd19"
  },
  {
   "cell_type": "code",
   "execution_count": 12,
   "outputs": [],
   "source": [
    "fin_sol.to_csv(\"submission.csv\",index=False,header=True)"
   ],
   "metadata": {
    "collapsed": false,
    "ExecuteTime": {
     "end_time": "2023-12-18T18:08:53.719402Z",
     "start_time": "2023-12-18T18:08:53.678015Z"
    }
   },
   "id": "3de684463bba0021"
  },
  {
   "cell_type": "code",
   "execution_count": null,
   "outputs": [],
   "source": [],
   "metadata": {
    "collapsed": false
   },
   "id": "127bc12837f2294a"
  }
 ],
 "metadata": {
  "kernelspec": {
   "display_name": "Python 3",
   "language": "python",
   "name": "python3"
  },
  "language_info": {
   "codemirror_mode": {
    "name": "ipython",
    "version": 2
   },
   "file_extension": ".py",
   "mimetype": "text/x-python",
   "name": "python",
   "nbconvert_exporter": "python",
   "pygments_lexer": "ipython2",
   "version": "2.7.6"
  }
 },
 "nbformat": 4,
 "nbformat_minor": 5
}
