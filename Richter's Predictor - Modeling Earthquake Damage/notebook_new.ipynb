{
 "cells": [
  {
   "cell_type": "code",
   "execution_count": 110,
   "id": "initial_id",
   "metadata": {
    "collapsed": true,
    "ExecuteTime": {
     "end_time": "2023-12-21T03:02:26.644991Z",
     "start_time": "2023-12-21T03:02:26.639958Z"
    }
   },
   "outputs": [],
   "source": [
    "import numpy as np\n",
    "import pandas as pd\n",
    "import matplotlib.pyplot as plt\n",
    "import seaborn as sns\n",
    "from sklearn.preprocessing import *\n",
    "from sklearn.linear_model import *\n",
    "import warnings\n",
    "warnings.filterwarnings(\"ignore\")\n",
    "from sklearn.kernel_approximation import *\n",
    "from sklearn.svm import *"
   ]
  },
  {
   "cell_type": "code",
   "execution_count": 111,
   "outputs": [],
   "source": [
    "train_input = pd.read_csv(\"train_values.csv\")\n",
    "train_output = pd.read_csv(\"train_labels.csv\")\n",
    "test_input = pd.read_csv(\"test_values.csv\")"
   ],
   "metadata": {
    "collapsed": false,
    "ExecuteTime": {
     "end_time": "2023-12-21T03:02:27.768866Z",
     "start_time": "2023-12-21T03:02:27.239969Z"
    }
   },
   "id": "e6acddd7a4b7896"
  },
  {
   "cell_type": "code",
   "execution_count": 112,
   "outputs": [],
   "source": [
    "df_train_input = train_input.copy()\n",
    "df_train_output = train_output.copy()\n",
    "df_test_input = test_input.copy()\n",
    "\n",
    "data_types = train_input.dtypes.reset_index()\n",
    "\n",
    "categorical_features = np.array(data_types[data_types[0]==\"object\"][\"index\"])\n",
    "for i in categorical_features:\n",
    "    dic = {}\n",
    "    unique_values = np.sort(train_input[i].unique())\n",
    "    ctr = 0\n",
    "    for j in unique_values:\n",
    "        dic[j] = ctr\n",
    "        ctr += 1\n",
    "    df_train_input[i] = df_train_input[i].map(dic)\n",
    "    df_test_input[i] = df_test_input[i].map(dic)"
   ],
   "metadata": {
    "collapsed": false,
    "ExecuteTime": {
     "end_time": "2023-12-21T03:02:28.396978Z",
     "start_time": "2023-12-21T03:02:28.232219Z"
    }
   },
   "id": "5fde1a829add4438"
  },
  {
   "cell_type": "code",
   "execution_count": 113,
   "outputs": [
    {
     "data": {
      "text/plain": "        building_id  geo_level_1_id  geo_level_2_id  geo_level_3_id  \\\n0            802906               6             487           12198   \n1             28830               8             900            2812   \n2             94947              21             363            8973   \n3            590882              22             418           10694   \n4            201944              11             131            1488   \n...             ...             ...             ...             ...   \n260596       688636              25            1335            1621   \n260597       669485              17             715            2060   \n260598       602512              17              51            8163   \n260599       151409              26              39            1851   \n260600       747594              21               9            9101   \n\n        count_floors_pre_eq  age  area_percentage  height_percentage  \\\n0                         2   30                6                  5   \n1                         2   10                8                  7   \n2                         2   10                5                  5   \n3                         2   10                6                  5   \n4                         3   30                8                  9   \n...                     ...  ...              ...                ...   \n260596                    1   55                6                  3   \n260597                    2    0                6                  5   \n260598                    3   55                6                  7   \n260599                    2   10               14                  6   \n260600                    3   10                7                  6   \n\n       land_surface_condition foundation_type  ...  \\\n0                           t               r  ...   \n1                           o               r  ...   \n2                           t               r  ...   \n3                           t               r  ...   \n4                           t               r  ...   \n...                       ...             ...  ...   \n260596                      n               r  ...   \n260597                      t               r  ...   \n260598                      t               r  ...   \n260599                      t               r  ...   \n260600                      n               r  ...   \n\n       has_secondary_use_agriculture has_secondary_use_hotel  \\\n0                                  0                       0   \n1                                  0                       0   \n2                                  0                       0   \n3                                  0                       0   \n4                                  0                       0   \n...                              ...                     ...   \n260596                             0                       0   \n260597                             0                       0   \n260598                             0                       0   \n260599                             0                       0   \n260600                             0                       0   \n\n       has_secondary_use_rental has_secondary_use_institution  \\\n0                             0                             0   \n1                             0                             0   \n2                             0                             0   \n3                             0                             0   \n4                             0                             0   \n...                         ...                           ...   \n260596                        0                             0   \n260597                        0                             0   \n260598                        0                             0   \n260599                        0                             0   \n260600                        0                             0   \n\n       has_secondary_use_school  has_secondary_use_industry  \\\n0                             0                           0   \n1                             0                           0   \n2                             0                           0   \n3                             0                           0   \n4                             0                           0   \n...                         ...                         ...   \n260596                        0                           0   \n260597                        0                           0   \n260598                        0                           0   \n260599                        0                           0   \n260600                        0                           0   \n\n        has_secondary_use_health_post  has_secondary_use_gov_office  \\\n0                                   0                             0   \n1                                   0                             0   \n2                                   0                             0   \n3                                   0                             0   \n4                                   0                             0   \n...                               ...                           ...   \n260596                              0                             0   \n260597                              0                             0   \n260598                              0                             0   \n260599                              0                             0   \n260600                              0                             0   \n\n        has_secondary_use_use_police  has_secondary_use_other  \n0                                  0                        0  \n1                                  0                        0  \n2                                  0                        0  \n3                                  0                        0  \n4                                  0                        0  \n...                              ...                      ...  \n260596                             0                        0  \n260597                             0                        0  \n260598                             0                        0  \n260599                             0                        0  \n260600                             0                        0  \n\n[260601 rows x 39 columns]",
      "text/html": "<div>\n<style scoped>\n    .dataframe tbody tr th:only-of-type {\n        vertical-align: middle;\n    }\n\n    .dataframe tbody tr th {\n        vertical-align: top;\n    }\n\n    .dataframe thead th {\n        text-align: right;\n    }\n</style>\n<table border=\"1\" class=\"dataframe\">\n  <thead>\n    <tr style=\"text-align: right;\">\n      <th></th>\n      <th>building_id</th>\n      <th>geo_level_1_id</th>\n      <th>geo_level_2_id</th>\n      <th>geo_level_3_id</th>\n      <th>count_floors_pre_eq</th>\n      <th>age</th>\n      <th>area_percentage</th>\n      <th>height_percentage</th>\n      <th>land_surface_condition</th>\n      <th>foundation_type</th>\n      <th>...</th>\n      <th>has_secondary_use_agriculture</th>\n      <th>has_secondary_use_hotel</th>\n      <th>has_secondary_use_rental</th>\n      <th>has_secondary_use_institution</th>\n      <th>has_secondary_use_school</th>\n      <th>has_secondary_use_industry</th>\n      <th>has_secondary_use_health_post</th>\n      <th>has_secondary_use_gov_office</th>\n      <th>has_secondary_use_use_police</th>\n      <th>has_secondary_use_other</th>\n    </tr>\n  </thead>\n  <tbody>\n    <tr>\n      <th>0</th>\n      <td>802906</td>\n      <td>6</td>\n      <td>487</td>\n      <td>12198</td>\n      <td>2</td>\n      <td>30</td>\n      <td>6</td>\n      <td>5</td>\n      <td>t</td>\n      <td>r</td>\n      <td>...</td>\n      <td>0</td>\n      <td>0</td>\n      <td>0</td>\n      <td>0</td>\n      <td>0</td>\n      <td>0</td>\n      <td>0</td>\n      <td>0</td>\n      <td>0</td>\n      <td>0</td>\n    </tr>\n    <tr>\n      <th>1</th>\n      <td>28830</td>\n      <td>8</td>\n      <td>900</td>\n      <td>2812</td>\n      <td>2</td>\n      <td>10</td>\n      <td>8</td>\n      <td>7</td>\n      <td>o</td>\n      <td>r</td>\n      <td>...</td>\n      <td>0</td>\n      <td>0</td>\n      <td>0</td>\n      <td>0</td>\n      <td>0</td>\n      <td>0</td>\n      <td>0</td>\n      <td>0</td>\n      <td>0</td>\n      <td>0</td>\n    </tr>\n    <tr>\n      <th>2</th>\n      <td>94947</td>\n      <td>21</td>\n      <td>363</td>\n      <td>8973</td>\n      <td>2</td>\n      <td>10</td>\n      <td>5</td>\n      <td>5</td>\n      <td>t</td>\n      <td>r</td>\n      <td>...</td>\n      <td>0</td>\n      <td>0</td>\n      <td>0</td>\n      <td>0</td>\n      <td>0</td>\n      <td>0</td>\n      <td>0</td>\n      <td>0</td>\n      <td>0</td>\n      <td>0</td>\n    </tr>\n    <tr>\n      <th>3</th>\n      <td>590882</td>\n      <td>22</td>\n      <td>418</td>\n      <td>10694</td>\n      <td>2</td>\n      <td>10</td>\n      <td>6</td>\n      <td>5</td>\n      <td>t</td>\n      <td>r</td>\n      <td>...</td>\n      <td>0</td>\n      <td>0</td>\n      <td>0</td>\n      <td>0</td>\n      <td>0</td>\n      <td>0</td>\n      <td>0</td>\n      <td>0</td>\n      <td>0</td>\n      <td>0</td>\n    </tr>\n    <tr>\n      <th>4</th>\n      <td>201944</td>\n      <td>11</td>\n      <td>131</td>\n      <td>1488</td>\n      <td>3</td>\n      <td>30</td>\n      <td>8</td>\n      <td>9</td>\n      <td>t</td>\n      <td>r</td>\n      <td>...</td>\n      <td>0</td>\n      <td>0</td>\n      <td>0</td>\n      <td>0</td>\n      <td>0</td>\n      <td>0</td>\n      <td>0</td>\n      <td>0</td>\n      <td>0</td>\n      <td>0</td>\n    </tr>\n    <tr>\n      <th>...</th>\n      <td>...</td>\n      <td>...</td>\n      <td>...</td>\n      <td>...</td>\n      <td>...</td>\n      <td>...</td>\n      <td>...</td>\n      <td>...</td>\n      <td>...</td>\n      <td>...</td>\n      <td>...</td>\n      <td>...</td>\n      <td>...</td>\n      <td>...</td>\n      <td>...</td>\n      <td>...</td>\n      <td>...</td>\n      <td>...</td>\n      <td>...</td>\n      <td>...</td>\n      <td>...</td>\n    </tr>\n    <tr>\n      <th>260596</th>\n      <td>688636</td>\n      <td>25</td>\n      <td>1335</td>\n      <td>1621</td>\n      <td>1</td>\n      <td>55</td>\n      <td>6</td>\n      <td>3</td>\n      <td>n</td>\n      <td>r</td>\n      <td>...</td>\n      <td>0</td>\n      <td>0</td>\n      <td>0</td>\n      <td>0</td>\n      <td>0</td>\n      <td>0</td>\n      <td>0</td>\n      <td>0</td>\n      <td>0</td>\n      <td>0</td>\n    </tr>\n    <tr>\n      <th>260597</th>\n      <td>669485</td>\n      <td>17</td>\n      <td>715</td>\n      <td>2060</td>\n      <td>2</td>\n      <td>0</td>\n      <td>6</td>\n      <td>5</td>\n      <td>t</td>\n      <td>r</td>\n      <td>...</td>\n      <td>0</td>\n      <td>0</td>\n      <td>0</td>\n      <td>0</td>\n      <td>0</td>\n      <td>0</td>\n      <td>0</td>\n      <td>0</td>\n      <td>0</td>\n      <td>0</td>\n    </tr>\n    <tr>\n      <th>260598</th>\n      <td>602512</td>\n      <td>17</td>\n      <td>51</td>\n      <td>8163</td>\n      <td>3</td>\n      <td>55</td>\n      <td>6</td>\n      <td>7</td>\n      <td>t</td>\n      <td>r</td>\n      <td>...</td>\n      <td>0</td>\n      <td>0</td>\n      <td>0</td>\n      <td>0</td>\n      <td>0</td>\n      <td>0</td>\n      <td>0</td>\n      <td>0</td>\n      <td>0</td>\n      <td>0</td>\n    </tr>\n    <tr>\n      <th>260599</th>\n      <td>151409</td>\n      <td>26</td>\n      <td>39</td>\n      <td>1851</td>\n      <td>2</td>\n      <td>10</td>\n      <td>14</td>\n      <td>6</td>\n      <td>t</td>\n      <td>r</td>\n      <td>...</td>\n      <td>0</td>\n      <td>0</td>\n      <td>0</td>\n      <td>0</td>\n      <td>0</td>\n      <td>0</td>\n      <td>0</td>\n      <td>0</td>\n      <td>0</td>\n      <td>0</td>\n    </tr>\n    <tr>\n      <th>260600</th>\n      <td>747594</td>\n      <td>21</td>\n      <td>9</td>\n      <td>9101</td>\n      <td>3</td>\n      <td>10</td>\n      <td>7</td>\n      <td>6</td>\n      <td>n</td>\n      <td>r</td>\n      <td>...</td>\n      <td>0</td>\n      <td>0</td>\n      <td>0</td>\n      <td>0</td>\n      <td>0</td>\n      <td>0</td>\n      <td>0</td>\n      <td>0</td>\n      <td>0</td>\n      <td>0</td>\n    </tr>\n  </tbody>\n</table>\n<p>260601 rows × 39 columns</p>\n</div>"
     },
     "execution_count": 113,
     "metadata": {},
     "output_type": "execute_result"
    }
   ],
   "source": [
    "train_input"
   ],
   "metadata": {
    "collapsed": false,
    "ExecuteTime": {
     "end_time": "2023-12-21T03:02:28.950402Z",
     "start_time": "2023-12-21T03:02:28.886109Z"
    }
   },
   "id": "4bfdd5bebf0f8b1d"
  },
  {
   "cell_type": "code",
   "execution_count": 114,
   "outputs": [],
   "source": [
    "X_train = df_train_input.drop(columns=\"building_id\")\n",
    "y_train = df_train_output.drop(columns=\"building_id\")\n",
    "X_test = df_test_input.drop(columns=\"building_id\")"
   ],
   "metadata": {
    "collapsed": false,
    "ExecuteTime": {
     "end_time": "2023-12-21T03:02:31.481981Z",
     "start_time": "2023-12-21T03:02:31.412324Z"
    }
   },
   "id": "8e2efab3fe5f44e4"
  },
  {
   "cell_type": "code",
   "execution_count": 121,
   "outputs": [],
   "source": [
    "mms = MinMaxScaler()\n",
    "X_train = pd.DataFrame(mms.fit_transform(X_train),columns=X_train.columns)\n",
    "X_test = pd.DataFrame(mms.transform(X_test),columns=X_test.columns)"
   ],
   "metadata": {
    "collapsed": false,
    "ExecuteTime": {
     "end_time": "2023-12-21T03:04:58.702623Z",
     "start_time": "2023-12-21T03:04:58.630878Z"
    }
   },
   "id": "cc8a219f7d49d58e"
  },
  {
   "cell_type": "code",
   "execution_count": 122,
   "outputs": [
    {
     "data": {
      "text/plain": "LinearSVC()",
      "text/html": "<style>#sk-container-id-12 {color: black;}#sk-container-id-12 pre{padding: 0;}#sk-container-id-12 div.sk-toggleable {background-color: white;}#sk-container-id-12 label.sk-toggleable__label {cursor: pointer;display: block;width: 100%;margin-bottom: 0;padding: 0.3em;box-sizing: border-box;text-align: center;}#sk-container-id-12 label.sk-toggleable__label-arrow:before {content: \"▸\";float: left;margin-right: 0.25em;color: #696969;}#sk-container-id-12 label.sk-toggleable__label-arrow:hover:before {color: black;}#sk-container-id-12 div.sk-estimator:hover label.sk-toggleable__label-arrow:before {color: black;}#sk-container-id-12 div.sk-toggleable__content {max-height: 0;max-width: 0;overflow: hidden;text-align: left;background-color: #f0f8ff;}#sk-container-id-12 div.sk-toggleable__content pre {margin: 0.2em;color: black;border-radius: 0.25em;background-color: #f0f8ff;}#sk-container-id-12 input.sk-toggleable__control:checked~div.sk-toggleable__content {max-height: 200px;max-width: 100%;overflow: auto;}#sk-container-id-12 input.sk-toggleable__control:checked~label.sk-toggleable__label-arrow:before {content: \"▾\";}#sk-container-id-12 div.sk-estimator input.sk-toggleable__control:checked~label.sk-toggleable__label {background-color: #d4ebff;}#sk-container-id-12 div.sk-label input.sk-toggleable__control:checked~label.sk-toggleable__label {background-color: #d4ebff;}#sk-container-id-12 input.sk-hidden--visually {border: 0;clip: rect(1px 1px 1px 1px);clip: rect(1px, 1px, 1px, 1px);height: 1px;margin: -1px;overflow: hidden;padding: 0;position: absolute;width: 1px;}#sk-container-id-12 div.sk-estimator {font-family: monospace;background-color: #f0f8ff;border: 1px dotted black;border-radius: 0.25em;box-sizing: border-box;margin-bottom: 0.5em;}#sk-container-id-12 div.sk-estimator:hover {background-color: #d4ebff;}#sk-container-id-12 div.sk-parallel-item::after {content: \"\";width: 100%;border-bottom: 1px solid gray;flex-grow: 1;}#sk-container-id-12 div.sk-label:hover label.sk-toggleable__label {background-color: #d4ebff;}#sk-container-id-12 div.sk-serial::before {content: \"\";position: absolute;border-left: 1px solid gray;box-sizing: border-box;top: 0;bottom: 0;left: 50%;z-index: 0;}#sk-container-id-12 div.sk-serial {display: flex;flex-direction: column;align-items: center;background-color: white;padding-right: 0.2em;padding-left: 0.2em;position: relative;}#sk-container-id-12 div.sk-item {position: relative;z-index: 1;}#sk-container-id-12 div.sk-parallel {display: flex;align-items: stretch;justify-content: center;background-color: white;position: relative;}#sk-container-id-12 div.sk-item::before, #sk-container-id-12 div.sk-parallel-item::before {content: \"\";position: absolute;border-left: 1px solid gray;box-sizing: border-box;top: 0;bottom: 0;left: 50%;z-index: -1;}#sk-container-id-12 div.sk-parallel-item {display: flex;flex-direction: column;z-index: 1;position: relative;background-color: white;}#sk-container-id-12 div.sk-parallel-item:first-child::after {align-self: flex-end;width: 50%;}#sk-container-id-12 div.sk-parallel-item:last-child::after {align-self: flex-start;width: 50%;}#sk-container-id-12 div.sk-parallel-item:only-child::after {width: 0;}#sk-container-id-12 div.sk-dashed-wrapped {border: 1px dashed gray;margin: 0 0.4em 0.5em 0.4em;box-sizing: border-box;padding-bottom: 0.4em;background-color: white;}#sk-container-id-12 div.sk-label label {font-family: monospace;font-weight: bold;display: inline-block;line-height: 1.2em;}#sk-container-id-12 div.sk-label-container {text-align: center;}#sk-container-id-12 div.sk-container {/* jupyter's `normalize.less` sets `[hidden] { display: none; }` but bootstrap.min.css set `[hidden] { display: none !important; }` so we also need the `!important` here to be able to override the default hidden behavior on the sphinx rendered scikit-learn.org. See: https://github.com/scikit-learn/scikit-learn/issues/21755 */display: inline-block !important;position: relative;}#sk-container-id-12 div.sk-text-repr-fallback {display: none;}</style><div id=\"sk-container-id-12\" class=\"sk-top-container\"><div class=\"sk-text-repr-fallback\"><pre>LinearSVC()</pre><b>In a Jupyter environment, please rerun this cell to show the HTML representation or trust the notebook. <br />On GitHub, the HTML representation is unable to render, please try loading this page with nbviewer.org.</b></div><div class=\"sk-container\" hidden><div class=\"sk-item\"><div class=\"sk-estimator sk-toggleable\"><input class=\"sk-toggleable__control sk-hidden--visually\" id=\"sk-estimator-id-12\" type=\"checkbox\" checked><label for=\"sk-estimator-id-12\" class=\"sk-toggleable__label sk-toggleable__label-arrow\">LinearSVC</label><div class=\"sk-toggleable__content\"><pre>LinearSVC()</pre></div></div></div></div></div>"
     },
     "execution_count": 122,
     "metadata": {},
     "output_type": "execute_result"
    }
   ],
   "source": [
    "linear_svc = LinearSVC()\n",
    "linear_svc.fit(X_train,y_train)"
   ],
   "metadata": {
    "collapsed": false,
    "ExecuteTime": {
     "end_time": "2023-12-21T03:05:44.420635Z",
     "start_time": "2023-12-21T03:05:00.434309Z"
    }
   },
   "id": "5de46a4a83a43fe7"
  },
  {
   "cell_type": "code",
   "execution_count": 123,
   "outputs": [],
   "source": [
    "y_test = linear_svc.predict(X_test)"
   ],
   "metadata": {
    "collapsed": false,
    "ExecuteTime": {
     "end_time": "2023-12-21T03:06:26.425026Z",
     "start_time": "2023-12-21T03:06:26.375345Z"
    }
   },
   "id": "f1b0934a809048da"
  },
  {
   "cell_type": "code",
   "execution_count": 124,
   "outputs": [],
   "source": [
    "df_submit = pd.DataFrame(columns=[\"building_id\",\"damage_grade\"])\n",
    "df_submit[\"building_id\"] = test_input[\"building_id\"].copy()\n",
    "df_submit[\"damage_grade\"] = y_test"
   ],
   "metadata": {
    "collapsed": false,
    "ExecuteTime": {
     "end_time": "2023-12-21T03:06:27.682817Z",
     "start_time": "2023-12-21T03:06:27.672815Z"
    }
   },
   "id": "e28fb784e3fd36f7"
  },
  {
   "cell_type": "code",
   "execution_count": 125,
   "outputs": [
    {
     "data": {
      "text/plain": "       building_id  damage_grade\n0           300051             2\n1            99355             2\n2           890251             2\n3           745817             2\n4           421793             3\n...            ...           ...\n86863       310028             2\n86864       663567             3\n86865      1049160             2\n86866       442785             2\n86867       501372             2\n\n[86868 rows x 2 columns]",
      "text/html": "<div>\n<style scoped>\n    .dataframe tbody tr th:only-of-type {\n        vertical-align: middle;\n    }\n\n    .dataframe tbody tr th {\n        vertical-align: top;\n    }\n\n    .dataframe thead th {\n        text-align: right;\n    }\n</style>\n<table border=\"1\" class=\"dataframe\">\n  <thead>\n    <tr style=\"text-align: right;\">\n      <th></th>\n      <th>building_id</th>\n      <th>damage_grade</th>\n    </tr>\n  </thead>\n  <tbody>\n    <tr>\n      <th>0</th>\n      <td>300051</td>\n      <td>2</td>\n    </tr>\n    <tr>\n      <th>1</th>\n      <td>99355</td>\n      <td>2</td>\n    </tr>\n    <tr>\n      <th>2</th>\n      <td>890251</td>\n      <td>2</td>\n    </tr>\n    <tr>\n      <th>3</th>\n      <td>745817</td>\n      <td>2</td>\n    </tr>\n    <tr>\n      <th>4</th>\n      <td>421793</td>\n      <td>3</td>\n    </tr>\n    <tr>\n      <th>...</th>\n      <td>...</td>\n      <td>...</td>\n    </tr>\n    <tr>\n      <th>86863</th>\n      <td>310028</td>\n      <td>2</td>\n    </tr>\n    <tr>\n      <th>86864</th>\n      <td>663567</td>\n      <td>3</td>\n    </tr>\n    <tr>\n      <th>86865</th>\n      <td>1049160</td>\n      <td>2</td>\n    </tr>\n    <tr>\n      <th>86866</th>\n      <td>442785</td>\n      <td>2</td>\n    </tr>\n    <tr>\n      <th>86867</th>\n      <td>501372</td>\n      <td>2</td>\n    </tr>\n  </tbody>\n</table>\n<p>86868 rows × 2 columns</p>\n</div>"
     },
     "execution_count": 125,
     "metadata": {},
     "output_type": "execute_result"
    }
   ],
   "source": [
    "df_submit"
   ],
   "metadata": {
    "collapsed": false,
    "ExecuteTime": {
     "end_time": "2023-12-21T03:06:28.585620Z",
     "start_time": "2023-12-21T03:06:28.541232Z"
    }
   },
   "id": "dbab0488873fca74"
  },
  {
   "cell_type": "code",
   "execution_count": 126,
   "outputs": [],
   "source": [
    "df_submit.to_csv(\"amith_submission.csv\",index=False,header=True)"
   ],
   "metadata": {
    "collapsed": false,
    "ExecuteTime": {
     "end_time": "2023-12-21T03:06:33.185766Z",
     "start_time": "2023-12-21T03:06:33.139242Z"
    }
   },
   "id": "27c6d6c7396ae529"
  },
  {
   "cell_type": "code",
   "execution_count": 127,
   "outputs": [
    {
     "data": {
      "text/plain": "damage_grade\n2    79754\n3     4590\n1     2524\nName: count, dtype: int64"
     },
     "execution_count": 127,
     "metadata": {},
     "output_type": "execute_result"
    }
   ],
   "source": [
    "df_submit[\"damage_grade\"].value_counts()"
   ],
   "metadata": {
    "collapsed": false,
    "ExecuteTime": {
     "end_time": "2023-12-21T03:06:33.946791Z",
     "start_time": "2023-12-21T03:06:33.939781Z"
    }
   },
   "id": "52331f3a432bddde"
  },
  {
   "cell_type": "code",
   "execution_count": null,
   "outputs": [],
   "source": [],
   "metadata": {
    "collapsed": false
   },
   "id": "f46005f451e85d71"
  }
 ],
 "metadata": {
  "kernelspec": {
   "display_name": "Python 3",
   "language": "python",
   "name": "python3"
  },
  "language_info": {
   "codemirror_mode": {
    "name": "ipython",
    "version": 2
   },
   "file_extension": ".py",
   "mimetype": "text/x-python",
   "name": "python",
   "nbconvert_exporter": "python",
   "pygments_lexer": "ipython2",
   "version": "2.7.6"
  }
 },
 "nbformat": 4,
 "nbformat_minor": 5
}
