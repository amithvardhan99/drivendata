{
 "cells": [
  {
   "cell_type": "markdown",
   "source": [
    "### Labels\n",
    "\n",
    "Both are binary variables: 0 = No; 1 = Yes. Some respondents didn't get either vaccine, others got only one, and some got both. This is formulated as a multilabel (and not multiclass) problem.<br><br>\n",
    "\n",
    "We're trying to predict the ordinal variable damage_grade, which represents a level of damage to the building that was hit by the earthquake. There are 3 grades of the damage:<br><br>\n",
    "\n",
    "1) 1 represents low damage<br>\n",
    "2) 2 represents a medium amount of damage<br>\n",
    "3) 3 represents almost complete destruction<br>"
   ],
   "metadata": {
    "collapsed": false
   },
   "id": "e9f9edce2dc57c29"
  },
  {
   "cell_type": "code",
   "execution_count": null,
   "outputs": [],
   "source": [],
   "metadata": {
    "collapsed": false
   },
   "id": "d8ac4cb6e80f215"
  },
  {
   "cell_type": "markdown",
   "source": [
    "### Features\n",
    "\n",
    "The dataset mainly consists of information on the buildings' structure and their legal ownership. Each row in the dataset represents a specific building in the region that was hit by Gorkha earthquake.\n",
    "\n",
    "There are 39 columns in this dataset, where the building_id column is a unique and random identifier. The remaining 38 features are described in the section below. Categorical variables have been obfuscated random lowercase ascii characters. The appearance of the same character in distinct columns does not imply the same original value."
   ],
   "metadata": {
    "collapsed": false
   },
   "id": "839a6111e7433492"
  },
  {
   "cell_type": "code",
   "execution_count": 20,
   "outputs": [],
   "source": [],
   "metadata": {
    "collapsed": false,
    "ExecuteTime": {
     "end_time": "2023-12-20T19:34:55.259717Z",
     "start_time": "2023-12-20T19:34:55.253365Z"
    }
   },
   "id": "2d912570378acb2c"
  },
  {
   "cell_type": "markdown",
   "source": [
    "### Description"
   ],
   "metadata": {
    "collapsed": false
   },
   "id": "55517b74bf6c4bc0"
  },
  {
   "cell_type": "markdown",
   "source": [
    "* geo_level_1_id, geo_level_2_id, geo_level_3_id (type: int): geographic region in which building exists, from largest (level 1) to most specific sub-region (level 3). Possible values: level 1: 0-30, level 2: 0-1427, level 3: 0-12567.<br><br>\n",
    "* count_floors_pre_eq (type: int): number of floors in the building before the earthquake.<br><br>\n",
    "* age (type: int): age of the building in years.<br><br>\n",
    "* area_percentage (type: int): normalized area of the building footprint.<br><br>\n",
    "* height_percentage (type: int): normalized height of the building footprint.<br><br>\n",
    "* land_surface_condition (type: categorical): surface condition of the land where the building was built. Possible values: n, o, t.<br><br>\n",
    "* foundation_type (type: categorical): type of foundation used while building. Possible values: h, i, r, u, w.<br><br>\n",
    "* roof_type (type: categorical): type of roof used while building. Possible values: n, q, x.<br><br>\n",
    "* ground_floor_type (type: categorical): type of the ground floor. Possible values: f, m, v, x, z.<br><br>\n",
    "other_floor_type (type: categorical): type of constructions used in higher than the ground floors (except of roof). Possible values: j, q, s, x.<br><br>\n",
    "* position (type: categorical): position of the building. Possible values: j, o, s, t.<br><br>\n",
    "* plan_configuration (type: categorical): building plan configuration. Possible values: a, c, d, f, m, n, o, q, s, u.<br><br>"
   ],
   "metadata": {
    "collapsed": false
   },
   "id": "336adf817edc954d"
  },
  {
   "cell_type": "markdown",
   "source": [
    "* has_superstructure_adobe_mud (type: binary): flag variable that indicates if the superstructure was made of Adobe/Mud.<br><br>\n",
    "* has_superstructure_mud_mortar_stone (type: binary): flag variable that indicates if the superstructure was made of Mud Mortar - Stone.<br><br>\n",
    "* has_superstructure_stone_flag (type: binary): flag variable that indicates if the superstructure was made of Stone.<br><br>\n",
    "* has_superstructure_cement_mortar_stone (type: binary): flag variable that indicates if the superstructure was made of Cement Mortar - Stone.<br><br>\n",
    "* has_superstructure_mud_mortar_brick (type: binary): flag variable that indicates if the superstructure was made of Mud Mortar - Brick.<br><br>\n",
    "* has_superstructure_cement_mortar_brick (type: binary): flag variable that indicates if the superstructure was made of Cement Mortar - Brick.<br><br>\n",
    "* has_superstructure_timber (type: binary): flag variable that indicates if the superstructure was made of Timber.<br><br>\n",
    "* has_superstructure_bamboo (type: binary): flag variable that indicates if the superstructure was made of Bamboo.<br><br>\n",
    "* has_superstructure_rc_non_engineered (type: binary): flag variable that indicates if the superstructure was made of non-engineered reinforced concrete.<br><br>\n",
    "* has_superstructure_rc_engineered (type: binary): flag variable that indicates if the superstructure was made of engineered reinforced concrete.<br><br>\n",
    "* has_superstructure_other (type: binary): flag variable that indicates if the superstructure was made of any other material.<br><br>"
   ],
   "metadata": {
    "collapsed": false
   },
   "id": "d05a56339967b19a"
  },
  {
   "cell_type": "markdown",
   "source": [
    "* legal_ownership_status (type: categorical): legal ownership status of the land where building was built. Possible values: a, r, v, w.<br><br>\n",
    "* count_families (type: int): number of families that live in the building.<br><br>"
   ],
   "metadata": {
    "collapsed": false
   },
   "id": "89e47d762c318cd4"
  },
  {
   "cell_type": "markdown",
   "source": [
    "* has_secondary_use (type: binary): flag variable that indicates if the building was used for any secondary purpose.<br><br>\n",
    "* has_secondary_use_agriculture (type: binary): flag variable that indicates if the building was used for agricultural purposes.<br><br>\n",
    "* has_secondary_use_hotel (type: binary): flag variable that indicates if the building was used as a hotel.<br><br>\n",
    "* has_secondary_use_rental (type: binary): flag variable that indicates if the building was used for rental purposes.<br><br>\n",
    "* has_secondary_use_institution (type: binary): flag variable that indicates if the building was used as a location of any institution.<br><br>\n",
    "* has_secondary_use_school (type: binary): flag variable that indicates if the building was used as a school.<br><br>\n",
    "* has_secondary_use_industry (type: binary): flag variable that indicates if the building was used for industrial purposes.<br><br>\n",
    "* has_secondary_use_health_post (type: binary): flag variable that indicates if the building was used as a health post.<br><br>\n",
    "* has_secondary_use_gov_office (type: binary): flag variable that indicates if the building was used fas a government office.<br><br>\n",
    "* has_secondary_use_use_police (type: binary): flag variable that indicates if the building was used as a police station.<br><br>\n",
    "* has_secondary_use_other (type: binary): flag variable that indicates if the building was secondarily used for other purposes.<br><br>"
   ],
   "metadata": {
    "collapsed": false
   },
   "id": "cacb999030dd6089"
  },
  {
   "cell_type": "markdown",
   "source": [
    "### Importing Required Modules"
   ],
   "metadata": {
    "collapsed": false
   },
   "id": "ed51d2d55ce2cd08"
  },
  {
   "cell_type": "code",
   "execution_count": 136,
   "id": "initial_id",
   "metadata": {
    "collapsed": true,
    "ExecuteTime": {
     "end_time": "2023-12-20T20:37:23.544125Z",
     "start_time": "2023-12-20T20:37:23.543218Z"
    }
   },
   "outputs": [],
   "source": [
    "import numpy as np\n",
    "import pandas as pd\n",
    "import matplotlib.pyplot as plt\n",
    "import seaborn as sns\n",
    "from sklearn.preprocessing import *\n",
    "from sklearn.metrics import *\n",
    "import warnings\n",
    "warnings.filterwarnings(\"ignore\")\n",
    "from sklearn.ensemble import *"
   ]
  },
  {
   "cell_type": "markdown",
   "source": [
    "### Importing Datasets"
   ],
   "metadata": {
    "collapsed": false
   },
   "id": "67e5ed38e23811bf"
  },
  {
   "cell_type": "code",
   "execution_count": 137,
   "outputs": [],
   "source": [
    "train_input = pd.read_csv(\"train_values.csv\")\n",
    "train_output = pd.read_csv(\"train_labels.csv\")\n",
    "\n",
    "test_input = pd.read_csv(\"test_values.csv\")\n",
    "submission_format = pd.read_csv(\"submission_format.csv\")"
   ],
   "metadata": {
    "collapsed": false,
    "ExecuteTime": {
     "end_time": "2023-12-20T20:37:24.963878Z",
     "start_time": "2023-12-20T20:37:24.335446Z"
    }
   },
   "id": "52cd6a6412403b77"
  },
  {
   "cell_type": "code",
   "execution_count": 138,
   "outputs": [],
   "source": [
    "id_columns = train_input.columns.values[0:4]\n",
    "\n",
    "X_train = train_input.drop(columns=id_columns)\n",
    "X_test = test_input.drop(columns=id_columns)\n",
    "y_train = train_output.drop(columns=\"building_id\")"
   ],
   "metadata": {
    "collapsed": false,
    "ExecuteTime": {
     "end_time": "2023-12-20T20:37:25.066458Z",
     "start_time": "2023-12-20T20:37:24.976078Z"
    }
   },
   "id": "838acd6e291d9bd4"
  },
  {
   "cell_type": "code",
   "execution_count": 139,
   "outputs": [],
   "source": [
    "data_types = train_input.dtypes.reset_index()\n",
    "categorical_features = data_types[data_types[0]==\"object\"][\"index\"].reset_index(drop=True)\n",
    "\n",
    "for i in categorical_features:\n",
    "    unique_values = np.sort(X_train[i].unique())\n",
    "    dic = {}\n",
    "    ctr = 0\n",
    "    for j in unique_values:\n",
    "        dic[j] = ctr\n",
    "        ctr += 1\n",
    "    X_train[i] = X_train[i].map(dic)\n",
    "    X_test[i] = X_test[i].map(dic)"
   ],
   "metadata": {
    "collapsed": false,
    "ExecuteTime": {
     "end_time": "2023-12-20T20:37:25.677745Z",
     "start_time": "2023-12-20T20:37:25.564749Z"
    }
   },
   "id": "90948796256b9764"
  },
  {
   "cell_type": "code",
   "execution_count": 140,
   "outputs": [],
   "source": [
    "mms = MinMaxScaler()\n",
    "X_train = pd.DataFrame(mms.fit_transform(X_train),columns=X_train.columns)\n",
    "X_test = pd.DataFrame(mms.fit_transform(X_test),columns=X_test.columns)"
   ],
   "metadata": {
    "collapsed": false,
    "ExecuteTime": {
     "end_time": "2023-12-20T20:37:26.127636Z",
     "start_time": "2023-12-20T20:37:25.996465Z"
    }
   },
   "id": "9a0c6bbcfe95447b"
  },
  {
   "cell_type": "code",
   "execution_count": 141,
   "outputs": [],
   "source": [
    "rfc = RandomForestClassifier()\n",
    "rfc.fit(X_train,y_train)\n",
    "y_test = rfc.predict(X_test)"
   ],
   "metadata": {
    "collapsed": false,
    "ExecuteTime": {
     "end_time": "2023-12-20T20:37:49.172089Z",
     "start_time": "2023-12-20T20:37:26.497178Z"
    }
   },
   "id": "c538cb1405768214"
  },
  {
   "cell_type": "code",
   "execution_count": 142,
   "outputs": [],
   "source": [
    "df_final = pd.DataFrame(columns=train_output.columns)\n",
    "df_final[\"building_id\"] = test_input[\"building_id\"].copy()\n",
    "df_final[\"damage_grade\"] = y_test"
   ],
   "metadata": {
    "collapsed": false,
    "ExecuteTime": {
     "end_time": "2023-12-20T20:37:49.182837Z",
     "start_time": "2023-12-20T20:37:49.169877Z"
    }
   },
   "id": "f386536e302e51c6"
  },
  {
   "cell_type": "code",
   "execution_count": 143,
   "outputs": [
    {
     "data": {
      "text/plain": "       building_id  damage_grade\n0           300051             3\n1            99355             2\n2           890251             2\n3           745817             1\n4           421793             2\n...            ...           ...\n86863       310028             2\n86864       663567             2\n86865      1049160             2\n86866       442785             3\n86867       501372             2\n\n[86868 rows x 2 columns]",
      "text/html": "<div>\n<style scoped>\n    .dataframe tbody tr th:only-of-type {\n        vertical-align: middle;\n    }\n\n    .dataframe tbody tr th {\n        vertical-align: top;\n    }\n\n    .dataframe thead th {\n        text-align: right;\n    }\n</style>\n<table border=\"1\" class=\"dataframe\">\n  <thead>\n    <tr style=\"text-align: right;\">\n      <th></th>\n      <th>building_id</th>\n      <th>damage_grade</th>\n    </tr>\n  </thead>\n  <tbody>\n    <tr>\n      <th>0</th>\n      <td>300051</td>\n      <td>3</td>\n    </tr>\n    <tr>\n      <th>1</th>\n      <td>99355</td>\n      <td>2</td>\n    </tr>\n    <tr>\n      <th>2</th>\n      <td>890251</td>\n      <td>2</td>\n    </tr>\n    <tr>\n      <th>3</th>\n      <td>745817</td>\n      <td>1</td>\n    </tr>\n    <tr>\n      <th>4</th>\n      <td>421793</td>\n      <td>2</td>\n    </tr>\n    <tr>\n      <th>...</th>\n      <td>...</td>\n      <td>...</td>\n    </tr>\n    <tr>\n      <th>86863</th>\n      <td>310028</td>\n      <td>2</td>\n    </tr>\n    <tr>\n      <th>86864</th>\n      <td>663567</td>\n      <td>2</td>\n    </tr>\n    <tr>\n      <th>86865</th>\n      <td>1049160</td>\n      <td>2</td>\n    </tr>\n    <tr>\n      <th>86866</th>\n      <td>442785</td>\n      <td>3</td>\n    </tr>\n    <tr>\n      <th>86867</th>\n      <td>501372</td>\n      <td>2</td>\n    </tr>\n  </tbody>\n</table>\n<p>86868 rows × 2 columns</p>\n</div>"
     },
     "execution_count": 143,
     "metadata": {},
     "output_type": "execute_result"
    }
   ],
   "source": [
    "df_final"
   ],
   "metadata": {
    "collapsed": false,
    "ExecuteTime": {
     "end_time": "2023-12-20T20:37:49.200423Z",
     "start_time": "2023-12-20T20:37:49.186254Z"
    }
   },
   "id": "75494691ab2be58f"
  },
  {
   "cell_type": "code",
   "execution_count": 144,
   "outputs": [],
   "source": [
    "df_final.to_csv(\"amith_submission.csv\",index=False,header=True)"
   ],
   "metadata": {
    "collapsed": false,
    "ExecuteTime": {
     "end_time": "2023-12-20T20:37:49.311752Z",
     "start_time": "2023-12-20T20:37:49.191560Z"
    }
   },
   "id": "d51f7e4b73330701"
  },
  {
   "cell_type": "code",
   "execution_count": null,
   "outputs": [],
   "source": [],
   "metadata": {
    "collapsed": false
   },
   "id": "11559dc1d9764334"
  }
 ],
 "metadata": {
  "kernelspec": {
   "display_name": "Python 3",
   "language": "python",
   "name": "python3"
  },
  "language_info": {
   "codemirror_mode": {
    "name": "ipython",
    "version": 2
   },
   "file_extension": ".py",
   "mimetype": "text/x-python",
   "name": "python",
   "nbconvert_exporter": "python",
   "pygments_lexer": "ipython2",
   "version": "2.7.6"
  }
 },
 "nbformat": 4,
 "nbformat_minor": 5
}
