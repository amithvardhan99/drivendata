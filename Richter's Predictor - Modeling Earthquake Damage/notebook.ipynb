{
 "cells": [
  {
   "cell_type": "markdown",
   "source": [
    "### Labels\n",
    "\n",
    "Both are binary variables: 0 = No; 1 = Yes. Some respondents didn't get either vaccine, others got only one, and some got both. This is formulated as a multilabel (and not multiclass) problem.<br><br>\n",
    "\n",
    "We're trying to predict the ordinal variable damage_grade, which represents a level of damage to the building that was hit by the earthquake. There are 3 grades of the damage:<br><br>\n",
    "\n",
    "1) 1 represents low damage<br>\n",
    "2) 2 represents a medium amount of damage<br>\n",
    "3) 3 represents almost complete destruction<br>"
   ],
   "metadata": {
    "collapsed": false
   },
   "id": "e9f9edce2dc57c29"
  },
  {
   "cell_type": "code",
   "execution_count": null,
   "outputs": [],
   "source": [],
   "metadata": {
    "collapsed": false
   },
   "id": "d8ac4cb6e80f215"
  },
  {
   "cell_type": "markdown",
   "source": [
    "### Features\n",
    "\n",
    "The dataset mainly consists of information on the buildings' structure and their legal ownership. Each row in the dataset represents a specific building in the region that was hit by Gorkha earthquake.\n",
    "\n",
    "There are 39 columns in this dataset, where the building_id column is a unique and random identifier. The remaining 38 features are described in the section below. Categorical variables have been obfuscated random lowercase ascii characters. The appearance of the same character in distinct columns does not imply the same original value."
   ],
   "metadata": {
    "collapsed": false
   },
   "id": "839a6111e7433492"
  },
  {
   "cell_type": "code",
   "execution_count": 20,
   "outputs": [],
   "source": [],
   "metadata": {
    "collapsed": false,
    "ExecuteTime": {
     "end_time": "2023-12-20T19:34:55.259717Z",
     "start_time": "2023-12-20T19:34:55.253365Z"
    }
   },
   "id": "2d912570378acb2c"
  },
  {
   "cell_type": "markdown",
   "source": [
    "### Description"
   ],
   "metadata": {
    "collapsed": false
   },
   "id": "55517b74bf6c4bc0"
  },
  {
   "cell_type": "markdown",
   "source": [
    "* geo_level_1_id, geo_level_2_id, geo_level_3_id (type: int): geographic region in which building exists, from largest (level 1) to most specific sub-region (level 3). Possible values: level 1: 0-30, level 2: 0-1427, level 3: 0-12567.<br><br>\n",
    "* count_floors_pre_eq (type: int): number of floors in the building before the earthquake.<br><br>\n",
    "* age (type: int): age of the building in years.<br><br>\n",
    "* area_percentage (type: int): normalized area of the building footprint.<br><br>\n",
    "* height_percentage (type: int): normalized height of the building footprint.<br><br>\n",
    "* land_surface_condition (type: categorical): surface condition of the land where the building was built. Possible values: n, o, t.<br><br>\n",
    "* foundation_type (type: categorical): type of foundation used while building. Possible values: h, i, r, u, w.<br><br>\n",
    "* roof_type (type: categorical): type of roof used while building. Possible values: n, q, x.<br><br>\n",
    "* ground_floor_type (type: categorical): type of the ground floor. Possible values: f, m, v, x, z.<br><br>\n",
    "other_floor_type (type: categorical): type of constructions used in higher than the ground floors (except of roof). Possible values: j, q, s, x.<br><br>\n",
    "* position (type: categorical): position of the building. Possible values: j, o, s, t.<br><br>\n",
    "* plan_configuration (type: categorical): building plan configuration. Possible values: a, c, d, f, m, n, o, q, s, u.<br><br>"
   ],
   "metadata": {
    "collapsed": false
   },
   "id": "336adf817edc954d"
  },
  {
   "cell_type": "markdown",
   "source": [
    "* has_superstructure_adobe_mud (type: binary): flag variable that indicates if the superstructure was made of Adobe/Mud.<br><br>\n",
    "* has_superstructure_mud_mortar_stone (type: binary): flag variable that indicates if the superstructure was made of Mud Mortar - Stone.<br><br>\n",
    "* has_superstructure_stone_flag (type: binary): flag variable that indicates if the superstructure was made of Stone.<br><br>\n",
    "* has_superstructure_cement_mortar_stone (type: binary): flag variable that indicates if the superstructure was made of Cement Mortar - Stone.<br><br>\n",
    "* has_superstructure_mud_mortar_brick (type: binary): flag variable that indicates if the superstructure was made of Mud Mortar - Brick.<br><br>\n",
    "* has_superstructure_cement_mortar_brick (type: binary): flag variable that indicates if the superstructure was made of Cement Mortar - Brick.<br><br>\n",
    "* has_superstructure_timber (type: binary): flag variable that indicates if the superstructure was made of Timber.<br><br>\n",
    "* has_superstructure_bamboo (type: binary): flag variable that indicates if the superstructure was made of Bamboo.<br><br>\n",
    "* has_superstructure_rc_non_engineered (type: binary): flag variable that indicates if the superstructure was made of non-engineered reinforced concrete.<br><br>\n",
    "* has_superstructure_rc_engineered (type: binary): flag variable that indicates if the superstructure was made of engineered reinforced concrete.<br><br>\n",
    "* has_superstructure_other (type: binary): flag variable that indicates if the superstructure was made of any other material.<br><br>"
   ],
   "metadata": {
    "collapsed": false
   },
   "id": "d05a56339967b19a"
  },
  {
   "cell_type": "markdown",
   "source": [
    "* legal_ownership_status (type: categorical): legal ownership status of the land where building was built. Possible values: a, r, v, w.<br><br>\n",
    "* count_families (type: int): number of families that live in the building.<br><br>"
   ],
   "metadata": {
    "collapsed": false
   },
   "id": "89e47d762c318cd4"
  },
  {
   "cell_type": "markdown",
   "source": [
    "* has_secondary_use (type: binary): flag variable that indicates if the building was used for any secondary purpose.<br><br>\n",
    "* has_secondary_use_agriculture (type: binary): flag variable that indicates if the building was used for agricultural purposes.<br><br>\n",
    "* has_secondary_use_hotel (type: binary): flag variable that indicates if the building was used as a hotel.<br><br>\n",
    "* has_secondary_use_rental (type: binary): flag variable that indicates if the building was used for rental purposes.<br><br>\n",
    "* has_secondary_use_institution (type: binary): flag variable that indicates if the building was used as a location of any institution.<br><br>\n",
    "* has_secondary_use_school (type: binary): flag variable that indicates if the building was used as a school.<br><br>\n",
    "* has_secondary_use_industry (type: binary): flag variable that indicates if the building was used for industrial purposes.<br><br>\n",
    "* has_secondary_use_health_post (type: binary): flag variable that indicates if the building was used as a health post.<br><br>\n",
    "* has_secondary_use_gov_office (type: binary): flag variable that indicates if the building was used fas a government office.<br><br>\n",
    "* has_secondary_use_use_police (type: binary): flag variable that indicates if the building was used as a police station.<br><br>\n",
    "* has_secondary_use_other (type: binary): flag variable that indicates if the building was secondarily used for other purposes.<br><br>"
   ],
   "metadata": {
    "collapsed": false
   },
   "id": "cacb999030dd6089"
  },
  {
   "cell_type": "markdown",
   "source": [
    "### Importing Required Modules"
   ],
   "metadata": {
    "collapsed": false
   },
   "id": "ed51d2d55ce2cd08"
  },
  {
   "cell_type": "code",
   "execution_count": 26,
   "id": "initial_id",
   "metadata": {
    "collapsed": true,
    "ExecuteTime": {
     "end_time": "2023-12-20T19:41:27.969375Z",
     "start_time": "2023-12-20T19:41:27.962733Z"
    }
   },
   "outputs": [],
   "source": [
    "import numpy as np\n",
    "import pandas as pd\n",
    "import matplotlib.pyplot as plt\n",
    "import seaborn as sns"
   ]
  },
  {
   "cell_type": "markdown",
   "source": [
    "### Importing Datasets"
   ],
   "metadata": {
    "collapsed": false
   },
   "id": "67e5ed38e23811bf"
  },
  {
   "cell_type": "code",
   "execution_count": 37,
   "outputs": [],
   "source": [
    "train_input = pd.read_csv(\"train_values.csv\")\n",
    "train_output = pd.read_csv(\"train_labels.csv\")\n",
    "\n",
    "test_input = pd.read_csv(\"test_values.csv\")\n",
    "submission_format = pd.read_csv(\"submission_format.csv\")"
   ],
   "metadata": {
    "collapsed": false,
    "ExecuteTime": {
     "end_time": "2023-12-20T19:44:51.815969Z",
     "start_time": "2023-12-20T19:44:51.361233Z"
    }
   },
   "id": "52cd6a6412403b77"
  },
  {
   "cell_type": "code",
   "execution_count": 38,
   "outputs": [
    {
     "data": {
      "text/plain": "        building_id  geo_level_1_id  geo_level_2_id  geo_level_3_id  \\\n0            802906               6             487           12198   \n1             28830               8             900            2812   \n2             94947              21             363            8973   \n3            590882              22             418           10694   \n4            201944              11             131            1488   \n...             ...             ...             ...             ...   \n260596       688636              25            1335            1621   \n260597       669485              17             715            2060   \n260598       602512              17              51            8163   \n260599       151409              26              39            1851   \n260600       747594              21               9            9101   \n\n        count_floors_pre_eq  age  area_percentage  height_percentage  \\\n0                         2   30                6                  5   \n1                         2   10                8                  7   \n2                         2   10                5                  5   \n3                         2   10                6                  5   \n4                         3   30                8                  9   \n...                     ...  ...              ...                ...   \n260596                    1   55                6                  3   \n260597                    2    0                6                  5   \n260598                    3   55                6                  7   \n260599                    2   10               14                  6   \n260600                    3   10                7                  6   \n\n       land_surface_condition foundation_type  ...  \\\n0                           t               r  ...   \n1                           o               r  ...   \n2                           t               r  ...   \n3                           t               r  ...   \n4                           t               r  ...   \n...                       ...             ...  ...   \n260596                      n               r  ...   \n260597                      t               r  ...   \n260598                      t               r  ...   \n260599                      t               r  ...   \n260600                      n               r  ...   \n\n       has_secondary_use_agriculture has_secondary_use_hotel  \\\n0                                  0                       0   \n1                                  0                       0   \n2                                  0                       0   \n3                                  0                       0   \n4                                  0                       0   \n...                              ...                     ...   \n260596                             0                       0   \n260597                             0                       0   \n260598                             0                       0   \n260599                             0                       0   \n260600                             0                       0   \n\n       has_secondary_use_rental has_secondary_use_institution  \\\n0                             0                             0   \n1                             0                             0   \n2                             0                             0   \n3                             0                             0   \n4                             0                             0   \n...                         ...                           ...   \n260596                        0                             0   \n260597                        0                             0   \n260598                        0                             0   \n260599                        0                             0   \n260600                        0                             0   \n\n       has_secondary_use_school  has_secondary_use_industry  \\\n0                             0                           0   \n1                             0                           0   \n2                             0                           0   \n3                             0                           0   \n4                             0                           0   \n...                         ...                         ...   \n260596                        0                           0   \n260597                        0                           0   \n260598                        0                           0   \n260599                        0                           0   \n260600                        0                           0   \n\n        has_secondary_use_health_post  has_secondary_use_gov_office  \\\n0                                   0                             0   \n1                                   0                             0   \n2                                   0                             0   \n3                                   0                             0   \n4                                   0                             0   \n...                               ...                           ...   \n260596                              0                             0   \n260597                              0                             0   \n260598                              0                             0   \n260599                              0                             0   \n260600                              0                             0   \n\n        has_secondary_use_use_police  has_secondary_use_other  \n0                                  0                        0  \n1                                  0                        0  \n2                                  0                        0  \n3                                  0                        0  \n4                                  0                        0  \n...                              ...                      ...  \n260596                             0                        0  \n260597                             0                        0  \n260598                             0                        0  \n260599                             0                        0  \n260600                             0                        0  \n\n[260601 rows x 39 columns]",
      "text/html": "<div>\n<style scoped>\n    .dataframe tbody tr th:only-of-type {\n        vertical-align: middle;\n    }\n\n    .dataframe tbody tr th {\n        vertical-align: top;\n    }\n\n    .dataframe thead th {\n        text-align: right;\n    }\n</style>\n<table border=\"1\" class=\"dataframe\">\n  <thead>\n    <tr style=\"text-align: right;\">\n      <th></th>\n      <th>building_id</th>\n      <th>geo_level_1_id</th>\n      <th>geo_level_2_id</th>\n      <th>geo_level_3_id</th>\n      <th>count_floors_pre_eq</th>\n      <th>age</th>\n      <th>area_percentage</th>\n      <th>height_percentage</th>\n      <th>land_surface_condition</th>\n      <th>foundation_type</th>\n      <th>...</th>\n      <th>has_secondary_use_agriculture</th>\n      <th>has_secondary_use_hotel</th>\n      <th>has_secondary_use_rental</th>\n      <th>has_secondary_use_institution</th>\n      <th>has_secondary_use_school</th>\n      <th>has_secondary_use_industry</th>\n      <th>has_secondary_use_health_post</th>\n      <th>has_secondary_use_gov_office</th>\n      <th>has_secondary_use_use_police</th>\n      <th>has_secondary_use_other</th>\n    </tr>\n  </thead>\n  <tbody>\n    <tr>\n      <th>0</th>\n      <td>802906</td>\n      <td>6</td>\n      <td>487</td>\n      <td>12198</td>\n      <td>2</td>\n      <td>30</td>\n      <td>6</td>\n      <td>5</td>\n      <td>t</td>\n      <td>r</td>\n      <td>...</td>\n      <td>0</td>\n      <td>0</td>\n      <td>0</td>\n      <td>0</td>\n      <td>0</td>\n      <td>0</td>\n      <td>0</td>\n      <td>0</td>\n      <td>0</td>\n      <td>0</td>\n    </tr>\n    <tr>\n      <th>1</th>\n      <td>28830</td>\n      <td>8</td>\n      <td>900</td>\n      <td>2812</td>\n      <td>2</td>\n      <td>10</td>\n      <td>8</td>\n      <td>7</td>\n      <td>o</td>\n      <td>r</td>\n      <td>...</td>\n      <td>0</td>\n      <td>0</td>\n      <td>0</td>\n      <td>0</td>\n      <td>0</td>\n      <td>0</td>\n      <td>0</td>\n      <td>0</td>\n      <td>0</td>\n      <td>0</td>\n    </tr>\n    <tr>\n      <th>2</th>\n      <td>94947</td>\n      <td>21</td>\n      <td>363</td>\n      <td>8973</td>\n      <td>2</td>\n      <td>10</td>\n      <td>5</td>\n      <td>5</td>\n      <td>t</td>\n      <td>r</td>\n      <td>...</td>\n      <td>0</td>\n      <td>0</td>\n      <td>0</td>\n      <td>0</td>\n      <td>0</td>\n      <td>0</td>\n      <td>0</td>\n      <td>0</td>\n      <td>0</td>\n      <td>0</td>\n    </tr>\n    <tr>\n      <th>3</th>\n      <td>590882</td>\n      <td>22</td>\n      <td>418</td>\n      <td>10694</td>\n      <td>2</td>\n      <td>10</td>\n      <td>6</td>\n      <td>5</td>\n      <td>t</td>\n      <td>r</td>\n      <td>...</td>\n      <td>0</td>\n      <td>0</td>\n      <td>0</td>\n      <td>0</td>\n      <td>0</td>\n      <td>0</td>\n      <td>0</td>\n      <td>0</td>\n      <td>0</td>\n      <td>0</td>\n    </tr>\n    <tr>\n      <th>4</th>\n      <td>201944</td>\n      <td>11</td>\n      <td>131</td>\n      <td>1488</td>\n      <td>3</td>\n      <td>30</td>\n      <td>8</td>\n      <td>9</td>\n      <td>t</td>\n      <td>r</td>\n      <td>...</td>\n      <td>0</td>\n      <td>0</td>\n      <td>0</td>\n      <td>0</td>\n      <td>0</td>\n      <td>0</td>\n      <td>0</td>\n      <td>0</td>\n      <td>0</td>\n      <td>0</td>\n    </tr>\n    <tr>\n      <th>...</th>\n      <td>...</td>\n      <td>...</td>\n      <td>...</td>\n      <td>...</td>\n      <td>...</td>\n      <td>...</td>\n      <td>...</td>\n      <td>...</td>\n      <td>...</td>\n      <td>...</td>\n      <td>...</td>\n      <td>...</td>\n      <td>...</td>\n      <td>...</td>\n      <td>...</td>\n      <td>...</td>\n      <td>...</td>\n      <td>...</td>\n      <td>...</td>\n      <td>...</td>\n      <td>...</td>\n    </tr>\n    <tr>\n      <th>260596</th>\n      <td>688636</td>\n      <td>25</td>\n      <td>1335</td>\n      <td>1621</td>\n      <td>1</td>\n      <td>55</td>\n      <td>6</td>\n      <td>3</td>\n      <td>n</td>\n      <td>r</td>\n      <td>...</td>\n      <td>0</td>\n      <td>0</td>\n      <td>0</td>\n      <td>0</td>\n      <td>0</td>\n      <td>0</td>\n      <td>0</td>\n      <td>0</td>\n      <td>0</td>\n      <td>0</td>\n    </tr>\n    <tr>\n      <th>260597</th>\n      <td>669485</td>\n      <td>17</td>\n      <td>715</td>\n      <td>2060</td>\n      <td>2</td>\n      <td>0</td>\n      <td>6</td>\n      <td>5</td>\n      <td>t</td>\n      <td>r</td>\n      <td>...</td>\n      <td>0</td>\n      <td>0</td>\n      <td>0</td>\n      <td>0</td>\n      <td>0</td>\n      <td>0</td>\n      <td>0</td>\n      <td>0</td>\n      <td>0</td>\n      <td>0</td>\n    </tr>\n    <tr>\n      <th>260598</th>\n      <td>602512</td>\n      <td>17</td>\n      <td>51</td>\n      <td>8163</td>\n      <td>3</td>\n      <td>55</td>\n      <td>6</td>\n      <td>7</td>\n      <td>t</td>\n      <td>r</td>\n      <td>...</td>\n      <td>0</td>\n      <td>0</td>\n      <td>0</td>\n      <td>0</td>\n      <td>0</td>\n      <td>0</td>\n      <td>0</td>\n      <td>0</td>\n      <td>0</td>\n      <td>0</td>\n    </tr>\n    <tr>\n      <th>260599</th>\n      <td>151409</td>\n      <td>26</td>\n      <td>39</td>\n      <td>1851</td>\n      <td>2</td>\n      <td>10</td>\n      <td>14</td>\n      <td>6</td>\n      <td>t</td>\n      <td>r</td>\n      <td>...</td>\n      <td>0</td>\n      <td>0</td>\n      <td>0</td>\n      <td>0</td>\n      <td>0</td>\n      <td>0</td>\n      <td>0</td>\n      <td>0</td>\n      <td>0</td>\n      <td>0</td>\n    </tr>\n    <tr>\n      <th>260600</th>\n      <td>747594</td>\n      <td>21</td>\n      <td>9</td>\n      <td>9101</td>\n      <td>3</td>\n      <td>10</td>\n      <td>7</td>\n      <td>6</td>\n      <td>n</td>\n      <td>r</td>\n      <td>...</td>\n      <td>0</td>\n      <td>0</td>\n      <td>0</td>\n      <td>0</td>\n      <td>0</td>\n      <td>0</td>\n      <td>0</td>\n      <td>0</td>\n      <td>0</td>\n      <td>0</td>\n    </tr>\n  </tbody>\n</table>\n<p>260601 rows × 39 columns</p>\n</div>"
     },
     "execution_count": 38,
     "metadata": {},
     "output_type": "execute_result"
    }
   ],
   "source": [
    "train_input"
   ],
   "metadata": {
    "collapsed": false,
    "ExecuteTime": {
     "end_time": "2023-12-20T19:44:52.239180Z",
     "start_time": "2023-12-20T19:44:52.186010Z"
    }
   },
   "id": "8af64c7a333aba6"
  },
  {
   "cell_type": "code",
   "execution_count": 39,
   "outputs": [
    {
     "data": {
      "text/plain": "       building_id  geo_level_1_id  geo_level_2_id  geo_level_3_id  \\\n0           300051              17             596           11307   \n1            99355               6             141           11987   \n2           890251              22              19           10044   \n3           745817              26              39             633   \n4           421793              17             289            7970   \n...            ...             ...             ...             ...   \n86863       310028               4             605            3623   \n86864       663567              10            1407           11907   \n86865      1049160              22            1136            7712   \n86866       442785               6            1041             912   \n86867       501372              26              36            6436   \n\n       count_floors_pre_eq  age  area_percentage  height_percentage  \\\n0                        3   20                7                  6   \n1                        2   25               13                  5   \n2                        2    5                4                  5   \n3                        1    0               19                  3   \n4                        3   15                8                  7   \n...                    ...  ...              ...                ...   \n86863                    3   70               20                  6   \n86864                    3   25                6                  7   \n86865                    1   50                3                  3   \n86866                    2    5                9                  5   \n86867                    2   10               11                  4   \n\n      land_surface_condition foundation_type  ...  \\\n0                          t               r  ...   \n1                          t               r  ...   \n2                          t               r  ...   \n3                          t               r  ...   \n4                          t               r  ...   \n...                      ...             ...  ...   \n86863                      t               r  ...   \n86864                      n               r  ...   \n86865                      t               r  ...   \n86866                      t               r  ...   \n86867                      t               r  ...   \n\n      has_secondary_use_agriculture has_secondary_use_hotel  \\\n0                                 0                       0   \n1                                 1                       0   \n2                                 0                       0   \n3                                 0                       0   \n4                                 0                       0   \n...                             ...                     ...   \n86863                             1                       0   \n86864                             0                       0   \n86865                             0                       0   \n86866                             0                       0   \n86867                             0                       0   \n\n      has_secondary_use_rental has_secondary_use_institution  \\\n0                            0                             0   \n1                            0                             0   \n2                            0                             0   \n3                            1                             0   \n4                            0                             0   \n...                        ...                           ...   \n86863                        0                             0   \n86864                        0                             0   \n86865                        0                             0   \n86866                        0                             0   \n86867                        0                             0   \n\n      has_secondary_use_school  has_secondary_use_industry  \\\n0                            0                           0   \n1                            0                           0   \n2                            0                           0   \n3                            0                           0   \n4                            0                           0   \n...                        ...                         ...   \n86863                        0                           0   \n86864                        0                           0   \n86865                        0                           0   \n86866                        0                           0   \n86867                        0                           0   \n\n       has_secondary_use_health_post  has_secondary_use_gov_office  \\\n0                                  0                             0   \n1                                  0                             0   \n2                                  0                             0   \n3                                  0                             0   \n4                                  0                             0   \n...                              ...                           ...   \n86863                              0                             0   \n86864                              0                             0   \n86865                              0                             0   \n86866                              0                             0   \n86867                              0                             0   \n\n       has_secondary_use_use_police  has_secondary_use_other  \n0                                 0                        0  \n1                                 0                        0  \n2                                 0                        0  \n3                                 0                        0  \n4                                 0                        0  \n...                             ...                      ...  \n86863                             0                        0  \n86864                             0                        0  \n86865                             0                        0  \n86866                             0                        0  \n86867                             0                        0  \n\n[86868 rows x 39 columns]",
      "text/html": "<div>\n<style scoped>\n    .dataframe tbody tr th:only-of-type {\n        vertical-align: middle;\n    }\n\n    .dataframe tbody tr th {\n        vertical-align: top;\n    }\n\n    .dataframe thead th {\n        text-align: right;\n    }\n</style>\n<table border=\"1\" class=\"dataframe\">\n  <thead>\n    <tr style=\"text-align: right;\">\n      <th></th>\n      <th>building_id</th>\n      <th>geo_level_1_id</th>\n      <th>geo_level_2_id</th>\n      <th>geo_level_3_id</th>\n      <th>count_floors_pre_eq</th>\n      <th>age</th>\n      <th>area_percentage</th>\n      <th>height_percentage</th>\n      <th>land_surface_condition</th>\n      <th>foundation_type</th>\n      <th>...</th>\n      <th>has_secondary_use_agriculture</th>\n      <th>has_secondary_use_hotel</th>\n      <th>has_secondary_use_rental</th>\n      <th>has_secondary_use_institution</th>\n      <th>has_secondary_use_school</th>\n      <th>has_secondary_use_industry</th>\n      <th>has_secondary_use_health_post</th>\n      <th>has_secondary_use_gov_office</th>\n      <th>has_secondary_use_use_police</th>\n      <th>has_secondary_use_other</th>\n    </tr>\n  </thead>\n  <tbody>\n    <tr>\n      <th>0</th>\n      <td>300051</td>\n      <td>17</td>\n      <td>596</td>\n      <td>11307</td>\n      <td>3</td>\n      <td>20</td>\n      <td>7</td>\n      <td>6</td>\n      <td>t</td>\n      <td>r</td>\n      <td>...</td>\n      <td>0</td>\n      <td>0</td>\n      <td>0</td>\n      <td>0</td>\n      <td>0</td>\n      <td>0</td>\n      <td>0</td>\n      <td>0</td>\n      <td>0</td>\n      <td>0</td>\n    </tr>\n    <tr>\n      <th>1</th>\n      <td>99355</td>\n      <td>6</td>\n      <td>141</td>\n      <td>11987</td>\n      <td>2</td>\n      <td>25</td>\n      <td>13</td>\n      <td>5</td>\n      <td>t</td>\n      <td>r</td>\n      <td>...</td>\n      <td>1</td>\n      <td>0</td>\n      <td>0</td>\n      <td>0</td>\n      <td>0</td>\n      <td>0</td>\n      <td>0</td>\n      <td>0</td>\n      <td>0</td>\n      <td>0</td>\n    </tr>\n    <tr>\n      <th>2</th>\n      <td>890251</td>\n      <td>22</td>\n      <td>19</td>\n      <td>10044</td>\n      <td>2</td>\n      <td>5</td>\n      <td>4</td>\n      <td>5</td>\n      <td>t</td>\n      <td>r</td>\n      <td>...</td>\n      <td>0</td>\n      <td>0</td>\n      <td>0</td>\n      <td>0</td>\n      <td>0</td>\n      <td>0</td>\n      <td>0</td>\n      <td>0</td>\n      <td>0</td>\n      <td>0</td>\n    </tr>\n    <tr>\n      <th>3</th>\n      <td>745817</td>\n      <td>26</td>\n      <td>39</td>\n      <td>633</td>\n      <td>1</td>\n      <td>0</td>\n      <td>19</td>\n      <td>3</td>\n      <td>t</td>\n      <td>r</td>\n      <td>...</td>\n      <td>0</td>\n      <td>0</td>\n      <td>1</td>\n      <td>0</td>\n      <td>0</td>\n      <td>0</td>\n      <td>0</td>\n      <td>0</td>\n      <td>0</td>\n      <td>0</td>\n    </tr>\n    <tr>\n      <th>4</th>\n      <td>421793</td>\n      <td>17</td>\n      <td>289</td>\n      <td>7970</td>\n      <td>3</td>\n      <td>15</td>\n      <td>8</td>\n      <td>7</td>\n      <td>t</td>\n      <td>r</td>\n      <td>...</td>\n      <td>0</td>\n      <td>0</td>\n      <td>0</td>\n      <td>0</td>\n      <td>0</td>\n      <td>0</td>\n      <td>0</td>\n      <td>0</td>\n      <td>0</td>\n      <td>0</td>\n    </tr>\n    <tr>\n      <th>...</th>\n      <td>...</td>\n      <td>...</td>\n      <td>...</td>\n      <td>...</td>\n      <td>...</td>\n      <td>...</td>\n      <td>...</td>\n      <td>...</td>\n      <td>...</td>\n      <td>...</td>\n      <td>...</td>\n      <td>...</td>\n      <td>...</td>\n      <td>...</td>\n      <td>...</td>\n      <td>...</td>\n      <td>...</td>\n      <td>...</td>\n      <td>...</td>\n      <td>...</td>\n      <td>...</td>\n    </tr>\n    <tr>\n      <th>86863</th>\n      <td>310028</td>\n      <td>4</td>\n      <td>605</td>\n      <td>3623</td>\n      <td>3</td>\n      <td>70</td>\n      <td>20</td>\n      <td>6</td>\n      <td>t</td>\n      <td>r</td>\n      <td>...</td>\n      <td>1</td>\n      <td>0</td>\n      <td>0</td>\n      <td>0</td>\n      <td>0</td>\n      <td>0</td>\n      <td>0</td>\n      <td>0</td>\n      <td>0</td>\n      <td>0</td>\n    </tr>\n    <tr>\n      <th>86864</th>\n      <td>663567</td>\n      <td>10</td>\n      <td>1407</td>\n      <td>11907</td>\n      <td>3</td>\n      <td>25</td>\n      <td>6</td>\n      <td>7</td>\n      <td>n</td>\n      <td>r</td>\n      <td>...</td>\n      <td>0</td>\n      <td>0</td>\n      <td>0</td>\n      <td>0</td>\n      <td>0</td>\n      <td>0</td>\n      <td>0</td>\n      <td>0</td>\n      <td>0</td>\n      <td>0</td>\n    </tr>\n    <tr>\n      <th>86865</th>\n      <td>1049160</td>\n      <td>22</td>\n      <td>1136</td>\n      <td>7712</td>\n      <td>1</td>\n      <td>50</td>\n      <td>3</td>\n      <td>3</td>\n      <td>t</td>\n      <td>r</td>\n      <td>...</td>\n      <td>0</td>\n      <td>0</td>\n      <td>0</td>\n      <td>0</td>\n      <td>0</td>\n      <td>0</td>\n      <td>0</td>\n      <td>0</td>\n      <td>0</td>\n      <td>0</td>\n    </tr>\n    <tr>\n      <th>86866</th>\n      <td>442785</td>\n      <td>6</td>\n      <td>1041</td>\n      <td>912</td>\n      <td>2</td>\n      <td>5</td>\n      <td>9</td>\n      <td>5</td>\n      <td>t</td>\n      <td>r</td>\n      <td>...</td>\n      <td>0</td>\n      <td>0</td>\n      <td>0</td>\n      <td>0</td>\n      <td>0</td>\n      <td>0</td>\n      <td>0</td>\n      <td>0</td>\n      <td>0</td>\n      <td>0</td>\n    </tr>\n    <tr>\n      <th>86867</th>\n      <td>501372</td>\n      <td>26</td>\n      <td>36</td>\n      <td>6436</td>\n      <td>2</td>\n      <td>10</td>\n      <td>11</td>\n      <td>4</td>\n      <td>t</td>\n      <td>r</td>\n      <td>...</td>\n      <td>0</td>\n      <td>0</td>\n      <td>0</td>\n      <td>0</td>\n      <td>0</td>\n      <td>0</td>\n      <td>0</td>\n      <td>0</td>\n      <td>0</td>\n      <td>0</td>\n    </tr>\n  </tbody>\n</table>\n<p>86868 rows × 39 columns</p>\n</div>"
     },
     "execution_count": 39,
     "metadata": {},
     "output_type": "execute_result"
    }
   ],
   "source": [
    "test_input"
   ],
   "metadata": {
    "collapsed": false,
    "ExecuteTime": {
     "end_time": "2023-12-20T19:44:56.026722Z",
     "start_time": "2023-12-20T19:44:55.978879Z"
    }
   },
   "id": "7b8ff5e2e8718a6c"
  },
  {
   "cell_type": "code",
   "execution_count": 63,
   "outputs": [],
   "source": [
    "id_columns = X_train.columns.values[0:4]\n",
    "\n",
    "X_train = train_input.drop(columns=id_columns)\n",
    "X_test = test_input.drop(columns=id_columns)\n",
    "y_train = train_output.drop(columns=\"building_id\")"
   ],
   "metadata": {
    "collapsed": false,
    "ExecuteTime": {
     "end_time": "2023-12-20T19:52:49.333399Z",
     "start_time": "2023-12-20T19:52:49.241640Z"
    }
   },
   "id": "838acd6e291d9bd4"
  },
  {
   "cell_type": "code",
   "execution_count": 67,
   "outputs": [],
   "source": [
    "data_types = train_input.dtypes.reset_index()\n",
    "categorical_features = data_types[data_types[0]==\"object\"][\"index\"].reset_index(drop=True)\n",
    "\n",
    "for i in categorical_features:\n",
    "    unique_values = np.sort(X_train[i].unique())\n",
    "    dic = {}\n",
    "    ctr = 0\n",
    "    for j in unique_values:\n",
    "        dic[j] = ctr\n",
    "        ctr += 1\n",
    "    X_train[i] = X_train[i].map(dic)"
   ],
   "metadata": {
    "collapsed": false,
    "ExecuteTime": {
     "end_time": "2023-12-20T19:53:29.720400Z",
     "start_time": "2023-12-20T19:53:29.621912Z"
    }
   },
   "id": "90948796256b9764"
  },
  {
   "cell_type": "code",
   "execution_count": 66,
   "outputs": [
    {
     "data": {
      "text/plain": "{'a': 0, 'r': 1, 'v': 2, 'w': 3}"
     },
     "execution_count": 66,
     "metadata": {},
     "output_type": "execute_result"
    }
   ],
   "source": [
    "dic"
   ],
   "metadata": {
    "collapsed": false,
    "ExecuteTime": {
     "end_time": "2023-12-20T19:52:58.815971Z",
     "start_time": "2023-12-20T19:52:58.812003Z"
    }
   },
   "id": "6b3abea693f77383"
  },
  {
   "cell_type": "code",
   "execution_count": null,
   "outputs": [],
   "source": [],
   "metadata": {
    "collapsed": false
   },
   "id": "abf3d496ea3dfc84"
  }
 ],
 "metadata": {
  "kernelspec": {
   "display_name": "Python 3",
   "language": "python",
   "name": "python3"
  },
  "language_info": {
   "codemirror_mode": {
    "name": "ipython",
    "version": 2
   },
   "file_extension": ".py",
   "mimetype": "text/x-python",
   "name": "python",
   "nbconvert_exporter": "python",
   "pygments_lexer": "ipython2",
   "version": "2.7.6"
  }
 },
 "nbformat": 4,
 "nbformat_minor": 5
}
