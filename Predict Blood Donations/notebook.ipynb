{
 "cells": [
  {
   "cell_type": "code",
   "execution_count": 384,
   "id": "initial_id",
   "metadata": {
    "collapsed": true,
    "ExecuteTime": {
     "end_time": "2023-12-24T23:48:20.522927Z",
     "start_time": "2023-12-24T23:48:20.517990Z"
    }
   },
   "outputs": [],
   "source": [
    "import numpy as np\n",
    "import pandas as pd\n",
    "import matplotlib.pyplot as plt\n",
    "import seaborn as sns\n",
    "from sklearn.preprocessing import *\n",
    "from sklearn.model_selection import *\n",
    "from sklearn.svm import *\n",
    "from sklearn.metrics import *\n",
    "import warnings\n",
    "warnings.filterwarnings(\"ignore\")"
   ]
  },
  {
   "cell_type": "code",
   "outputs": [],
   "source": [
    "df = pd.read_table(\"data/transfusion.data\",sep=\",\")"
   ],
   "metadata": {
    "collapsed": false,
    "ExecuteTime": {
     "end_time": "2023-12-24T23:48:20.745152Z",
     "start_time": "2023-12-24T23:48:20.738435Z"
    }
   },
   "id": "7f1953cc70e2d17a",
   "execution_count": 385
  },
  {
   "cell_type": "code",
   "outputs": [],
   "source": [
    "df.columns = [\"Months since Last Donation\",\"Number of Donations\",\"Total Volume Donated\",\"Months since First Donation\",\"Made Donation in March 2007\"]"
   ],
   "metadata": {
    "collapsed": false,
    "ExecuteTime": {
     "end_time": "2023-12-24T23:48:20.942649Z",
     "start_time": "2023-12-24T23:48:20.940163Z"
    }
   },
   "id": "208afc23cb8d4491",
   "execution_count": 386
  },
  {
   "cell_type": "code",
   "outputs": [],
   "source": [
    "pp = df[\"Made Donation in March 2007\"].value_counts().reset_index()\n",
    "pp[\"Out of 500\"] = (pp[\"count\"] * 500 / pp[\"count\"].sum()).round().astype(\"int64\")\n",
    "num_0 = pp[pp[\"Made Donation in March 2007\"]==0][\"Out of 500\"].values[0]\n",
    "num_1 = pp[pp[\"Made Donation in March 2007\"]==1][\"Out of 500\"].values[0]"
   ],
   "metadata": {
    "collapsed": false,
    "ExecuteTime": {
     "end_time": "2023-12-24T23:48:21.259470Z",
     "start_time": "2023-12-24T23:48:21.255112Z"
    }
   },
   "id": "cd1e12571184fa45",
   "execution_count": 387
  },
  {
   "cell_type": "code",
   "outputs": [],
   "source": [
    "df_sampled = df.sample(frac=1,random_state=np.random.randint(low=0,high=1000))\n",
    "df_0 = df_sampled[df_sampled[\"Made Donation in March 2007\"]==0]\n",
    "df_1 = df_sampled[df_sampled[\"Made Donation in March 2007\"]==1]\n",
    "df_train = pd.concat([df_0.iloc[0:num_0],df_1.iloc[0:num_1]],axis=0)\n",
    "df_test = df.loc[df.index.values[[i not in df_train.index.values for i in df.index.values]],:]\n",
    "X_train = df_train.drop(columns=[\"Made Donation in March 2007\"])\n",
    "y_train = df_train[\"Made Donation in March 2007\"]\n",
    "X_test = df_test.drop(columns=[\"Made Donation in March 2007\"])\n",
    "y_test = df_test[\"Made Donation in March 2007\"]"
   ],
   "metadata": {
    "collapsed": false,
    "ExecuteTime": {
     "end_time": "2023-12-24T23:48:21.549132Z",
     "start_time": "2023-12-24T23:48:21.539824Z"
    }
   },
   "id": "63c19f0c6474d3f8",
   "execution_count": 388
  },
  {
   "cell_type": "code",
   "outputs": [],
   "source": [
    "linear_svc = LinearSVC()\n",
    "linear_svc.fit(X_train,y_train)\n",
    "y_pred = linear_svc.predict(X_test)\n",
    "y_pred_proba = linear_svc._predict_proba_lr(X_test)[:,1]"
   ],
   "metadata": {
    "collapsed": false,
    "ExecuteTime": {
     "end_time": "2023-12-24T23:48:22.010106Z",
     "start_time": "2023-12-24T23:48:21.993002Z"
    }
   },
   "id": "ff8ab1c17a8bd0a6",
   "execution_count": 389
  },
  {
   "cell_type": "code",
   "outputs": [
    {
     "data": {
      "text/plain": "0.5796458900060079"
     },
     "execution_count": 390,
     "metadata": {},
     "output_type": "execute_result"
    }
   ],
   "source": [
    "logloss = log_loss(y_test,y_pred_proba)\n",
    "logloss"
   ],
   "metadata": {
    "collapsed": false,
    "ExecuteTime": {
     "end_time": "2023-12-24T23:48:22.284697Z",
     "start_time": "2023-12-24T23:48:22.280334Z"
    }
   },
   "id": "9f0e3213b0c09e76",
   "execution_count": 390
  },
  {
   "cell_type": "code",
   "outputs": [],
   "source": [],
   "metadata": {
    "collapsed": false
   },
   "id": "3f3ccbf3ddb8f393"
  }
 ],
 "metadata": {
  "kernelspec": {
   "display_name": "Python 3",
   "language": "python",
   "name": "python3"
  },
  "language_info": {
   "codemirror_mode": {
    "name": "ipython",
    "version": 2
   },
   "file_extension": ".py",
   "mimetype": "text/x-python",
   "name": "python",
   "nbconvert_exporter": "python",
   "pygments_lexer": "ipython2",
   "version": "2.7.6"
  }
 },
 "nbformat": 4,
 "nbformat_minor": 5
}
