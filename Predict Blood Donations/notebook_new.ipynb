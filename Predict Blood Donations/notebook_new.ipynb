{
 "cells": [
  {
   "cell_type": "code",
   "execution_count": 1,
   "id": "initial_id",
   "metadata": {
    "collapsed": true,
    "ExecuteTime": {
     "end_time": "2023-12-25T01:33:40.734192Z",
     "start_time": "2023-12-25T01:33:40.731014Z"
    }
   },
   "outputs": [],
   "source": [
    "import numpy as np\n",
    "import pandas as pd\n",
    "import matplotlib.pyplot as plt\n",
    "import seaborn as sns"
   ]
  },
  {
   "cell_type": "code",
   "outputs": [],
   "source": [
    "df = pd.read_table(\"data/transfusion.data\",sep=\",\")\n",
    "df.columns = [\"Months since Last Donation\",\"Number of Donations\",\"Total Volume Donated (c.c.)\",\"Months since First Donation\",\"Made Donation in March 2007\"]"
   ],
   "metadata": {
    "collapsed": false,
    "ExecuteTime": {
     "end_time": "2023-12-25T01:39:15.612425Z",
     "start_time": "2023-12-25T01:39:15.516699Z"
    }
   },
   "id": "67cce96d507cd064",
   "execution_count": 6
  },
  {
   "cell_type": "code",
   "outputs": [
    {
     "data": {
      "text/plain": "     Months since Last Donation  Number of Donations  \\\n0                             2                   50   \n1                             0                   13   \n2                             1                   16   \n3                             2                   20   \n4                             1                   24   \n..                          ...                  ...   \n743                          23                    2   \n744                          21                    2   \n745                          23                    3   \n746                          39                    1   \n747                          72                    1   \n\n     Total Volume Donated (c.c.)  Months since First Donation  \\\n0                          12500                           98   \n1                           3250                           28   \n2                           4000                           35   \n3                           5000                           45   \n4                           6000                           77   \n..                           ...                          ...   \n743                          500                           38   \n744                          500                           52   \n745                          750                           62   \n746                          250                           39   \n747                          250                           72   \n\n     Made Donation in March 2007  \n0                              1  \n1                              1  \n2                              1  \n3                              1  \n4                              0  \n..                           ...  \n743                            0  \n744                            0  \n745                            0  \n746                            0  \n747                            0  \n\n[748 rows x 5 columns]",
      "text/html": "<div>\n<style scoped>\n    .dataframe tbody tr th:only-of-type {\n        vertical-align: middle;\n    }\n\n    .dataframe tbody tr th {\n        vertical-align: top;\n    }\n\n    .dataframe thead th {\n        text-align: right;\n    }\n</style>\n<table border=\"1\" class=\"dataframe\">\n  <thead>\n    <tr style=\"text-align: right;\">\n      <th></th>\n      <th>Months since Last Donation</th>\n      <th>Number of Donations</th>\n      <th>Total Volume Donated (c.c.)</th>\n      <th>Months since First Donation</th>\n      <th>Made Donation in March 2007</th>\n    </tr>\n  </thead>\n  <tbody>\n    <tr>\n      <th>0</th>\n      <td>2</td>\n      <td>50</td>\n      <td>12500</td>\n      <td>98</td>\n      <td>1</td>\n    </tr>\n    <tr>\n      <th>1</th>\n      <td>0</td>\n      <td>13</td>\n      <td>3250</td>\n      <td>28</td>\n      <td>1</td>\n    </tr>\n    <tr>\n      <th>2</th>\n      <td>1</td>\n      <td>16</td>\n      <td>4000</td>\n      <td>35</td>\n      <td>1</td>\n    </tr>\n    <tr>\n      <th>3</th>\n      <td>2</td>\n      <td>20</td>\n      <td>5000</td>\n      <td>45</td>\n      <td>1</td>\n    </tr>\n    <tr>\n      <th>4</th>\n      <td>1</td>\n      <td>24</td>\n      <td>6000</td>\n      <td>77</td>\n      <td>0</td>\n    </tr>\n    <tr>\n      <th>...</th>\n      <td>...</td>\n      <td>...</td>\n      <td>...</td>\n      <td>...</td>\n      <td>...</td>\n    </tr>\n    <tr>\n      <th>743</th>\n      <td>23</td>\n      <td>2</td>\n      <td>500</td>\n      <td>38</td>\n      <td>0</td>\n    </tr>\n    <tr>\n      <th>744</th>\n      <td>21</td>\n      <td>2</td>\n      <td>500</td>\n      <td>52</td>\n      <td>0</td>\n    </tr>\n    <tr>\n      <th>745</th>\n      <td>23</td>\n      <td>3</td>\n      <td>750</td>\n      <td>62</td>\n      <td>0</td>\n    </tr>\n    <tr>\n      <th>746</th>\n      <td>39</td>\n      <td>1</td>\n      <td>250</td>\n      <td>39</td>\n      <td>0</td>\n    </tr>\n    <tr>\n      <th>747</th>\n      <td>72</td>\n      <td>1</td>\n      <td>250</td>\n      <td>72</td>\n      <td>0</td>\n    </tr>\n  </tbody>\n</table>\n<p>748 rows × 5 columns</p>\n</div>"
     },
     "execution_count": 7,
     "metadata": {},
     "output_type": "execute_result"
    }
   ],
   "source": [
    "df"
   ],
   "metadata": {
    "collapsed": false,
    "ExecuteTime": {
     "end_time": "2023-12-25T01:39:17.506483Z",
     "start_time": "2023-12-25T01:39:17.504437Z"
    }
   },
   "id": "8825461fe12bb947",
   "execution_count": 7
  },
  {
   "cell_type": "code",
   "outputs": [],
   "source": [],
   "metadata": {
    "collapsed": false
   },
   "id": "e44e93fa130611fa"
  }
 ],
 "metadata": {
  "kernelspec": {
   "display_name": "Python 3",
   "language": "python",
   "name": "python3"
  },
  "language_info": {
   "codemirror_mode": {
    "name": "ipython",
    "version": 2
   },
   "file_extension": ".py",
   "mimetype": "text/x-python",
   "name": "python",
   "nbconvert_exporter": "python",
   "pygments_lexer": "ipython2",
   "version": "2.7.6"
  }
 },
 "nbformat": 4,
 "nbformat_minor": 5
}
